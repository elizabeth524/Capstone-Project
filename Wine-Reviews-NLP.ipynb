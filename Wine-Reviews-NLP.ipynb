{
 "cells": [
  {
   "cell_type": "markdown",
   "metadata": {},
   "source": [
    "# Wine Reviews Natural Language Processing"
   ]
  },
  {
   "cell_type": "markdown",
   "metadata": {},
   "source": [
    "**Prepared by Elizabeth Webster**\n",
    "\n",
    "*November 2022*"
   ]
  },
  {
   "cell_type": "markdown",
   "metadata": {},
   "source": [
    "## Overview"
   ]
  },
  {
   "cell_type": "markdown",
   "metadata": {},
   "source": [
    "Natural Language Processing to discover which attributes are indicative of a highly scoring wine."
   ]
  },
  {
   "cell_type": "markdown",
   "metadata": {},
   "source": [
    "## Business Problem"
   ]
  },
  {
   "cell_type": "markdown",
   "metadata": {},
   "source": [
    "This project is being prepared for a small winery in Walla Walla.  They are just starting out and currently only producing a few wines. Their wine maker wants to gain insight on which wine qualities generate highly rated wines.\n",
    "\n",
    "In this section of the project, I will create a model to predict wine scores that can be used to assess how well the current wines would be rated. \n",
    "\n",
    "I will also pick out keywords and flavor profiles from wine descriptions that relate to high and low scoring wines in order for the wine maker to understand what direction to move in. \n",
    "\n",
    "Finally, I will look into what wine varieties are currently receiving high scores."
   ]
  },
  {
   "cell_type": "markdown",
   "metadata": {},
   "source": [
    "## Dataset"
   ]
  },
  {
   "cell_type": "markdown",
   "metadata": {},
   "source": [
    "The data that I am using comes from Wine Enthusiast and includes information on 130,000 different wines.  This information includes the description, variety, winery, country, taster name, etc.  \n",
    "\n",
    "The target value is the 'points' column.  This column contains a score from 80 to 100 for each wine.  All the wines in this range are perfectly drinkable, but I have broken down this category into four ranges:\n",
    "* 80-84 points: 0 - Acceptable\n",
    "* 85-89 points: 1 - Good\n",
    "* 90-94 points: 2 - Very Good\n",
    "* 95-100 points: 3 - Outstanding\n",
    "\n",
    "I will be looking at what sets 'Outstanding' wines apart from the 'Acceptable' ones."
   ]
  },
  {
   "cell_type": "markdown",
   "metadata": {},
   "source": [
    "# Building a Model"
   ]
  },
  {
   "cell_type": "markdown",
   "metadata": {},
   "source": [
    "First, I will build a Naive Bayes model that the wine maker can utilize to predict how well their current wines will perform."
   ]
  },
  {
   "cell_type": "markdown",
   "metadata": {},
   "source": [
    "## Data Understanding"
   ]
  },
  {
   "cell_type": "markdown",
   "metadata": {},
   "source": [
    "Before diving into NLP, I will explore and clean my dataset."
   ]
  },
  {
   "cell_type": "code",
   "execution_count": 1,
   "metadata": {
    "ExecuteTime": {
     "end_time": "2022-11-10T19:08:39.077658Z",
     "start_time": "2022-11-10T19:08:37.740432Z"
    }
   },
   "outputs": [],
   "source": [
    "# Import the necessary libraries\n",
    "import pandas as pd\n",
    "from nltk.corpus import stopwords\n",
    "import string\n",
    "from sklearn.model_selection import train_test_split\n",
    "from nltk.tokenize import RegexpTokenizer\n",
    "import matplotlib.pyplot as plt\n",
    "from matplotlib.ticker import MaxNLocator\n",
    "import seaborn as sns\n",
    "import nltk\n",
    "from nltk import FreqDist\n",
    "from nltk.stem.wordnet import WordNetLemmatizer\n",
    "from sklearn.feature_extraction.text import TfidfVectorizer\n",
    "from sklearn.naive_bayes import MultinomialNB\n",
    "from sklearn.model_selection import cross_val_score\n",
    "from wordcloud import WordCloud\n",
    "import warnings\n",
    "from sklearn.metrics import classification_report\n",
    "from sklearn.preprocessing import OneHotEncoder\n",
    "from wordcloud import WordCloud\n",
    "warnings.filterwarnings('ignore')"
   ]
  },
  {
   "cell_type": "code",
   "execution_count": 2,
   "metadata": {
    "ExecuteTime": {
     "end_time": "2022-11-10T19:08:39.931284Z",
     "start_time": "2022-11-10T19:08:39.079324Z"
    }
   },
   "outputs": [],
   "source": [
    "# Create the DataFrame\n",
    "df = pd.read_csv('Data/winemag-data-130k-v2.csv.zip', \n",
    "                 encoding='latin-1', index_col=0)"
   ]
  },
  {
   "cell_type": "code",
   "execution_count": 3,
   "metadata": {
    "ExecuteTime": {
     "end_time": "2022-11-10T19:08:39.944001Z",
     "start_time": "2022-11-10T19:08:39.932720Z"
    }
   },
   "outputs": [
    {
     "data": {
      "text/html": [
       "<div>\n",
       "<style scoped>\n",
       "    .dataframe tbody tr th:only-of-type {\n",
       "        vertical-align: middle;\n",
       "    }\n",
       "\n",
       "    .dataframe tbody tr th {\n",
       "        vertical-align: top;\n",
       "    }\n",
       "\n",
       "    .dataframe thead th {\n",
       "        text-align: right;\n",
       "    }\n",
       "</style>\n",
       "<table border=\"1\" class=\"dataframe\">\n",
       "  <thead>\n",
       "    <tr style=\"text-align: right;\">\n",
       "      <th></th>\n",
       "      <th>country</th>\n",
       "      <th>description</th>\n",
       "      <th>designation</th>\n",
       "      <th>points</th>\n",
       "      <th>price</th>\n",
       "      <th>province</th>\n",
       "      <th>region_1</th>\n",
       "      <th>region_2</th>\n",
       "      <th>taster_name</th>\n",
       "      <th>taster_twitter_handle</th>\n",
       "      <th>title</th>\n",
       "      <th>variety</th>\n",
       "      <th>winery</th>\n",
       "    </tr>\n",
       "  </thead>\n",
       "  <tbody>\n",
       "    <tr>\n",
       "      <th>0</th>\n",
       "      <td>Italy</td>\n",
       "      <td>Aromas include tropical fruit, broom, brimston...</td>\n",
       "      <td>VulkÃ  Bianco</td>\n",
       "      <td>87</td>\n",
       "      <td>NaN</td>\n",
       "      <td>Sicily &amp; Sardinia</td>\n",
       "      <td>Etna</td>\n",
       "      <td>NaN</td>\n",
       "      <td>Kerin OâKeefe</td>\n",
       "      <td>@kerinokeefe</td>\n",
       "      <td>Nicosia 2013 VulkÃ  Bianco  (Etna)</td>\n",
       "      <td>White Blend</td>\n",
       "      <td>Nicosia</td>\n",
       "    </tr>\n",
       "    <tr>\n",
       "      <th>1</th>\n",
       "      <td>Portugal</td>\n",
       "      <td>This is ripe and fruity, a wine that is smooth...</td>\n",
       "      <td>Avidagos</td>\n",
       "      <td>87</td>\n",
       "      <td>15.0</td>\n",
       "      <td>Douro</td>\n",
       "      <td>NaN</td>\n",
       "      <td>NaN</td>\n",
       "      <td>Roger Voss</td>\n",
       "      <td>@vossroger</td>\n",
       "      <td>Quinta dos Avidagos 2011 Avidagos Red (Douro)</td>\n",
       "      <td>Portuguese Red</td>\n",
       "      <td>Quinta dos Avidagos</td>\n",
       "    </tr>\n",
       "    <tr>\n",
       "      <th>2</th>\n",
       "      <td>US</td>\n",
       "      <td>Tart and snappy, the flavors of lime flesh and...</td>\n",
       "      <td>NaN</td>\n",
       "      <td>87</td>\n",
       "      <td>14.0</td>\n",
       "      <td>Oregon</td>\n",
       "      <td>Willamette Valley</td>\n",
       "      <td>Willamette Valley</td>\n",
       "      <td>Paul Gregutt</td>\n",
       "      <td>@paulgwineÂ</td>\n",
       "      <td>Rainstorm 2013 Pinot Gris (Willamette Valley)</td>\n",
       "      <td>Pinot Gris</td>\n",
       "      <td>Rainstorm</td>\n",
       "    </tr>\n",
       "    <tr>\n",
       "      <th>3</th>\n",
       "      <td>US</td>\n",
       "      <td>Pineapple rind, lemon pith and orange blossom ...</td>\n",
       "      <td>Reserve Late Harvest</td>\n",
       "      <td>87</td>\n",
       "      <td>13.0</td>\n",
       "      <td>Michigan</td>\n",
       "      <td>Lake Michigan Shore</td>\n",
       "      <td>NaN</td>\n",
       "      <td>Alexander Peartree</td>\n",
       "      <td>NaN</td>\n",
       "      <td>St. Julian 2013 Reserve Late Harvest Riesling ...</td>\n",
       "      <td>Riesling</td>\n",
       "      <td>St. Julian</td>\n",
       "    </tr>\n",
       "    <tr>\n",
       "      <th>4</th>\n",
       "      <td>US</td>\n",
       "      <td>Much like the regular bottling from 2012, this...</td>\n",
       "      <td>Vintner's Reserve Wild Child Block</td>\n",
       "      <td>87</td>\n",
       "      <td>65.0</td>\n",
       "      <td>Oregon</td>\n",
       "      <td>Willamette Valley</td>\n",
       "      <td>Willamette Valley</td>\n",
       "      <td>Paul Gregutt</td>\n",
       "      <td>@paulgwineÂ</td>\n",
       "      <td>Sweet Cheeks 2012 Vintner's Reserve Wild Child...</td>\n",
       "      <td>Pinot Noir</td>\n",
       "      <td>Sweet Cheeks</td>\n",
       "    </tr>\n",
       "  </tbody>\n",
       "</table>\n",
       "</div>"
      ],
      "text/plain": [
       "    country                                        description  \\\n",
       "0     Italy  Aromas include tropical fruit, broom, brimston...   \n",
       "1  Portugal  This is ripe and fruity, a wine that is smooth...   \n",
       "2        US  Tart and snappy, the flavors of lime flesh and...   \n",
       "3        US  Pineapple rind, lemon pith and orange blossom ...   \n",
       "4        US  Much like the regular bottling from 2012, this...   \n",
       "\n",
       "                          designation  points  price           province  \\\n",
       "0                       VulkÃ  Bianco      87    NaN  Sicily & Sardinia   \n",
       "1                            Avidagos      87   15.0              Douro   \n",
       "2                                 NaN      87   14.0             Oregon   \n",
       "3                Reserve Late Harvest      87   13.0           Michigan   \n",
       "4  Vintner's Reserve Wild Child Block      87   65.0             Oregon   \n",
       "\n",
       "              region_1           region_2         taster_name  \\\n",
       "0                 Etna                NaN     Kerin OâKeefe   \n",
       "1                  NaN                NaN          Roger Voss   \n",
       "2    Willamette Valley  Willamette Valley        Paul Gregutt   \n",
       "3  Lake Michigan Shore                NaN  Alexander Peartree   \n",
       "4    Willamette Valley  Willamette Valley        Paul Gregutt   \n",
       "\n",
       "  taster_twitter_handle                                              title  \\\n",
       "0          @kerinokeefe                 Nicosia 2013 VulkÃ  Bianco  (Etna)   \n",
       "1            @vossroger      Quinta dos Avidagos 2011 Avidagos Red (Douro)   \n",
       "2          @paulgwineÂ       Rainstorm 2013 Pinot Gris (Willamette Valley)   \n",
       "3                   NaN  St. Julian 2013 Reserve Late Harvest Riesling ...   \n",
       "4          @paulgwineÂ   Sweet Cheeks 2012 Vintner's Reserve Wild Child...   \n",
       "\n",
       "          variety               winery  \n",
       "0     White Blend              Nicosia  \n",
       "1  Portuguese Red  Quinta dos Avidagos  \n",
       "2      Pinot Gris            Rainstorm  \n",
       "3        Riesling           St. Julian  \n",
       "4      Pinot Noir         Sweet Cheeks  "
      ]
     },
     "execution_count": 3,
     "metadata": {},
     "output_type": "execute_result"
    }
   ],
   "source": [
    "df.head()"
   ]
  },
  {
   "cell_type": "code",
   "execution_count": 4,
   "metadata": {
    "ExecuteTime": {
     "end_time": "2022-11-10T19:08:40.003812Z",
     "start_time": "2022-11-10T19:08:39.945100Z"
    }
   },
   "outputs": [
    {
     "name": "stdout",
     "output_type": "stream",
     "text": [
      "<class 'pandas.core.frame.DataFrame'>\n",
      "Int64Index: 129971 entries, 0 to 129970\n",
      "Data columns (total 13 columns):\n",
      " #   Column                 Non-Null Count   Dtype  \n",
      "---  ------                 --------------   -----  \n",
      " 0   country                129908 non-null  object \n",
      " 1   description            129971 non-null  object \n",
      " 2   designation            92506 non-null   object \n",
      " 3   points                 129971 non-null  int64  \n",
      " 4   price                  120975 non-null  float64\n",
      " 5   province               129908 non-null  object \n",
      " 6   region_1               108724 non-null  object \n",
      " 7   region_2               50511 non-null   object \n",
      " 8   taster_name            103727 non-null  object \n",
      " 9   taster_twitter_handle  98758 non-null   object \n",
      " 10  title                  129971 non-null  object \n",
      " 11  variety                129970 non-null  object \n",
      " 12  winery                 129971 non-null  object \n",
      "dtypes: float64(1), int64(1), object(11)\n",
      "memory usage: 13.9+ MB\n"
     ]
    }
   ],
   "source": [
    "df.info()"
   ]
  },
  {
   "cell_type": "markdown",
   "metadata": {},
   "source": [
    "Before going any further, I am dropping columns that are missing high numbers of values (designation, region_1, region_2) and dropping taster info (taster_name, taster_twitter_handle) and title as these columns should not impact point value."
   ]
  },
  {
   "cell_type": "code",
   "execution_count": 5,
   "metadata": {
    "ExecuteTime": {
     "end_time": "2022-11-10T19:08:40.018616Z",
     "start_time": "2022-11-10T19:08:40.004982Z"
    }
   },
   "outputs": [
    {
     "data": {
      "text/html": [
       "<div>\n",
       "<style scoped>\n",
       "    .dataframe tbody tr th:only-of-type {\n",
       "        vertical-align: middle;\n",
       "    }\n",
       "\n",
       "    .dataframe tbody tr th {\n",
       "        vertical-align: top;\n",
       "    }\n",
       "\n",
       "    .dataframe thead th {\n",
       "        text-align: right;\n",
       "    }\n",
       "</style>\n",
       "<table border=\"1\" class=\"dataframe\">\n",
       "  <thead>\n",
       "    <tr style=\"text-align: right;\">\n",
       "      <th></th>\n",
       "      <th>country</th>\n",
       "      <th>description</th>\n",
       "      <th>points</th>\n",
       "      <th>price</th>\n",
       "      <th>province</th>\n",
       "      <th>variety</th>\n",
       "      <th>winery</th>\n",
       "    </tr>\n",
       "  </thead>\n",
       "  <tbody>\n",
       "    <tr>\n",
       "      <th>0</th>\n",
       "      <td>Italy</td>\n",
       "      <td>Aromas include tropical fruit, broom, brimston...</td>\n",
       "      <td>87</td>\n",
       "      <td>NaN</td>\n",
       "      <td>Sicily &amp; Sardinia</td>\n",
       "      <td>White Blend</td>\n",
       "      <td>Nicosia</td>\n",
       "    </tr>\n",
       "    <tr>\n",
       "      <th>1</th>\n",
       "      <td>Portugal</td>\n",
       "      <td>This is ripe and fruity, a wine that is smooth...</td>\n",
       "      <td>87</td>\n",
       "      <td>15.0</td>\n",
       "      <td>Douro</td>\n",
       "      <td>Portuguese Red</td>\n",
       "      <td>Quinta dos Avidagos</td>\n",
       "    </tr>\n",
       "    <tr>\n",
       "      <th>2</th>\n",
       "      <td>US</td>\n",
       "      <td>Tart and snappy, the flavors of lime flesh and...</td>\n",
       "      <td>87</td>\n",
       "      <td>14.0</td>\n",
       "      <td>Oregon</td>\n",
       "      <td>Pinot Gris</td>\n",
       "      <td>Rainstorm</td>\n",
       "    </tr>\n",
       "    <tr>\n",
       "      <th>3</th>\n",
       "      <td>US</td>\n",
       "      <td>Pineapple rind, lemon pith and orange blossom ...</td>\n",
       "      <td>87</td>\n",
       "      <td>13.0</td>\n",
       "      <td>Michigan</td>\n",
       "      <td>Riesling</td>\n",
       "      <td>St. Julian</td>\n",
       "    </tr>\n",
       "    <tr>\n",
       "      <th>4</th>\n",
       "      <td>US</td>\n",
       "      <td>Much like the regular bottling from 2012, this...</td>\n",
       "      <td>87</td>\n",
       "      <td>65.0</td>\n",
       "      <td>Oregon</td>\n",
       "      <td>Pinot Noir</td>\n",
       "      <td>Sweet Cheeks</td>\n",
       "    </tr>\n",
       "  </tbody>\n",
       "</table>\n",
       "</div>"
      ],
      "text/plain": [
       "    country                                        description  points  price  \\\n",
       "0     Italy  Aromas include tropical fruit, broom, brimston...      87    NaN   \n",
       "1  Portugal  This is ripe and fruity, a wine that is smooth...      87   15.0   \n",
       "2        US  Tart and snappy, the flavors of lime flesh and...      87   14.0   \n",
       "3        US  Pineapple rind, lemon pith and orange blossom ...      87   13.0   \n",
       "4        US  Much like the regular bottling from 2012, this...      87   65.0   \n",
       "\n",
       "            province         variety               winery  \n",
       "0  Sicily & Sardinia     White Blend              Nicosia  \n",
       "1              Douro  Portuguese Red  Quinta dos Avidagos  \n",
       "2             Oregon      Pinot Gris            Rainstorm  \n",
       "3           Michigan        Riesling           St. Julian  \n",
       "4             Oregon      Pinot Noir         Sweet Cheeks  "
      ]
     },
     "execution_count": 5,
     "metadata": {},
     "output_type": "execute_result"
    }
   ],
   "source": [
    "# Drop unneccessary columns\n",
    "wine_df = df.drop(['designation', 'region_1', 'region_2', \n",
    "                   'taster_name', 'taster_twitter_handle',\n",
    "                   'title'], axis=1)\n",
    "wine_df.head()"
   ]
  },
  {
   "cell_type": "code",
   "execution_count": 6,
   "metadata": {
    "ExecuteTime": {
     "end_time": "2022-11-10T19:08:40.082332Z",
     "start_time": "2022-11-10T19:08:40.052672Z"
    }
   },
   "outputs": [
    {
     "name": "stdout",
     "output_type": "stream",
     "text": [
      "<class 'pandas.core.frame.DataFrame'>\n",
      "Int64Index: 129971 entries, 0 to 129970\n",
      "Data columns (total 7 columns):\n",
      " #   Column       Non-Null Count   Dtype  \n",
      "---  ------       --------------   -----  \n",
      " 0   country      129908 non-null  object \n",
      " 1   description  129971 non-null  object \n",
      " 2   points       129971 non-null  int64  \n",
      " 3   price        120975 non-null  float64\n",
      " 4   province     129908 non-null  object \n",
      " 5   variety      129970 non-null  object \n",
      " 6   winery       129971 non-null  object \n",
      "dtypes: float64(1), int64(1), object(5)\n",
      "memory usage: 7.9+ MB\n"
     ]
    }
   ],
   "source": [
    "wine_df.info()"
   ]
  },
  {
   "cell_type": "markdown",
   "metadata": {},
   "source": [
    "We still have some columns with missing values, which we will tackle later on."
   ]
  },
  {
   "cell_type": "markdown",
   "metadata": {},
   "source": [
    "### Point Distribution"
   ]
  },
  {
   "cell_type": "code",
   "execution_count": 9,
   "metadata": {
    "ExecuteTime": {
     "end_time": "2022-11-10T19:10:14.026121Z",
     "start_time": "2022-11-10T19:10:13.797925Z"
    }
   },
   "outputs": [
    {
     "data": {
      "image/png": "[encoded data removed]",
      "text/plain": [
       "<Figure size 432x288 with 1 Axes>"
      ]
     },
     "metadata": {
      "needs_background": "light"
     },
     "output_type": "display_data"
    }
   ],
   "source": [
    "# Create a plot to illustrate the distribution of our target value\n",
    "sns_plot = sns.countplot(x='points', data=wine_df, color='grey').set(title='Point Distribution')\n",
    "#plt.savefig('Point_Distribution.jpeg')"
   ]
  },
  {
   "cell_type": "markdown",
   "metadata": {},
   "source": [
    "Our target is the number of points that a wine has scored out of 100.  Unsurprisingly, it follows a normal distribution. Since we are creating a classification model we will break our target up into 4 categories:\n",
    "\n",
    "* 80-84 points: 0 - Acceptable\n",
    "* 85-89 points: 1 - Good\n",
    "* 90-94 points: 2 - Very Good\n",
    "* 95-100 points: 3 - Outstanding"
   ]
  },
  {
   "cell_type": "code",
   "execution_count": 78,
   "metadata": {
    "ExecuteTime": {
     "end_time": "2022-11-10T17:31:32.628665Z",
     "start_time": "2022-11-10T17:31:26.417590Z"
    }
   },
   "outputs": [],
   "source": [
    "# Rename target values\n",
    "wine_df['sentiment'] = 0\n",
    "for i in range(len(wine_df)):\n",
    "    if wine_df['points'][i] <= 84:\n",
    "        wine_df['sentiment'][i] = 0\n",
    "    else:\n",
    "        pass\n",
    "    \n",
    "for i in range(len(wine_df)):    \n",
    "    if (wine_df['points'][i] > 84 and wine_df['points'][i] <= 89):\n",
    "        wine_df['sentiment'][i] = 1\n",
    "    else:\n",
    "        pass\n",
    "    \n",
    "for i in range(len(wine_df)):\n",
    "    if (wine_df['points'][i] > 89 and wine_df['points'][i] <= 94):\n",
    "        wine_df['sentiment'][i] = 2\n",
    "    else:\n",
    "        pass\n",
    "    \n",
    "for i in range(len(wine_df)):\n",
    "    if wine_df['points'][i] > 94:\n",
    "        wine_df['sentiment'][i] = 3\n",
    "    else:\n",
    "        pass"
   ]
  },
  {
   "cell_type": "code",
   "execution_count": 79,
   "metadata": {
    "ExecuteTime": {
     "end_time": "2022-11-10T17:31:32.635696Z",
     "start_time": "2022-11-10T17:31:32.630870Z"
    }
   },
   "outputs": [
    {
     "data": {
      "text/plain": [
       "1    68496\n",
       "2    46629\n",
       "0    12430\n",
       "3     2416\n",
       "Name: sentiment, dtype: int64"
      ]
     },
     "execution_count": 79,
     "metadata": {},
     "output_type": "execute_result"
    }
   ],
   "source": [
    "wine_df['sentiment'].value_counts()"
   ]
  },
  {
   "cell_type": "markdown",
   "metadata": {},
   "source": [
    "I will drop the points column since we no longer need it."
   ]
  },
  {
   "cell_type": "code",
   "execution_count": 80,
   "metadata": {
    "ExecuteTime": {
     "end_time": "2022-11-10T17:31:32.652764Z",
     "start_time": "2022-11-10T17:31:32.636652Z"
    }
   },
   "outputs": [
    {
     "data": {
      "text/html": [
       "<div>\n",
       "<style scoped>\n",
       "    .dataframe tbody tr th:only-of-type {\n",
       "        vertical-align: middle;\n",
       "    }\n",
       "\n",
       "    .dataframe tbody tr th {\n",
       "        vertical-align: top;\n",
       "    }\n",
       "\n",
       "    .dataframe thead th {\n",
       "        text-align: right;\n",
       "    }\n",
       "</style>\n",
       "<table border=\"1\" class=\"dataframe\">\n",
       "  <thead>\n",
       "    <tr style=\"text-align: right;\">\n",
       "      <th></th>\n",
       "      <th>country</th>\n",
       "      <th>description</th>\n",
       "      <th>price</th>\n",
       "      <th>province</th>\n",
       "      <th>variety</th>\n",
       "      <th>winery</th>\n",
       "      <th>sentiment</th>\n",
       "    </tr>\n",
       "  </thead>\n",
       "  <tbody>\n",
       "    <tr>\n",
       "      <th>0</th>\n",
       "      <td>Italy</td>\n",
       "      <td>Aromas include tropical fruit, broom, brimston...</td>\n",
       "      <td>NaN</td>\n",
       "      <td>Sicily &amp; Sardinia</td>\n",
       "      <td>White Blend</td>\n",
       "      <td>Nicosia</td>\n",
       "      <td>1</td>\n",
       "    </tr>\n",
       "    <tr>\n",
       "      <th>1</th>\n",
       "      <td>Portugal</td>\n",
       "      <td>This is ripe and fruity, a wine that is smooth...</td>\n",
       "      <td>15.0</td>\n",
       "      <td>Douro</td>\n",
       "      <td>Portuguese Red</td>\n",
       "      <td>Quinta dos Avidagos</td>\n",
       "      <td>1</td>\n",
       "    </tr>\n",
       "    <tr>\n",
       "      <th>2</th>\n",
       "      <td>US</td>\n",
       "      <td>Tart and snappy, the flavors of lime flesh and...</td>\n",
       "      <td>14.0</td>\n",
       "      <td>Oregon</td>\n",
       "      <td>Pinot Gris</td>\n",
       "      <td>Rainstorm</td>\n",
       "      <td>1</td>\n",
       "    </tr>\n",
       "    <tr>\n",
       "      <th>3</th>\n",
       "      <td>US</td>\n",
       "      <td>Pineapple rind, lemon pith and orange blossom ...</td>\n",
       "      <td>13.0</td>\n",
       "      <td>Michigan</td>\n",
       "      <td>Riesling</td>\n",
       "      <td>St. Julian</td>\n",
       "      <td>1</td>\n",
       "    </tr>\n",
       "    <tr>\n",
       "      <th>4</th>\n",
       "      <td>US</td>\n",
       "      <td>Much like the regular bottling from 2012, this...</td>\n",
       "      <td>65.0</td>\n",
       "      <td>Oregon</td>\n",
       "      <td>Pinot Noir</td>\n",
       "      <td>Sweet Cheeks</td>\n",
       "      <td>1</td>\n",
       "    </tr>\n",
       "    <tr>\n",
       "      <th>...</th>\n",
       "      <td>...</td>\n",
       "      <td>...</td>\n",
       "      <td>...</td>\n",
       "      <td>...</td>\n",
       "      <td>...</td>\n",
       "      <td>...</td>\n",
       "      <td>...</td>\n",
       "    </tr>\n",
       "    <tr>\n",
       "      <th>129966</th>\n",
       "      <td>Germany</td>\n",
       "      <td>Notes of honeysuckle and cantaloupe sweeten th...</td>\n",
       "      <td>28.0</td>\n",
       "      <td>Mosel</td>\n",
       "      <td>Riesling</td>\n",
       "      <td>Dr. H. Thanisch (Erben MÃ¼ller-Burggraef)</td>\n",
       "      <td>2</td>\n",
       "    </tr>\n",
       "    <tr>\n",
       "      <th>129967</th>\n",
       "      <td>US</td>\n",
       "      <td>Citation is given as much as a decade of bottl...</td>\n",
       "      <td>75.0</td>\n",
       "      <td>Oregon</td>\n",
       "      <td>Pinot Noir</td>\n",
       "      <td>Citation</td>\n",
       "      <td>2</td>\n",
       "    </tr>\n",
       "    <tr>\n",
       "      <th>129968</th>\n",
       "      <td>France</td>\n",
       "      <td>Well-drained gravel soil gives this wine its c...</td>\n",
       "      <td>30.0</td>\n",
       "      <td>Alsace</td>\n",
       "      <td>GewÃ¼rztraminer</td>\n",
       "      <td>Domaine Gresser</td>\n",
       "      <td>2</td>\n",
       "    </tr>\n",
       "    <tr>\n",
       "      <th>129969</th>\n",
       "      <td>France</td>\n",
       "      <td>A dry style of Pinot Gris, this is crisp with ...</td>\n",
       "      <td>32.0</td>\n",
       "      <td>Alsace</td>\n",
       "      <td>Pinot Gris</td>\n",
       "      <td>Domaine Marcel Deiss</td>\n",
       "      <td>2</td>\n",
       "    </tr>\n",
       "    <tr>\n",
       "      <th>129970</th>\n",
       "      <td>France</td>\n",
       "      <td>Big, rich and off-dry, this is powered by inte...</td>\n",
       "      <td>21.0</td>\n",
       "      <td>Alsace</td>\n",
       "      <td>GewÃ¼rztraminer</td>\n",
       "      <td>Domaine Schoffit</td>\n",
       "      <td>2</td>\n",
       "    </tr>\n",
       "  </tbody>\n",
       "</table>\n",
       "<p>129971 rows × 7 columns</p>\n",
       "</div>"
      ],
      "text/plain": [
       "         country                                        description  price  \\\n",
       "0          Italy  Aromas include tropical fruit, broom, brimston...    NaN   \n",
       "1       Portugal  This is ripe and fruity, a wine that is smooth...   15.0   \n",
       "2             US  Tart and snappy, the flavors of lime flesh and...   14.0   \n",
       "3             US  Pineapple rind, lemon pith and orange blossom ...   13.0   \n",
       "4             US  Much like the regular bottling from 2012, this...   65.0   \n",
       "...          ...                                                ...    ...   \n",
       "129966   Germany  Notes of honeysuckle and cantaloupe sweeten th...   28.0   \n",
       "129967        US  Citation is given as much as a decade of bottl...   75.0   \n",
       "129968    France  Well-drained gravel soil gives this wine its c...   30.0   \n",
       "129969    France  A dry style of Pinot Gris, this is crisp with ...   32.0   \n",
       "129970    France  Big, rich and off-dry, this is powered by inte...   21.0   \n",
       "\n",
       "                 province          variety  \\\n",
       "0       Sicily & Sardinia      White Blend   \n",
       "1                   Douro   Portuguese Red   \n",
       "2                  Oregon       Pinot Gris   \n",
       "3                Michigan         Riesling   \n",
       "4                  Oregon       Pinot Noir   \n",
       "...                   ...              ...   \n",
       "129966              Mosel         Riesling   \n",
       "129967             Oregon       Pinot Noir   \n",
       "129968             Alsace  GewÃ¼rztraminer   \n",
       "129969             Alsace       Pinot Gris   \n",
       "129970             Alsace  GewÃ¼rztraminer   \n",
       "\n",
       "                                           winery  sentiment  \n",
       "0                                         Nicosia          1  \n",
       "1                             Quinta dos Avidagos          1  \n",
       "2                                       Rainstorm          1  \n",
       "3                                      St. Julian          1  \n",
       "4                                    Sweet Cheeks          1  \n",
       "...                                           ...        ...  \n",
       "129966  Dr. H. Thanisch (Erben MÃ¼ller-Burggraef)          2  \n",
       "129967                                   Citation          2  \n",
       "129968                            Domaine Gresser          2  \n",
       "129969                       Domaine Marcel Deiss          2  \n",
       "129970                           Domaine Schoffit          2  \n",
       "\n",
       "[129971 rows x 7 columns]"
      ]
     },
     "execution_count": 80,
     "metadata": {},
     "output_type": "execute_result"
    }
   ],
   "source": [
    "wine_df.drop('points', axis=1, inplace=True)\n",
    "wine_df"
   ]
  },
  {
   "cell_type": "markdown",
   "metadata": {},
   "source": [
    "## Data Cleaning"
   ]
  },
  {
   "cell_type": "markdown",
   "metadata": {},
   "source": [
    "### Dealing with Missing Values"
   ]
  },
  {
   "cell_type": "markdown",
   "metadata": {},
   "source": [
    "I will drop NaNs for:\n",
    "* country (63 - .04%)\n",
    "* province (63 - .04%)\n",
    "* variety (1)\n",
    "\n",
    "I will use mean for filling NaN prices (8996 - 6% of dataset) after the train test split."
   ]
  },
  {
   "cell_type": "code",
   "execution_count": 81,
   "metadata": {
    "ExecuteTime": {
     "end_time": "2022-11-10T17:31:32.682320Z",
     "start_time": "2022-11-10T17:31:32.653829Z"
    }
   },
   "outputs": [],
   "source": [
    "# Drop NaNs in country, province, and variety\n",
    "wine_df.dropna(subset=['country', 'province', 'variety'], inplace=True)"
   ]
  },
  {
   "cell_type": "code",
   "execution_count": 82,
   "metadata": {
    "ExecuteTime": {
     "end_time": "2022-11-10T17:31:32.684987Z",
     "start_time": "2022-11-10T17:31:32.683287Z"
    }
   },
   "outputs": [],
   "source": [
    "# Reset the index\n",
    "wine_df.reset_index(drop=True, inplace=True)"
   ]
  },
  {
   "cell_type": "code",
   "execution_count": 83,
   "metadata": {
    "ExecuteTime": {
     "end_time": "2022-11-10T17:31:32.713737Z",
     "start_time": "2022-11-10T17:31:32.685943Z"
    },
    "scrolled": false
   },
   "outputs": [
    {
     "name": "stdout",
     "output_type": "stream",
     "text": [
      "<class 'pandas.core.frame.DataFrame'>\n",
      "RangeIndex: 129907 entries, 0 to 129906\n",
      "Data columns (total 7 columns):\n",
      " #   Column       Non-Null Count   Dtype  \n",
      "---  ------       --------------   -----  \n",
      " 0   country      129907 non-null  object \n",
      " 1   description  129907 non-null  object \n",
      " 2   price        120915 non-null  float64\n",
      " 3   province     129907 non-null  object \n",
      " 4   variety      129907 non-null  object \n",
      " 5   winery       129907 non-null  object \n",
      " 6   sentiment    129907 non-null  int64  \n",
      "dtypes: float64(1), int64(1), object(5)\n",
      "memory usage: 6.9+ MB\n"
     ]
    }
   ],
   "source": [
    "# Check for missing values\n",
    "wine_df.info()"
   ]
  },
  {
   "cell_type": "markdown",
   "metadata": {},
   "source": [
    "The only column missing values is price and we will address that after our split to avoid data leakage."
   ]
  },
  {
   "cell_type": "markdown",
   "metadata": {},
   "source": [
    "### Train Test Split"
   ]
  },
  {
   "cell_type": "code",
   "execution_count": 84,
   "metadata": {
    "ExecuteTime": {
     "end_time": "2022-11-10T17:31:32.726324Z",
     "start_time": "2022-11-10T17:31:32.714641Z"
    }
   },
   "outputs": [],
   "source": [
    "# Create data and target dataframes\n",
    "X = wine_df.drop(['sentiment'], axis=1)\n",
    "y = wine_df['sentiment']"
   ]
  },
  {
   "cell_type": "code",
   "execution_count": 85,
   "metadata": {
    "ExecuteTime": {
     "end_time": "2022-11-10T17:31:32.746438Z",
     "start_time": "2022-11-10T17:31:32.727392Z"
    }
   },
   "outputs": [],
   "source": [
    "# Train test split\n",
    "X_train, X_test, y_train, y_test = train_test_split(X, y, test_size=.3, \n",
    "                                                    random_state=42)"
   ]
  },
  {
   "cell_type": "code",
   "execution_count": 86,
   "metadata": {
    "ExecuteTime": {
     "end_time": "2022-11-10T17:31:32.771071Z",
     "start_time": "2022-11-10T17:31:32.747397Z"
    }
   },
   "outputs": [
    {
     "name": "stdout",
     "output_type": "stream",
     "text": [
      "<class 'pandas.core.frame.DataFrame'>\n",
      "Int64Index: 90934 entries, 32539 to 121958\n",
      "Data columns (total 6 columns):\n",
      " #   Column       Non-Null Count  Dtype  \n",
      "---  ------       --------------  -----  \n",
      " 0   country      90934 non-null  object \n",
      " 1   description  90934 non-null  object \n",
      " 2   price        84667 non-null  float64\n",
      " 3   province     90934 non-null  object \n",
      " 4   variety      90934 non-null  object \n",
      " 5   winery       90934 non-null  object \n",
      "dtypes: float64(1), object(5)\n",
      "memory usage: 4.9+ MB\n"
     ]
    }
   ],
   "source": [
    "X_train.info()"
   ]
  },
  {
   "cell_type": "code",
   "execution_count": 87,
   "metadata": {
    "ExecuteTime": {
     "end_time": "2022-11-10T17:31:32.774519Z",
     "start_time": "2022-11-10T17:31:32.772043Z"
    }
   },
   "outputs": [
    {
     "name": "stdout",
     "output_type": "stream",
     "text": [
      "Now I will fill the missing price data with the mean: 35.32\n"
     ]
    }
   ],
   "source": [
    "print(\"Now I will fill the missing price data with the mean:\", \n",
    "      round(X_train.price.mean(),2))"
   ]
  },
  {
   "cell_type": "code",
   "execution_count": 88,
   "metadata": {
    "ExecuteTime": {
     "end_time": "2022-11-10T17:31:32.778192Z",
     "start_time": "2022-11-10T17:31:32.775405Z"
    }
   },
   "outputs": [],
   "source": [
    "X_train['price'].fillna((X_train['price'].mean()), inplace=True)"
   ]
  },
  {
   "cell_type": "code",
   "execution_count": 89,
   "metadata": {
    "ExecuteTime": {
     "end_time": "2022-11-10T17:31:32.802148Z",
     "start_time": "2022-11-10T17:31:32.779165Z"
    }
   },
   "outputs": [
    {
     "name": "stdout",
     "output_type": "stream",
     "text": [
      "<class 'pandas.core.frame.DataFrame'>\n",
      "Int64Index: 90934 entries, 32539 to 121958\n",
      "Data columns (total 6 columns):\n",
      " #   Column       Non-Null Count  Dtype  \n",
      "---  ------       --------------  -----  \n",
      " 0   country      90934 non-null  object \n",
      " 1   description  90934 non-null  object \n",
      " 2   price        90934 non-null  float64\n",
      " 3   province     90934 non-null  object \n",
      " 4   variety      90934 non-null  object \n",
      " 5   winery       90934 non-null  object \n",
      "dtypes: float64(1), object(5)\n",
      "memory usage: 4.9+ MB\n"
     ]
    }
   ],
   "source": [
    "X_train.info()"
   ]
  },
  {
   "cell_type": "markdown",
   "metadata": {},
   "source": [
    "### One Hot Encode Categoricals"
   ]
  },
  {
   "cell_type": "markdown",
   "metadata": {},
   "source": [
    "In order to use all of the data, I need to One Hot Encode the following categorical columns:\n",
    "* Country\n",
    "* Province\n",
    "* Variety\n",
    "* Winery"
   ]
  },
  {
   "cell_type": "code",
   "execution_count": 90,
   "metadata": {
    "ExecuteTime": {
     "end_time": "2022-11-10T17:31:32.808785Z",
     "start_time": "2022-11-10T17:31:32.803121Z"
    }
   },
   "outputs": [],
   "source": [
    "# Create a categorical DataFrame\n",
    "X_train_cat = X_train.drop(['description', 'price'], axis=1)"
   ]
  },
  {
   "cell_type": "code",
   "execution_count": 91,
   "metadata": {
    "ExecuteTime": {
     "end_time": "2022-11-10T17:31:32.811754Z",
     "start_time": "2022-11-10T17:31:32.809697Z"
    }
   },
   "outputs": [],
   "source": [
    "# Instantiate a One Hot Encoder\n",
    "ohe = OneHotEncoder(handle_unknown='ignore')"
   ]
  },
  {
   "cell_type": "code",
   "execution_count": 92,
   "metadata": {
    "ExecuteTime": {
     "end_time": "2022-11-10T17:31:32.904127Z",
     "start_time": "2022-11-10T17:31:32.812768Z"
    }
   },
   "outputs": [
    {
     "data": {
      "text/plain": [
       "<90934x16278 sparse matrix of type '<class 'numpy.float64'>'\n",
       "\twith 363736 stored elements in Compressed Sparse Row format>"
      ]
     },
     "execution_count": 92,
     "metadata": {},
     "output_type": "execute_result"
    }
   ],
   "source": [
    "# Fit and transform the categorical df\n",
    "X_train_cat_ohe = ohe.fit_transform(X_train_cat)\n",
    "X_train_cat_ohe"
   ]
  },
  {
   "cell_type": "code",
   "execution_count": 93,
   "metadata": {
    "ExecuteTime": {
     "end_time": "2022-11-10T17:31:33.581988Z",
     "start_time": "2022-11-10T17:31:32.909383Z"
    }
   },
   "outputs": [],
   "source": [
    "# Transform sparse matrix to DataFrame\n",
    "X_train_cat_final = pd.DataFrame.sparse.from_spmatrix(X_train_cat_ohe, \n",
    "                                                      columns=ohe.get_feature_names(),\n",
    "                                                      index=X_train_cat.index)"
   ]
  },
  {
   "cell_type": "code",
   "execution_count": 94,
   "metadata": {
    "ExecuteTime": {
     "end_time": "2022-11-10T17:31:35.056071Z",
     "start_time": "2022-11-10T17:31:33.584662Z"
    }
   },
   "outputs": [
    {
     "data": {
      "text/html": [
       "<div>\n",
       "<style scoped>\n",
       "    .dataframe tbody tr th:only-of-type {\n",
       "        vertical-align: middle;\n",
       "    }\n",
       "\n",
       "    .dataframe tbody tr th {\n",
       "        vertical-align: top;\n",
       "    }\n",
       "\n",
       "    .dataframe thead th {\n",
       "        text-align: right;\n",
       "    }\n",
       "</style>\n",
       "<table border=\"1\" class=\"dataframe\">\n",
       "  <thead>\n",
       "    <tr style=\"text-align: right;\">\n",
       "      <th></th>\n",
       "      <th>x0_Argentina</th>\n",
       "      <th>x0_Armenia</th>\n",
       "      <th>x0_Australia</th>\n",
       "      <th>x0_Austria</th>\n",
       "      <th>x0_Bosnia and Herzegovina</th>\n",
       "      <th>x0_Brazil</th>\n",
       "      <th>x0_Bulgaria</th>\n",
       "      <th>x0_Canada</th>\n",
       "      <th>x0_Chile</th>\n",
       "      <th>x0_China</th>\n",
       "      <th>...</th>\n",
       "      <th>x3_Ãbano</th>\n",
       "      <th>x3_Ãcluse</th>\n",
       "      <th>x3_ÃlevÃ©e Winegrowers</th>\n",
       "      <th>x3_Ãric &amp; JÃ¶el Durand</th>\n",
       "      <th>x3_Ãl Macchione</th>\n",
       "      <th>x3_Ãrale</th>\n",
       "      <th>x3_Ãko</th>\n",
       "      <th>x3_Ãkonomierat Rebholz</th>\n",
       "      <th>x3_Ã Maurice</th>\n",
       "      <th>x3_Å toka</th>\n",
       "    </tr>\n",
       "  </thead>\n",
       "  <tbody>\n",
       "    <tr>\n",
       "      <th>32539</th>\n",
       "      <td>0.0</td>\n",
       "      <td>0.0</td>\n",
       "      <td>0.0</td>\n",
       "      <td>0.0</td>\n",
       "      <td>0.0</td>\n",
       "      <td>0.0</td>\n",
       "      <td>0.0</td>\n",
       "      <td>0.0</td>\n",
       "      <td>0.0</td>\n",
       "      <td>0.0</td>\n",
       "      <td>...</td>\n",
       "      <td>0.0</td>\n",
       "      <td>0.0</td>\n",
       "      <td>0.0</td>\n",
       "      <td>0.0</td>\n",
       "      <td>0.0</td>\n",
       "      <td>0.0</td>\n",
       "      <td>0.0</td>\n",
       "      <td>0.0</td>\n",
       "      <td>0.0</td>\n",
       "      <td>0.0</td>\n",
       "    </tr>\n",
       "    <tr>\n",
       "      <th>91312</th>\n",
       "      <td>0.0</td>\n",
       "      <td>0.0</td>\n",
       "      <td>0.0</td>\n",
       "      <td>0.0</td>\n",
       "      <td>0.0</td>\n",
       "      <td>0.0</td>\n",
       "      <td>0.0</td>\n",
       "      <td>0.0</td>\n",
       "      <td>0.0</td>\n",
       "      <td>0.0</td>\n",
       "      <td>...</td>\n",
       "      <td>0.0</td>\n",
       "      <td>0.0</td>\n",
       "      <td>0.0</td>\n",
       "      <td>0.0</td>\n",
       "      <td>0.0</td>\n",
       "      <td>0.0</td>\n",
       "      <td>0.0</td>\n",
       "      <td>0.0</td>\n",
       "      <td>0.0</td>\n",
       "      <td>0.0</td>\n",
       "    </tr>\n",
       "    <tr>\n",
       "      <th>50735</th>\n",
       "      <td>0.0</td>\n",
       "      <td>0.0</td>\n",
       "      <td>0.0</td>\n",
       "      <td>0.0</td>\n",
       "      <td>0.0</td>\n",
       "      <td>0.0</td>\n",
       "      <td>0.0</td>\n",
       "      <td>0.0</td>\n",
       "      <td>0.0</td>\n",
       "      <td>0.0</td>\n",
       "      <td>...</td>\n",
       "      <td>0.0</td>\n",
       "      <td>0.0</td>\n",
       "      <td>0.0</td>\n",
       "      <td>0.0</td>\n",
       "      <td>0.0</td>\n",
       "      <td>0.0</td>\n",
       "      <td>0.0</td>\n",
       "      <td>0.0</td>\n",
       "      <td>0.0</td>\n",
       "      <td>0.0</td>\n",
       "    </tr>\n",
       "    <tr>\n",
       "      <th>82091</th>\n",
       "      <td>1.0</td>\n",
       "      <td>0.0</td>\n",
       "      <td>0.0</td>\n",
       "      <td>0.0</td>\n",
       "      <td>0.0</td>\n",
       "      <td>0.0</td>\n",
       "      <td>0.0</td>\n",
       "      <td>0.0</td>\n",
       "      <td>0.0</td>\n",
       "      <td>0.0</td>\n",
       "      <td>...</td>\n",
       "      <td>0.0</td>\n",
       "      <td>0.0</td>\n",
       "      <td>0.0</td>\n",
       "      <td>0.0</td>\n",
       "      <td>0.0</td>\n",
       "      <td>0.0</td>\n",
       "      <td>0.0</td>\n",
       "      <td>0.0</td>\n",
       "      <td>0.0</td>\n",
       "      <td>0.0</td>\n",
       "    </tr>\n",
       "    <tr>\n",
       "      <th>26122</th>\n",
       "      <td>0.0</td>\n",
       "      <td>0.0</td>\n",
       "      <td>0.0</td>\n",
       "      <td>0.0</td>\n",
       "      <td>0.0</td>\n",
       "      <td>0.0</td>\n",
       "      <td>0.0</td>\n",
       "      <td>0.0</td>\n",
       "      <td>0.0</td>\n",
       "      <td>0.0</td>\n",
       "      <td>...</td>\n",
       "      <td>0.0</td>\n",
       "      <td>0.0</td>\n",
       "      <td>0.0</td>\n",
       "      <td>0.0</td>\n",
       "      <td>0.0</td>\n",
       "      <td>0.0</td>\n",
       "      <td>0.0</td>\n",
       "      <td>0.0</td>\n",
       "      <td>0.0</td>\n",
       "      <td>0.0</td>\n",
       "    </tr>\n",
       "  </tbody>\n",
       "</table>\n",
       "<p>5 rows × 16278 columns</p>\n",
       "</div>"
      ],
      "text/plain": [
       "       x0_Argentina  x0_Armenia  x0_Australia  x0_Austria  \\\n",
       "32539           0.0         0.0           0.0         0.0   \n",
       "91312           0.0         0.0           0.0         0.0   \n",
       "50735           0.0         0.0           0.0         0.0   \n",
       "82091           1.0         0.0           0.0         0.0   \n",
       "26122           0.0         0.0           0.0         0.0   \n",
       "\n",
       "       x0_Bosnia and Herzegovina  x0_Brazil  x0_Bulgaria  x0_Canada  x0_Chile  \\\n",
       "32539                        0.0        0.0          0.0        0.0       0.0   \n",
       "91312                        0.0        0.0          0.0        0.0       0.0   \n",
       "50735                        0.0        0.0          0.0        0.0       0.0   \n",
       "82091                        0.0        0.0          0.0        0.0       0.0   \n",
       "26122                        0.0        0.0          0.0        0.0       0.0   \n",
       "\n",
       "       x0_China  ...  x3_Ãbano  x3_Ãcluse  x3_ÃlevÃ©e Winegrowers  \\\n",
       "32539       0.0  ...        0.0         0.0                      0.0   \n",
       "91312       0.0  ...        0.0         0.0                      0.0   \n",
       "50735       0.0  ...        0.0         0.0                      0.0   \n",
       "82091       0.0  ...        0.0         0.0                      0.0   \n",
       "26122       0.0  ...        0.0         0.0                      0.0   \n",
       "\n",
       "       x3_Ãric & JÃ¶el Durand  x3_Ãl Macchione  x3_Ãrale  x3_Ãko  \\\n",
       "32539                      0.0               0.0        0.0      0.0   \n",
       "91312                      0.0               0.0        0.0      0.0   \n",
       "50735                      0.0               0.0        0.0      0.0   \n",
       "82091                      0.0               0.0        0.0      0.0   \n",
       "26122                      0.0               0.0        0.0      0.0   \n",
       "\n",
       "       x3_Ãkonomierat Rebholz  x3_Ã Maurice  x3_Å toka  \n",
       "32539                      0.0           0.0        0.0  \n",
       "91312                      0.0           0.0        0.0  \n",
       "50735                      0.0           0.0        0.0  \n",
       "82091                      0.0           0.0        0.0  \n",
       "26122                      0.0           0.0        0.0  \n",
       "\n",
       "[5 rows x 16278 columns]"
      ]
     },
     "execution_count": 94,
     "metadata": {},
     "output_type": "execute_result"
    }
   ],
   "source": [
    "X_train_cat_final.head()"
   ]
  },
  {
   "cell_type": "code",
   "execution_count": 95,
   "metadata": {
    "ExecuteTime": {
     "end_time": "2022-11-10T17:31:35.201106Z",
     "start_time": "2022-11-10T17:31:35.056997Z"
    }
   },
   "outputs": [],
   "source": [
    "# Create dataframe with continuous values ('price') and concat with categoricals\n",
    "X_train_cont = X_train['price']\n",
    "X_train_without_text = pd.concat([X_train_cat_final, X_train_cont], axis=1)"
   ]
  },
  {
   "cell_type": "markdown",
   "metadata": {},
   "source": [
    "### Build a Baseline Model"
   ]
  },
  {
   "cell_type": "markdown",
   "metadata": {},
   "source": [
    "#### Text Only Baseline Model"
   ]
  },
  {
   "cell_type": "markdown",
   "metadata": {},
   "source": [
    "Before joining it with our categorical values, lets see how well a model based solely on text performs."
   ]
  },
  {
   "cell_type": "code",
   "execution_count": 96,
   "metadata": {
    "ExecuteTime": {
     "end_time": "2022-11-10T17:31:37.375867Z",
     "start_time": "2022-11-10T17:31:35.202164Z"
    }
   },
   "outputs": [
    {
     "data": {
      "text/html": [
       "<div>\n",
       "<style scoped>\n",
       "    .dataframe tbody tr th:only-of-type {\n",
       "        vertical-align: middle;\n",
       "    }\n",
       "\n",
       "    .dataframe tbody tr th {\n",
       "        vertical-align: top;\n",
       "    }\n",
       "\n",
       "    .dataframe thead th {\n",
       "        text-align: right;\n",
       "    }\n",
       "</style>\n",
       "<table border=\"1\" class=\"dataframe\">\n",
       "  <thead>\n",
       "    <tr style=\"text-align: right;\">\n",
       "      <th></th>\n",
       "      <th>acidity</th>\n",
       "      <th>and</th>\n",
       "      <th>aromas</th>\n",
       "      <th>but</th>\n",
       "      <th>finish</th>\n",
       "      <th>flavors</th>\n",
       "      <th>from</th>\n",
       "      <th>fruit</th>\n",
       "      <th>in</th>\n",
       "      <th>is</th>\n",
       "      <th>it</th>\n",
       "      <th>of</th>\n",
       "      <th>on</th>\n",
       "      <th>palate</th>\n",
       "      <th>that</th>\n",
       "      <th>the</th>\n",
       "      <th>this</th>\n",
       "      <th>to</th>\n",
       "      <th>wine</th>\n",
       "      <th>with</th>\n",
       "    </tr>\n",
       "  </thead>\n",
       "  <tbody>\n",
       "    <tr>\n",
       "      <th>32539</th>\n",
       "      <td>0.261794</td>\n",
       "      <td>0.000000</td>\n",
       "      <td>0.246307</td>\n",
       "      <td>0.000000</td>\n",
       "      <td>0.000000</td>\n",
       "      <td>0.000000</td>\n",
       "      <td>0.00000</td>\n",
       "      <td>0.231912</td>\n",
       "      <td>0.222482</td>\n",
       "      <td>0.180810</td>\n",
       "      <td>0.189651</td>\n",
       "      <td>0.141615</td>\n",
       "      <td>0.000000</td>\n",
       "      <td>0.250530</td>\n",
       "      <td>0.257448</td>\n",
       "      <td>0.679290</td>\n",
       "      <td>0.000000</td>\n",
       "      <td>0.228462</td>\n",
       "      <td>0.190068</td>\n",
       "      <td>0.000000</td>\n",
       "    </tr>\n",
       "    <tr>\n",
       "      <th>91312</th>\n",
       "      <td>0.000000</td>\n",
       "      <td>0.623943</td>\n",
       "      <td>0.269130</td>\n",
       "      <td>0.000000</td>\n",
       "      <td>0.000000</td>\n",
       "      <td>0.000000</td>\n",
       "      <td>0.00000</td>\n",
       "      <td>0.253401</td>\n",
       "      <td>0.243098</td>\n",
       "      <td>0.000000</td>\n",
       "      <td>0.207224</td>\n",
       "      <td>0.309474</td>\n",
       "      <td>0.000000</td>\n",
       "      <td>0.000000</td>\n",
       "      <td>0.000000</td>\n",
       "      <td>0.296893</td>\n",
       "      <td>0.156136</td>\n",
       "      <td>0.000000</td>\n",
       "      <td>0.207680</td>\n",
       "      <td>0.347254</td>\n",
       "    </tr>\n",
       "    <tr>\n",
       "      <th>50735</th>\n",
       "      <td>0.000000</td>\n",
       "      <td>0.498093</td>\n",
       "      <td>0.000000</td>\n",
       "      <td>0.000000</td>\n",
       "      <td>0.000000</td>\n",
       "      <td>0.000000</td>\n",
       "      <td>0.00000</td>\n",
       "      <td>0.000000</td>\n",
       "      <td>0.000000</td>\n",
       "      <td>0.262859</td>\n",
       "      <td>0.000000</td>\n",
       "      <td>0.617632</td>\n",
       "      <td>0.364161</td>\n",
       "      <td>0.000000</td>\n",
       "      <td>0.000000</td>\n",
       "      <td>0.197508</td>\n",
       "      <td>0.000000</td>\n",
       "      <td>0.000000</td>\n",
       "      <td>0.276318</td>\n",
       "      <td>0.231010</td>\n",
       "    </tr>\n",
       "    <tr>\n",
       "      <th>82091</th>\n",
       "      <td>0.331833</td>\n",
       "      <td>0.289521</td>\n",
       "      <td>0.312203</td>\n",
       "      <td>0.000000</td>\n",
       "      <td>0.329160</td>\n",
       "      <td>0.252615</td>\n",
       "      <td>0.00000</td>\n",
       "      <td>0.000000</td>\n",
       "      <td>0.000000</td>\n",
       "      <td>0.229184</td>\n",
       "      <td>0.000000</td>\n",
       "      <td>0.179502</td>\n",
       "      <td>0.317508</td>\n",
       "      <td>0.317556</td>\n",
       "      <td>0.000000</td>\n",
       "      <td>0.344410</td>\n",
       "      <td>0.181124</td>\n",
       "      <td>0.000000</td>\n",
       "      <td>0.240918</td>\n",
       "      <td>0.201415</td>\n",
       "    </tr>\n",
       "    <tr>\n",
       "      <th>26122</th>\n",
       "      <td>0.000000</td>\n",
       "      <td>0.265876</td>\n",
       "      <td>0.000000</td>\n",
       "      <td>0.219857</td>\n",
       "      <td>0.000000</td>\n",
       "      <td>0.154656</td>\n",
       "      <td>0.00000</td>\n",
       "      <td>0.179966</td>\n",
       "      <td>0.172649</td>\n",
       "      <td>0.561244</td>\n",
       "      <td>0.147171</td>\n",
       "      <td>0.329684</td>\n",
       "      <td>0.000000</td>\n",
       "      <td>0.000000</td>\n",
       "      <td>0.199783</td>\n",
       "      <td>0.421709</td>\n",
       "      <td>0.221776</td>\n",
       "      <td>0.000000</td>\n",
       "      <td>0.147495</td>\n",
       "      <td>0.246621</td>\n",
       "    </tr>\n",
       "    <tr>\n",
       "      <th>...</th>\n",
       "      <td>...</td>\n",
       "      <td>...</td>\n",
       "      <td>...</td>\n",
       "      <td>...</td>\n",
       "      <td>...</td>\n",
       "      <td>...</td>\n",
       "      <td>...</td>\n",
       "      <td>...</td>\n",
       "      <td>...</td>\n",
       "      <td>...</td>\n",
       "      <td>...</td>\n",
       "      <td>...</td>\n",
       "      <td>...</td>\n",
       "      <td>...</td>\n",
       "      <td>...</td>\n",
       "      <td>...</td>\n",
       "      <td>...</td>\n",
       "      <td>...</td>\n",
       "      <td>...</td>\n",
       "      <td>...</td>\n",
       "    </tr>\n",
       "    <tr>\n",
       "      <th>128106</th>\n",
       "      <td>0.000000</td>\n",
       "      <td>0.508705</td>\n",
       "      <td>0.365706</td>\n",
       "      <td>0.000000</td>\n",
       "      <td>0.000000</td>\n",
       "      <td>0.295906</td>\n",
       "      <td>0.00000</td>\n",
       "      <td>0.000000</td>\n",
       "      <td>0.000000</td>\n",
       "      <td>0.000000</td>\n",
       "      <td>0.000000</td>\n",
       "      <td>0.420527</td>\n",
       "      <td>0.000000</td>\n",
       "      <td>0.000000</td>\n",
       "      <td>0.000000</td>\n",
       "      <td>0.403432</td>\n",
       "      <td>0.212164</td>\n",
       "      <td>0.000000</td>\n",
       "      <td>0.282205</td>\n",
       "      <td>0.235932</td>\n",
       "    </tr>\n",
       "    <tr>\n",
       "      <th>103694</th>\n",
       "      <td>0.000000</td>\n",
       "      <td>0.284329</td>\n",
       "      <td>0.000000</td>\n",
       "      <td>0.000000</td>\n",
       "      <td>0.323258</td>\n",
       "      <td>0.248085</td>\n",
       "      <td>0.00000</td>\n",
       "      <td>0.000000</td>\n",
       "      <td>0.553895</td>\n",
       "      <td>0.225074</td>\n",
       "      <td>0.236079</td>\n",
       "      <td>0.528850</td>\n",
       "      <td>0.000000</td>\n",
       "      <td>0.000000</td>\n",
       "      <td>0.000000</td>\n",
       "      <td>0.169117</td>\n",
       "      <td>0.177877</td>\n",
       "      <td>0.000000</td>\n",
       "      <td>0.000000</td>\n",
       "      <td>0.000000</td>\n",
       "    </tr>\n",
       "    <tr>\n",
       "      <th>860</th>\n",
       "      <td>0.000000</td>\n",
       "      <td>0.401472</td>\n",
       "      <td>0.000000</td>\n",
       "      <td>0.000000</td>\n",
       "      <td>0.000000</td>\n",
       "      <td>0.233530</td>\n",
       "      <td>0.33151</td>\n",
       "      <td>0.543498</td>\n",
       "      <td>0.000000</td>\n",
       "      <td>0.211869</td>\n",
       "      <td>0.000000</td>\n",
       "      <td>0.165941</td>\n",
       "      <td>0.293521</td>\n",
       "      <td>0.000000</td>\n",
       "      <td>0.301672</td>\n",
       "      <td>0.318391</td>\n",
       "      <td>0.167441</td>\n",
       "      <td>0.000000</td>\n",
       "      <td>0.000000</td>\n",
       "      <td>0.000000</td>\n",
       "    </tr>\n",
       "    <tr>\n",
       "      <th>15795</th>\n",
       "      <td>0.000000</td>\n",
       "      <td>0.298745</td>\n",
       "      <td>0.000000</td>\n",
       "      <td>0.247037</td>\n",
       "      <td>0.000000</td>\n",
       "      <td>0.000000</td>\n",
       "      <td>0.00000</td>\n",
       "      <td>0.202215</td>\n",
       "      <td>0.000000</td>\n",
       "      <td>0.157657</td>\n",
       "      <td>0.330731</td>\n",
       "      <td>0.493923</td>\n",
       "      <td>0.000000</td>\n",
       "      <td>0.000000</td>\n",
       "      <td>0.000000</td>\n",
       "      <td>0.236922</td>\n",
       "      <td>0.124597</td>\n",
       "      <td>0.398414</td>\n",
       "      <td>0.165730</td>\n",
       "      <td>0.415665</td>\n",
       "    </tr>\n",
       "    <tr>\n",
       "      <th>121958</th>\n",
       "      <td>0.237967</td>\n",
       "      <td>0.311435</td>\n",
       "      <td>0.000000</td>\n",
       "      <td>0.000000</td>\n",
       "      <td>0.000000</td>\n",
       "      <td>0.000000</td>\n",
       "      <td>0.00000</td>\n",
       "      <td>0.210805</td>\n",
       "      <td>0.000000</td>\n",
       "      <td>0.657417</td>\n",
       "      <td>0.344780</td>\n",
       "      <td>0.128726</td>\n",
       "      <td>0.000000</td>\n",
       "      <td>0.000000</td>\n",
       "      <td>0.000000</td>\n",
       "      <td>0.246986</td>\n",
       "      <td>0.129889</td>\n",
       "      <td>0.207669</td>\n",
       "      <td>0.172769</td>\n",
       "      <td>0.288881</td>\n",
       "    </tr>\n",
       "  </tbody>\n",
       "</table>\n",
       "<p>90934 rows × 20 columns</p>\n",
       "</div>"
      ],
      "text/plain": [
       "         acidity       and    aromas       but    finish   flavors     from  \\\n",
       "32539   0.261794  0.000000  0.246307  0.000000  0.000000  0.000000  0.00000   \n",
       "91312   0.000000  0.623943  0.269130  0.000000  0.000000  0.000000  0.00000   \n",
       "50735   0.000000  0.498093  0.000000  0.000000  0.000000  0.000000  0.00000   \n",
       "82091   0.331833  0.289521  0.312203  0.000000  0.329160  0.252615  0.00000   \n",
       "26122   0.000000  0.265876  0.000000  0.219857  0.000000  0.154656  0.00000   \n",
       "...          ...       ...       ...       ...       ...       ...      ...   \n",
       "128106  0.000000  0.508705  0.365706  0.000000  0.000000  0.295906  0.00000   \n",
       "103694  0.000000  0.284329  0.000000  0.000000  0.323258  0.248085  0.00000   \n",
       "860     0.000000  0.401472  0.000000  0.000000  0.000000  0.233530  0.33151   \n",
       "15795   0.000000  0.298745  0.000000  0.247037  0.000000  0.000000  0.00000   \n",
       "121958  0.237967  0.311435  0.000000  0.000000  0.000000  0.000000  0.00000   \n",
       "\n",
       "           fruit        in        is        it        of        on    palate  \\\n",
       "32539   0.231912  0.222482  0.180810  0.189651  0.141615  0.000000  0.250530   \n",
       "91312   0.253401  0.243098  0.000000  0.207224  0.309474  0.000000  0.000000   \n",
       "50735   0.000000  0.000000  0.262859  0.000000  0.617632  0.364161  0.000000   \n",
       "82091   0.000000  0.000000  0.229184  0.000000  0.179502  0.317508  0.317556   \n",
       "26122   0.179966  0.172649  0.561244  0.147171  0.329684  0.000000  0.000000   \n",
       "...          ...       ...       ...       ...       ...       ...       ...   \n",
       "128106  0.000000  0.000000  0.000000  0.000000  0.420527  0.000000  0.000000   \n",
       "103694  0.000000  0.553895  0.225074  0.236079  0.528850  0.000000  0.000000   \n",
       "860     0.543498  0.000000  0.211869  0.000000  0.165941  0.293521  0.000000   \n",
       "15795   0.202215  0.000000  0.157657  0.330731  0.493923  0.000000  0.000000   \n",
       "121958  0.210805  0.000000  0.657417  0.344780  0.128726  0.000000  0.000000   \n",
       "\n",
       "            that       the      this        to      wine      with  \n",
       "32539   0.257448  0.679290  0.000000  0.228462  0.190068  0.000000  \n",
       "91312   0.000000  0.296893  0.156136  0.000000  0.207680  0.347254  \n",
       "50735   0.000000  0.197508  0.000000  0.000000  0.276318  0.231010  \n",
       "82091   0.000000  0.344410  0.181124  0.000000  0.240918  0.201415  \n",
       "26122   0.199783  0.421709  0.221776  0.000000  0.147495  0.246621  \n",
       "...          ...       ...       ...       ...       ...       ...  \n",
       "128106  0.000000  0.403432  0.212164  0.000000  0.282205  0.235932  \n",
       "103694  0.000000  0.169117  0.177877  0.000000  0.000000  0.000000  \n",
       "860     0.301672  0.318391  0.167441  0.000000  0.000000  0.000000  \n",
       "15795   0.000000  0.236922  0.124597  0.398414  0.165730  0.415665  \n",
       "121958  0.000000  0.246986  0.129889  0.207669  0.172769  0.288881  \n",
       "\n",
       "[90934 rows x 20 columns]"
      ]
     },
     "execution_count": 96,
     "metadata": {},
     "output_type": "execute_result"
    }
   ],
   "source": [
    "# Vectorize X_train text\n",
    "tfidf = TfidfVectorizer(max_features=20)\n",
    "X_train_text_vectorized = tfidf.fit_transform(X_train['description'])\n",
    "pd.DataFrame.sparse.from_spmatrix(X_train_text_vectorized, \n",
    "                                  columns=tfidf.get_feature_names(),\n",
    "                                  index=X_train.index)"
   ]
  },
  {
   "cell_type": "code",
   "execution_count": 97,
   "metadata": {
    "ExecuteTime": {
     "end_time": "2022-11-10T17:31:37.472151Z",
     "start_time": "2022-11-10T17:31:37.377199Z"
    }
   },
   "outputs": [
    {
     "data": {
      "text/plain": [
       "0.5284712020496571"
      ]
     },
     "execution_count": 97,
     "metadata": {},
     "output_type": "execute_result"
    }
   ],
   "source": [
    "#Multinomial Bayes Baseline Model\n",
    "baseline_model_text_only = MultinomialNB()\n",
    "\n",
    "# Evaluate the model on X_train_vectorized and y_train\n",
    "baseline_cv = cross_val_score(baseline_model_text_only, \n",
    "                              X_train_text_vectorized, \n",
    "                              y_train)\n",
    "baseline_cv.mean()"
   ]
  },
  {
   "cell_type": "markdown",
   "metadata": {},
   "source": [
    "This model is giving us only a 52.8% accuracy. Lets see how this improves by adding in price and our categorical columns."
   ]
  },
  {
   "cell_type": "markdown",
   "metadata": {},
   "source": [
    "#### Baseline with all variables"
   ]
  },
  {
   "cell_type": "code",
   "execution_count": 98,
   "metadata": {
    "ExecuteTime": {
     "end_time": "2022-11-10T17:31:38.214263Z",
     "start_time": "2022-11-10T17:31:37.472996Z"
    }
   },
   "outputs": [
    {
     "data": {
      "text/html": [
       "<div>\n",
       "<style scoped>\n",
       "    .dataframe tbody tr th:only-of-type {\n",
       "        vertical-align: middle;\n",
       "    }\n",
       "\n",
       "    .dataframe tbody tr th {\n",
       "        vertical-align: top;\n",
       "    }\n",
       "\n",
       "    .dataframe thead th {\n",
       "        text-align: right;\n",
       "    }\n",
       "</style>\n",
       "<table border=\"1\" class=\"dataframe\">\n",
       "  <thead>\n",
       "    <tr style=\"text-align: right;\">\n",
       "      <th></th>\n",
       "      <th>acidity</th>\n",
       "      <th>and</th>\n",
       "      <th>aromas</th>\n",
       "      <th>but</th>\n",
       "      <th>finish</th>\n",
       "      <th>flavors</th>\n",
       "      <th>from</th>\n",
       "      <th>fruit</th>\n",
       "      <th>in</th>\n",
       "      <th>is</th>\n",
       "      <th>...</th>\n",
       "      <th>x3_Ãcluse</th>\n",
       "      <th>x3_ÃlevÃ©e Winegrowers</th>\n",
       "      <th>x3_Ãric &amp; JÃ¶el Durand</th>\n",
       "      <th>x3_Ãl Macchione</th>\n",
       "      <th>x3_Ãrale</th>\n",
       "      <th>x3_Ãko</th>\n",
       "      <th>x3_Ãkonomierat Rebholz</th>\n",
       "      <th>x3_Ã Maurice</th>\n",
       "      <th>x3_Å toka</th>\n",
       "      <th>price</th>\n",
       "    </tr>\n",
       "  </thead>\n",
       "  <tbody>\n",
       "    <tr>\n",
       "      <th>32539</th>\n",
       "      <td>0.261794</td>\n",
       "      <td>0.000000</td>\n",
       "      <td>0.246307</td>\n",
       "      <td>0.000000</td>\n",
       "      <td>0.000000</td>\n",
       "      <td>0.000000</td>\n",
       "      <td>0.00000</td>\n",
       "      <td>0.231912</td>\n",
       "      <td>0.222482</td>\n",
       "      <td>0.180810</td>\n",
       "      <td>...</td>\n",
       "      <td>0.0</td>\n",
       "      <td>0.0</td>\n",
       "      <td>0.0</td>\n",
       "      <td>0.0</td>\n",
       "      <td>0.0</td>\n",
       "      <td>0.0</td>\n",
       "      <td>0.0</td>\n",
       "      <td>0.0</td>\n",
       "      <td>0.0</td>\n",
       "      <td>35.316889</td>\n",
       "    </tr>\n",
       "    <tr>\n",
       "      <th>91312</th>\n",
       "      <td>0.000000</td>\n",
       "      <td>0.623943</td>\n",
       "      <td>0.269130</td>\n",
       "      <td>0.000000</td>\n",
       "      <td>0.000000</td>\n",
       "      <td>0.000000</td>\n",
       "      <td>0.00000</td>\n",
       "      <td>0.253401</td>\n",
       "      <td>0.243098</td>\n",
       "      <td>0.000000</td>\n",
       "      <td>...</td>\n",
       "      <td>0.0</td>\n",
       "      <td>0.0</td>\n",
       "      <td>0.0</td>\n",
       "      <td>0.0</td>\n",
       "      <td>0.0</td>\n",
       "      <td>0.0</td>\n",
       "      <td>0.0</td>\n",
       "      <td>0.0</td>\n",
       "      <td>0.0</td>\n",
       "      <td>28.000000</td>\n",
       "    </tr>\n",
       "    <tr>\n",
       "      <th>50735</th>\n",
       "      <td>0.000000</td>\n",
       "      <td>0.498093</td>\n",
       "      <td>0.000000</td>\n",
       "      <td>0.000000</td>\n",
       "      <td>0.000000</td>\n",
       "      <td>0.000000</td>\n",
       "      <td>0.00000</td>\n",
       "      <td>0.000000</td>\n",
       "      <td>0.000000</td>\n",
       "      <td>0.262859</td>\n",
       "      <td>...</td>\n",
       "      <td>0.0</td>\n",
       "      <td>0.0</td>\n",
       "      <td>0.0</td>\n",
       "      <td>0.0</td>\n",
       "      <td>0.0</td>\n",
       "      <td>0.0</td>\n",
       "      <td>0.0</td>\n",
       "      <td>0.0</td>\n",
       "      <td>0.0</td>\n",
       "      <td>35.316889</td>\n",
       "    </tr>\n",
       "    <tr>\n",
       "      <th>82091</th>\n",
       "      <td>0.331833</td>\n",
       "      <td>0.289521</td>\n",
       "      <td>0.312203</td>\n",
       "      <td>0.000000</td>\n",
       "      <td>0.329160</td>\n",
       "      <td>0.252615</td>\n",
       "      <td>0.00000</td>\n",
       "      <td>0.000000</td>\n",
       "      <td>0.000000</td>\n",
       "      <td>0.229184</td>\n",
       "      <td>...</td>\n",
       "      <td>0.0</td>\n",
       "      <td>0.0</td>\n",
       "      <td>0.0</td>\n",
       "      <td>0.0</td>\n",
       "      <td>0.0</td>\n",
       "      <td>0.0</td>\n",
       "      <td>0.0</td>\n",
       "      <td>0.0</td>\n",
       "      <td>0.0</td>\n",
       "      <td>20.000000</td>\n",
       "    </tr>\n",
       "    <tr>\n",
       "      <th>26122</th>\n",
       "      <td>0.000000</td>\n",
       "      <td>0.265876</td>\n",
       "      <td>0.000000</td>\n",
       "      <td>0.219857</td>\n",
       "      <td>0.000000</td>\n",
       "      <td>0.154656</td>\n",
       "      <td>0.00000</td>\n",
       "      <td>0.179966</td>\n",
       "      <td>0.172649</td>\n",
       "      <td>0.561244</td>\n",
       "      <td>...</td>\n",
       "      <td>0.0</td>\n",
       "      <td>0.0</td>\n",
       "      <td>0.0</td>\n",
       "      <td>0.0</td>\n",
       "      <td>0.0</td>\n",
       "      <td>0.0</td>\n",
       "      <td>0.0</td>\n",
       "      <td>0.0</td>\n",
       "      <td>0.0</td>\n",
       "      <td>14.000000</td>\n",
       "    </tr>\n",
       "    <tr>\n",
       "      <th>...</th>\n",
       "      <td>...</td>\n",
       "      <td>...</td>\n",
       "      <td>...</td>\n",
       "      <td>...</td>\n",
       "      <td>...</td>\n",
       "      <td>...</td>\n",
       "      <td>...</td>\n",
       "      <td>...</td>\n",
       "      <td>...</td>\n",
       "      <td>...</td>\n",
       "      <td>...</td>\n",
       "      <td>...</td>\n",
       "      <td>...</td>\n",
       "      <td>...</td>\n",
       "      <td>...</td>\n",
       "      <td>...</td>\n",
       "      <td>...</td>\n",
       "      <td>...</td>\n",
       "      <td>...</td>\n",
       "      <td>...</td>\n",
       "      <td>...</td>\n",
       "    </tr>\n",
       "    <tr>\n",
       "      <th>128106</th>\n",
       "      <td>0.000000</td>\n",
       "      <td>0.508705</td>\n",
       "      <td>0.365706</td>\n",
       "      <td>0.000000</td>\n",
       "      <td>0.000000</td>\n",
       "      <td>0.295906</td>\n",
       "      <td>0.00000</td>\n",
       "      <td>0.000000</td>\n",
       "      <td>0.000000</td>\n",
       "      <td>0.000000</td>\n",
       "      <td>...</td>\n",
       "      <td>0.0</td>\n",
       "      <td>0.0</td>\n",
       "      <td>0.0</td>\n",
       "      <td>0.0</td>\n",
       "      <td>0.0</td>\n",
       "      <td>0.0</td>\n",
       "      <td>0.0</td>\n",
       "      <td>0.0</td>\n",
       "      <td>0.0</td>\n",
       "      <td>13.000000</td>\n",
       "    </tr>\n",
       "    <tr>\n",
       "      <th>103694</th>\n",
       "      <td>0.000000</td>\n",
       "      <td>0.284329</td>\n",
       "      <td>0.000000</td>\n",
       "      <td>0.000000</td>\n",
       "      <td>0.323258</td>\n",
       "      <td>0.248085</td>\n",
       "      <td>0.00000</td>\n",
       "      <td>0.000000</td>\n",
       "      <td>0.553895</td>\n",
       "      <td>0.225074</td>\n",
       "      <td>...</td>\n",
       "      <td>0.0</td>\n",
       "      <td>0.0</td>\n",
       "      <td>0.0</td>\n",
       "      <td>0.0</td>\n",
       "      <td>0.0</td>\n",
       "      <td>0.0</td>\n",
       "      <td>0.0</td>\n",
       "      <td>0.0</td>\n",
       "      <td>0.0</td>\n",
       "      <td>60.000000</td>\n",
       "    </tr>\n",
       "    <tr>\n",
       "      <th>860</th>\n",
       "      <td>0.000000</td>\n",
       "      <td>0.401472</td>\n",
       "      <td>0.000000</td>\n",
       "      <td>0.000000</td>\n",
       "      <td>0.000000</td>\n",
       "      <td>0.233530</td>\n",
       "      <td>0.33151</td>\n",
       "      <td>0.543498</td>\n",
       "      <td>0.000000</td>\n",
       "      <td>0.211869</td>\n",
       "      <td>...</td>\n",
       "      <td>0.0</td>\n",
       "      <td>0.0</td>\n",
       "      <td>0.0</td>\n",
       "      <td>0.0</td>\n",
       "      <td>0.0</td>\n",
       "      <td>0.0</td>\n",
       "      <td>0.0</td>\n",
       "      <td>0.0</td>\n",
       "      <td>0.0</td>\n",
       "      <td>45.000000</td>\n",
       "    </tr>\n",
       "    <tr>\n",
       "      <th>15795</th>\n",
       "      <td>0.000000</td>\n",
       "      <td>0.298745</td>\n",
       "      <td>0.000000</td>\n",
       "      <td>0.247037</td>\n",
       "      <td>0.000000</td>\n",
       "      <td>0.000000</td>\n",
       "      <td>0.00000</td>\n",
       "      <td>0.202215</td>\n",
       "      <td>0.000000</td>\n",
       "      <td>0.157657</td>\n",
       "      <td>...</td>\n",
       "      <td>0.0</td>\n",
       "      <td>0.0</td>\n",
       "      <td>0.0</td>\n",
       "      <td>0.0</td>\n",
       "      <td>0.0</td>\n",
       "      <td>0.0</td>\n",
       "      <td>0.0</td>\n",
       "      <td>0.0</td>\n",
       "      <td>0.0</td>\n",
       "      <td>50.000000</td>\n",
       "    </tr>\n",
       "    <tr>\n",
       "      <th>121958</th>\n",
       "      <td>0.237967</td>\n",
       "      <td>0.311435</td>\n",
       "      <td>0.000000</td>\n",
       "      <td>0.000000</td>\n",
       "      <td>0.000000</td>\n",
       "      <td>0.000000</td>\n",
       "      <td>0.00000</td>\n",
       "      <td>0.210805</td>\n",
       "      <td>0.000000</td>\n",
       "      <td>0.657417</td>\n",
       "      <td>...</td>\n",
       "      <td>0.0</td>\n",
       "      <td>0.0</td>\n",
       "      <td>0.0</td>\n",
       "      <td>0.0</td>\n",
       "      <td>0.0</td>\n",
       "      <td>0.0</td>\n",
       "      <td>0.0</td>\n",
       "      <td>0.0</td>\n",
       "      <td>0.0</td>\n",
       "      <td>30.000000</td>\n",
       "    </tr>\n",
       "  </tbody>\n",
       "</table>\n",
       "<p>90934 rows × 16299 columns</p>\n",
       "</div>"
      ],
      "text/plain": [
       "         acidity       and    aromas       but    finish   flavors     from  \\\n",
       "32539   0.261794  0.000000  0.246307  0.000000  0.000000  0.000000  0.00000   \n",
       "91312   0.000000  0.623943  0.269130  0.000000  0.000000  0.000000  0.00000   \n",
       "50735   0.000000  0.498093  0.000000  0.000000  0.000000  0.000000  0.00000   \n",
       "82091   0.331833  0.289521  0.312203  0.000000  0.329160  0.252615  0.00000   \n",
       "26122   0.000000  0.265876  0.000000  0.219857  0.000000  0.154656  0.00000   \n",
       "...          ...       ...       ...       ...       ...       ...      ...   \n",
       "128106  0.000000  0.508705  0.365706  0.000000  0.000000  0.295906  0.00000   \n",
       "103694  0.000000  0.284329  0.000000  0.000000  0.323258  0.248085  0.00000   \n",
       "860     0.000000  0.401472  0.000000  0.000000  0.000000  0.233530  0.33151   \n",
       "15795   0.000000  0.298745  0.000000  0.247037  0.000000  0.000000  0.00000   \n",
       "121958  0.237967  0.311435  0.000000  0.000000  0.000000  0.000000  0.00000   \n",
       "\n",
       "           fruit        in        is  ...  x3_Ãcluse  \\\n",
       "32539   0.231912  0.222482  0.180810  ...         0.0   \n",
       "91312   0.253401  0.243098  0.000000  ...         0.0   \n",
       "50735   0.000000  0.000000  0.262859  ...         0.0   \n",
       "82091   0.000000  0.000000  0.229184  ...         0.0   \n",
       "26122   0.179966  0.172649  0.561244  ...         0.0   \n",
       "...          ...       ...       ...  ...         ...   \n",
       "128106  0.000000  0.000000  0.000000  ...         0.0   \n",
       "103694  0.000000  0.553895  0.225074  ...         0.0   \n",
       "860     0.543498  0.000000  0.211869  ...         0.0   \n",
       "15795   0.202215  0.000000  0.157657  ...         0.0   \n",
       "121958  0.210805  0.000000  0.657417  ...         0.0   \n",
       "\n",
       "        x3_ÃlevÃ©e Winegrowers  x3_Ãric & JÃ¶el Durand  x3_Ãl Macchione  \\\n",
       "32539                       0.0                      0.0               0.0   \n",
       "91312                       0.0                      0.0               0.0   \n",
       "50735                       0.0                      0.0               0.0   \n",
       "82091                       0.0                      0.0               0.0   \n",
       "26122                       0.0                      0.0               0.0   \n",
       "...                         ...                      ...               ...   \n",
       "128106                      0.0                      0.0               0.0   \n",
       "103694                      0.0                      0.0               0.0   \n",
       "860                         0.0                      0.0               0.0   \n",
       "15795                       0.0                      0.0               0.0   \n",
       "121958                      0.0                      0.0               0.0   \n",
       "\n",
       "        x3_Ãrale  x3_Ãko  x3_Ãkonomierat Rebholz  x3_Ã Maurice  x3_Å toka  \\\n",
       "32539         0.0      0.0                      0.0           0.0        0.0   \n",
       "91312         0.0      0.0                      0.0           0.0        0.0   \n",
       "50735         0.0      0.0                      0.0           0.0        0.0   \n",
       "82091         0.0      0.0                      0.0           0.0        0.0   \n",
       "26122         0.0      0.0                      0.0           0.0        0.0   \n",
       "...           ...      ...                      ...           ...        ...   \n",
       "128106        0.0      0.0                      0.0           0.0        0.0   \n",
       "103694        0.0      0.0                      0.0           0.0        0.0   \n",
       "860           0.0      0.0                      0.0           0.0        0.0   \n",
       "15795         0.0      0.0                      0.0           0.0        0.0   \n",
       "121958        0.0      0.0                      0.0           0.0        0.0   \n",
       "\n",
       "            price  \n",
       "32539   35.316889  \n",
       "91312   28.000000  \n",
       "50735   35.316889  \n",
       "82091   20.000000  \n",
       "26122   14.000000  \n",
       "...           ...  \n",
       "128106  13.000000  \n",
       "103694  60.000000  \n",
       "860     45.000000  \n",
       "15795   50.000000  \n",
       "121958  30.000000  \n",
       "\n",
       "[90934 rows x 16299 columns]"
      ]
     },
     "execution_count": 98,
     "metadata": {},
     "output_type": "execute_result"
    }
   ],
   "source": [
    "# Create dataframe with all information\n",
    "X_train_vectorized_df = pd.DataFrame(X_train_text_vectorized.toarray(), \n",
    "                                     columns=tfidf.get_feature_names(), \n",
    "                                     index=X_train.index)\n",
    "preprocessed_X_train_1 = pd.concat([X_train_vectorized_df, \n",
    "                                  X_train_without_text], \n",
    "                                 axis=1)\n",
    "preprocessed_X_train_1"
   ]
  },
  {
   "cell_type": "code",
   "execution_count": 99,
   "metadata": {
    "ExecuteTime": {
     "end_time": "2022-11-10T17:34:12.120285Z",
     "start_time": "2022-11-10T17:31:38.215295Z"
    }
   },
   "outputs": [
    {
     "name": "stdout",
     "output_type": "stream",
     "text": [
      "Baseline Text: 0.5284712020496571\n",
      "Baseline: 0.6437855405314841\n"
     ]
    }
   ],
   "source": [
    "#Multinomial Bayes Baseline Model\n",
    "baseline_model = MultinomialNB()\n",
    "\n",
    "# Evaluate the model on X_train_vectorized and y_train\n",
    "baseline_cv_2 = cross_val_score(baseline_model, preprocessed_X_train_1, y_train)\n",
    "print('Baseline Text:', baseline_cv.mean())\n",
    "print('Baseline:', baseline_cv_2.mean())"
   ]
  },
  {
   "cell_type": "markdown",
   "metadata": {},
   "source": [
    "This model is performing slightly better.  I will fit this model in order to view a classification report."
   ]
  },
  {
   "cell_type": "markdown",
   "metadata": {},
   "source": [
    "#### Final Baseline Model"
   ]
  },
  {
   "cell_type": "code",
   "execution_count": 100,
   "metadata": {
    "ExecuteTime": {
     "end_time": "2022-11-10T17:34:44.282976Z",
     "start_time": "2022-11-10T17:34:12.121838Z"
    }
   },
   "outputs": [
    {
     "name": "stdout",
     "output_type": "stream",
     "text": [
      "Final baseline training score: 0.6792288912837883\n"
     ]
    }
   ],
   "source": [
    "# Fit final baseline model\n",
    "final_baseline = MultinomialNB()\n",
    "\n",
    "final_baseline.fit(preprocessed_X_train_1, y_train)\n",
    "print('Final baseline training score:', final_baseline.score(preprocessed_X_train_1, \n",
    "                                                          y_train))"
   ]
  },
  {
   "cell_type": "code",
   "execution_count": 101,
   "metadata": {
    "ExecuteTime": {
     "end_time": "2022-11-10T17:34:44.477582Z",
     "start_time": "2022-11-10T17:34:44.284698Z"
    }
   },
   "outputs": [],
   "source": [
    "# One hot encode X_test\n",
    "X_test_cat = X_test.drop(['description', 'price'], axis=1)\n",
    "X_test_cat_ohe = ohe.transform(X_test_cat)\n",
    "X_test_cat_final = pd.DataFrame.sparse.from_spmatrix(X_test_cat_ohe, \n",
    "                                                     columns=ohe.get_feature_names(),\n",
    "                                                     index=X_test_cat.index)"
   ]
  },
  {
   "cell_type": "code",
   "execution_count": 102,
   "metadata": {
    "ExecuteTime": {
     "end_time": "2022-11-10T17:34:45.470824Z",
     "start_time": "2022-11-10T17:34:44.478739Z"
    }
   },
   "outputs": [],
   "source": [
    "X_test['price'].fillna((X_test['price'].mean()), inplace=True)\n",
    "X_test_cont = X_test['price']\n",
    "X_test_without_text = pd.concat([X_test_cat_final, X_test_cont], axis=1)"
   ]
  },
  {
   "cell_type": "code",
   "execution_count": 103,
   "metadata": {
    "ExecuteTime": {
     "end_time": "2022-11-10T17:34:46.455453Z",
     "start_time": "2022-11-10T17:34:45.471844Z"
    }
   },
   "outputs": [],
   "source": [
    "# Vectorize X_test\n",
    "X_test_vectorized = tfidf.transform(X_test[\"description\"])\n",
    "X_test_text_df = pd.DataFrame.sparse.from_spmatrix(X_test_vectorized, \n",
    "                                              columns=tfidf.get_feature_names(),\n",
    "                                              index=X_test.index)\n",
    "X_test_preprocessed_1 = pd.concat([X_test_text_df, X_test_without_text], axis=1)"
   ]
  },
  {
   "cell_type": "code",
   "execution_count": 104,
   "metadata": {
    "ExecuteTime": {
     "end_time": "2022-11-10T17:34:52.591465Z",
     "start_time": "2022-11-10T17:34:46.456509Z"
    }
   },
   "outputs": [
    {
     "name": "stdout",
     "output_type": "stream",
     "text": [
      "Final model test score: 0.6400071844610371\n"
     ]
    }
   ],
   "source": [
    "# Evaluate test score\n",
    "print('Final model test score:', final_baseline.score(X_test_preprocessed_1, y_test))"
   ]
  },
  {
   "cell_type": "code",
   "execution_count": 105,
   "metadata": {
    "ExecuteTime": {
     "end_time": "2022-11-10T17:34:58.234868Z",
     "start_time": "2022-11-10T17:34:52.593034Z"
    }
   },
   "outputs": [
    {
     "name": "stdout",
     "output_type": "stream",
     "text": [
      "              precision    recall  f1-score   support\n",
      "\n",
      "           0       0.41      0.26      0.32      3830\n",
      "           1       0.68      0.70      0.69     20421\n",
      "           2       0.62      0.69      0.65     13954\n",
      "           3       0.71      0.07      0.13       768\n",
      "\n",
      "    accuracy                           0.64     38973\n",
      "   macro avg       0.61      0.43      0.45     38973\n",
      "weighted avg       0.63      0.64      0.63     38973\n",
      "\n"
     ]
    }
   ],
   "source": [
    "# Print a classification report\n",
    "y_pred = final_baseline.predict(X_test_preprocessed_1)\n",
    "print(classification_report(y_test, y_pred))"
   ]
  },
  {
   "cell_type": "code",
   "execution_count": 106,
   "metadata": {
    "ExecuteTime": {
     "end_time": "2022-11-10T17:35:04.290703Z",
     "start_time": "2022-11-10T17:34:58.236532Z"
    }
   },
   "outputs": [
    {
     "data": {
      "image/png": "[encoded data removed]",
      "text/plain": [
       "<Figure size 432x288 with 2 Axes>"
      ]
     },
     "metadata": {
      "needs_background": "light"
     },
     "output_type": "display_data"
    }
   ],
   "source": [
    "# Create confusion matrix\n",
    "from sklearn.metrics import plot_confusion_matrix\n",
    "plot_confusion_matrix(final_baseline, \n",
    "                      X_test_preprocessed_1, \n",
    "                      y_test,\n",
    "                      normalize='all');\n",
    "#plt.savefig('ConfusionMatrix_1.jpg')"
   ]
  },
  {
   "cell_type": "markdown",
   "metadata": {},
   "source": [
    "This model is not terrible, but I will try to increase it's accuracy with Natural Language Processing."
   ]
  },
  {
   "cell_type": "markdown",
   "metadata": {},
   "source": [
    "## Natural Language Processing"
   ]
  },
  {
   "cell_type": "markdown",
   "metadata": {},
   "source": [
    "Using NLP should increase our model's accuracy by removing unnecessary words and figures (such as punctuation)."
   ]
  },
  {
   "cell_type": "code",
   "execution_count": 107,
   "metadata": {
    "ExecuteTime": {
     "end_time": "2022-11-10T17:35:04.321128Z",
     "start_time": "2022-11-10T17:35:04.292047Z"
    },
    "scrolled": true
   },
   "outputs": [
    {
     "data": {
      "text/html": [
       "<div>\n",
       "<style scoped>\n",
       "    .dataframe tbody tr th:only-of-type {\n",
       "        vertical-align: middle;\n",
       "    }\n",
       "\n",
       "    .dataframe tbody tr th {\n",
       "        vertical-align: top;\n",
       "    }\n",
       "\n",
       "    .dataframe thead th {\n",
       "        text-align: right;\n",
       "    }\n",
       "</style>\n",
       "<table border=\"1\" class=\"dataframe\">\n",
       "  <thead>\n",
       "    <tr style=\"text-align: right;\">\n",
       "      <th></th>\n",
       "      <th>description</th>\n",
       "      <th>price</th>\n",
       "    </tr>\n",
       "  </thead>\n",
       "  <tbody>\n",
       "    <tr>\n",
       "      <th>32539</th>\n",
       "      <td>Gold in color, the wine has honeyed botrytis a...</td>\n",
       "      <td>35.316889</td>\n",
       "    </tr>\n",
       "    <tr>\n",
       "      <th>91312</th>\n",
       "      <td>Strong pencil shaving aromas open this 80% who...</td>\n",
       "      <td>28.000000</td>\n",
       "    </tr>\n",
       "    <tr>\n",
       "      <th>50735</th>\n",
       "      <td>A blend of 50% Nero di Troia and 50% Cabernet ...</td>\n",
       "      <td>35.316889</td>\n",
       "    </tr>\n",
       "    <tr>\n",
       "      <th>82091</th>\n",
       "      <td>Fragrant lemon-lime and exotic bath soap aroma...</td>\n",
       "      <td>20.000000</td>\n",
       "    </tr>\n",
       "    <tr>\n",
       "      <th>26122</th>\n",
       "      <td>This is winemaker Rich Cushman's estate vineya...</td>\n",
       "      <td>14.000000</td>\n",
       "    </tr>\n",
       "  </tbody>\n",
       "</table>\n",
       "</div>"
      ],
      "text/plain": [
       "                                             description      price\n",
       "32539  Gold in color, the wine has honeyed botrytis a...  35.316889\n",
       "91312  Strong pencil shaving aromas open this 80% who...  28.000000\n",
       "50735  A blend of 50% Nero di Troia and 50% Cabernet ...  35.316889\n",
       "82091  Fragrant lemon-lime and exotic bath soap aroma...  20.000000\n",
       "26122  This is winemaker Rich Cushman's estate vineya...  14.000000"
      ]
     },
     "execution_count": 107,
     "metadata": {},
     "output_type": "execute_result"
    }
   ],
   "source": [
    "# Create a separate dataframe to work in\n",
    "nlp_df = X_train.loc[:, ['description', 'price']]\n",
    "nlp_df.head()"
   ]
  },
  {
   "cell_type": "markdown",
   "metadata": {},
   "source": [
    "Note: I created this DataFrame with price included so that my information was still labeled by column."
   ]
  },
  {
   "cell_type": "markdown",
   "metadata": {},
   "source": [
    "### Lowercase Text"
   ]
  },
  {
   "cell_type": "code",
   "execution_count": 108,
   "metadata": {
    "ExecuteTime": {
     "end_time": "2022-11-10T17:35:04.408049Z",
     "start_time": "2022-11-10T17:35:04.322299Z"
    }
   },
   "outputs": [
    {
     "data": {
      "text/html": [
       "<div>\n",
       "<style scoped>\n",
       "    .dataframe tbody tr th:only-of-type {\n",
       "        vertical-align: middle;\n",
       "    }\n",
       "\n",
       "    .dataframe tbody tr th {\n",
       "        vertical-align: top;\n",
       "    }\n",
       "\n",
       "    .dataframe thead th {\n",
       "        text-align: right;\n",
       "    }\n",
       "</style>\n",
       "<table border=\"1\" class=\"dataframe\">\n",
       "  <thead>\n",
       "    <tr style=\"text-align: right;\">\n",
       "      <th></th>\n",
       "      <th>description</th>\n",
       "      <th>price</th>\n",
       "    </tr>\n",
       "  </thead>\n",
       "  <tbody>\n",
       "    <tr>\n",
       "      <th>32539</th>\n",
       "      <td>gold in color, the wine has honeyed botrytis a...</td>\n",
       "      <td>35.316889</td>\n",
       "    </tr>\n",
       "    <tr>\n",
       "      <th>91312</th>\n",
       "      <td>strong pencil shaving aromas open this 80% who...</td>\n",
       "      <td>28.000000</td>\n",
       "    </tr>\n",
       "    <tr>\n",
       "      <th>50735</th>\n",
       "      <td>a blend of 50% nero di troia and 50% cabernet ...</td>\n",
       "      <td>35.316889</td>\n",
       "    </tr>\n",
       "    <tr>\n",
       "      <th>82091</th>\n",
       "      <td>fragrant lemon-lime and exotic bath soap aroma...</td>\n",
       "      <td>20.000000</td>\n",
       "    </tr>\n",
       "    <tr>\n",
       "      <th>26122</th>\n",
       "      <td>this is winemaker rich cushman's estate vineya...</td>\n",
       "      <td>14.000000</td>\n",
       "    </tr>\n",
       "  </tbody>\n",
       "</table>\n",
       "</div>"
      ],
      "text/plain": [
       "                                             description      price\n",
       "32539  gold in color, the wine has honeyed botrytis a...  35.316889\n",
       "91312  strong pencil shaving aromas open this 80% who...  28.000000\n",
       "50735  a blend of 50% nero di troia and 50% cabernet ...  35.316889\n",
       "82091  fragrant lemon-lime and exotic bath soap aroma...  20.000000\n",
       "26122  this is winemaker rich cushman's estate vineya...  14.000000"
      ]
     },
     "execution_count": 108,
     "metadata": {},
     "output_type": "execute_result"
    }
   ],
   "source": [
    "# Lowercase text\n",
    "nlp_df['description'] = nlp_df['description'].str.lower()\n",
    "nlp_df.head()"
   ]
  },
  {
   "cell_type": "markdown",
   "metadata": {},
   "source": [
    "### Tokenize and Remove Punctuation"
   ]
  },
  {
   "cell_type": "code",
   "execution_count": 109,
   "metadata": {
    "ExecuteTime": {
     "end_time": "2022-11-10T17:35:04.410749Z",
     "start_time": "2022-11-10T17:35:04.409078Z"
    }
   },
   "outputs": [],
   "source": [
    "# Create a basic token pattern to remove punctuation when tokenizing\n",
    "basic_token_pattern = r\"(?u)\\b\\w\\w+\\b\"\n",
    "tokenizer = RegexpTokenizer(basic_token_pattern)"
   ]
  },
  {
   "cell_type": "code",
   "execution_count": 110,
   "metadata": {
    "ExecuteTime": {
     "end_time": "2022-11-10T17:35:05.395011Z",
     "start_time": "2022-11-10T17:35:04.411728Z"
    }
   },
   "outputs": [
    {
     "data": {
      "text/html": [
       "<div>\n",
       "<style scoped>\n",
       "    .dataframe tbody tr th:only-of-type {\n",
       "        vertical-align: middle;\n",
       "    }\n",
       "\n",
       "    .dataframe tbody tr th {\n",
       "        vertical-align: top;\n",
       "    }\n",
       "\n",
       "    .dataframe thead th {\n",
       "        text-align: right;\n",
       "    }\n",
       "</style>\n",
       "<table border=\"1\" class=\"dataframe\">\n",
       "  <thead>\n",
       "    <tr style=\"text-align: right;\">\n",
       "      <th></th>\n",
       "      <th>description</th>\n",
       "      <th>price</th>\n",
       "      <th>text_tokenized</th>\n",
       "    </tr>\n",
       "  </thead>\n",
       "  <tbody>\n",
       "    <tr>\n",
       "      <th>32539</th>\n",
       "      <td>gold in color, the wine has honeyed botrytis a...</td>\n",
       "      <td>35.316889</td>\n",
       "      <td>[gold, in, color, the, wine, has, honeyed, bot...</td>\n",
       "    </tr>\n",
       "    <tr>\n",
       "      <th>91312</th>\n",
       "      <td>strong pencil shaving aromas open this 80% who...</td>\n",
       "      <td>28.000000</td>\n",
       "      <td>[strong, pencil, shaving, aromas, open, this, ...</td>\n",
       "    </tr>\n",
       "    <tr>\n",
       "      <th>50735</th>\n",
       "      <td>a blend of 50% nero di troia and 50% cabernet ...</td>\n",
       "      <td>35.316889</td>\n",
       "      <td>[blend, of, 50, nero, di, troia, and, 50, cabe...</td>\n",
       "    </tr>\n",
       "    <tr>\n",
       "      <th>82091</th>\n",
       "      <td>fragrant lemon-lime and exotic bath soap aroma...</td>\n",
       "      <td>20.000000</td>\n",
       "      <td>[fragrant, lemon, lime, and, exotic, bath, soa...</td>\n",
       "    </tr>\n",
       "    <tr>\n",
       "      <th>26122</th>\n",
       "      <td>this is winemaker rich cushman's estate vineya...</td>\n",
       "      <td>14.000000</td>\n",
       "      <td>[this, is, winemaker, rich, cushman, estate, v...</td>\n",
       "    </tr>\n",
       "  </tbody>\n",
       "</table>\n",
       "</div>"
      ],
      "text/plain": [
       "                                             description      price  \\\n",
       "32539  gold in color, the wine has honeyed botrytis a...  35.316889   \n",
       "91312  strong pencil shaving aromas open this 80% who...  28.000000   \n",
       "50735  a blend of 50% nero di troia and 50% cabernet ...  35.316889   \n",
       "82091  fragrant lemon-lime and exotic bath soap aroma...  20.000000   \n",
       "26122  this is winemaker rich cushman's estate vineya...  14.000000   \n",
       "\n",
       "                                          text_tokenized  \n",
       "32539  [gold, in, color, the, wine, has, honeyed, bot...  \n",
       "91312  [strong, pencil, shaving, aromas, open, this, ...  \n",
       "50735  [blend, of, 50, nero, di, troia, and, 50, cabe...  \n",
       "82091  [fragrant, lemon, lime, and, exotic, bath, soa...  \n",
       "26122  [this, is, winemaker, rich, cushman, estate, v...  "
      ]
     },
     "execution_count": 110,
     "metadata": {},
     "output_type": "execute_result"
    }
   ],
   "source": [
    "# Create a new columns for tokenized text\n",
    "nlp_df['text_tokenized'] = nlp_df['description'].apply(tokenizer.tokenize)\n",
    "nlp_df.head()"
   ]
  },
  {
   "cell_type": "markdown",
   "metadata": {},
   "source": [
    "### Remove Stopwords"
   ]
  },
  {
   "cell_type": "markdown",
   "metadata": {},
   "source": [
    "Before removing stopwords, I would like to view the top 20 most common words."
   ]
  },
  {
   "cell_type": "code",
   "execution_count": 111,
   "metadata": {
    "ExecuteTime": {
     "end_time": "2022-11-10T17:35:07.124184Z",
     "start_time": "2022-11-10T17:35:05.395970Z"
    }
   },
   "outputs": [
    {
     "data": {
      "text/plain": [
       "FreqDist({'and': 243455, 'the': 154705, 'of': 121046, 'with': 84316, 'this': 79832, 'is': 67720, 'it': 60144, 'wine': 56157, 'flavors': 43824, 'in': 43554, ...})"
      ]
     },
     "execution_count": 111,
     "metadata": {},
     "output_type": "execute_result"
    }
   ],
   "source": [
    "# Create a frequency distribution for text tokenized\n",
    "train_freq_dist = FreqDist(nlp_df['text_tokenized'].explode())\n",
    "train_freq_dist"
   ]
  },
  {
   "cell_type": "code",
   "execution_count": 112,
   "metadata": {
    "ExecuteTime": {
     "end_time": "2022-11-10T17:35:07.254557Z",
     "start_time": "2022-11-10T17:35:07.125102Z"
    }
   },
   "outputs": [
    {
     "data": {
      "image/png": "[encoded data removed]",
      "text/plain": [
       "<Figure size 864x432 with 1 Axes>"
      ]
     },
     "metadata": {
      "needs_background": "light"
     },
     "output_type": "display_data"
    }
   ],
   "source": [
    "# Create a function for plotting the top 20 words\n",
    "def visualize_top_20(freq_dist, title):\n",
    "\n",
    "    top_20 = list(zip(*freq_dist.most_common(20)))\n",
    "    tokens = top_20[0]\n",
    "    counts = top_20[1]\n",
    "\n",
    "    fig, ax = plt.subplots(figsize=(12,6))\n",
    "    ax.bar(tokens, counts)\n",
    "\n",
    "    ax.set_title(title)\n",
    "    ax.set_ylabel(\"Count\")\n",
    "    ax.yaxis.set_major_locator(MaxNLocator(integer=True))\n",
    "    ax.tick_params(axis=\"x\", rotation=90)\n",
    "    \n",
    "visualize_top_20(train_freq_dist, \n",
    "                 \"Top 20 Word Frequency for Training Set (with stopwords)\")"
   ]
  },
  {
   "cell_type": "code",
   "execution_count": 113,
   "metadata": {
    "ExecuteTime": {
     "end_time": "2022-11-10T17:35:07.258497Z",
     "start_time": "2022-11-10T17:35:07.255449Z"
    }
   },
   "outputs": [],
   "source": [
    "# Create a list of english stopwords\n",
    "stopwords = nltk.corpus.stopwords.words('english')"
   ]
  },
  {
   "cell_type": "code",
   "execution_count": 114,
   "metadata": {
    "ExecuteTime": {
     "end_time": "2022-11-10T17:35:07.260739Z",
     "start_time": "2022-11-10T17:35:07.259268Z"
    }
   },
   "outputs": [],
   "source": [
    "# Add stopwords specific to this dataset\n",
    "wine = ['wine', 'flavors', 'fruit', 'palate', 'finish']\n",
    "stopwords.extend(wine)"
   ]
  },
  {
   "cell_type": "code",
   "execution_count": 115,
   "metadata": {
    "ExecuteTime": {
     "end_time": "2022-11-10T17:35:07.263121Z",
     "start_time": "2022-11-10T17:35:07.261532Z"
    }
   },
   "outputs": [],
   "source": [
    "# Create a function for removing stopwords\n",
    "def remove_stopwords(token_list):\n",
    "    stopwords_removed = [token for token in token_list if token not in stopwords]\n",
    "    return stopwords_removed"
   ]
  },
  {
   "cell_type": "code",
   "execution_count": 116,
   "metadata": {
    "ExecuteTime": {
     "end_time": "2022-11-10T17:35:12.867402Z",
     "start_time": "2022-11-10T17:35:07.264173Z"
    }
   },
   "outputs": [
    {
     "data": {
      "text/html": [
       "<div>\n",
       "<style scoped>\n",
       "    .dataframe tbody tr th:only-of-type {\n",
       "        vertical-align: middle;\n",
       "    }\n",
       "\n",
       "    .dataframe tbody tr th {\n",
       "        vertical-align: top;\n",
       "    }\n",
       "\n",
       "    .dataframe thead th {\n",
       "        text-align: right;\n",
       "    }\n",
       "</style>\n",
       "<table border=\"1\" class=\"dataframe\">\n",
       "  <thead>\n",
       "    <tr style=\"text-align: right;\">\n",
       "      <th></th>\n",
       "      <th>description</th>\n",
       "      <th>price</th>\n",
       "      <th>text_tokenized</th>\n",
       "      <th>text_without_stopwords</th>\n",
       "    </tr>\n",
       "  </thead>\n",
       "  <tbody>\n",
       "    <tr>\n",
       "      <th>32539</th>\n",
       "      <td>gold in color, the wine has honeyed botrytis a...</td>\n",
       "      <td>35.316889</td>\n",
       "      <td>[gold, in, color, the, wine, has, honeyed, bot...</td>\n",
       "      <td>[gold, color, honeyed, botrytis, aromas, trans...</td>\n",
       "    </tr>\n",
       "    <tr>\n",
       "      <th>91312</th>\n",
       "      <td>strong pencil shaving aromas open this 80% who...</td>\n",
       "      <td>28.000000</td>\n",
       "      <td>[strong, pencil, shaving, aromas, open, this, ...</td>\n",
       "      <td>[strong, pencil, shaving, aromas, open, 80, wh...</td>\n",
       "    </tr>\n",
       "    <tr>\n",
       "      <th>50735</th>\n",
       "      <td>a blend of 50% nero di troia and 50% cabernet ...</td>\n",
       "      <td>35.316889</td>\n",
       "      <td>[blend, of, 50, nero, di, troia, and, 50, cabe...</td>\n",
       "      <td>[blend, 50, nero, di, troia, 50, cabernet, sau...</td>\n",
       "    </tr>\n",
       "    <tr>\n",
       "      <th>82091</th>\n",
       "      <td>fragrant lemon-lime and exotic bath soap aroma...</td>\n",
       "      <td>20.000000</td>\n",
       "      <td>[fragrant, lemon, lime, and, exotic, bath, soa...</td>\n",
       "      <td>[fragrant, lemon, lime, exotic, bath, soap, ar...</td>\n",
       "    </tr>\n",
       "    <tr>\n",
       "      <th>26122</th>\n",
       "      <td>this is winemaker rich cushman's estate vineya...</td>\n",
       "      <td>14.000000</td>\n",
       "      <td>[this, is, winemaker, rich, cushman, estate, v...</td>\n",
       "      <td>[winemaker, rich, cushman, estate, vineyard, 2...</td>\n",
       "    </tr>\n",
       "  </tbody>\n",
       "</table>\n",
       "</div>"
      ],
      "text/plain": [
       "                                             description      price  \\\n",
       "32539  gold in color, the wine has honeyed botrytis a...  35.316889   \n",
       "91312  strong pencil shaving aromas open this 80% who...  28.000000   \n",
       "50735  a blend of 50% nero di troia and 50% cabernet ...  35.316889   \n",
       "82091  fragrant lemon-lime and exotic bath soap aroma...  20.000000   \n",
       "26122  this is winemaker rich cushman's estate vineya...  14.000000   \n",
       "\n",
       "                                          text_tokenized  \\\n",
       "32539  [gold, in, color, the, wine, has, honeyed, bot...   \n",
       "91312  [strong, pencil, shaving, aromas, open, this, ...   \n",
       "50735  [blend, of, 50, nero, di, troia, and, 50, cabe...   \n",
       "82091  [fragrant, lemon, lime, and, exotic, bath, soa...   \n",
       "26122  [this, is, winemaker, rich, cushman, estate, v...   \n",
       "\n",
       "                                  text_without_stopwords  \n",
       "32539  [gold, color, honeyed, botrytis, aromas, trans...  \n",
       "91312  [strong, pencil, shaving, aromas, open, 80, wh...  \n",
       "50735  [blend, 50, nero, di, troia, 50, cabernet, sau...  \n",
       "82091  [fragrant, lemon, lime, exotic, bath, soap, ar...  \n",
       "26122  [winemaker, rich, cushman, estate, vineyard, 2...  "
      ]
     },
     "execution_count": 116,
     "metadata": {},
     "output_type": "execute_result"
    }
   ],
   "source": [
    "# Create a new column for text without stopwords\n",
    "nlp_df['text_without_stopwords'] = nlp_df['text_tokenized'].apply(remove_stopwords)\n",
    "nlp_df.head()"
   ]
  },
  {
   "cell_type": "markdown",
   "metadata": {},
   "source": [
    "Check the new top 20 words once stopwords have been removed."
   ]
  },
  {
   "cell_type": "code",
   "execution_count": 117,
   "metadata": {
    "ExecuteTime": {
     "end_time": "2022-11-10T17:35:13.927713Z",
     "start_time": "2022-11-10T17:35:12.868325Z"
    }
   },
   "outputs": [],
   "source": [
    "# New frequency distribution\n",
    "new_train_freq_dist = FreqDist(nlp_df['text_without_stopwords'].explode())"
   ]
  },
  {
   "cell_type": "code",
   "execution_count": 118,
   "metadata": {
    "ExecuteTime": {
     "end_time": "2022-11-10T17:35:14.063308Z",
     "start_time": "2022-11-10T17:35:13.928703Z"
    }
   },
   "outputs": [
    {
     "data": {
      "image/png": "[encoded data removed]",
      "text/plain": [
       "<Figure size 864x432 with 1 Axes>"
      ]
     },
     "metadata": {
      "needs_background": "light"
     },
     "output_type": "display_data"
    }
   ],
   "source": [
    "visualize_top_20(new_train_freq_dist, \n",
    "                 \"Top 20 Word Frequency for Training Set (without stopwords)\")"
   ]
  },
  {
   "cell_type": "markdown",
   "metadata": {},
   "source": [
    "### Lemmatize"
   ]
  },
  {
   "cell_type": "markdown",
   "metadata": {},
   "source": [
    "Finally, we will lemmatize our text to remove different tenses of the same word."
   ]
  },
  {
   "cell_type": "code",
   "execution_count": 119,
   "metadata": {
    "ExecuteTime": {
     "end_time": "2022-11-10T17:35:14.066174Z",
     "start_time": "2022-11-10T17:35:14.064226Z"
    }
   },
   "outputs": [],
   "source": [
    "# Create a function for lemmatizing\n",
    "lemmatizer = WordNetLemmatizer()\n",
    "def lemmatize_text(token_list):\n",
    "    lemmatized_text = [lemmatizer.lemmatize(word) for word in token_list]\n",
    "    return lemmatized_text"
   ]
  },
  {
   "cell_type": "code",
   "execution_count": 120,
   "metadata": {
    "ExecuteTime": {
     "end_time": "2022-11-10T17:35:19.777245Z",
     "start_time": "2022-11-10T17:35:14.067129Z"
    }
   },
   "outputs": [
    {
     "data": {
      "text/html": [
       "<div>\n",
       "<style scoped>\n",
       "    .dataframe tbody tr th:only-of-type {\n",
       "        vertical-align: middle;\n",
       "    }\n",
       "\n",
       "    .dataframe tbody tr th {\n",
       "        vertical-align: top;\n",
       "    }\n",
       "\n",
       "    .dataframe thead th {\n",
       "        text-align: right;\n",
       "    }\n",
       "</style>\n",
       "<table border=\"1\" class=\"dataframe\">\n",
       "  <thead>\n",
       "    <tr style=\"text-align: right;\">\n",
       "      <th></th>\n",
       "      <th>description</th>\n",
       "      <th>price</th>\n",
       "      <th>text_tokenized</th>\n",
       "      <th>text_without_stopwords</th>\n",
       "      <th>lemmatized_text</th>\n",
       "    </tr>\n",
       "  </thead>\n",
       "  <tbody>\n",
       "    <tr>\n",
       "      <th>32539</th>\n",
       "      <td>gold in color, the wine has honeyed botrytis a...</td>\n",
       "      <td>35.316889</td>\n",
       "      <td>[gold, in, color, the, wine, has, honeyed, bot...</td>\n",
       "      <td>[gold, color, honeyed, botrytis, aromas, trans...</td>\n",
       "      <td>[gold, color, honeyed, botrytis, aroma, transl...</td>\n",
       "    </tr>\n",
       "    <tr>\n",
       "      <th>91312</th>\n",
       "      <td>strong pencil shaving aromas open this 80% who...</td>\n",
       "      <td>28.000000</td>\n",
       "      <td>[strong, pencil, shaving, aromas, open, this, ...</td>\n",
       "      <td>[strong, pencil, shaving, aromas, open, 80, wh...</td>\n",
       "      <td>[strong, pencil, shaving, aroma, open, 80, who...</td>\n",
       "    </tr>\n",
       "    <tr>\n",
       "      <th>50735</th>\n",
       "      <td>a blend of 50% nero di troia and 50% cabernet ...</td>\n",
       "      <td>35.316889</td>\n",
       "      <td>[blend, of, 50, nero, di, troia, and, 50, cabe...</td>\n",
       "      <td>[blend, 50, nero, di, troia, 50, cabernet, sau...</td>\n",
       "      <td>[blend, 50, nero, di, troia, 50, cabernet, sau...</td>\n",
       "    </tr>\n",
       "    <tr>\n",
       "      <th>82091</th>\n",
       "      <td>fragrant lemon-lime and exotic bath soap aroma...</td>\n",
       "      <td>20.000000</td>\n",
       "      <td>[fragrant, lemon, lime, and, exotic, bath, soa...</td>\n",
       "      <td>[fragrant, lemon, lime, exotic, bath, soap, ar...</td>\n",
       "      <td>[fragrant, lemon, lime, exotic, bath, soap, ar...</td>\n",
       "    </tr>\n",
       "    <tr>\n",
       "      <th>26122</th>\n",
       "      <td>this is winemaker rich cushman's estate vineya...</td>\n",
       "      <td>14.000000</td>\n",
       "      <td>[this, is, winemaker, rich, cushman, estate, v...</td>\n",
       "      <td>[winemaker, rich, cushman, estate, vineyard, 2...</td>\n",
       "      <td>[winemaker, rich, cushman, estate, vineyard, 2...</td>\n",
       "    </tr>\n",
       "  </tbody>\n",
       "</table>\n",
       "</div>"
      ],
      "text/plain": [
       "                                             description      price  \\\n",
       "32539  gold in color, the wine has honeyed botrytis a...  35.316889   \n",
       "91312  strong pencil shaving aromas open this 80% who...  28.000000   \n",
       "50735  a blend of 50% nero di troia and 50% cabernet ...  35.316889   \n",
       "82091  fragrant lemon-lime and exotic bath soap aroma...  20.000000   \n",
       "26122  this is winemaker rich cushman's estate vineya...  14.000000   \n",
       "\n",
       "                                          text_tokenized  \\\n",
       "32539  [gold, in, color, the, wine, has, honeyed, bot...   \n",
       "91312  [strong, pencil, shaving, aromas, open, this, ...   \n",
       "50735  [blend, of, 50, nero, di, troia, and, 50, cabe...   \n",
       "82091  [fragrant, lemon, lime, and, exotic, bath, soa...   \n",
       "26122  [this, is, winemaker, rich, cushman, estate, v...   \n",
       "\n",
       "                                  text_without_stopwords  \\\n",
       "32539  [gold, color, honeyed, botrytis, aromas, trans...   \n",
       "91312  [strong, pencil, shaving, aromas, open, 80, wh...   \n",
       "50735  [blend, 50, nero, di, troia, 50, cabernet, sau...   \n",
       "82091  [fragrant, lemon, lime, exotic, bath, soap, ar...   \n",
       "26122  [winemaker, rich, cushman, estate, vineyard, 2...   \n",
       "\n",
       "                                         lemmatized_text  \n",
       "32539  [gold, color, honeyed, botrytis, aroma, transl...  \n",
       "91312  [strong, pencil, shaving, aroma, open, 80, who...  \n",
       "50735  [blend, 50, nero, di, troia, 50, cabernet, sau...  \n",
       "82091  [fragrant, lemon, lime, exotic, bath, soap, ar...  \n",
       "26122  [winemaker, rich, cushman, estate, vineyard, 2...  "
      ]
     },
     "execution_count": 120,
     "metadata": {},
     "output_type": "execute_result"
    }
   ],
   "source": [
    "# Create a new column for lemmatized text\n",
    "nlp_df['lemmatized_text'] = nlp_df['text_without_stopwords'].apply(lemmatize_text)\n",
    "nlp_df.head()"
   ]
  },
  {
   "cell_type": "code",
   "execution_count": 121,
   "metadata": {
    "ExecuteTime": {
     "end_time": "2022-11-10T17:35:19.846390Z",
     "start_time": "2022-11-10T17:35:19.778193Z"
    }
   },
   "outputs": [
    {
     "data": {
      "text/html": [
       "<div>\n",
       "<style scoped>\n",
       "    .dataframe tbody tr th:only-of-type {\n",
       "        vertical-align: middle;\n",
       "    }\n",
       "\n",
       "    .dataframe tbody tr th {\n",
       "        vertical-align: top;\n",
       "    }\n",
       "\n",
       "    .dataframe thead th {\n",
       "        text-align: right;\n",
       "    }\n",
       "</style>\n",
       "<table border=\"1\" class=\"dataframe\">\n",
       "  <thead>\n",
       "    <tr style=\"text-align: right;\">\n",
       "      <th></th>\n",
       "      <th>description</th>\n",
       "      <th>price</th>\n",
       "      <th>text_tokenized</th>\n",
       "      <th>text_without_stopwords</th>\n",
       "      <th>lemmatized_text</th>\n",
       "      <th>final_text</th>\n",
       "    </tr>\n",
       "  </thead>\n",
       "  <tbody>\n",
       "    <tr>\n",
       "      <th>32539</th>\n",
       "      <td>gold in color, the wine has honeyed botrytis a...</td>\n",
       "      <td>35.316889</td>\n",
       "      <td>[gold, in, color, the, wine, has, honeyed, bot...</td>\n",
       "      <td>[gold, color, honeyed, botrytis, aromas, trans...</td>\n",
       "      <td>[gold, color, honeyed, botrytis, aroma, transl...</td>\n",
       "      <td>gold color honeyed botrytis aroma translate su...</td>\n",
       "    </tr>\n",
       "    <tr>\n",
       "      <th>91312</th>\n",
       "      <td>strong pencil shaving aromas open this 80% who...</td>\n",
       "      <td>28.000000</td>\n",
       "      <td>[strong, pencil, shaving, aromas, open, this, ...</td>\n",
       "      <td>[strong, pencil, shaving, aromas, open, 80, wh...</td>\n",
       "      <td>[strong, pencil, shaving, aroma, open, 80, who...</td>\n",
       "      <td>strong pencil shaving aroma open 80 whole clus...</td>\n",
       "    </tr>\n",
       "    <tr>\n",
       "      <th>50735</th>\n",
       "      <td>a blend of 50% nero di troia and 50% cabernet ...</td>\n",
       "      <td>35.316889</td>\n",
       "      <td>[blend, of, 50, nero, di, troia, and, 50, cabe...</td>\n",
       "      <td>[blend, 50, nero, di, troia, 50, cabernet, sau...</td>\n",
       "      <td>[blend, 50, nero, di, troia, 50, cabernet, sau...</td>\n",
       "      <td>blend 50 nero di troia 50 cabernet sauvignon k...</td>\n",
       "    </tr>\n",
       "    <tr>\n",
       "      <th>82091</th>\n",
       "      <td>fragrant lemon-lime and exotic bath soap aroma...</td>\n",
       "      <td>20.000000</td>\n",
       "      <td>[fragrant, lemon, lime, and, exotic, bath, soa...</td>\n",
       "      <td>[fragrant, lemon, lime, exotic, bath, soap, ar...</td>\n",
       "      <td>[fragrant, lemon, lime, exotic, bath, soap, ar...</td>\n",
       "      <td>fragrant lemon lime exotic bath soap aroma lea...</td>\n",
       "    </tr>\n",
       "    <tr>\n",
       "      <th>26122</th>\n",
       "      <td>this is winemaker rich cushman's estate vineya...</td>\n",
       "      <td>14.000000</td>\n",
       "      <td>[this, is, winemaker, rich, cushman, estate, v...</td>\n",
       "      <td>[winemaker, rich, cushman, estate, vineyard, 2...</td>\n",
       "      <td>[winemaker, rich, cushman, estate, vineyard, 2...</td>\n",
       "      <td>winemaker rich cushman estate vineyard 25 year...</td>\n",
       "    </tr>\n",
       "  </tbody>\n",
       "</table>\n",
       "</div>"
      ],
      "text/plain": [
       "                                             description      price  \\\n",
       "32539  gold in color, the wine has honeyed botrytis a...  35.316889   \n",
       "91312  strong pencil shaving aromas open this 80% who...  28.000000   \n",
       "50735  a blend of 50% nero di troia and 50% cabernet ...  35.316889   \n",
       "82091  fragrant lemon-lime and exotic bath soap aroma...  20.000000   \n",
       "26122  this is winemaker rich cushman's estate vineya...  14.000000   \n",
       "\n",
       "                                          text_tokenized  \\\n",
       "32539  [gold, in, color, the, wine, has, honeyed, bot...   \n",
       "91312  [strong, pencil, shaving, aromas, open, this, ...   \n",
       "50735  [blend, of, 50, nero, di, troia, and, 50, cabe...   \n",
       "82091  [fragrant, lemon, lime, and, exotic, bath, soa...   \n",
       "26122  [this, is, winemaker, rich, cushman, estate, v...   \n",
       "\n",
       "                                  text_without_stopwords  \\\n",
       "32539  [gold, color, honeyed, botrytis, aromas, trans...   \n",
       "91312  [strong, pencil, shaving, aromas, open, 80, wh...   \n",
       "50735  [blend, 50, nero, di, troia, 50, cabernet, sau...   \n",
       "82091  [fragrant, lemon, lime, exotic, bath, soap, ar...   \n",
       "26122  [winemaker, rich, cushman, estate, vineyard, 2...   \n",
       "\n",
       "                                         lemmatized_text  \\\n",
       "32539  [gold, color, honeyed, botrytis, aroma, transl...   \n",
       "91312  [strong, pencil, shaving, aroma, open, 80, who...   \n",
       "50735  [blend, 50, nero, di, troia, 50, cabernet, sau...   \n",
       "82091  [fragrant, lemon, lime, exotic, bath, soap, ar...   \n",
       "26122  [winemaker, rich, cushman, estate, vineyard, 2...   \n",
       "\n",
       "                                              final_text  \n",
       "32539  gold color honeyed botrytis aroma translate su...  \n",
       "91312  strong pencil shaving aroma open 80 whole clus...  \n",
       "50735  blend 50 nero di troia 50 cabernet sauvignon k...  \n",
       "82091  fragrant lemon lime exotic bath soap aroma lea...  \n",
       "26122  winemaker rich cushman estate vineyard 25 year...  "
      ]
     },
     "execution_count": 121,
     "metadata": {},
     "output_type": "execute_result"
    }
   ],
   "source": [
    "# Create a new column for the final text string\n",
    "nlp_df['final_text'] = nlp_df['lemmatized_text'].apply(lambda x: ' '.join(x))\n",
    "nlp_df.head()"
   ]
  },
  {
   "cell_type": "markdown",
   "metadata": {},
   "source": [
    "### Build a Final Model"
   ]
  },
  {
   "cell_type": "markdown",
   "metadata": {},
   "source": [
    "Now that our text has been cleaned, I can build the final Multinomial Naive Bayes Model."
   ]
  },
  {
   "cell_type": "code",
   "execution_count": 122,
   "metadata": {
    "ExecuteTime": {
     "end_time": "2022-11-10T17:35:21.262842Z",
     "start_time": "2022-11-10T17:35:19.847335Z"
    }
   },
   "outputs": [
    {
     "data": {
      "text/html": [
       "<div>\n",
       "<style scoped>\n",
       "    .dataframe tbody tr th:only-of-type {\n",
       "        vertical-align: middle;\n",
       "    }\n",
       "\n",
       "    .dataframe tbody tr th {\n",
       "        vertical-align: top;\n",
       "    }\n",
       "\n",
       "    .dataframe thead th {\n",
       "        text-align: right;\n",
       "    }\n",
       "</style>\n",
       "<table border=\"1\" class=\"dataframe\">\n",
       "  <thead>\n",
       "    <tr style=\"text-align: right;\">\n",
       "      <th></th>\n",
       "      <th>100</th>\n",
       "      <th>2017</th>\n",
       "      <th>2018</th>\n",
       "      <th>2020</th>\n",
       "      <th>accent</th>\n",
       "      <th>acid</th>\n",
       "      <th>acidity</th>\n",
       "      <th>add</th>\n",
       "      <th>aftertaste</th>\n",
       "      <th>age</th>\n",
       "      <th>...</th>\n",
       "      <th>wild</th>\n",
       "      <th>wine</th>\n",
       "      <th>winery</th>\n",
       "      <th>wood</th>\n",
       "      <th>year</th>\n",
       "      <th>yellow</th>\n",
       "      <th>yet</th>\n",
       "      <th>young</th>\n",
       "      <th>zest</th>\n",
       "      <th>zesty</th>\n",
       "    </tr>\n",
       "  </thead>\n",
       "  <tbody>\n",
       "    <tr>\n",
       "      <th>32539</th>\n",
       "      <td>0.0</td>\n",
       "      <td>0.0</td>\n",
       "      <td>0.000000</td>\n",
       "      <td>0.0</td>\n",
       "      <td>0.0</td>\n",
       "      <td>0.000000</td>\n",
       "      <td>0.212957</td>\n",
       "      <td>0.0</td>\n",
       "      <td>0.000000</td>\n",
       "      <td>0.000000</td>\n",
       "      <td>...</td>\n",
       "      <td>0.0</td>\n",
       "      <td>0.0</td>\n",
       "      <td>0.000000</td>\n",
       "      <td>0.0</td>\n",
       "      <td>0.000000</td>\n",
       "      <td>0.0</td>\n",
       "      <td>0.000000</td>\n",
       "      <td>0.0</td>\n",
       "      <td>0.000000</td>\n",
       "      <td>0.0</td>\n",
       "    </tr>\n",
       "    <tr>\n",
       "      <th>91312</th>\n",
       "      <td>0.0</td>\n",
       "      <td>0.0</td>\n",
       "      <td>0.000000</td>\n",
       "      <td>0.0</td>\n",
       "      <td>0.0</td>\n",
       "      <td>0.000000</td>\n",
       "      <td>0.000000</td>\n",
       "      <td>0.0</td>\n",
       "      <td>0.000000</td>\n",
       "      <td>0.000000</td>\n",
       "      <td>...</td>\n",
       "      <td>0.0</td>\n",
       "      <td>0.0</td>\n",
       "      <td>0.000000</td>\n",
       "      <td>0.0</td>\n",
       "      <td>0.000000</td>\n",
       "      <td>0.0</td>\n",
       "      <td>0.000000</td>\n",
       "      <td>0.0</td>\n",
       "      <td>0.000000</td>\n",
       "      <td>0.0</td>\n",
       "    </tr>\n",
       "    <tr>\n",
       "      <th>50735</th>\n",
       "      <td>0.0</td>\n",
       "      <td>0.0</td>\n",
       "      <td>0.000000</td>\n",
       "      <td>0.0</td>\n",
       "      <td>0.0</td>\n",
       "      <td>0.000000</td>\n",
       "      <td>0.000000</td>\n",
       "      <td>0.0</td>\n",
       "      <td>0.000000</td>\n",
       "      <td>0.000000</td>\n",
       "      <td>...</td>\n",
       "      <td>0.0</td>\n",
       "      <td>0.0</td>\n",
       "      <td>0.000000</td>\n",
       "      <td>0.0</td>\n",
       "      <td>0.000000</td>\n",
       "      <td>0.0</td>\n",
       "      <td>0.000000</td>\n",
       "      <td>0.0</td>\n",
       "      <td>0.000000</td>\n",
       "      <td>0.0</td>\n",
       "    </tr>\n",
       "    <tr>\n",
       "      <th>82091</th>\n",
       "      <td>0.0</td>\n",
       "      <td>0.0</td>\n",
       "      <td>0.000000</td>\n",
       "      <td>0.0</td>\n",
       "      <td>0.0</td>\n",
       "      <td>0.000000</td>\n",
       "      <td>0.175037</td>\n",
       "      <td>0.0</td>\n",
       "      <td>0.000000</td>\n",
       "      <td>0.000000</td>\n",
       "      <td>...</td>\n",
       "      <td>0.0</td>\n",
       "      <td>0.0</td>\n",
       "      <td>0.000000</td>\n",
       "      <td>0.0</td>\n",
       "      <td>0.000000</td>\n",
       "      <td>0.0</td>\n",
       "      <td>0.000000</td>\n",
       "      <td>0.0</td>\n",
       "      <td>0.000000</td>\n",
       "      <td>0.0</td>\n",
       "    </tr>\n",
       "    <tr>\n",
       "      <th>26122</th>\n",
       "      <td>0.0</td>\n",
       "      <td>0.0</td>\n",
       "      <td>0.000000</td>\n",
       "      <td>0.0</td>\n",
       "      <td>0.0</td>\n",
       "      <td>0.270998</td>\n",
       "      <td>0.000000</td>\n",
       "      <td>0.0</td>\n",
       "      <td>0.000000</td>\n",
       "      <td>0.237042</td>\n",
       "      <td>...</td>\n",
       "      <td>0.0</td>\n",
       "      <td>0.0</td>\n",
       "      <td>0.000000</td>\n",
       "      <td>0.0</td>\n",
       "      <td>0.207924</td>\n",
       "      <td>0.0</td>\n",
       "      <td>0.000000</td>\n",
       "      <td>0.0</td>\n",
       "      <td>0.000000</td>\n",
       "      <td>0.0</td>\n",
       "    </tr>\n",
       "    <tr>\n",
       "      <th>...</th>\n",
       "      <td>...</td>\n",
       "      <td>...</td>\n",
       "      <td>...</td>\n",
       "      <td>...</td>\n",
       "      <td>...</td>\n",
       "      <td>...</td>\n",
       "      <td>...</td>\n",
       "      <td>...</td>\n",
       "      <td>...</td>\n",
       "      <td>...</td>\n",
       "      <td>...</td>\n",
       "      <td>...</td>\n",
       "      <td>...</td>\n",
       "      <td>...</td>\n",
       "      <td>...</td>\n",
       "      <td>...</td>\n",
       "      <td>...</td>\n",
       "      <td>...</td>\n",
       "      <td>...</td>\n",
       "      <td>...</td>\n",
       "      <td>...</td>\n",
       "    </tr>\n",
       "    <tr>\n",
       "      <th>128106</th>\n",
       "      <td>0.0</td>\n",
       "      <td>0.0</td>\n",
       "      <td>0.000000</td>\n",
       "      <td>0.0</td>\n",
       "      <td>0.0</td>\n",
       "      <td>0.000000</td>\n",
       "      <td>0.000000</td>\n",
       "      <td>0.0</td>\n",
       "      <td>0.000000</td>\n",
       "      <td>0.000000</td>\n",
       "      <td>...</td>\n",
       "      <td>0.0</td>\n",
       "      <td>0.0</td>\n",
       "      <td>0.000000</td>\n",
       "      <td>0.0</td>\n",
       "      <td>0.000000</td>\n",
       "      <td>0.0</td>\n",
       "      <td>0.000000</td>\n",
       "      <td>0.0</td>\n",
       "      <td>0.000000</td>\n",
       "      <td>0.0</td>\n",
       "    </tr>\n",
       "    <tr>\n",
       "      <th>103694</th>\n",
       "      <td>0.0</td>\n",
       "      <td>0.0</td>\n",
       "      <td>0.000000</td>\n",
       "      <td>0.0</td>\n",
       "      <td>0.0</td>\n",
       "      <td>0.000000</td>\n",
       "      <td>0.000000</td>\n",
       "      <td>0.0</td>\n",
       "      <td>0.000000</td>\n",
       "      <td>0.000000</td>\n",
       "      <td>...</td>\n",
       "      <td>0.0</td>\n",
       "      <td>0.0</td>\n",
       "      <td>0.000000</td>\n",
       "      <td>0.0</td>\n",
       "      <td>0.000000</td>\n",
       "      <td>0.0</td>\n",
       "      <td>0.000000</td>\n",
       "      <td>0.0</td>\n",
       "      <td>0.257542</td>\n",
       "      <td>0.0</td>\n",
       "    </tr>\n",
       "    <tr>\n",
       "      <th>860</th>\n",
       "      <td>0.0</td>\n",
       "      <td>0.0</td>\n",
       "      <td>0.000000</td>\n",
       "      <td>0.0</td>\n",
       "      <td>0.0</td>\n",
       "      <td>0.000000</td>\n",
       "      <td>0.000000</td>\n",
       "      <td>0.0</td>\n",
       "      <td>0.000000</td>\n",
       "      <td>0.000000</td>\n",
       "      <td>...</td>\n",
       "      <td>0.0</td>\n",
       "      <td>0.0</td>\n",
       "      <td>0.304009</td>\n",
       "      <td>0.0</td>\n",
       "      <td>0.000000</td>\n",
       "      <td>0.0</td>\n",
       "      <td>0.261075</td>\n",
       "      <td>0.0</td>\n",
       "      <td>0.000000</td>\n",
       "      <td>0.0</td>\n",
       "    </tr>\n",
       "    <tr>\n",
       "      <th>15795</th>\n",
       "      <td>0.0</td>\n",
       "      <td>0.0</td>\n",
       "      <td>0.278575</td>\n",
       "      <td>0.0</td>\n",
       "      <td>0.0</td>\n",
       "      <td>0.000000</td>\n",
       "      <td>0.000000</td>\n",
       "      <td>0.0</td>\n",
       "      <td>0.000000</td>\n",
       "      <td>0.000000</td>\n",
       "      <td>...</td>\n",
       "      <td>0.0</td>\n",
       "      <td>0.0</td>\n",
       "      <td>0.000000</td>\n",
       "      <td>0.0</td>\n",
       "      <td>0.000000</td>\n",
       "      <td>0.0</td>\n",
       "      <td>0.000000</td>\n",
       "      <td>0.0</td>\n",
       "      <td>0.000000</td>\n",
       "      <td>0.0</td>\n",
       "    </tr>\n",
       "    <tr>\n",
       "      <th>121958</th>\n",
       "      <td>0.0</td>\n",
       "      <td>0.0</td>\n",
       "      <td>0.000000</td>\n",
       "      <td>0.0</td>\n",
       "      <td>0.0</td>\n",
       "      <td>0.000000</td>\n",
       "      <td>0.159482</td>\n",
       "      <td>0.0</td>\n",
       "      <td>0.329435</td>\n",
       "      <td>0.000000</td>\n",
       "      <td>...</td>\n",
       "      <td>0.0</td>\n",
       "      <td>0.0</td>\n",
       "      <td>0.000000</td>\n",
       "      <td>0.0</td>\n",
       "      <td>0.000000</td>\n",
       "      <td>0.0</td>\n",
       "      <td>0.000000</td>\n",
       "      <td>0.0</td>\n",
       "      <td>0.000000</td>\n",
       "      <td>0.0</td>\n",
       "    </tr>\n",
       "  </tbody>\n",
       "</table>\n",
       "<p>90934 rows × 300 columns</p>\n",
       "</div>"
      ],
      "text/plain": [
       "        100  2017      2018  2020  accent      acid   acidity  add  \\\n",
       "32539   0.0   0.0  0.000000   0.0     0.0  0.000000  0.212957  0.0   \n",
       "91312   0.0   0.0  0.000000   0.0     0.0  0.000000  0.000000  0.0   \n",
       "50735   0.0   0.0  0.000000   0.0     0.0  0.000000  0.000000  0.0   \n",
       "82091   0.0   0.0  0.000000   0.0     0.0  0.000000  0.175037  0.0   \n",
       "26122   0.0   0.0  0.000000   0.0     0.0  0.270998  0.000000  0.0   \n",
       "...     ...   ...       ...   ...     ...       ...       ...  ...   \n",
       "128106  0.0   0.0  0.000000   0.0     0.0  0.000000  0.000000  0.0   \n",
       "103694  0.0   0.0  0.000000   0.0     0.0  0.000000  0.000000  0.0   \n",
       "860     0.0   0.0  0.000000   0.0     0.0  0.000000  0.000000  0.0   \n",
       "15795   0.0   0.0  0.278575   0.0     0.0  0.000000  0.000000  0.0   \n",
       "121958  0.0   0.0  0.000000   0.0     0.0  0.000000  0.159482  0.0   \n",
       "\n",
       "        aftertaste       age  ...  wild  wine    winery  wood      year  \\\n",
       "32539     0.000000  0.000000  ...   0.0   0.0  0.000000   0.0  0.000000   \n",
       "91312     0.000000  0.000000  ...   0.0   0.0  0.000000   0.0  0.000000   \n",
       "50735     0.000000  0.000000  ...   0.0   0.0  0.000000   0.0  0.000000   \n",
       "82091     0.000000  0.000000  ...   0.0   0.0  0.000000   0.0  0.000000   \n",
       "26122     0.000000  0.237042  ...   0.0   0.0  0.000000   0.0  0.207924   \n",
       "...            ...       ...  ...   ...   ...       ...   ...       ...   \n",
       "128106    0.000000  0.000000  ...   0.0   0.0  0.000000   0.0  0.000000   \n",
       "103694    0.000000  0.000000  ...   0.0   0.0  0.000000   0.0  0.000000   \n",
       "860       0.000000  0.000000  ...   0.0   0.0  0.304009   0.0  0.000000   \n",
       "15795     0.000000  0.000000  ...   0.0   0.0  0.000000   0.0  0.000000   \n",
       "121958    0.329435  0.000000  ...   0.0   0.0  0.000000   0.0  0.000000   \n",
       "\n",
       "        yellow       yet  young      zest  zesty  \n",
       "32539      0.0  0.000000    0.0  0.000000    0.0  \n",
       "91312      0.0  0.000000    0.0  0.000000    0.0  \n",
       "50735      0.0  0.000000    0.0  0.000000    0.0  \n",
       "82091      0.0  0.000000    0.0  0.000000    0.0  \n",
       "26122      0.0  0.000000    0.0  0.000000    0.0  \n",
       "...        ...       ...    ...       ...    ...  \n",
       "128106     0.0  0.000000    0.0  0.000000    0.0  \n",
       "103694     0.0  0.000000    0.0  0.257542    0.0  \n",
       "860        0.0  0.261075    0.0  0.000000    0.0  \n",
       "15795      0.0  0.000000    0.0  0.000000    0.0  \n",
       "121958     0.0  0.000000    0.0  0.000000    0.0  \n",
       "\n",
       "[90934 rows x 300 columns]"
      ]
     },
     "execution_count": 122,
     "metadata": {},
     "output_type": "execute_result"
    }
   ],
   "source": [
    "# Vectorize X_train text\n",
    "tfidf_2 = TfidfVectorizer(max_features=300)\n",
    "nlp_text_vectorized = tfidf_2.fit_transform(nlp_df['final_text'])\n",
    "pd.DataFrame.sparse.from_spmatrix(nlp_text_vectorized, \n",
    "                                  columns=tfidf_2.get_feature_names(),\n",
    "                                  index=nlp_df.index)"
   ]
  },
  {
   "cell_type": "code",
   "execution_count": 123,
   "metadata": {
    "ExecuteTime": {
     "end_time": "2022-11-10T17:35:22.695049Z",
     "start_time": "2022-11-10T17:35:21.263775Z"
    }
   },
   "outputs": [
    {
     "data": {
      "text/html": [
       "<div>\n",
       "<style scoped>\n",
       "    .dataframe tbody tr th:only-of-type {\n",
       "        vertical-align: middle;\n",
       "    }\n",
       "\n",
       "    .dataframe tbody tr th {\n",
       "        vertical-align: top;\n",
       "    }\n",
       "\n",
       "    .dataframe thead th {\n",
       "        text-align: right;\n",
       "    }\n",
       "</style>\n",
       "<table border=\"1\" class=\"dataframe\">\n",
       "  <thead>\n",
       "    <tr style=\"text-align: right;\">\n",
       "      <th></th>\n",
       "      <th>100</th>\n",
       "      <th>2017</th>\n",
       "      <th>2018</th>\n",
       "      <th>2020</th>\n",
       "      <th>accent</th>\n",
       "      <th>acid</th>\n",
       "      <th>acidity</th>\n",
       "      <th>add</th>\n",
       "      <th>aftertaste</th>\n",
       "      <th>age</th>\n",
       "      <th>...</th>\n",
       "      <th>x3_Ãcluse</th>\n",
       "      <th>x3_ÃlevÃ©e Winegrowers</th>\n",
       "      <th>x3_Ãric &amp; JÃ¶el Durand</th>\n",
       "      <th>x3_Ãl Macchione</th>\n",
       "      <th>x3_Ãrale</th>\n",
       "      <th>x3_Ãko</th>\n",
       "      <th>x3_Ãkonomierat Rebholz</th>\n",
       "      <th>x3_Ã Maurice</th>\n",
       "      <th>x3_Å toka</th>\n",
       "      <th>price</th>\n",
       "    </tr>\n",
       "  </thead>\n",
       "  <tbody>\n",
       "    <tr>\n",
       "      <th>32539</th>\n",
       "      <td>0.0</td>\n",
       "      <td>0.0</td>\n",
       "      <td>0.000000</td>\n",
       "      <td>0.0</td>\n",
       "      <td>0.0</td>\n",
       "      <td>0.000000</td>\n",
       "      <td>0.212957</td>\n",
       "      <td>0.0</td>\n",
       "      <td>0.000000</td>\n",
       "      <td>0.000000</td>\n",
       "      <td>...</td>\n",
       "      <td>0.0</td>\n",
       "      <td>0.0</td>\n",
       "      <td>0.0</td>\n",
       "      <td>0.0</td>\n",
       "      <td>0.0</td>\n",
       "      <td>0.0</td>\n",
       "      <td>0.0</td>\n",
       "      <td>0.0</td>\n",
       "      <td>0.0</td>\n",
       "      <td>35.316889</td>\n",
       "    </tr>\n",
       "    <tr>\n",
       "      <th>91312</th>\n",
       "      <td>0.0</td>\n",
       "      <td>0.0</td>\n",
       "      <td>0.000000</td>\n",
       "      <td>0.0</td>\n",
       "      <td>0.0</td>\n",
       "      <td>0.000000</td>\n",
       "      <td>0.000000</td>\n",
       "      <td>0.0</td>\n",
       "      <td>0.000000</td>\n",
       "      <td>0.000000</td>\n",
       "      <td>...</td>\n",
       "      <td>0.0</td>\n",
       "      <td>0.0</td>\n",
       "      <td>0.0</td>\n",
       "      <td>0.0</td>\n",
       "      <td>0.0</td>\n",
       "      <td>0.0</td>\n",
       "      <td>0.0</td>\n",
       "      <td>0.0</td>\n",
       "      <td>0.0</td>\n",
       "      <td>28.000000</td>\n",
       "    </tr>\n",
       "    <tr>\n",
       "      <th>50735</th>\n",
       "      <td>0.0</td>\n",
       "      <td>0.0</td>\n",
       "      <td>0.000000</td>\n",
       "      <td>0.0</td>\n",
       "      <td>0.0</td>\n",
       "      <td>0.000000</td>\n",
       "      <td>0.000000</td>\n",
       "      <td>0.0</td>\n",
       "      <td>0.000000</td>\n",
       "      <td>0.000000</td>\n",
       "      <td>...</td>\n",
       "      <td>0.0</td>\n",
       "      <td>0.0</td>\n",
       "      <td>0.0</td>\n",
       "      <td>0.0</td>\n",
       "      <td>0.0</td>\n",
       "      <td>0.0</td>\n",
       "      <td>0.0</td>\n",
       "      <td>0.0</td>\n",
       "      <td>0.0</td>\n",
       "      <td>35.316889</td>\n",
       "    </tr>\n",
       "    <tr>\n",
       "      <th>82091</th>\n",
       "      <td>0.0</td>\n",
       "      <td>0.0</td>\n",
       "      <td>0.000000</td>\n",
       "      <td>0.0</td>\n",
       "      <td>0.0</td>\n",
       "      <td>0.000000</td>\n",
       "      <td>0.175037</td>\n",
       "      <td>0.0</td>\n",
       "      <td>0.000000</td>\n",
       "      <td>0.000000</td>\n",
       "      <td>...</td>\n",
       "      <td>0.0</td>\n",
       "      <td>0.0</td>\n",
       "      <td>0.0</td>\n",
       "      <td>0.0</td>\n",
       "      <td>0.0</td>\n",
       "      <td>0.0</td>\n",
       "      <td>0.0</td>\n",
       "      <td>0.0</td>\n",
       "      <td>0.0</td>\n",
       "      <td>20.000000</td>\n",
       "    </tr>\n",
       "    <tr>\n",
       "      <th>26122</th>\n",
       "      <td>0.0</td>\n",
       "      <td>0.0</td>\n",
       "      <td>0.000000</td>\n",
       "      <td>0.0</td>\n",
       "      <td>0.0</td>\n",
       "      <td>0.270998</td>\n",
       "      <td>0.000000</td>\n",
       "      <td>0.0</td>\n",
       "      <td>0.000000</td>\n",
       "      <td>0.237042</td>\n",
       "      <td>...</td>\n",
       "      <td>0.0</td>\n",
       "      <td>0.0</td>\n",
       "      <td>0.0</td>\n",
       "      <td>0.0</td>\n",
       "      <td>0.0</td>\n",
       "      <td>0.0</td>\n",
       "      <td>0.0</td>\n",
       "      <td>0.0</td>\n",
       "      <td>0.0</td>\n",
       "      <td>14.000000</td>\n",
       "    </tr>\n",
       "    <tr>\n",
       "      <th>...</th>\n",
       "      <td>...</td>\n",
       "      <td>...</td>\n",
       "      <td>...</td>\n",
       "      <td>...</td>\n",
       "      <td>...</td>\n",
       "      <td>...</td>\n",
       "      <td>...</td>\n",
       "      <td>...</td>\n",
       "      <td>...</td>\n",
       "      <td>...</td>\n",
       "      <td>...</td>\n",
       "      <td>...</td>\n",
       "      <td>...</td>\n",
       "      <td>...</td>\n",
       "      <td>...</td>\n",
       "      <td>...</td>\n",
       "      <td>...</td>\n",
       "      <td>...</td>\n",
       "      <td>...</td>\n",
       "      <td>...</td>\n",
       "      <td>...</td>\n",
       "    </tr>\n",
       "    <tr>\n",
       "      <th>128106</th>\n",
       "      <td>0.0</td>\n",
       "      <td>0.0</td>\n",
       "      <td>0.000000</td>\n",
       "      <td>0.0</td>\n",
       "      <td>0.0</td>\n",
       "      <td>0.000000</td>\n",
       "      <td>0.000000</td>\n",
       "      <td>0.0</td>\n",
       "      <td>0.000000</td>\n",
       "      <td>0.000000</td>\n",
       "      <td>...</td>\n",
       "      <td>0.0</td>\n",
       "      <td>0.0</td>\n",
       "      <td>0.0</td>\n",
       "      <td>0.0</td>\n",
       "      <td>0.0</td>\n",
       "      <td>0.0</td>\n",
       "      <td>0.0</td>\n",
       "      <td>0.0</td>\n",
       "      <td>0.0</td>\n",
       "      <td>13.000000</td>\n",
       "    </tr>\n",
       "    <tr>\n",
       "      <th>103694</th>\n",
       "      <td>0.0</td>\n",
       "      <td>0.0</td>\n",
       "      <td>0.000000</td>\n",
       "      <td>0.0</td>\n",
       "      <td>0.0</td>\n",
       "      <td>0.000000</td>\n",
       "      <td>0.000000</td>\n",
       "      <td>0.0</td>\n",
       "      <td>0.000000</td>\n",
       "      <td>0.000000</td>\n",
       "      <td>...</td>\n",
       "      <td>0.0</td>\n",
       "      <td>0.0</td>\n",
       "      <td>0.0</td>\n",
       "      <td>0.0</td>\n",
       "      <td>0.0</td>\n",
       "      <td>0.0</td>\n",
       "      <td>0.0</td>\n",
       "      <td>0.0</td>\n",
       "      <td>0.0</td>\n",
       "      <td>60.000000</td>\n",
       "    </tr>\n",
       "    <tr>\n",
       "      <th>860</th>\n",
       "      <td>0.0</td>\n",
       "      <td>0.0</td>\n",
       "      <td>0.000000</td>\n",
       "      <td>0.0</td>\n",
       "      <td>0.0</td>\n",
       "      <td>0.000000</td>\n",
       "      <td>0.000000</td>\n",
       "      <td>0.0</td>\n",
       "      <td>0.000000</td>\n",
       "      <td>0.000000</td>\n",
       "      <td>...</td>\n",
       "      <td>0.0</td>\n",
       "      <td>0.0</td>\n",
       "      <td>0.0</td>\n",
       "      <td>0.0</td>\n",
       "      <td>0.0</td>\n",
       "      <td>0.0</td>\n",
       "      <td>0.0</td>\n",
       "      <td>0.0</td>\n",
       "      <td>0.0</td>\n",
       "      <td>45.000000</td>\n",
       "    </tr>\n",
       "    <tr>\n",
       "      <th>15795</th>\n",
       "      <td>0.0</td>\n",
       "      <td>0.0</td>\n",
       "      <td>0.278575</td>\n",
       "      <td>0.0</td>\n",
       "      <td>0.0</td>\n",
       "      <td>0.000000</td>\n",
       "      <td>0.000000</td>\n",
       "      <td>0.0</td>\n",
       "      <td>0.000000</td>\n",
       "      <td>0.000000</td>\n",
       "      <td>...</td>\n",
       "      <td>0.0</td>\n",
       "      <td>0.0</td>\n",
       "      <td>0.0</td>\n",
       "      <td>0.0</td>\n",
       "      <td>0.0</td>\n",
       "      <td>0.0</td>\n",
       "      <td>0.0</td>\n",
       "      <td>0.0</td>\n",
       "      <td>0.0</td>\n",
       "      <td>50.000000</td>\n",
       "    </tr>\n",
       "    <tr>\n",
       "      <th>121958</th>\n",
       "      <td>0.0</td>\n",
       "      <td>0.0</td>\n",
       "      <td>0.000000</td>\n",
       "      <td>0.0</td>\n",
       "      <td>0.0</td>\n",
       "      <td>0.000000</td>\n",
       "      <td>0.159482</td>\n",
       "      <td>0.0</td>\n",
       "      <td>0.329435</td>\n",
       "      <td>0.000000</td>\n",
       "      <td>...</td>\n",
       "      <td>0.0</td>\n",
       "      <td>0.0</td>\n",
       "      <td>0.0</td>\n",
       "      <td>0.0</td>\n",
       "      <td>0.0</td>\n",
       "      <td>0.0</td>\n",
       "      <td>0.0</td>\n",
       "      <td>0.0</td>\n",
       "      <td>0.0</td>\n",
       "      <td>30.000000</td>\n",
       "    </tr>\n",
       "  </tbody>\n",
       "</table>\n",
       "<p>90934 rows × 16579 columns</p>\n",
       "</div>"
      ],
      "text/plain": [
       "        100  2017      2018  2020  accent      acid   acidity  add  \\\n",
       "32539   0.0   0.0  0.000000   0.0     0.0  0.000000  0.212957  0.0   \n",
       "91312   0.0   0.0  0.000000   0.0     0.0  0.000000  0.000000  0.0   \n",
       "50735   0.0   0.0  0.000000   0.0     0.0  0.000000  0.000000  0.0   \n",
       "82091   0.0   0.0  0.000000   0.0     0.0  0.000000  0.175037  0.0   \n",
       "26122   0.0   0.0  0.000000   0.0     0.0  0.270998  0.000000  0.0   \n",
       "...     ...   ...       ...   ...     ...       ...       ...  ...   \n",
       "128106  0.0   0.0  0.000000   0.0     0.0  0.000000  0.000000  0.0   \n",
       "103694  0.0   0.0  0.000000   0.0     0.0  0.000000  0.000000  0.0   \n",
       "860     0.0   0.0  0.000000   0.0     0.0  0.000000  0.000000  0.0   \n",
       "15795   0.0   0.0  0.278575   0.0     0.0  0.000000  0.000000  0.0   \n",
       "121958  0.0   0.0  0.000000   0.0     0.0  0.000000  0.159482  0.0   \n",
       "\n",
       "        aftertaste       age  ...  x3_Ãcluse  x3_ÃlevÃ©e Winegrowers  \\\n",
       "32539     0.000000  0.000000  ...         0.0                      0.0   \n",
       "91312     0.000000  0.000000  ...         0.0                      0.0   \n",
       "50735     0.000000  0.000000  ...         0.0                      0.0   \n",
       "82091     0.000000  0.000000  ...         0.0                      0.0   \n",
       "26122     0.000000  0.237042  ...         0.0                      0.0   \n",
       "...            ...       ...  ...         ...                      ...   \n",
       "128106    0.000000  0.000000  ...         0.0                      0.0   \n",
       "103694    0.000000  0.000000  ...         0.0                      0.0   \n",
       "860       0.000000  0.000000  ...         0.0                      0.0   \n",
       "15795     0.000000  0.000000  ...         0.0                      0.0   \n",
       "121958    0.329435  0.000000  ...         0.0                      0.0   \n",
       "\n",
       "        x3_Ãric & JÃ¶el Durand  x3_Ãl Macchione  x3_Ãrale  x3_Ãko  \\\n",
       "32539                       0.0               0.0        0.0      0.0   \n",
       "91312                       0.0               0.0        0.0      0.0   \n",
       "50735                       0.0               0.0        0.0      0.0   \n",
       "82091                       0.0               0.0        0.0      0.0   \n",
       "26122                       0.0               0.0        0.0      0.0   \n",
       "...                         ...               ...        ...      ...   \n",
       "128106                      0.0               0.0        0.0      0.0   \n",
       "103694                      0.0               0.0        0.0      0.0   \n",
       "860                         0.0               0.0        0.0      0.0   \n",
       "15795                       0.0               0.0        0.0      0.0   \n",
       "121958                      0.0               0.0        0.0      0.0   \n",
       "\n",
       "        x3_Ãkonomierat Rebholz  x3_Ã Maurice  x3_Å toka      price  \n",
       "32539                       0.0           0.0        0.0  35.316889  \n",
       "91312                       0.0           0.0        0.0  28.000000  \n",
       "50735                       0.0           0.0        0.0  35.316889  \n",
       "82091                       0.0           0.0        0.0  20.000000  \n",
       "26122                       0.0           0.0        0.0  14.000000  \n",
       "...                         ...           ...        ...        ...  \n",
       "128106                      0.0           0.0        0.0  13.000000  \n",
       "103694                      0.0           0.0        0.0  60.000000  \n",
       "860                         0.0           0.0        0.0  45.000000  \n",
       "15795                       0.0           0.0        0.0  50.000000  \n",
       "121958                      0.0           0.0        0.0  30.000000  \n",
       "\n",
       "[90934 rows x 16579 columns]"
      ]
     },
     "execution_count": 123,
     "metadata": {},
     "output_type": "execute_result"
    }
   ],
   "source": [
    "# Create dataframe with all information\n",
    "X_train_vectorized_df = pd.DataFrame(nlp_text_vectorized.toarray(), \n",
    "                                     columns=tfidf_2.get_feature_names(), \n",
    "                                     index=nlp_df.index)\n",
    "preprocessed_X_train_2 = pd.concat([X_train_vectorized_df, \n",
    "                                  X_train_without_text], \n",
    "                                 axis=1)\n",
    "preprocessed_X_train_2"
   ]
  },
  {
   "cell_type": "code",
   "execution_count": 124,
   "metadata": {
    "ExecuteTime": {
     "end_time": "2022-11-10T17:35:56.907155Z",
     "start_time": "2022-11-10T17:35:22.696164Z"
    }
   },
   "outputs": [
    {
     "name": "stdout",
     "output_type": "stream",
     "text": [
      "Final baseline training score: 0.6997272747267249\n"
     ]
    }
   ],
   "source": [
    "# Fit final model\n",
    "final_model = MultinomialNB()\n",
    "\n",
    "final_model.fit(preprocessed_X_train_2, y_train)\n",
    "print('Final baseline training score:', final_model.score(preprocessed_X_train_2, \n",
    "                                                          y_train))"
   ]
  },
  {
   "cell_type": "code",
   "execution_count": 125,
   "metadata": {
    "ExecuteTime": {
     "end_time": "2022-11-10T17:35:57.944948Z",
     "start_time": "2022-11-10T17:35:56.908789Z"
    }
   },
   "outputs": [],
   "source": [
    "# Vectorized X_test\n",
    "X_test_vectorized = tfidf_2.transform(X_test[\"description\"])\n",
    "X_test_text_df = pd.DataFrame.sparse.from_spmatrix(X_test_vectorized, \n",
    "                                              columns=tfidf_2.get_feature_names(),\n",
    "                                              index=X_test.index)\n",
    "X_test_preprocessed_2 = pd.concat([X_test_text_df, X_test_without_text], axis=1)"
   ]
  },
  {
   "cell_type": "code",
   "execution_count": 126,
   "metadata": {
    "ExecuteTime": {
     "end_time": "2022-11-10T17:36:04.043712Z",
     "start_time": "2022-11-10T17:35:57.945989Z"
    }
   },
   "outputs": [
    {
     "name": "stdout",
     "output_type": "stream",
     "text": [
      "Final model test score: 0.6604572396274344\n"
     ]
    }
   ],
   "source": [
    "# Evaluate test score\n",
    "print('Final model test score:', final_model.score(X_test_preprocessed_2, y_test))"
   ]
  },
  {
   "cell_type": "code",
   "execution_count": 127,
   "metadata": {
    "ExecuteTime": {
     "end_time": "2022-11-10T17:36:09.994148Z",
     "start_time": "2022-11-10T17:36:04.045274Z"
    }
   },
   "outputs": [
    {
     "name": "stdout",
     "output_type": "stream",
     "text": [
      "              precision    recall  f1-score   support\n",
      "\n",
      "           0       0.49      0.32      0.39      3830\n",
      "           1       0.70      0.70      0.70     20421\n",
      "           2       0.63      0.73      0.68     13954\n",
      "           3       0.66      0.13      0.22       768\n",
      "\n",
      "    accuracy                           0.66     38973\n",
      "   macro avg       0.62      0.47      0.50     38973\n",
      "weighted avg       0.66      0.66      0.65     38973\n",
      "\n"
     ]
    }
   ],
   "source": [
    "# Print a classification report\n",
    "y_pred = final_model.predict(X_test_preprocessed_2)\n",
    "print(classification_report(y_test, y_pred))"
   ]
  },
  {
   "cell_type": "code",
   "execution_count": 128,
   "metadata": {
    "ExecuteTime": {
     "end_time": "2022-11-10T17:36:16.134579Z",
     "start_time": "2022-11-10T17:36:09.995886Z"
    }
   },
   "outputs": [
    {
     "data": {
      "image/png": "[encoded data removed]",
      "text/plain": [
       "<Figure size 432x288 with 2 Axes>"
      ]
     },
     "metadata": {
      "needs_background": "light"
     },
     "output_type": "display_data"
    }
   ],
   "source": [
    "# Create confusion matrix\n",
    "from sklearn.metrics import plot_confusion_matrix\n",
    "plot_confusion_matrix(final_model, \n",
    "                      X_test_preprocessed_2, \n",
    "                      y_test,\n",
    "                      normalize='all');\n",
    "#plt.savefig('ConfusionMatrix_2.jpg')"
   ]
  },
  {
   "cell_type": "markdown",
   "metadata": {},
   "source": [
    "## Model Conclusions"
   ]
  },
  {
   "cell_type": "markdown",
   "metadata": {},
   "source": [
    "Even though this model has some difficulty identifying the outlier targets (0 and 3) it does a good job predicting whether a wine will be in the upper (2 and 3) or lower (0 and 1) half.  This model can be used reliably to predict if a wine will make it into the 'Very Good' tier, which would be very helpful for a wine maker."
   ]
  },
  {
   "cell_type": "markdown",
   "metadata": {},
   "source": [
    "# Wine Description Keywords"
   ]
  },
  {
   "cell_type": "markdown",
   "metadata": {},
   "source": [
    "Since I have a model that can tell us how well the current wines would be perceived, I would next like to explore keywords for highly scoring wines.  This will help the wine maker know what flavor profiles to aim for in future wines."
   ]
  },
  {
   "cell_type": "code",
   "execution_count": 129,
   "metadata": {
    "ExecuteTime": {
     "end_time": "2022-11-10T17:36:16.147348Z",
     "start_time": "2022-11-10T17:36:16.135948Z"
    }
   },
   "outputs": [
    {
     "data": {
      "text/html": [
       "<div>\n",
       "<style scoped>\n",
       "    .dataframe tbody tr th:only-of-type {\n",
       "        vertical-align: middle;\n",
       "    }\n",
       "\n",
       "    .dataframe tbody tr th {\n",
       "        vertical-align: top;\n",
       "    }\n",
       "\n",
       "    .dataframe thead th {\n",
       "        text-align: right;\n",
       "    }\n",
       "</style>\n",
       "<table border=\"1\" class=\"dataframe\">\n",
       "  <thead>\n",
       "    <tr style=\"text-align: right;\">\n",
       "      <th></th>\n",
       "      <th>country</th>\n",
       "      <th>description</th>\n",
       "      <th>designation</th>\n",
       "      <th>points</th>\n",
       "      <th>price</th>\n",
       "      <th>province</th>\n",
       "      <th>region_1</th>\n",
       "      <th>region_2</th>\n",
       "      <th>taster_name</th>\n",
       "      <th>taster_twitter_handle</th>\n",
       "      <th>title</th>\n",
       "      <th>variety</th>\n",
       "      <th>winery</th>\n",
       "    </tr>\n",
       "  </thead>\n",
       "  <tbody>\n",
       "    <tr>\n",
       "      <th>0</th>\n",
       "      <td>Italy</td>\n",
       "      <td>Aromas include tropical fruit, broom, brimston...</td>\n",
       "      <td>VulkÃ  Bianco</td>\n",
       "      <td>87</td>\n",
       "      <td>NaN</td>\n",
       "      <td>Sicily &amp; Sardinia</td>\n",
       "      <td>Etna</td>\n",
       "      <td>NaN</td>\n",
       "      <td>Kerin OâKeefe</td>\n",
       "      <td>@kerinokeefe</td>\n",
       "      <td>Nicosia 2013 VulkÃ  Bianco  (Etna)</td>\n",
       "      <td>White Blend</td>\n",
       "      <td>Nicosia</td>\n",
       "    </tr>\n",
       "    <tr>\n",
       "      <th>1</th>\n",
       "      <td>Portugal</td>\n",
       "      <td>This is ripe and fruity, a wine that is smooth...</td>\n",
       "      <td>Avidagos</td>\n",
       "      <td>87</td>\n",
       "      <td>15.0</td>\n",
       "      <td>Douro</td>\n",
       "      <td>NaN</td>\n",
       "      <td>NaN</td>\n",
       "      <td>Roger Voss</td>\n",
       "      <td>@vossroger</td>\n",
       "      <td>Quinta dos Avidagos 2011 Avidagos Red (Douro)</td>\n",
       "      <td>Portuguese Red</td>\n",
       "      <td>Quinta dos Avidagos</td>\n",
       "    </tr>\n",
       "    <tr>\n",
       "      <th>2</th>\n",
       "      <td>US</td>\n",
       "      <td>Tart and snappy, the flavors of lime flesh and...</td>\n",
       "      <td>NaN</td>\n",
       "      <td>87</td>\n",
       "      <td>14.0</td>\n",
       "      <td>Oregon</td>\n",
       "      <td>Willamette Valley</td>\n",
       "      <td>Willamette Valley</td>\n",
       "      <td>Paul Gregutt</td>\n",
       "      <td>@paulgwineÂ</td>\n",
       "      <td>Rainstorm 2013 Pinot Gris (Willamette Valley)</td>\n",
       "      <td>Pinot Gris</td>\n",
       "      <td>Rainstorm</td>\n",
       "    </tr>\n",
       "    <tr>\n",
       "      <th>3</th>\n",
       "      <td>US</td>\n",
       "      <td>Pineapple rind, lemon pith and orange blossom ...</td>\n",
       "      <td>Reserve Late Harvest</td>\n",
       "      <td>87</td>\n",
       "      <td>13.0</td>\n",
       "      <td>Michigan</td>\n",
       "      <td>Lake Michigan Shore</td>\n",
       "      <td>NaN</td>\n",
       "      <td>Alexander Peartree</td>\n",
       "      <td>NaN</td>\n",
       "      <td>St. Julian 2013 Reserve Late Harvest Riesling ...</td>\n",
       "      <td>Riesling</td>\n",
       "      <td>St. Julian</td>\n",
       "    </tr>\n",
       "    <tr>\n",
       "      <th>4</th>\n",
       "      <td>US</td>\n",
       "      <td>Much like the regular bottling from 2012, this...</td>\n",
       "      <td>Vintner's Reserve Wild Child Block</td>\n",
       "      <td>87</td>\n",
       "      <td>65.0</td>\n",
       "      <td>Oregon</td>\n",
       "      <td>Willamette Valley</td>\n",
       "      <td>Willamette Valley</td>\n",
       "      <td>Paul Gregutt</td>\n",
       "      <td>@paulgwineÂ</td>\n",
       "      <td>Sweet Cheeks 2012 Vintner's Reserve Wild Child...</td>\n",
       "      <td>Pinot Noir</td>\n",
       "      <td>Sweet Cheeks</td>\n",
       "    </tr>\n",
       "  </tbody>\n",
       "</table>\n",
       "</div>"
      ],
      "text/plain": [
       "    country                                        description  \\\n",
       "0     Italy  Aromas include tropical fruit, broom, brimston...   \n",
       "1  Portugal  This is ripe and fruity, a wine that is smooth...   \n",
       "2        US  Tart and snappy, the flavors of lime flesh and...   \n",
       "3        US  Pineapple rind, lemon pith and orange blossom ...   \n",
       "4        US  Much like the regular bottling from 2012, this...   \n",
       "\n",
       "                          designation  points  price           province  \\\n",
       "0                       VulkÃ  Bianco      87    NaN  Sicily & Sardinia   \n",
       "1                            Avidagos      87   15.0              Douro   \n",
       "2                                 NaN      87   14.0             Oregon   \n",
       "3                Reserve Late Harvest      87   13.0           Michigan   \n",
       "4  Vintner's Reserve Wild Child Block      87   65.0             Oregon   \n",
       "\n",
       "              region_1           region_2         taster_name  \\\n",
       "0                 Etna                NaN     Kerin OâKeefe   \n",
       "1                  NaN                NaN          Roger Voss   \n",
       "2    Willamette Valley  Willamette Valley        Paul Gregutt   \n",
       "3  Lake Michigan Shore                NaN  Alexander Peartree   \n",
       "4    Willamette Valley  Willamette Valley        Paul Gregutt   \n",
       "\n",
       "  taster_twitter_handle                                              title  \\\n",
       "0          @kerinokeefe                 Nicosia 2013 VulkÃ  Bianco  (Etna)   \n",
       "1            @vossroger      Quinta dos Avidagos 2011 Avidagos Red (Douro)   \n",
       "2          @paulgwineÂ       Rainstorm 2013 Pinot Gris (Willamette Valley)   \n",
       "3                   NaN  St. Julian 2013 Reserve Late Harvest Riesling ...   \n",
       "4          @paulgwineÂ   Sweet Cheeks 2012 Vintner's Reserve Wild Child...   \n",
       "\n",
       "          variety               winery  \n",
       "0     White Blend              Nicosia  \n",
       "1  Portuguese Red  Quinta dos Avidagos  \n",
       "2      Pinot Gris            Rainstorm  \n",
       "3        Riesling           St. Julian  \n",
       "4      Pinot Noir         Sweet Cheeks  "
      ]
     },
     "execution_count": 129,
     "metadata": {},
     "output_type": "execute_result"
    }
   ],
   "source": [
    "df.head()"
   ]
  },
  {
   "cell_type": "markdown",
   "metadata": {},
   "source": [
    "For this exploration, we will only need the 'description' and 'points' columns."
   ]
  },
  {
   "cell_type": "code",
   "execution_count": 130,
   "metadata": {
    "ExecuteTime": {
     "end_time": "2022-11-10T17:36:16.188748Z",
     "start_time": "2022-11-10T17:36:16.148411Z"
    }
   },
   "outputs": [
    {
     "data": {
      "text/html": [
       "<div>\n",
       "<style scoped>\n",
       "    .dataframe tbody tr th:only-of-type {\n",
       "        vertical-align: middle;\n",
       "    }\n",
       "\n",
       "    .dataframe tbody tr th {\n",
       "        vertical-align: top;\n",
       "    }\n",
       "\n",
       "    .dataframe thead th {\n",
       "        text-align: right;\n",
       "    }\n",
       "</style>\n",
       "<table border=\"1\" class=\"dataframe\">\n",
       "  <thead>\n",
       "    <tr style=\"text-align: right;\">\n",
       "      <th></th>\n",
       "      <th>description</th>\n",
       "      <th>points</th>\n",
       "    </tr>\n",
       "  </thead>\n",
       "  <tbody>\n",
       "    <tr>\n",
       "      <th>0</th>\n",
       "      <td>Aromas include tropical fruit, broom, brimston...</td>\n",
       "      <td>87</td>\n",
       "    </tr>\n",
       "    <tr>\n",
       "      <th>1</th>\n",
       "      <td>This is ripe and fruity, a wine that is smooth...</td>\n",
       "      <td>87</td>\n",
       "    </tr>\n",
       "    <tr>\n",
       "      <th>2</th>\n",
       "      <td>Tart and snappy, the flavors of lime flesh and...</td>\n",
       "      <td>87</td>\n",
       "    </tr>\n",
       "    <tr>\n",
       "      <th>3</th>\n",
       "      <td>Pineapple rind, lemon pith and orange blossom ...</td>\n",
       "      <td>87</td>\n",
       "    </tr>\n",
       "    <tr>\n",
       "      <th>4</th>\n",
       "      <td>Much like the regular bottling from 2012, this...</td>\n",
       "      <td>87</td>\n",
       "    </tr>\n",
       "  </tbody>\n",
       "</table>\n",
       "</div>"
      ],
      "text/plain": [
       "                                         description  points\n",
       "0  Aromas include tropical fruit, broom, brimston...      87\n",
       "1  This is ripe and fruity, a wine that is smooth...      87\n",
       "2  Tart and snappy, the flavors of lime flesh and...      87\n",
       "3  Pineapple rind, lemon pith and orange blossom ...      87\n",
       "4  Much like the regular bottling from 2012, this...      87"
      ]
     },
     "execution_count": 130,
     "metadata": {},
     "output_type": "execute_result"
    }
   ],
   "source": [
    "text_df = df.loc[:, ['description', 'points']]\n",
    "text_df.head()"
   ]
  },
  {
   "cell_type": "code",
   "execution_count": 131,
   "metadata": {
    "ExecuteTime": {
     "end_time": "2022-11-10T17:36:16.202490Z",
     "start_time": "2022-11-10T17:36:16.189715Z"
    }
   },
   "outputs": [
    {
     "name": "stdout",
     "output_type": "stream",
     "text": [
      "<class 'pandas.core.frame.DataFrame'>\n",
      "Int64Index: 129971 entries, 0 to 129970\n",
      "Data columns (total 2 columns):\n",
      " #   Column       Non-Null Count   Dtype \n",
      "---  ------       --------------   ----- \n",
      " 0   description  129971 non-null  object\n",
      " 1   points       129971 non-null  int64 \n",
      "dtypes: int64(1), object(1)\n",
      "memory usage: 8.0+ MB\n"
     ]
    }
   ],
   "source": [
    "# Check for missing values\n",
    "text_df.info()"
   ]
  },
  {
   "cell_type": "markdown",
   "metadata": {},
   "source": [
    "There are no missing values, so I will move on to language processing  "
   ]
  },
  {
   "cell_type": "markdown",
   "metadata": {},
   "source": [
    "## Language Processing"
   ]
  },
  {
   "cell_type": "code",
   "execution_count": 132,
   "metadata": {
    "ExecuteTime": {
     "end_time": "2022-11-10T17:36:16.299866Z",
     "start_time": "2022-11-10T17:36:16.203444Z"
    }
   },
   "outputs": [
    {
     "data": {
      "text/html": [
       "<div>\n",
       "<style scoped>\n",
       "    .dataframe tbody tr th:only-of-type {\n",
       "        vertical-align: middle;\n",
       "    }\n",
       "\n",
       "    .dataframe tbody tr th {\n",
       "        vertical-align: top;\n",
       "    }\n",
       "\n",
       "    .dataframe thead th {\n",
       "        text-align: right;\n",
       "    }\n",
       "</style>\n",
       "<table border=\"1\" class=\"dataframe\">\n",
       "  <thead>\n",
       "    <tr style=\"text-align: right;\">\n",
       "      <th></th>\n",
       "      <th>description</th>\n",
       "      <th>points</th>\n",
       "    </tr>\n",
       "  </thead>\n",
       "  <tbody>\n",
       "    <tr>\n",
       "      <th>0</th>\n",
       "      <td>aromas include tropical fruit, broom, brimston...</td>\n",
       "      <td>87</td>\n",
       "    </tr>\n",
       "    <tr>\n",
       "      <th>1</th>\n",
       "      <td>this is ripe and fruity, a wine that is smooth...</td>\n",
       "      <td>87</td>\n",
       "    </tr>\n",
       "    <tr>\n",
       "      <th>2</th>\n",
       "      <td>tart and snappy, the flavors of lime flesh and...</td>\n",
       "      <td>87</td>\n",
       "    </tr>\n",
       "    <tr>\n",
       "      <th>3</th>\n",
       "      <td>pineapple rind, lemon pith and orange blossom ...</td>\n",
       "      <td>87</td>\n",
       "    </tr>\n",
       "    <tr>\n",
       "      <th>4</th>\n",
       "      <td>much like the regular bottling from 2012, this...</td>\n",
       "      <td>87</td>\n",
       "    </tr>\n",
       "  </tbody>\n",
       "</table>\n",
       "</div>"
      ],
      "text/plain": [
       "                                         description  points\n",
       "0  aromas include tropical fruit, broom, brimston...      87\n",
       "1  this is ripe and fruity, a wine that is smooth...      87\n",
       "2  tart and snappy, the flavors of lime flesh and...      87\n",
       "3  pineapple rind, lemon pith and orange blossom ...      87\n",
       "4  much like the regular bottling from 2012, this...      87"
      ]
     },
     "execution_count": 132,
     "metadata": {},
     "output_type": "execute_result"
    }
   ],
   "source": [
    "# Lowercase text\n",
    "text_df['description'] = text_df['description'].str.lower()\n",
    "text_df.head()"
   ]
  },
  {
   "cell_type": "code",
   "execution_count": 133,
   "metadata": {
    "ExecuteTime": {
     "end_time": "2022-11-10T17:36:17.699815Z",
     "start_time": "2022-11-10T17:36:16.300749Z"
    }
   },
   "outputs": [
    {
     "data": {
      "text/html": [
       "<div>\n",
       "<style scoped>\n",
       "    .dataframe tbody tr th:only-of-type {\n",
       "        vertical-align: middle;\n",
       "    }\n",
       "\n",
       "    .dataframe tbody tr th {\n",
       "        vertical-align: top;\n",
       "    }\n",
       "\n",
       "    .dataframe thead th {\n",
       "        text-align: right;\n",
       "    }\n",
       "</style>\n",
       "<table border=\"1\" class=\"dataframe\">\n",
       "  <thead>\n",
       "    <tr style=\"text-align: right;\">\n",
       "      <th></th>\n",
       "      <th>description</th>\n",
       "      <th>points</th>\n",
       "      <th>text_tokenized</th>\n",
       "    </tr>\n",
       "  </thead>\n",
       "  <tbody>\n",
       "    <tr>\n",
       "      <th>0</th>\n",
       "      <td>aromas include tropical fruit, broom, brimston...</td>\n",
       "      <td>87</td>\n",
       "      <td>[aromas, include, tropical, fruit, broom, brim...</td>\n",
       "    </tr>\n",
       "    <tr>\n",
       "      <th>1</th>\n",
       "      <td>this is ripe and fruity, a wine that is smooth...</td>\n",
       "      <td>87</td>\n",
       "      <td>[this, is, ripe, and, fruity, wine, that, is, ...</td>\n",
       "    </tr>\n",
       "    <tr>\n",
       "      <th>2</th>\n",
       "      <td>tart and snappy, the flavors of lime flesh and...</td>\n",
       "      <td>87</td>\n",
       "      <td>[tart, and, snappy, the, flavors, of, lime, fl...</td>\n",
       "    </tr>\n",
       "    <tr>\n",
       "      <th>3</th>\n",
       "      <td>pineapple rind, lemon pith and orange blossom ...</td>\n",
       "      <td>87</td>\n",
       "      <td>[pineapple, rind, lemon, pith, and, orange, bl...</td>\n",
       "    </tr>\n",
       "    <tr>\n",
       "      <th>4</th>\n",
       "      <td>much like the regular bottling from 2012, this...</td>\n",
       "      <td>87</td>\n",
       "      <td>[much, like, the, regular, bottling, from, 201...</td>\n",
       "    </tr>\n",
       "  </tbody>\n",
       "</table>\n",
       "</div>"
      ],
      "text/plain": [
       "                                         description  points  \\\n",
       "0  aromas include tropical fruit, broom, brimston...      87   \n",
       "1  this is ripe and fruity, a wine that is smooth...      87   \n",
       "2  tart and snappy, the flavors of lime flesh and...      87   \n",
       "3  pineapple rind, lemon pith and orange blossom ...      87   \n",
       "4  much like the regular bottling from 2012, this...      87   \n",
       "\n",
       "                                      text_tokenized  \n",
       "0  [aromas, include, tropical, fruit, broom, brim...  \n",
       "1  [this, is, ripe, and, fruity, wine, that, is, ...  \n",
       "2  [tart, and, snappy, the, flavors, of, lime, fl...  \n",
       "3  [pineapple, rind, lemon, pith, and, orange, bl...  \n",
       "4  [much, like, the, regular, bottling, from, 201...  "
      ]
     },
     "execution_count": 133,
     "metadata": {},
     "output_type": "execute_result"
    }
   ],
   "source": [
    "# Remove punctuation and tokenize\n",
    "basic_token_pattern = r\"(?u)\\b\\w\\w+\\b\"\n",
    "tokenizer = RegexpTokenizer(basic_token_pattern)\n",
    "text_df['text_tokenized'] = text_df['description'].apply(tokenizer.tokenize)\n",
    "text_df.head()"
   ]
  },
  {
   "cell_type": "code",
   "execution_count": 134,
   "metadata": {
    "ExecuteTime": {
     "end_time": "2022-11-10T17:36:25.693076Z",
     "start_time": "2022-11-10T17:36:17.700846Z"
    }
   },
   "outputs": [
    {
     "data": {
      "text/html": [
       "<div>\n",
       "<style scoped>\n",
       "    .dataframe tbody tr th:only-of-type {\n",
       "        vertical-align: middle;\n",
       "    }\n",
       "\n",
       "    .dataframe tbody tr th {\n",
       "        vertical-align: top;\n",
       "    }\n",
       "\n",
       "    .dataframe thead th {\n",
       "        text-align: right;\n",
       "    }\n",
       "</style>\n",
       "<table border=\"1\" class=\"dataframe\">\n",
       "  <thead>\n",
       "    <tr style=\"text-align: right;\">\n",
       "      <th></th>\n",
       "      <th>description</th>\n",
       "      <th>points</th>\n",
       "      <th>text_tokenized</th>\n",
       "      <th>text_without_stopwords</th>\n",
       "    </tr>\n",
       "  </thead>\n",
       "  <tbody>\n",
       "    <tr>\n",
       "      <th>0</th>\n",
       "      <td>aromas include tropical fruit, broom, brimston...</td>\n",
       "      <td>87</td>\n",
       "      <td>[aromas, include, tropical, fruit, broom, brim...</td>\n",
       "      <td>[aromas, include, tropical, broom, brimstone, ...</td>\n",
       "    </tr>\n",
       "    <tr>\n",
       "      <th>1</th>\n",
       "      <td>this is ripe and fruity, a wine that is smooth...</td>\n",
       "      <td>87</td>\n",
       "      <td>[this, is, ripe, and, fruity, wine, that, is, ...</td>\n",
       "      <td>[ripe, fruity, smooth, still, structured, firm...</td>\n",
       "    </tr>\n",
       "    <tr>\n",
       "      <th>2</th>\n",
       "      <td>tart and snappy, the flavors of lime flesh and...</td>\n",
       "      <td>87</td>\n",
       "      <td>[tart, and, snappy, the, flavors, of, lime, fl...</td>\n",
       "      <td>[tart, snappy, lime, flesh, rind, dominate, gr...</td>\n",
       "    </tr>\n",
       "    <tr>\n",
       "      <th>3</th>\n",
       "      <td>pineapple rind, lemon pith and orange blossom ...</td>\n",
       "      <td>87</td>\n",
       "      <td>[pineapple, rind, lemon, pith, and, orange, bl...</td>\n",
       "      <td>[pineapple, rind, lemon, pith, orange, blossom...</td>\n",
       "    </tr>\n",
       "    <tr>\n",
       "      <th>4</th>\n",
       "      <td>much like the regular bottling from 2012, this...</td>\n",
       "      <td>87</td>\n",
       "      <td>[much, like, the, regular, bottling, from, 201...</td>\n",
       "      <td>[much, like, regular, bottling, 2012, comes, a...</td>\n",
       "    </tr>\n",
       "  </tbody>\n",
       "</table>\n",
       "</div>"
      ],
      "text/plain": [
       "                                         description  points  \\\n",
       "0  aromas include tropical fruit, broom, brimston...      87   \n",
       "1  this is ripe and fruity, a wine that is smooth...      87   \n",
       "2  tart and snappy, the flavors of lime flesh and...      87   \n",
       "3  pineapple rind, lemon pith and orange blossom ...      87   \n",
       "4  much like the regular bottling from 2012, this...      87   \n",
       "\n",
       "                                      text_tokenized  \\\n",
       "0  [aromas, include, tropical, fruit, broom, brim...   \n",
       "1  [this, is, ripe, and, fruity, wine, that, is, ...   \n",
       "2  [tart, and, snappy, the, flavors, of, lime, fl...   \n",
       "3  [pineapple, rind, lemon, pith, and, orange, bl...   \n",
       "4  [much, like, the, regular, bottling, from, 201...   \n",
       "\n",
       "                              text_without_stopwords  \n",
       "0  [aromas, include, tropical, broom, brimstone, ...  \n",
       "1  [ripe, fruity, smooth, still, structured, firm...  \n",
       "2  [tart, snappy, lime, flesh, rind, dominate, gr...  \n",
       "3  [pineapple, rind, lemon, pith, orange, blossom...  \n",
       "4  [much, like, regular, bottling, 2012, comes, a...  "
      ]
     },
     "execution_count": 134,
     "metadata": {},
     "output_type": "execute_result"
    }
   ],
   "source": [
    "# Using our function from above, remove stopwords\n",
    "text_df['text_without_stopwords'] = text_df['text_tokenized'].apply(remove_stopwords)\n",
    "text_df.head()"
   ]
  },
  {
   "cell_type": "code",
   "execution_count": 135,
   "metadata": {
    "ExecuteTime": {
     "end_time": "2022-11-10T17:36:35.137472Z",
     "start_time": "2022-11-10T17:36:25.694037Z"
    }
   },
   "outputs": [
    {
     "data": {
      "text/html": [
       "<div>\n",
       "<style scoped>\n",
       "    .dataframe tbody tr th:only-of-type {\n",
       "        vertical-align: middle;\n",
       "    }\n",
       "\n",
       "    .dataframe tbody tr th {\n",
       "        vertical-align: top;\n",
       "    }\n",
       "\n",
       "    .dataframe thead th {\n",
       "        text-align: right;\n",
       "    }\n",
       "</style>\n",
       "<table border=\"1\" class=\"dataframe\">\n",
       "  <thead>\n",
       "    <tr style=\"text-align: right;\">\n",
       "      <th></th>\n",
       "      <th>description</th>\n",
       "      <th>points</th>\n",
       "      <th>text_tokenized</th>\n",
       "      <th>text_without_stopwords</th>\n",
       "      <th>lemmatized_text</th>\n",
       "    </tr>\n",
       "  </thead>\n",
       "  <tbody>\n",
       "    <tr>\n",
       "      <th>0</th>\n",
       "      <td>aromas include tropical fruit, broom, brimston...</td>\n",
       "      <td>87</td>\n",
       "      <td>[aromas, include, tropical, fruit, broom, brim...</td>\n",
       "      <td>[aromas, include, tropical, broom, brimstone, ...</td>\n",
       "      <td>[aroma, include, tropical, broom, brimstone, d...</td>\n",
       "    </tr>\n",
       "    <tr>\n",
       "      <th>1</th>\n",
       "      <td>this is ripe and fruity, a wine that is smooth...</td>\n",
       "      <td>87</td>\n",
       "      <td>[this, is, ripe, and, fruity, wine, that, is, ...</td>\n",
       "      <td>[ripe, fruity, smooth, still, structured, firm...</td>\n",
       "      <td>[ripe, fruity, smooth, still, structured, firm...</td>\n",
       "    </tr>\n",
       "    <tr>\n",
       "      <th>2</th>\n",
       "      <td>tart and snappy, the flavors of lime flesh and...</td>\n",
       "      <td>87</td>\n",
       "      <td>[tart, and, snappy, the, flavors, of, lime, fl...</td>\n",
       "      <td>[tart, snappy, lime, flesh, rind, dominate, gr...</td>\n",
       "      <td>[tart, snappy, lime, flesh, rind, dominate, gr...</td>\n",
       "    </tr>\n",
       "    <tr>\n",
       "      <th>3</th>\n",
       "      <td>pineapple rind, lemon pith and orange blossom ...</td>\n",
       "      <td>87</td>\n",
       "      <td>[pineapple, rind, lemon, pith, and, orange, bl...</td>\n",
       "      <td>[pineapple, rind, lemon, pith, orange, blossom...</td>\n",
       "      <td>[pineapple, rind, lemon, pith, orange, blossom...</td>\n",
       "    </tr>\n",
       "    <tr>\n",
       "      <th>4</th>\n",
       "      <td>much like the regular bottling from 2012, this...</td>\n",
       "      <td>87</td>\n",
       "      <td>[much, like, the, regular, bottling, from, 201...</td>\n",
       "      <td>[much, like, regular, bottling, 2012, comes, a...</td>\n",
       "      <td>[much, like, regular, bottling, 2012, come, ac...</td>\n",
       "    </tr>\n",
       "  </tbody>\n",
       "</table>\n",
       "</div>"
      ],
      "text/plain": [
       "                                         description  points  \\\n",
       "0  aromas include tropical fruit, broom, brimston...      87   \n",
       "1  this is ripe and fruity, a wine that is smooth...      87   \n",
       "2  tart and snappy, the flavors of lime flesh and...      87   \n",
       "3  pineapple rind, lemon pith and orange blossom ...      87   \n",
       "4  much like the regular bottling from 2012, this...      87   \n",
       "\n",
       "                                      text_tokenized  \\\n",
       "0  [aromas, include, tropical, fruit, broom, brim...   \n",
       "1  [this, is, ripe, and, fruity, wine, that, is, ...   \n",
       "2  [tart, and, snappy, the, flavors, of, lime, fl...   \n",
       "3  [pineapple, rind, lemon, pith, and, orange, bl...   \n",
       "4  [much, like, the, regular, bottling, from, 201...   \n",
       "\n",
       "                              text_without_stopwords  \\\n",
       "0  [aromas, include, tropical, broom, brimstone, ...   \n",
       "1  [ripe, fruity, smooth, still, structured, firm...   \n",
       "2  [tart, snappy, lime, flesh, rind, dominate, gr...   \n",
       "3  [pineapple, rind, lemon, pith, orange, blossom...   \n",
       "4  [much, like, regular, bottling, 2012, comes, a...   \n",
       "\n",
       "                                     lemmatized_text  \n",
       "0  [aroma, include, tropical, broom, brimstone, d...  \n",
       "1  [ripe, fruity, smooth, still, structured, firm...  \n",
       "2  [tart, snappy, lime, flesh, rind, dominate, gr...  \n",
       "3  [pineapple, rind, lemon, pith, orange, blossom...  \n",
       "4  [much, like, regular, bottling, 2012, come, ac...  "
      ]
     },
     "execution_count": 135,
     "metadata": {},
     "output_type": "execute_result"
    }
   ],
   "source": [
    "# Using our function from above, lemmatize text\n",
    "text_df['lemmatized_text'] = text_df['text_without_stopwords'].apply(lemmatize_text)\n",
    "text_df.head()"
   ]
  },
  {
   "cell_type": "code",
   "execution_count": 136,
   "metadata": {
    "ExecuteTime": {
     "end_time": "2022-11-10T17:36:35.169417Z",
     "start_time": "2022-11-10T17:36:35.138393Z"
    }
   },
   "outputs": [],
   "source": [
    "text_df.drop(['description', \n",
    "              'text_tokenized', \n",
    "              'text_without_stopwords'], axis=1, inplace=True)"
   ]
  },
  {
   "cell_type": "markdown",
   "metadata": {},
   "source": [
    "Next, I will create dataframes for each points range that we used above:\n",
    "* 80-84 points: 0 - Acceptable\n",
    "* 85-89 points: 1 - Good\n",
    "* 90-94 points: 2 - Very Good\n",
    "* 95-100 points: 3 - Outstanding"
   ]
  },
  {
   "cell_type": "markdown",
   "metadata": {},
   "source": [
    "## Acceptable Wines"
   ]
  },
  {
   "cell_type": "code",
   "execution_count": 137,
   "metadata": {
    "ExecuteTime": {
     "end_time": "2022-11-10T17:36:35.177443Z",
     "start_time": "2022-11-10T17:36:35.170395Z"
    },
    "scrolled": false
   },
   "outputs": [
    {
     "name": "stdout",
     "output_type": "stream",
     "text": [
      "<class 'pandas.core.frame.DataFrame'>\n",
      "Int64Index: 12430 entries, 336 to 129629\n",
      "Data columns (total 2 columns):\n",
      " #   Column           Non-Null Count  Dtype \n",
      "---  ------           --------------  ----- \n",
      " 0   points           12430 non-null  int64 \n",
      " 1   lemmatized_text  12430 non-null  object\n",
      "dtypes: int64(1), object(1)\n",
      "memory usage: 291.3+ KB\n"
     ]
    }
   ],
   "source": [
    "acceptable_df = text_df[text_df['points']<=84]\n",
    "acceptable_df.info()"
   ]
  },
  {
   "cell_type": "code",
   "execution_count": 138,
   "metadata": {
    "ExecuteTime": {
     "end_time": "2022-11-10T17:36:35.295393Z",
     "start_time": "2022-11-10T17:36:35.185780Z"
    }
   },
   "outputs": [],
   "source": [
    "acceptable_freq_dist = FreqDist(acceptable_df['lemmatized_text'].explode())"
   ]
  },
  {
   "cell_type": "code",
   "execution_count": 139,
   "metadata": {
    "ExecuteTime": {
     "end_time": "2022-11-10T17:36:35.425253Z",
     "start_time": "2022-11-10T17:36:35.297796Z"
    }
   },
   "outputs": [
    {
     "data": {
      "image/png": "[encoded data removed]",
      "text/plain": [
       "<Figure size 864x432 with 1 Axes>"
      ]
     },
     "metadata": {
      "needs_background": "light"
     },
     "output_type": "display_data"
    }
   ],
   "source": [
    "# Explore top 20 words\n",
    "visualize_top_20(acceptable_freq_dist, \n",
    "                 \"Top 20 Word Frequency for Acceptable Wines\")"
   ]
  },
  {
   "cell_type": "code",
   "execution_count": 140,
   "metadata": {
    "ExecuteTime": {
     "end_time": "2022-11-10T17:36:35.439416Z",
     "start_time": "2022-11-10T17:36:35.426274Z"
    }
   },
   "outputs": [
    {
     "data": {
      "text/html": [
       "<div>\n",
       "<style scoped>\n",
       "    .dataframe tbody tr th:only-of-type {\n",
       "        vertical-align: middle;\n",
       "    }\n",
       "\n",
       "    .dataframe tbody tr th {\n",
       "        vertical-align: top;\n",
       "    }\n",
       "\n",
       "    .dataframe thead th {\n",
       "        text-align: right;\n",
       "    }\n",
       "</style>\n",
       "<table border=\"1\" class=\"dataframe\">\n",
       "  <thead>\n",
       "    <tr style=\"text-align: right;\">\n",
       "      <th></th>\n",
       "      <th>points</th>\n",
       "      <th>lemmatized_text</th>\n",
       "      <th>final_text</th>\n",
       "    </tr>\n",
       "  </thead>\n",
       "  <tbody>\n",
       "    <tr>\n",
       "      <th>336</th>\n",
       "      <td>83</td>\n",
       "      <td>[gritty, heavily, roasted, aroma, peanut, herb...</td>\n",
       "      <td>gritty heavily roasted aroma peanut herbal ber...</td>\n",
       "    </tr>\n",
       "    <tr>\n",
       "      <th>337</th>\n",
       "      <td>83</td>\n",
       "      <td>[easy, inviting, selection, mentholated, strea...</td>\n",
       "      <td>easy inviting selection mentholated streak sof...</td>\n",
       "    </tr>\n",
       "    <tr>\n",
       "      <th>338</th>\n",
       "      <td>82</td>\n",
       "      <td>[earthy, somewhat, rustic, spoiled, spicy, pep...</td>\n",
       "      <td>earthy somewhat rustic spoiled spicy pepper ed...</td>\n",
       "    </tr>\n",
       "    <tr>\n",
       "      <th>339</th>\n",
       "      <td>82</td>\n",
       "      <td>[red, color, berry, apple, aroma, sweet, heavy...</td>\n",
       "      <td>red color berry apple aroma sweet heavy body l...</td>\n",
       "    </tr>\n",
       "    <tr>\n",
       "      <th>340</th>\n",
       "      <td>82</td>\n",
       "      <td>[nose, muted, despite, slight, spritz, equally...</td>\n",
       "      <td>nose muted despite slight spritz equally toned...</td>\n",
       "    </tr>\n",
       "  </tbody>\n",
       "</table>\n",
       "</div>"
      ],
      "text/plain": [
       "     points                                    lemmatized_text  \\\n",
       "336      83  [gritty, heavily, roasted, aroma, peanut, herb...   \n",
       "337      83  [easy, inviting, selection, mentholated, strea...   \n",
       "338      82  [earthy, somewhat, rustic, spoiled, spicy, pep...   \n",
       "339      82  [red, color, berry, apple, aroma, sweet, heavy...   \n",
       "340      82  [nose, muted, despite, slight, spritz, equally...   \n",
       "\n",
       "                                            final_text  \n",
       "336  gritty heavily roasted aroma peanut herbal ber...  \n",
       "337  easy inviting selection mentholated streak sof...  \n",
       "338  earthy somewhat rustic spoiled spicy pepper ed...  \n",
       "339  red color berry apple aroma sweet heavy body l...  \n",
       "340  nose muted despite slight spritz equally toned...  "
      ]
     },
     "execution_count": 140,
     "metadata": {},
     "output_type": "execute_result"
    }
   ],
   "source": [
    "# Join text for Word Cloud\n",
    "acceptable_df['final_text'] = acceptable_df['lemmatized_text'].apply(lambda x: ' '.join(x))\n",
    "acceptable_df.head()"
   ]
  },
  {
   "cell_type": "code",
   "execution_count": 141,
   "metadata": {
    "ExecuteTime": {
     "end_time": "2022-11-10T17:36:35.893149Z",
     "start_time": "2022-11-10T17:36:35.440555Z"
    }
   },
   "outputs": [
    {
     "data": {
      "image/png": "[encoded data removed]",
      "text/plain": [
       "<Figure size 432x288 with 1 Axes>"
      ]
     },
     "metadata": {
      "needs_background": "light"
     },
     "output_type": "display_data"
    }
   ],
   "source": [
    "# Explore Word Cloud\n",
    "acceptable_text = acceptable_df['final_text'].tolist()\n",
    "acceptable_text = ' '.join(acceptable_text)\n",
    "\n",
    "wordcloud_1 = WordCloud(width=500,\n",
    "                      height=300,\n",
    "                      collocations=False,\n",
    "                      max_font_size=70).generate(acceptable_text)\n",
    "\n",
    "import matplotlib.pyplot as plt\n",
    "plt.imshow(wordcloud_1, interpolation='bilinear')\n",
    "plt.axis(\"off\")\n",
    "#plt.savefig('Acceptable_Cloud.jpg');"
   ]
  },
  {
   "cell_type": "markdown",
   "metadata": {},
   "source": [
    "In this word cloud, we are seeing words like 'green', 'simple', 'acidity', 'bitter', and 'light'.  These words seem to be indicative of a wine that is lacking balance and body."
   ]
  },
  {
   "cell_type": "markdown",
   "metadata": {},
   "source": [
    "## Good Wines"
   ]
  },
  {
   "cell_type": "code",
   "execution_count": 142,
   "metadata": {
    "ExecuteTime": {
     "end_time": "2022-11-10T17:36:35.905979Z",
     "start_time": "2022-11-10T17:36:35.894089Z"
    },
    "scrolled": true
   },
   "outputs": [
    {
     "name": "stdout",
     "output_type": "stream",
     "text": [
      "<class 'pandas.core.frame.DataFrame'>\n",
      "Int64Index: 68496 entries, 0 to 129852\n",
      "Data columns (total 2 columns):\n",
      " #   Column           Non-Null Count  Dtype \n",
      "---  ------           --------------  ----- \n",
      " 0   points           68496 non-null  int64 \n",
      " 1   lemmatized_text  68496 non-null  object\n",
      "dtypes: int64(1), object(1)\n",
      "memory usage: 1.6+ MB\n"
     ]
    }
   ],
   "source": [
    "good_df = text_df[text_df['points'].between(85,89)]\n",
    "good_df.info()"
   ]
  },
  {
   "cell_type": "code",
   "execution_count": 143,
   "metadata": {
    "ExecuteTime": {
     "end_time": "2022-11-10T17:36:36.657892Z",
     "start_time": "2022-11-10T17:36:35.907157Z"
    }
   },
   "outputs": [],
   "source": [
    "good_freq_dist = FreqDist(good_df['lemmatized_text'].explode())"
   ]
  },
  {
   "cell_type": "code",
   "execution_count": 144,
   "metadata": {
    "ExecuteTime": {
     "end_time": "2022-11-10T17:36:36.786178Z",
     "start_time": "2022-11-10T17:36:36.658901Z"
    }
   },
   "outputs": [
    {
     "data": {
      "image/png": "[encoded data removed]",
      "text/plain": [
       "<Figure size 864x432 with 1 Axes>"
      ]
     },
     "metadata": {
      "needs_background": "light"
     },
     "output_type": "display_data"
    }
   ],
   "source": [
    "# Explore top 20 words\n",
    "visualize_top_20(good_freq_dist, \n",
    "                 \"Top 20 Word Frequency for Good Wines\")"
   ]
  },
  {
   "cell_type": "code",
   "execution_count": 145,
   "metadata": {
    "ExecuteTime": {
     "end_time": "2022-11-10T17:36:36.826723Z",
     "start_time": "2022-11-10T17:36:36.787318Z"
    }
   },
   "outputs": [],
   "source": [
    "# Join text for Word Cloud\n",
    "good_df['final_text'] = good_df['lemmatized_text'].apply(lambda x: ' '.join(x))"
   ]
  },
  {
   "cell_type": "code",
   "execution_count": 146,
   "metadata": {
    "ExecuteTime": {
     "end_time": "2022-11-10T17:36:38.400495Z",
     "start_time": "2022-11-10T17:36:36.827680Z"
    }
   },
   "outputs": [
    {
     "data": {
      "image/png": "[encoded data removed]",
      "text/plain": [
       "<Figure size 432x288 with 1 Axes>"
      ]
     },
     "metadata": {
      "needs_background": "light"
     },
     "output_type": "display_data"
    }
   ],
   "source": [
    "# Explore Word Cloud\n",
    "good_text = good_df['final_text'].tolist()\n",
    "good_text = ' '.join(good_text)\n",
    "\n",
    "wordcloud_2 = WordCloud(width=500,\n",
    "                      height=300,\n",
    "                      collocations=False,\n",
    "                      max_font_size=70).generate(good_text)\n",
    "\n",
    "import matplotlib.pyplot as plt\n",
    "plt.imshow(wordcloud_2, interpolation='bilinear')\n",
    "plt.axis(\"off\")\n",
    "#plt.savefig('Good_Cloud.jpg');"
   ]
  },
  {
   "cell_type": "markdown",
   "metadata": {},
   "source": [
    "This word cloud shows us many fruit notes; 'apple', 'cherry', 'berry', 'citrus' as well as 'fresh' and 'crisp'.  These wines could be lacking depth of flavor or complexity."
   ]
  },
  {
   "cell_type": "markdown",
   "metadata": {},
   "source": [
    "## Very Good Wines"
   ]
  },
  {
   "cell_type": "code",
   "execution_count": 147,
   "metadata": {
    "ExecuteTime": {
     "end_time": "2022-11-10T17:36:38.410449Z",
     "start_time": "2022-11-10T17:36:38.401441Z"
    }
   },
   "outputs": [
    {
     "name": "stdout",
     "output_type": "stream",
     "text": [
      "<class 'pandas.core.frame.DataFrame'>\n",
      "Int64Index: 46629 entries, 119 to 129970\n",
      "Data columns (total 2 columns):\n",
      " #   Column           Non-Null Count  Dtype \n",
      "---  ------           --------------  ----- \n",
      " 0   points           46629 non-null  int64 \n",
      " 1   lemmatized_text  46629 non-null  object\n",
      "dtypes: int64(1), object(1)\n",
      "memory usage: 1.1+ MB\n"
     ]
    }
   ],
   "source": [
    "very_good_df = text_df[text_df['points'].between(90,94)]\n",
    "very_good_df.info()"
   ]
  },
  {
   "cell_type": "code",
   "execution_count": 148,
   "metadata": {
    "ExecuteTime": {
     "end_time": "2022-11-10T17:36:39.033616Z",
     "start_time": "2022-11-10T17:36:38.411395Z"
    }
   },
   "outputs": [],
   "source": [
    "very_good_freq_dist = FreqDist(very_good_df['lemmatized_text'].explode())"
   ]
  },
  {
   "cell_type": "code",
   "execution_count": 149,
   "metadata": {
    "ExecuteTime": {
     "end_time": "2022-11-10T17:36:39.157437Z",
     "start_time": "2022-11-10T17:36:39.034658Z"
    }
   },
   "outputs": [
    {
     "data": {
      "image/png": "[encoded data removed]",
      "text/plain": [
       "<Figure size 864x432 with 1 Axes>"
      ]
     },
     "metadata": {
      "needs_background": "light"
     },
     "output_type": "display_data"
    }
   ],
   "source": [
    "# Explore top 20 words\n",
    "visualize_top_20(very_good_freq_dist, \n",
    "                 \"Top 20 Word Frequency for Very Good Wines\")"
   ]
  },
  {
   "cell_type": "code",
   "execution_count": 150,
   "metadata": {
    "ExecuteTime": {
     "end_time": "2022-11-10T17:36:39.190533Z",
     "start_time": "2022-11-10T17:36:39.158508Z"
    }
   },
   "outputs": [],
   "source": [
    "# Join text for Word Cloud\n",
    "very_good_df['final_text'] = very_good_df['lemmatized_text'].apply(lambda x: ' '.join(x))"
   ]
  },
  {
   "cell_type": "code",
   "execution_count": 151,
   "metadata": {
    "ExecuteTime": {
     "end_time": "2022-11-10T17:36:40.543603Z",
     "start_time": "2022-11-10T17:36:39.191484Z"
    }
   },
   "outputs": [
    {
     "data": {
      "image/png": "[encoded data removed]",
      "text/plain": [
       "<Figure size 432x288 with 1 Axes>"
      ]
     },
     "metadata": {
      "needs_background": "light"
     },
     "output_type": "display_data"
    }
   ],
   "source": [
    "# Explore Word Cloud\n",
    "very_good_text = very_good_df['final_text'].tolist()\n",
    "very_good_text = ' '.join(very_good_text)\n",
    "\n",
    "wordcloud_3 = WordCloud(width=500,\n",
    "                      height=300,\n",
    "                      collocations=False,\n",
    "                      max_font_size=70).generate(very_good_text)\n",
    "\n",
    "import matplotlib.pyplot as plt\n",
    "plt.imshow(wordcloud_3, interpolation='bilinear')\n",
    "plt.axis(\"off\")\n",
    "#plt.savefig('Very_Good_Cloud.jpg');"
   ]
  },
  {
   "cell_type": "markdown",
   "metadata": {},
   "source": [
    "In this word cloud we are starting to see bolder words; 'black', 'ripe', 'rich', 'plum', 'texture', and 'chocolate'.  These wines seem to be more complex and less fruit forward."
   ]
  },
  {
   "cell_type": "markdown",
   "metadata": {},
   "source": [
    "## Outstanding Wines"
   ]
  },
  {
   "cell_type": "code",
   "execution_count": 152,
   "metadata": {
    "ExecuteTime": {
     "end_time": "2022-11-10T17:36:40.549488Z",
     "start_time": "2022-11-10T17:36:40.544553Z"
    }
   },
   "outputs": [
    {
     "name": "stdout",
     "output_type": "stream",
     "text": [
      "<class 'pandas.core.frame.DataFrame'>\n",
      "Int64Index: 2416 entries, 345 to 128684\n",
      "Data columns (total 2 columns):\n",
      " #   Column           Non-Null Count  Dtype \n",
      "---  ------           --------------  ----- \n",
      " 0   points           2416 non-null   int64 \n",
      " 1   lemmatized_text  2416 non-null   object\n",
      "dtypes: int64(1), object(1)\n",
      "memory usage: 56.6+ KB\n"
     ]
    }
   ],
   "source": [
    "outstanding_df = text_df[text_df['points']>=95]\n",
    "outstanding_df.info()"
   ]
  },
  {
   "cell_type": "code",
   "execution_count": 153,
   "metadata": {
    "ExecuteTime": {
     "end_time": "2022-11-10T17:36:40.591307Z",
     "start_time": "2022-11-10T17:36:40.550358Z"
    }
   },
   "outputs": [],
   "source": [
    "outstanding_freq_dist = FreqDist(outstanding_df['lemmatized_text'].explode())"
   ]
  },
  {
   "cell_type": "code",
   "execution_count": 154,
   "metadata": {
    "ExecuteTime": {
     "end_time": "2022-11-10T17:36:40.720967Z",
     "start_time": "2022-11-10T17:36:40.592314Z"
    }
   },
   "outputs": [
    {
     "data": {
      "image/png": "[encoded data removed]",
      "text/plain": [
       "<Figure size 864x432 with 1 Axes>"
      ]
     },
     "metadata": {
      "needs_background": "light"
     },
     "output_type": "display_data"
    }
   ],
   "source": [
    "# Explore top 20 words\n",
    "visualize_top_20(outstanding_freq_dist, \n",
    "                 \"Top 20 Word Frequency for Outstanding Wines\")"
   ]
  },
  {
   "cell_type": "code",
   "execution_count": 155,
   "metadata": {
    "ExecuteTime": {
     "end_time": "2022-11-10T17:36:40.726259Z",
     "start_time": "2022-11-10T17:36:40.721893Z"
    }
   },
   "outputs": [],
   "source": [
    "# Join text for Word Cloud\n",
    "outstanding_df['final_text'] = outstanding_df['lemmatized_text'].apply(lambda x: ' '.join(x))"
   ]
  },
  {
   "cell_type": "code",
   "execution_count": 156,
   "metadata": {
    "ExecuteTime": {
     "end_time": "2022-11-10T17:36:41.050977Z",
     "start_time": "2022-11-10T17:36:40.727892Z"
    }
   },
   "outputs": [
    {
     "data": {
      "image/png": "[encoded data removed]",
      "text/plain": [
       "<Figure size 432x288 with 1 Axes>"
      ]
     },
     "metadata": {
      "needs_background": "light"
     },
     "output_type": "display_data"
    }
   ],
   "source": [
    "# Explore Word Cloud\n",
    "outstanding_text = outstanding_df['final_text'].tolist()\n",
    "outstanding_text = ' '.join(outstanding_text)\n",
    "\n",
    "wordcloud_4 = WordCloud(width=500,\n",
    "                      height=300,\n",
    "                      collocations=False,\n",
    "                      max_font_size=70).generate(outstanding_text)\n",
    "\n",
    "import matplotlib.pyplot as plt\n",
    "plt.imshow(wordcloud_4, interpolation='bilinear')\n",
    "plt.axis(\"off\")\n",
    "#plt.savefig('Outstanding_Cloud.jpg');"
   ]
  },
  {
   "cell_type": "markdown",
   "metadata": {},
   "source": [
    "One interesting word that immediately jumps to the eye is 'cabernet'. This variety would be worth exploring since it is the only variety that made it into any of our word clouds. These outstanding wines are also characterized by the words 'complex', 'spice', 'dense', 'time', 'aging' and 'pepper'.  These words seem to point us in the direction of full bodied and complex red wines that have been aged for a decent period of time."
   ]
  },
  {
   "cell_type": "markdown",
   "metadata": {},
   "source": [
    "## Keyword Conclusions"
   ]
  },
  {
   "cell_type": "markdown",
   "metadata": {},
   "source": [
    "Based on our findings from the wine descriptions, higher scoring wines seem to be ones that have greater complexity and body and spend more time aging. It also seems as though Cabernets could be a good direction to move in.  Outstanding wines also move past the straightforward fruit flavors and into more unusual wine flavors such as spice, pepper, and chocolate."
   ]
  },
  {
   "cell_type": "markdown",
   "metadata": {},
   "source": [
    "# Wine Varieties"
   ]
  },
  {
   "cell_type": "markdown",
   "metadata": {},
   "source": [
    "Finally, I would like to look into which wine varieties are currently receiving high scores."
   ]
  },
  {
   "cell_type": "code",
   "execution_count": 157,
   "metadata": {
    "ExecuteTime": {
     "end_time": "2022-11-10T17:36:41.060703Z",
     "start_time": "2022-11-10T17:36:41.052280Z"
    }
   },
   "outputs": [
    {
     "data": {
      "text/html": [
       "<div>\n",
       "<style scoped>\n",
       "    .dataframe tbody tr th:only-of-type {\n",
       "        vertical-align: middle;\n",
       "    }\n",
       "\n",
       "    .dataframe tbody tr th {\n",
       "        vertical-align: top;\n",
       "    }\n",
       "\n",
       "    .dataframe thead th {\n",
       "        text-align: right;\n",
       "    }\n",
       "</style>\n",
       "<table border=\"1\" class=\"dataframe\">\n",
       "  <thead>\n",
       "    <tr style=\"text-align: right;\">\n",
       "      <th></th>\n",
       "      <th>country</th>\n",
       "      <th>description</th>\n",
       "      <th>designation</th>\n",
       "      <th>points</th>\n",
       "      <th>price</th>\n",
       "      <th>province</th>\n",
       "      <th>region_1</th>\n",
       "      <th>region_2</th>\n",
       "      <th>taster_name</th>\n",
       "      <th>taster_twitter_handle</th>\n",
       "      <th>title</th>\n",
       "      <th>variety</th>\n",
       "      <th>winery</th>\n",
       "    </tr>\n",
       "  </thead>\n",
       "  <tbody>\n",
       "    <tr>\n",
       "      <th>0</th>\n",
       "      <td>Italy</td>\n",
       "      <td>Aromas include tropical fruit, broom, brimston...</td>\n",
       "      <td>VulkÃ  Bianco</td>\n",
       "      <td>87</td>\n",
       "      <td>NaN</td>\n",
       "      <td>Sicily &amp; Sardinia</td>\n",
       "      <td>Etna</td>\n",
       "      <td>NaN</td>\n",
       "      <td>Kerin OâKeefe</td>\n",
       "      <td>@kerinokeefe</td>\n",
       "      <td>Nicosia 2013 VulkÃ  Bianco  (Etna)</td>\n",
       "      <td>White Blend</td>\n",
       "      <td>Nicosia</td>\n",
       "    </tr>\n",
       "    <tr>\n",
       "      <th>1</th>\n",
       "      <td>Portugal</td>\n",
       "      <td>This is ripe and fruity, a wine that is smooth...</td>\n",
       "      <td>Avidagos</td>\n",
       "      <td>87</td>\n",
       "      <td>15.0</td>\n",
       "      <td>Douro</td>\n",
       "      <td>NaN</td>\n",
       "      <td>NaN</td>\n",
       "      <td>Roger Voss</td>\n",
       "      <td>@vossroger</td>\n",
       "      <td>Quinta dos Avidagos 2011 Avidagos Red (Douro)</td>\n",
       "      <td>Portuguese Red</td>\n",
       "      <td>Quinta dos Avidagos</td>\n",
       "    </tr>\n",
       "    <tr>\n",
       "      <th>2</th>\n",
       "      <td>US</td>\n",
       "      <td>Tart and snappy, the flavors of lime flesh and...</td>\n",
       "      <td>NaN</td>\n",
       "      <td>87</td>\n",
       "      <td>14.0</td>\n",
       "      <td>Oregon</td>\n",
       "      <td>Willamette Valley</td>\n",
       "      <td>Willamette Valley</td>\n",
       "      <td>Paul Gregutt</td>\n",
       "      <td>@paulgwineÂ</td>\n",
       "      <td>Rainstorm 2013 Pinot Gris (Willamette Valley)</td>\n",
       "      <td>Pinot Gris</td>\n",
       "      <td>Rainstorm</td>\n",
       "    </tr>\n",
       "    <tr>\n",
       "      <th>3</th>\n",
       "      <td>US</td>\n",
       "      <td>Pineapple rind, lemon pith and orange blossom ...</td>\n",
       "      <td>Reserve Late Harvest</td>\n",
       "      <td>87</td>\n",
       "      <td>13.0</td>\n",
       "      <td>Michigan</td>\n",
       "      <td>Lake Michigan Shore</td>\n",
       "      <td>NaN</td>\n",
       "      <td>Alexander Peartree</td>\n",
       "      <td>NaN</td>\n",
       "      <td>St. Julian 2013 Reserve Late Harvest Riesling ...</td>\n",
       "      <td>Riesling</td>\n",
       "      <td>St. Julian</td>\n",
       "    </tr>\n",
       "    <tr>\n",
       "      <th>4</th>\n",
       "      <td>US</td>\n",
       "      <td>Much like the regular bottling from 2012, this...</td>\n",
       "      <td>Vintner's Reserve Wild Child Block</td>\n",
       "      <td>87</td>\n",
       "      <td>65.0</td>\n",
       "      <td>Oregon</td>\n",
       "      <td>Willamette Valley</td>\n",
       "      <td>Willamette Valley</td>\n",
       "      <td>Paul Gregutt</td>\n",
       "      <td>@paulgwineÂ</td>\n",
       "      <td>Sweet Cheeks 2012 Vintner's Reserve Wild Child...</td>\n",
       "      <td>Pinot Noir</td>\n",
       "      <td>Sweet Cheeks</td>\n",
       "    </tr>\n",
       "  </tbody>\n",
       "</table>\n",
       "</div>"
      ],
      "text/plain": [
       "    country                                        description  \\\n",
       "0     Italy  Aromas include tropical fruit, broom, brimston...   \n",
       "1  Portugal  This is ripe and fruity, a wine that is smooth...   \n",
       "2        US  Tart and snappy, the flavors of lime flesh and...   \n",
       "3        US  Pineapple rind, lemon pith and orange blossom ...   \n",
       "4        US  Much like the regular bottling from 2012, this...   \n",
       "\n",
       "                          designation  points  price           province  \\\n",
       "0                       VulkÃ  Bianco      87    NaN  Sicily & Sardinia   \n",
       "1                            Avidagos      87   15.0              Douro   \n",
       "2                                 NaN      87   14.0             Oregon   \n",
       "3                Reserve Late Harvest      87   13.0           Michigan   \n",
       "4  Vintner's Reserve Wild Child Block      87   65.0             Oregon   \n",
       "\n",
       "              region_1           region_2         taster_name  \\\n",
       "0                 Etna                NaN     Kerin OâKeefe   \n",
       "1                  NaN                NaN          Roger Voss   \n",
       "2    Willamette Valley  Willamette Valley        Paul Gregutt   \n",
       "3  Lake Michigan Shore                NaN  Alexander Peartree   \n",
       "4    Willamette Valley  Willamette Valley        Paul Gregutt   \n",
       "\n",
       "  taster_twitter_handle                                              title  \\\n",
       "0          @kerinokeefe                 Nicosia 2013 VulkÃ  Bianco  (Etna)   \n",
       "1            @vossroger      Quinta dos Avidagos 2011 Avidagos Red (Douro)   \n",
       "2          @paulgwineÂ       Rainstorm 2013 Pinot Gris (Willamette Valley)   \n",
       "3                   NaN  St. Julian 2013 Reserve Late Harvest Riesling ...   \n",
       "4          @paulgwineÂ   Sweet Cheeks 2012 Vintner's Reserve Wild Child...   \n",
       "\n",
       "          variety               winery  \n",
       "0     White Blend              Nicosia  \n",
       "1  Portuguese Red  Quinta dos Avidagos  \n",
       "2      Pinot Gris            Rainstorm  \n",
       "3        Riesling           St. Julian  \n",
       "4      Pinot Noir         Sweet Cheeks  "
      ]
     },
     "execution_count": 157,
     "metadata": {},
     "output_type": "execute_result"
    }
   ],
   "source": [
    "# Reexamine our dataframe\n",
    "df.head()"
   ]
  },
  {
   "cell_type": "markdown",
   "metadata": {},
   "source": [
    "## Mean Scores"
   ]
  },
  {
   "cell_type": "code",
   "execution_count": 158,
   "metadata": {
    "ExecuteTime": {
     "end_time": "2022-11-10T17:36:41.068447Z",
     "start_time": "2022-11-10T17:36:41.061650Z"
    },
    "scrolled": true
   },
   "outputs": [
    {
     "data": {
      "text/html": [
       "<div>\n",
       "<style scoped>\n",
       "    .dataframe tbody tr th:only-of-type {\n",
       "        vertical-align: middle;\n",
       "    }\n",
       "\n",
       "    .dataframe tbody tr th {\n",
       "        vertical-align: top;\n",
       "    }\n",
       "\n",
       "    .dataframe thead th {\n",
       "        text-align: right;\n",
       "    }\n",
       "</style>\n",
       "<table border=\"1\" class=\"dataframe\">\n",
       "  <thead>\n",
       "    <tr style=\"text-align: right;\">\n",
       "      <th></th>\n",
       "      <th>points</th>\n",
       "      <th>variety</th>\n",
       "    </tr>\n",
       "  </thead>\n",
       "  <tbody>\n",
       "    <tr>\n",
       "      <th>0</th>\n",
       "      <td>87</td>\n",
       "      <td>White Blend</td>\n",
       "    </tr>\n",
       "    <tr>\n",
       "      <th>1</th>\n",
       "      <td>87</td>\n",
       "      <td>Portuguese Red</td>\n",
       "    </tr>\n",
       "    <tr>\n",
       "      <th>2</th>\n",
       "      <td>87</td>\n",
       "      <td>Pinot Gris</td>\n",
       "    </tr>\n",
       "    <tr>\n",
       "      <th>3</th>\n",
       "      <td>87</td>\n",
       "      <td>Riesling</td>\n",
       "    </tr>\n",
       "    <tr>\n",
       "      <th>4</th>\n",
       "      <td>87</td>\n",
       "      <td>Pinot Noir</td>\n",
       "    </tr>\n",
       "  </tbody>\n",
       "</table>\n",
       "</div>"
      ],
      "text/plain": [
       "   points         variety\n",
       "0      87     White Blend\n",
       "1      87  Portuguese Red\n",
       "2      87      Pinot Gris\n",
       "3      87        Riesling\n",
       "4      87      Pinot Noir"
      ]
     },
     "execution_count": 158,
     "metadata": {},
     "output_type": "execute_result"
    }
   ],
   "source": [
    "# Create a new dataframe with only points and variety\n",
    "variety_df = df.loc[:, ['points', 'variety']]\n",
    "variety_df.head()"
   ]
  },
  {
   "cell_type": "code",
   "execution_count": 159,
   "metadata": {
    "ExecuteTime": {
     "end_time": "2022-11-10T17:36:41.084410Z",
     "start_time": "2022-11-10T17:36:41.069418Z"
    }
   },
   "outputs": [
    {
     "data": {
      "text/plain": [
       "Pinot Noir                    13272\n",
       "Chardonnay                    11753\n",
       "Cabernet Sauvignon             9472\n",
       "Red Blend                      8946\n",
       "Bordeaux-style Red Blend       6915\n",
       "                              ...  \n",
       "Athiri                            1\n",
       "Mavroudi                          1\n",
       "Ojaleshi                          1\n",
       "Cabernet Sauvignon-Barbera        1\n",
       "PaÃ­s                             1\n",
       "Name: variety, Length: 707, dtype: int64"
      ]
     },
     "execution_count": 159,
     "metadata": {},
     "output_type": "execute_result"
    }
   ],
   "source": [
    "# Check how many different varieties there are\n",
    "variety_df['variety'].value_counts()"
   ]
  },
  {
   "cell_type": "markdown",
   "metadata": {},
   "source": [
    "Since there are so many different wine varieties in this dataset (707), we will limit our scope to the 15 that had the most reviews.  It is important to note that these are not necessarily the 15 highest rated wines, they are just the 15 that we have the most information on.  \n",
    "\n",
    "I chose to go this route because I believe that the more ratings a wine has, the more common the wine.  I believe there will be many wines in this dataset that are very obscure and we would like to focus on wines that a new winery could potentially produce."
   ]
  },
  {
   "cell_type": "code",
   "execution_count": 160,
   "metadata": {
    "ExecuteTime": {
     "end_time": "2022-11-10T17:36:41.099433Z",
     "start_time": "2022-11-10T17:36:41.085378Z"
    }
   },
   "outputs": [
    {
     "data": {
      "text/plain": [
       "Pinot Noir                  13272\n",
       "Chardonnay                  11753\n",
       "Cabernet Sauvignon           9472\n",
       "Red Blend                    8946\n",
       "Bordeaux-style Red Blend     6915\n",
       "Riesling                     5189\n",
       "Sauvignon Blanc              4967\n",
       "Syrah                        4142\n",
       "RosÃ©                        3564\n",
       "Merlot                       3102\n",
       "Nebbiolo                     2804\n",
       "Zinfandel                    2714\n",
       "Sangiovese                   2707\n",
       "Malbec                       2652\n",
       "Portuguese Red               2466\n",
       "Name: variety, dtype: int64"
      ]
     },
     "execution_count": 160,
     "metadata": {},
     "output_type": "execute_result"
    }
   ],
   "source": [
    "# Check the top 15 most commonly rated wines\n",
    "variety_df['variety'].value_counts().head(15)"
   ]
  },
  {
   "cell_type": "code",
   "execution_count": 161,
   "metadata": {
    "ExecuteTime": {
     "end_time": "2022-11-10T17:36:41.114604Z",
     "start_time": "2022-11-10T17:36:41.100453Z"
    }
   },
   "outputs": [
    {
     "name": "stdout",
     "output_type": "stream",
     "text": [
      "<class 'pandas.core.frame.DataFrame'>\n",
      "Int64Index: 84665 entries, 1 to 129967\n",
      "Data columns (total 2 columns):\n",
      " #   Column   Non-Null Count  Dtype \n",
      "---  ------   --------------  ----- \n",
      " 0   points   84665 non-null  int64 \n",
      " 1   variety  84665 non-null  object\n",
      "dtypes: int64(1), object(1)\n",
      "memory usage: 1.9+ MB\n"
     ]
    }
   ],
   "source": [
    "# Create a dataframe that only includes top 15 varieties\n",
    "top_15_varieties = ['Pinot Noir', 'Chardonnay', 'Cabernet Sauvignon',\n",
    "                   'Red Blend', 'Bordeaux-style Red Blend', 'Riesling',\n",
    "                   'Sauvignon Blanc', 'Syrah', 'RosÃ©', 'Merlot',\n",
    "                   'Nebbiolo', 'Zinfandel', 'Sangiovese', 'Malbec',\n",
    "                   'Portuguese Red']\n",
    "top_15_df = variety_df[variety_df['variety'].isin(top_15_varieties)]\n",
    "top_15_df.info()"
   ]
  },
  {
   "cell_type": "code",
   "execution_count": 162,
   "metadata": {
    "ExecuteTime": {
     "end_time": "2022-11-10T17:36:41.127429Z",
     "start_time": "2022-11-10T17:36:41.115527Z"
    },
    "scrolled": true
   },
   "outputs": [
    {
     "data": {
      "text/html": [
       "<div>\n",
       "<style scoped>\n",
       "    .dataframe tbody tr th:only-of-type {\n",
       "        vertical-align: middle;\n",
       "    }\n",
       "\n",
       "    .dataframe tbody tr th {\n",
       "        vertical-align: top;\n",
       "    }\n",
       "\n",
       "    .dataframe thead th {\n",
       "        text-align: right;\n",
       "    }\n",
       "</style>\n",
       "<table border=\"1\" class=\"dataframe\">\n",
       "  <thead>\n",
       "    <tr style=\"text-align: right;\">\n",
       "      <th></th>\n",
       "      <th>variety</th>\n",
       "      <th>points</th>\n",
       "    </tr>\n",
       "  </thead>\n",
       "  <tbody>\n",
       "    <tr>\n",
       "      <th>0</th>\n",
       "      <td>Nebbiolo</td>\n",
       "      <td>90.251070</td>\n",
       "    </tr>\n",
       "    <tr>\n",
       "      <th>1</th>\n",
       "      <td>Riesling</td>\n",
       "      <td>89.450183</td>\n",
       "    </tr>\n",
       "    <tr>\n",
       "      <th>2</th>\n",
       "      <td>Pinot Noir</td>\n",
       "      <td>89.411468</td>\n",
       "    </tr>\n",
       "    <tr>\n",
       "      <th>3</th>\n",
       "      <td>Syrah</td>\n",
       "      <td>89.286577</td>\n",
       "    </tr>\n",
       "    <tr>\n",
       "      <th>4</th>\n",
       "      <td>Bordeaux-style Red Blend</td>\n",
       "      <td>89.106435</td>\n",
       "    </tr>\n",
       "    <tr>\n",
       "      <th>5</th>\n",
       "      <td>Portuguese Red</td>\n",
       "      <td>88.810624</td>\n",
       "    </tr>\n",
       "    <tr>\n",
       "      <th>6</th>\n",
       "      <td>Cabernet Sauvignon</td>\n",
       "      <td>88.607580</td>\n",
       "    </tr>\n",
       "    <tr>\n",
       "      <th>7</th>\n",
       "      <td>Sangiovese</td>\n",
       "      <td>88.550794</td>\n",
       "    </tr>\n",
       "    <tr>\n",
       "      <th>8</th>\n",
       "      <td>Red Blend</td>\n",
       "      <td>88.380282</td>\n",
       "    </tr>\n",
       "    <tr>\n",
       "      <th>9</th>\n",
       "      <td>Chardonnay</td>\n",
       "      <td>88.340083</td>\n",
       "    </tr>\n",
       "    <tr>\n",
       "      <th>10</th>\n",
       "      <td>Malbec</td>\n",
       "      <td>87.983032</td>\n",
       "    </tr>\n",
       "    <tr>\n",
       "      <th>11</th>\n",
       "      <td>Zinfandel</td>\n",
       "      <td>87.828666</td>\n",
       "    </tr>\n",
       "    <tr>\n",
       "      <th>12</th>\n",
       "      <td>Sauvignon Blanc</td>\n",
       "      <td>87.429636</td>\n",
       "    </tr>\n",
       "    <tr>\n",
       "      <th>13</th>\n",
       "      <td>Merlot</td>\n",
       "      <td>87.208575</td>\n",
       "    </tr>\n",
       "    <tr>\n",
       "      <th>14</th>\n",
       "      <td>RosÃ©</td>\n",
       "      <td>86.846240</td>\n",
       "    </tr>\n",
       "  </tbody>\n",
       "</table>\n",
       "</div>"
      ],
      "text/plain": [
       "                     variety     points\n",
       "0                   Nebbiolo  90.251070\n",
       "1                   Riesling  89.450183\n",
       "2                 Pinot Noir  89.411468\n",
       "3                      Syrah  89.286577\n",
       "4   Bordeaux-style Red Blend  89.106435\n",
       "5             Portuguese Red  88.810624\n",
       "6         Cabernet Sauvignon  88.607580\n",
       "7                 Sangiovese  88.550794\n",
       "8                  Red Blend  88.380282\n",
       "9                 Chardonnay  88.340083\n",
       "10                    Malbec  87.983032\n",
       "11                 Zinfandel  87.828666\n",
       "12           Sauvignon Blanc  87.429636\n",
       "13                    Merlot  87.208575\n",
       "14                     RosÃ©  86.846240"
      ]
     },
     "execution_count": 162,
     "metadata": {},
     "output_type": "execute_result"
    }
   ],
   "source": [
    "# Group varieties by their mean point scores\n",
    "grouped_df = top_15_df.groupby('variety').mean()\n",
    "grouped_df.sort_values(by='points', ascending=False, inplace=True)\n",
    "grouped_df.reset_index(inplace=True)\n",
    "grouped_df"
   ]
  },
  {
   "cell_type": "code",
   "execution_count": 163,
   "metadata": {
    "ExecuteTime": {
     "end_time": "2022-11-10T17:36:41.303717Z",
     "start_time": "2022-11-10T17:36:41.128336Z"
    }
   },
   "outputs": [
    {
     "data": {
      "image/png": "[encoded data removed]",
      "text/plain": [
       "<Figure size 864x576 with 1 Axes>"
      ]
     },
     "metadata": {
      "needs_background": "light"
     },
     "output_type": "display_data"
    }
   ],
   "source": [
    "# Plot the scores\n",
    "fig, ax = plt.subplots(figsize=(12,8))\n",
    "plt.bar(grouped_df['variety'], grouped_df['points'])\n",
    "plt.xticks(rotation=90)\n",
    "plt.ylim(bottom=80)\n",
    "plt.xlabel('Variety')\n",
    "plt.ylabel('Mean Score')\n",
    "plt.title('Mean Scores of Wine Varieties')\n",
    "plt.savefig('Mean_Variety_Scores.jpg');"
   ]
  },
  {
   "cell_type": "markdown",
   "metadata": {},
   "source": [
    "The wines with the top 5 highest mean scores are:\n",
    "* Nebbiolo\n",
    "* Riesling\n",
    "* Pinot Noir\n",
    "* Syrah\n",
    "* Bordeaux-style Red Blend"
   ]
  },
  {
   "cell_type": "markdown",
   "metadata": {},
   "source": [
    "## Outstanding Scores"
   ]
  },
  {
   "cell_type": "markdown",
   "metadata": {},
   "source": [
    "Next, lets look at the varieties that are common in the 'Outstanding' point range (95-100)."
   ]
  },
  {
   "cell_type": "code",
   "execution_count": 164,
   "metadata": {
    "ExecuteTime": {
     "end_time": "2022-11-10T17:36:41.308996Z",
     "start_time": "2022-11-10T17:36:41.304601Z"
    }
   },
   "outputs": [
    {
     "data": {
      "text/html": [
       "<div>\n",
       "<style scoped>\n",
       "    .dataframe tbody tr th:only-of-type {\n",
       "        vertical-align: middle;\n",
       "    }\n",
       "\n",
       "    .dataframe tbody tr th {\n",
       "        vertical-align: top;\n",
       "    }\n",
       "\n",
       "    .dataframe thead th {\n",
       "        text-align: right;\n",
       "    }\n",
       "</style>\n",
       "<table border=\"1\" class=\"dataframe\">\n",
       "  <thead>\n",
       "    <tr style=\"text-align: right;\">\n",
       "      <th></th>\n",
       "      <th>points</th>\n",
       "      <th>variety</th>\n",
       "      <th>number</th>\n",
       "    </tr>\n",
       "  </thead>\n",
       "  <tbody>\n",
       "    <tr>\n",
       "      <th>1</th>\n",
       "      <td>87</td>\n",
       "      <td>Portuguese Red</td>\n",
       "      <td>1</td>\n",
       "    </tr>\n",
       "    <tr>\n",
       "      <th>3</th>\n",
       "      <td>87</td>\n",
       "      <td>Riesling</td>\n",
       "      <td>1</td>\n",
       "    </tr>\n",
       "    <tr>\n",
       "      <th>4</th>\n",
       "      <td>87</td>\n",
       "      <td>Pinot Noir</td>\n",
       "      <td>1</td>\n",
       "    </tr>\n",
       "    <tr>\n",
       "      <th>10</th>\n",
       "      <td>87</td>\n",
       "      <td>Cabernet Sauvignon</td>\n",
       "      <td>1</td>\n",
       "    </tr>\n",
       "    <tr>\n",
       "      <th>12</th>\n",
       "      <td>87</td>\n",
       "      <td>Cabernet Sauvignon</td>\n",
       "      <td>1</td>\n",
       "    </tr>\n",
       "  </tbody>\n",
       "</table>\n",
       "</div>"
      ],
      "text/plain": [
       "    points             variety  number\n",
       "1       87      Portuguese Red       1\n",
       "3       87            Riesling       1\n",
       "4       87          Pinot Noir       1\n",
       "10      87  Cabernet Sauvignon       1\n",
       "12      87  Cabernet Sauvignon       1"
      ]
     },
     "execution_count": 164,
     "metadata": {},
     "output_type": "execute_result"
    }
   ],
   "source": [
    "top_15_df['number'] = 1\n",
    "top_15_df.head()"
   ]
  },
  {
   "cell_type": "code",
   "execution_count": 165,
   "metadata": {
    "ExecuteTime": {
     "end_time": "2022-11-10T17:36:41.318911Z",
     "start_time": "2022-11-10T17:36:41.309838Z"
    }
   },
   "outputs": [
    {
     "data": {
      "text/html": [
       "<div>\n",
       "<style scoped>\n",
       "    .dataframe tbody tr th:only-of-type {\n",
       "        vertical-align: middle;\n",
       "    }\n",
       "\n",
       "    .dataframe tbody tr th {\n",
       "        vertical-align: top;\n",
       "    }\n",
       "\n",
       "    .dataframe thead th {\n",
       "        text-align: right;\n",
       "    }\n",
       "</style>\n",
       "<table border=\"1\" class=\"dataframe\">\n",
       "  <thead>\n",
       "    <tr style=\"text-align: right;\">\n",
       "      <th></th>\n",
       "      <th>number</th>\n",
       "    </tr>\n",
       "    <tr>\n",
       "      <th>points</th>\n",
       "      <th></th>\n",
       "    </tr>\n",
       "  </thead>\n",
       "  <tbody>\n",
       "    <tr>\n",
       "      <th>100</th>\n",
       "      <td>12</td>\n",
       "    </tr>\n",
       "    <tr>\n",
       "      <th>99</th>\n",
       "      <td>27</td>\n",
       "    </tr>\n",
       "    <tr>\n",
       "      <th>98</th>\n",
       "      <td>58</td>\n",
       "    </tr>\n",
       "    <tr>\n",
       "      <th>97</th>\n",
       "      <td>178</td>\n",
       "    </tr>\n",
       "    <tr>\n",
       "      <th>96</th>\n",
       "      <td>409</td>\n",
       "    </tr>\n",
       "    <tr>\n",
       "      <th>95</th>\n",
       "      <td>1201</td>\n",
       "    </tr>\n",
       "    <tr>\n",
       "      <th>94</th>\n",
       "      <td>2922</td>\n",
       "    </tr>\n",
       "    <tr>\n",
       "      <th>93</th>\n",
       "      <td>4846</td>\n",
       "    </tr>\n",
       "    <tr>\n",
       "      <th>92</th>\n",
       "      <td>6825</td>\n",
       "    </tr>\n",
       "    <tr>\n",
       "      <th>91</th>\n",
       "      <td>7880</td>\n",
       "    </tr>\n",
       "    <tr>\n",
       "      <th>90</th>\n",
       "      <td>10166</td>\n",
       "    </tr>\n",
       "    <tr>\n",
       "      <th>89</th>\n",
       "      <td>7549</td>\n",
       "    </tr>\n",
       "    <tr>\n",
       "      <th>88</th>\n",
       "      <td>10636</td>\n",
       "    </tr>\n",
       "    <tr>\n",
       "      <th>87</th>\n",
       "      <td>10303</td>\n",
       "    </tr>\n",
       "    <tr>\n",
       "      <th>86</th>\n",
       "      <td>7643</td>\n",
       "    </tr>\n",
       "    <tr>\n",
       "      <th>85</th>\n",
       "      <td>5892</td>\n",
       "    </tr>\n",
       "    <tr>\n",
       "      <th>84</th>\n",
       "      <td>4193</td>\n",
       "    </tr>\n",
       "    <tr>\n",
       "      <th>83</th>\n",
       "      <td>1961</td>\n",
       "    </tr>\n",
       "    <tr>\n",
       "      <th>82</th>\n",
       "      <td>1239</td>\n",
       "    </tr>\n",
       "    <tr>\n",
       "      <th>81</th>\n",
       "      <td>475</td>\n",
       "    </tr>\n",
       "    <tr>\n",
       "      <th>80</th>\n",
       "      <td>250</td>\n",
       "    </tr>\n",
       "  </tbody>\n",
       "</table>\n",
       "</div>"
      ],
      "text/plain": [
       "        number\n",
       "points        \n",
       "100         12\n",
       "99          27\n",
       "98          58\n",
       "97         178\n",
       "96         409\n",
       "95        1201\n",
       "94        2922\n",
       "93        4846\n",
       "92        6825\n",
       "91        7880\n",
       "90       10166\n",
       "89        7549\n",
       "88       10636\n",
       "87       10303\n",
       "86        7643\n",
       "85        5892\n",
       "84        4193\n",
       "83        1961\n",
       "82        1239\n",
       "81         475\n",
       "80         250"
      ]
     },
     "execution_count": 165,
     "metadata": {},
     "output_type": "execute_result"
    }
   ],
   "source": [
    "top_15_df.groupby('points').sum().sort_values(by='points', ascending=False)"
   ]
  },
  {
   "cell_type": "code",
   "execution_count": 166,
   "metadata": {
    "ExecuteTime": {
     "end_time": "2022-11-10T17:36:41.328363Z",
     "start_time": "2022-11-10T17:36:41.319902Z"
    }
   },
   "outputs": [
    {
     "data": {
      "text/html": [
       "<div>\n",
       "<style scoped>\n",
       "    .dataframe tbody tr th:only-of-type {\n",
       "        vertical-align: middle;\n",
       "    }\n",
       "\n",
       "    .dataframe tbody tr th {\n",
       "        vertical-align: top;\n",
       "    }\n",
       "\n",
       "    .dataframe thead th {\n",
       "        text-align: right;\n",
       "    }\n",
       "</style>\n",
       "<table border=\"1\" class=\"dataframe\">\n",
       "  <thead>\n",
       "    <tr style=\"text-align: right;\">\n",
       "      <th></th>\n",
       "      <th>points</th>\n",
       "      <th>variety</th>\n",
       "      <th>number</th>\n",
       "    </tr>\n",
       "  </thead>\n",
       "  <tbody>\n",
       "    <tr>\n",
       "      <th>347</th>\n",
       "      <td>97</td>\n",
       "      <td>Riesling</td>\n",
       "      <td>1</td>\n",
       "    </tr>\n",
       "    <tr>\n",
       "      <th>350</th>\n",
       "      <td>97</td>\n",
       "      <td>Nebbiolo</td>\n",
       "      <td>1</td>\n",
       "    </tr>\n",
       "    <tr>\n",
       "      <th>352</th>\n",
       "      <td>96</td>\n",
       "      <td>Chardonnay</td>\n",
       "      <td>1</td>\n",
       "    </tr>\n",
       "    <tr>\n",
       "      <th>353</th>\n",
       "      <td>96</td>\n",
       "      <td>Chardonnay</td>\n",
       "      <td>1</td>\n",
       "    </tr>\n",
       "    <tr>\n",
       "      <th>354</th>\n",
       "      <td>96</td>\n",
       "      <td>Riesling</td>\n",
       "      <td>1</td>\n",
       "    </tr>\n",
       "    <tr>\n",
       "      <th>...</th>\n",
       "      <td>...</td>\n",
       "      <td>...</td>\n",
       "      <td>...</td>\n",
       "    </tr>\n",
       "    <tr>\n",
       "      <th>128270</th>\n",
       "      <td>97</td>\n",
       "      <td>Cabernet Sauvignon</td>\n",
       "      <td>1</td>\n",
       "    </tr>\n",
       "    <tr>\n",
       "      <th>128681</th>\n",
       "      <td>95</td>\n",
       "      <td>Chardonnay</td>\n",
       "      <td>1</td>\n",
       "    </tr>\n",
       "    <tr>\n",
       "      <th>128682</th>\n",
       "      <td>95</td>\n",
       "      <td>Pinot Noir</td>\n",
       "      <td>1</td>\n",
       "    </tr>\n",
       "    <tr>\n",
       "      <th>128683</th>\n",
       "      <td>95</td>\n",
       "      <td>Pinot Noir</td>\n",
       "      <td>1</td>\n",
       "    </tr>\n",
       "    <tr>\n",
       "      <th>128684</th>\n",
       "      <td>95</td>\n",
       "      <td>Cabernet Sauvignon</td>\n",
       "      <td>1</td>\n",
       "    </tr>\n",
       "  </tbody>\n",
       "</table>\n",
       "<p>1885 rows × 3 columns</p>\n",
       "</div>"
      ],
      "text/plain": [
       "        points             variety  number\n",
       "347         97            Riesling       1\n",
       "350         97            Nebbiolo       1\n",
       "352         96          Chardonnay       1\n",
       "353         96          Chardonnay       1\n",
       "354         96            Riesling       1\n",
       "...        ...                 ...     ...\n",
       "128270      97  Cabernet Sauvignon       1\n",
       "128681      95          Chardonnay       1\n",
       "128682      95          Pinot Noir       1\n",
       "128683      95          Pinot Noir       1\n",
       "128684      95  Cabernet Sauvignon       1\n",
       "\n",
       "[1885 rows x 3 columns]"
      ]
     },
     "execution_count": 166,
     "metadata": {},
     "output_type": "execute_result"
    }
   ],
   "source": [
    "outstanding_points_df = top_15_df[top_15_df['points'].between(95,100)]\n",
    "outstanding_points_df"
   ]
  },
  {
   "cell_type": "code",
   "execution_count": 167,
   "metadata": {
    "ExecuteTime": {
     "end_time": "2022-11-10T17:36:41.335439Z",
     "start_time": "2022-11-10T17:36:41.329234Z"
    }
   },
   "outputs": [
    {
     "data": {
      "text/html": [
       "<div>\n",
       "<style scoped>\n",
       "    .dataframe tbody tr th:only-of-type {\n",
       "        vertical-align: middle;\n",
       "    }\n",
       "\n",
       "    .dataframe tbody tr th {\n",
       "        vertical-align: top;\n",
       "    }\n",
       "\n",
       "    .dataframe thead th {\n",
       "        text-align: right;\n",
       "    }\n",
       "</style>\n",
       "<table border=\"1\" class=\"dataframe\">\n",
       "  <thead>\n",
       "    <tr style=\"text-align: right;\">\n",
       "      <th></th>\n",
       "      <th>points</th>\n",
       "      <th>number</th>\n",
       "    </tr>\n",
       "    <tr>\n",
       "      <th>variety</th>\n",
       "      <th></th>\n",
       "      <th></th>\n",
       "    </tr>\n",
       "  </thead>\n",
       "  <tbody>\n",
       "    <tr>\n",
       "      <th>Pinot Noir</th>\n",
       "      <td>38373</td>\n",
       "      <td>402</td>\n",
       "    </tr>\n",
       "    <tr>\n",
       "      <th>Cabernet Sauvignon</th>\n",
       "      <td>26204</td>\n",
       "      <td>274</td>\n",
       "    </tr>\n",
       "    <tr>\n",
       "      <th>Bordeaux-style Red Blend</th>\n",
       "      <td>24547</td>\n",
       "      <td>256</td>\n",
       "    </tr>\n",
       "    <tr>\n",
       "      <th>Chardonnay</th>\n",
       "      <td>24152</td>\n",
       "      <td>253</td>\n",
       "    </tr>\n",
       "    <tr>\n",
       "      <th>Riesling</th>\n",
       "      <td>18506</td>\n",
       "      <td>194</td>\n",
       "    </tr>\n",
       "    <tr>\n",
       "      <th>Nebbiolo</th>\n",
       "      <td>14443</td>\n",
       "      <td>151</td>\n",
       "    </tr>\n",
       "    <tr>\n",
       "      <th>Red Blend</th>\n",
       "      <td>8417</td>\n",
       "      <td>88</td>\n",
       "    </tr>\n",
       "    <tr>\n",
       "      <th>Syrah</th>\n",
       "      <td>8145</td>\n",
       "      <td>85</td>\n",
       "    </tr>\n",
       "    <tr>\n",
       "      <th>Sangiovese</th>\n",
       "      <td>6315</td>\n",
       "      <td>66</td>\n",
       "    </tr>\n",
       "    <tr>\n",
       "      <th>Portuguese Red</th>\n",
       "      <td>4297</td>\n",
       "      <td>45</td>\n",
       "    </tr>\n",
       "    <tr>\n",
       "      <th>Merlot</th>\n",
       "      <td>2593</td>\n",
       "      <td>27</td>\n",
       "    </tr>\n",
       "    <tr>\n",
       "      <th>Malbec</th>\n",
       "      <td>1904</td>\n",
       "      <td>20</td>\n",
       "    </tr>\n",
       "    <tr>\n",
       "      <th>Zinfandel</th>\n",
       "      <td>1429</td>\n",
       "      <td>15</td>\n",
       "    </tr>\n",
       "    <tr>\n",
       "      <th>Sauvignon Blanc</th>\n",
       "      <td>761</td>\n",
       "      <td>8</td>\n",
       "    </tr>\n",
       "    <tr>\n",
       "      <th>RosÃ©</th>\n",
       "      <td>96</td>\n",
       "      <td>1</td>\n",
       "    </tr>\n",
       "  </tbody>\n",
       "</table>\n",
       "</div>"
      ],
      "text/plain": [
       "                          points  number\n",
       "variety                                 \n",
       "Pinot Noir                 38373     402\n",
       "Cabernet Sauvignon         26204     274\n",
       "Bordeaux-style Red Blend   24547     256\n",
       "Chardonnay                 24152     253\n",
       "Riesling                   18506     194\n",
       "Nebbiolo                   14443     151\n",
       "Red Blend                   8417      88\n",
       "Syrah                       8145      85\n",
       "Sangiovese                  6315      66\n",
       "Portuguese Red              4297      45\n",
       "Merlot                      2593      27\n",
       "Malbec                      1904      20\n",
       "Zinfandel                   1429      15\n",
       "Sauvignon Blanc              761       8\n",
       "RosÃ©                         96       1"
      ]
     },
     "execution_count": 167,
     "metadata": {},
     "output_type": "execute_result"
    }
   ],
   "source": [
    "outstanding_points_df.groupby('variety').sum().sort_values(by='number', ascending=False)"
   ]
  },
  {
   "cell_type": "markdown",
   "metadata": {},
   "source": [
    "The wines most commonly rated 'Outstanding':\n",
    "* Pinot Noir\n",
    "* Cabernet Sauvignon\n",
    "* Bordeaux-style Red Blend\n",
    "* Chardonnay\n",
    "* Riesling"
   ]
  },
  {
   "cell_type": "markdown",
   "metadata": {},
   "source": [
    "## Perfect Scores"
   ]
  },
  {
   "cell_type": "markdown",
   "metadata": {},
   "source": [
    "Finally, lets explore the varieties with a perfect score of 100 points."
   ]
  },
  {
   "cell_type": "code",
   "execution_count": 168,
   "metadata": {
    "ExecuteTime": {
     "end_time": "2022-11-10T17:36:41.342790Z",
     "start_time": "2022-11-10T17:36:41.336464Z"
    }
   },
   "outputs": [
    {
     "data": {
      "text/html": [
       "<div>\n",
       "<style scoped>\n",
       "    .dataframe tbody tr th:only-of-type {\n",
       "        vertical-align: middle;\n",
       "    }\n",
       "\n",
       "    .dataframe tbody tr th {\n",
       "        vertical-align: top;\n",
       "    }\n",
       "\n",
       "    .dataframe thead th {\n",
       "        text-align: right;\n",
       "    }\n",
       "</style>\n",
       "<table border=\"1\" class=\"dataframe\">\n",
       "  <thead>\n",
       "    <tr style=\"text-align: right;\">\n",
       "      <th></th>\n",
       "      <th>points</th>\n",
       "      <th>variety</th>\n",
       "      <th>number</th>\n",
       "    </tr>\n",
       "  </thead>\n",
       "  <tbody>\n",
       "    <tr>\n",
       "      <th>39286</th>\n",
       "      <td>100</td>\n",
       "      <td>Merlot</td>\n",
       "      <td>1</td>\n",
       "    </tr>\n",
       "    <tr>\n",
       "      <th>42197</th>\n",
       "      <td>100</td>\n",
       "      <td>Portuguese Red</td>\n",
       "      <td>1</td>\n",
       "    </tr>\n",
       "    <tr>\n",
       "      <th>45781</th>\n",
       "      <td>100</td>\n",
       "      <td>Sangiovese</td>\n",
       "      <td>1</td>\n",
       "    </tr>\n",
       "    <tr>\n",
       "      <th>45798</th>\n",
       "      <td>100</td>\n",
       "      <td>Cabernet Sauvignon</td>\n",
       "      <td>1</td>\n",
       "    </tr>\n",
       "    <tr>\n",
       "      <th>58352</th>\n",
       "      <td>100</td>\n",
       "      <td>Bordeaux-style Red Blend</td>\n",
       "      <td>1</td>\n",
       "    </tr>\n",
       "    <tr>\n",
       "      <th>89729</th>\n",
       "      <td>100</td>\n",
       "      <td>Chardonnay</td>\n",
       "      <td>1</td>\n",
       "    </tr>\n",
       "    <tr>\n",
       "      <th>111753</th>\n",
       "      <td>100</td>\n",
       "      <td>Bordeaux-style Red Blend</td>\n",
       "      <td>1</td>\n",
       "    </tr>\n",
       "    <tr>\n",
       "      <th>111755</th>\n",
       "      <td>100</td>\n",
       "      <td>Bordeaux-style Red Blend</td>\n",
       "      <td>1</td>\n",
       "    </tr>\n",
       "    <tr>\n",
       "      <th>111756</th>\n",
       "      <td>100</td>\n",
       "      <td>Bordeaux-style Red Blend</td>\n",
       "      <td>1</td>\n",
       "    </tr>\n",
       "    <tr>\n",
       "      <th>113929</th>\n",
       "      <td>100</td>\n",
       "      <td>Syrah</td>\n",
       "      <td>1</td>\n",
       "    </tr>\n",
       "    <tr>\n",
       "      <th>118058</th>\n",
       "      <td>100</td>\n",
       "      <td>Bordeaux-style Red Blend</td>\n",
       "      <td>1</td>\n",
       "    </tr>\n",
       "    <tr>\n",
       "      <th>123545</th>\n",
       "      <td>100</td>\n",
       "      <td>Syrah</td>\n",
       "      <td>1</td>\n",
       "    </tr>\n",
       "  </tbody>\n",
       "</table>\n",
       "</div>"
      ],
      "text/plain": [
       "        points                   variety  number\n",
       "39286      100                    Merlot       1\n",
       "42197      100            Portuguese Red       1\n",
       "45781      100                Sangiovese       1\n",
       "45798      100        Cabernet Sauvignon       1\n",
       "58352      100  Bordeaux-style Red Blend       1\n",
       "89729      100                Chardonnay       1\n",
       "111753     100  Bordeaux-style Red Blend       1\n",
       "111755     100  Bordeaux-style Red Blend       1\n",
       "111756     100  Bordeaux-style Red Blend       1\n",
       "113929     100                     Syrah       1\n",
       "118058     100  Bordeaux-style Red Blend       1\n",
       "123545     100                     Syrah       1"
      ]
     },
     "execution_count": 168,
     "metadata": {},
     "output_type": "execute_result"
    }
   ],
   "source": [
    "perfect_points_df = top_15_df[top_15_df['points']==100]\n",
    "perfect_points_df"
   ]
  },
  {
   "cell_type": "code",
   "execution_count": 169,
   "metadata": {
    "ExecuteTime": {
     "end_time": "2022-11-10T17:36:41.352156Z",
     "start_time": "2022-11-10T17:36:41.344528Z"
    }
   },
   "outputs": [
    {
     "data": {
      "text/html": [
       "<div>\n",
       "<style scoped>\n",
       "    .dataframe tbody tr th:only-of-type {\n",
       "        vertical-align: middle;\n",
       "    }\n",
       "\n",
       "    .dataframe tbody tr th {\n",
       "        vertical-align: top;\n",
       "    }\n",
       "\n",
       "    .dataframe thead th {\n",
       "        text-align: right;\n",
       "    }\n",
       "</style>\n",
       "<table border=\"1\" class=\"dataframe\">\n",
       "  <thead>\n",
       "    <tr style=\"text-align: right;\">\n",
       "      <th></th>\n",
       "      <th>points</th>\n",
       "      <th>number</th>\n",
       "    </tr>\n",
       "    <tr>\n",
       "      <th>variety</th>\n",
       "      <th></th>\n",
       "      <th></th>\n",
       "    </tr>\n",
       "  </thead>\n",
       "  <tbody>\n",
       "    <tr>\n",
       "      <th>Bordeaux-style Red Blend</th>\n",
       "      <td>500</td>\n",
       "      <td>5</td>\n",
       "    </tr>\n",
       "    <tr>\n",
       "      <th>Syrah</th>\n",
       "      <td>200</td>\n",
       "      <td>2</td>\n",
       "    </tr>\n",
       "    <tr>\n",
       "      <th>Cabernet Sauvignon</th>\n",
       "      <td>100</td>\n",
       "      <td>1</td>\n",
       "    </tr>\n",
       "    <tr>\n",
       "      <th>Chardonnay</th>\n",
       "      <td>100</td>\n",
       "      <td>1</td>\n",
       "    </tr>\n",
       "    <tr>\n",
       "      <th>Merlot</th>\n",
       "      <td>100</td>\n",
       "      <td>1</td>\n",
       "    </tr>\n",
       "    <tr>\n",
       "      <th>Portuguese Red</th>\n",
       "      <td>100</td>\n",
       "      <td>1</td>\n",
       "    </tr>\n",
       "    <tr>\n",
       "      <th>Sangiovese</th>\n",
       "      <td>100</td>\n",
       "      <td>1</td>\n",
       "    </tr>\n",
       "  </tbody>\n",
       "</table>\n",
       "</div>"
      ],
      "text/plain": [
       "                          points  number\n",
       "variety                                 \n",
       "Bordeaux-style Red Blend     500       5\n",
       "Syrah                        200       2\n",
       "Cabernet Sauvignon           100       1\n",
       "Chardonnay                   100       1\n",
       "Merlot                       100       1\n",
       "Portuguese Red               100       1\n",
       "Sangiovese                   100       1"
      ]
     },
     "execution_count": 169,
     "metadata": {},
     "output_type": "execute_result"
    }
   ],
   "source": [
    "perfect_points_df.groupby('variety').sum().sort_values(by='number', ascending=False)"
   ]
  },
  {
   "cell_type": "markdown",
   "metadata": {},
   "source": [
    "The two wines that have received a perfect score more than once are:\n",
    "* Bordeaux-style Red Blend (5 times)\n",
    "* Syrah (2 times)"
   ]
  },
  {
   "cell_type": "markdown",
   "metadata": {},
   "source": [
    "## Wine Varieties Conclusions"
   ]
  },
  {
   "cell_type": "markdown",
   "metadata": {},
   "source": [
    "Based on these findings, the three wines that I believe have the best potential to receive high scores are:\n",
    "* **Bordeaux-style Red Blend** - high mean score, commonly in the outstanding point range, five perfect scores\n",
    "* **Pinot Noir** - high mean score, commonly in the outstanding point range\n",
    "* **Syrah** - high mean score, two perfect scores"
   ]
  },
  {
   "cell_type": "markdown",
   "metadata": {},
   "source": [
    "# Recommendations"
   ]
  },
  {
   "cell_type": "markdown",
   "metadata": {},
   "source": [
    "**Naive Bayes Model** - This model can be used reliably to predict if a wine will make it into the 'Very Good' tier, which will helpful for a wine maker to assess their current wines. I would recommend using this model to understand who well current wines would be received."
   ]
  },
  {
   "cell_type": "markdown",
   "metadata": {},
   "source": [
    "**Keywords** - Based on our findings for wine description keywords, I would recommend producing complex, aged red wines with deep flavor profiles.  I would also suggest exploring flavors such as spice, pepper, and chocolate in full bodied wines."
   ]
  },
  {
   "cell_type": "markdown",
   "metadata": {},
   "source": [
    "**Varieties** - The three varieties that I would recommend producing are:\n",
    "* Bordeaux-style Red Blend - Full bodied red wine with hints of chocolate and black current.\n",
    "* Pinot Noir - Versatile red wine loved for its red fruit and spice flavors and smooth finish.\n",
    "* Syrah - Rich, meaty red wine characterized by tobacco, plum, and peppercorn. \n",
    "\n",
    "These wines historically score highly and also correspond with the keywords we discovered above."
   ]
  },
  {
   "cell_type": "markdown",
   "metadata": {},
   "source": [
    "# Next Steps"
   ]
  },
  {
   "cell_type": "markdown",
   "metadata": {},
   "source": [
    "**Putting Model into Action** - The first step I would take is gathering the data from our current wines to predict their score level."
   ]
  },
  {
   "cell_type": "markdown",
   "metadata": {},
   "source": [
    "**Exploring Wineries** - One next step we could take is exploring the different wineries in the dataset.  If certain wineries are receiving high scores for their wines, we can look into their processes for creating wines."
   ]
  },
  {
   "cell_type": "markdown",
   "metadata": {},
   "source": [
    "**Recommendation System** - Finally, I would recommend building a recommendation system for the tasters at Wine Enthusiast to help understand which wines to market toward each."
   ]
  }
 ],
 "metadata": {
  "kernelspec": {
   "display_name": "Python 3",
   "language": "python",
   "name": "python3"
  },
  "language_info": {
   "codemirror_mode": {
    "name": "ipython",
    "version": 3
   },
   "file_extension": ".py",
   "mimetype": "text/x-python",
   "name": "python",
   "nbconvert_exporter": "python",
   "pygments_lexer": "ipython3",
   "version": "3.8.5"
  },
  "toc": {
   "base_numbering": 1,
   "nav_menu": {},
   "number_sections": true,
   "sideBar": true,
   "skip_h1_title": false,
   "title_cell": "Table of Contents",
   "title_sidebar": "Contents",
   "toc_cell": false,
   "toc_position": {},
   "toc_section_display": true,
   "toc_window_display": true
  }
 },
 "nbformat": 4,
 "nbformat_minor": 4
}
