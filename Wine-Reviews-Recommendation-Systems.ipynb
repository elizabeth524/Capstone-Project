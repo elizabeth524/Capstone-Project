{
 "cells": [
  {
   "cell_type": "markdown",
   "metadata": {},
   "source": [
    "# Wine Reviews Recommendation Systems"
   ]
  },
  {
   "cell_type": "markdown",
   "metadata": {},
   "source": [
    "**Prepared by Elizabeth Webster**\n",
    "\n",
    "*November 2022*"
   ]
  },
  {
   "cell_type": "markdown",
   "metadata": {},
   "source": [
    "## Overview"
   ]
  },
  {
   "cell_type": "markdown",
   "metadata": {},
   "source": [
    "Create a recommendation system for Wine Enthusiast's tasters using Surprise."
   ]
  },
  {
   "cell_type": "markdown",
   "metadata": {},
   "source": [
    "## Business Problem"
   ]
  },
  {
   "cell_type": "markdown",
   "metadata": {},
   "source": [
    "This project is being prepared for a small winery in Walla Walla.  They are just starting out and currently only producing a few wines. Their wine maker wants to gain insight on how to generate wines that will be rated highly.\n",
    "\n",
    "In this section of the project, I will create a recommendation system for Wine Enthusiast's tasters"
   ]
  },
  {
   "cell_type": "markdown",
   "metadata": {},
   "source": [
    "## Dataset"
   ]
  },
  {
   "cell_type": "markdown",
   "metadata": {},
   "source": [
    "The data that I am using comes from Wine Enthusiast and includes information on 130,000 different wines.  This information includes the description, variety, winery, country, taster name, etc."
   ]
  },
  {
   "cell_type": "markdown",
   "metadata": {},
   "source": [
    "# Data Understanding"
   ]
  },
  {
   "cell_type": "markdown",
   "metadata": {},
   "source": []
  },
  {
   "cell_type": "code",
   "execution_count": 16,
   "metadata": {
    "ExecuteTime": {
     "end_time": "2022-11-09T18:19:16.021528Z",
     "start_time": "2022-11-09T18:19:16.014858Z"
    }
   },
   "outputs": [],
   "source": [
    "import pandas as pd\n",
    "from sklearn.model_selection import train_test_split\n",
    "import matplotlib.pyplot as plt\n",
    "import seaborn as sns\n",
    "import numpy as np\n",
    "from surprise import Reader, Dataset\n",
    "from surprise.model_selection import cross_validate\n",
    "from surprise.prediction_algorithms import SVD\n",
    "from surprise.prediction_algorithms import KNNWithMeans, KNNBasic, KNNBaseline\n",
    "from surprise.model_selection import GridSearchCV\n",
    "import warnings\n",
    "warnings.filterwarnings('ignore')"
   ]
  },
  {
   "cell_type": "code",
   "execution_count": 2,
   "metadata": {
    "ExecuteTime": {
     "end_time": "2022-11-09T18:03:11.200959Z",
     "start_time": "2022-11-09T18:03:10.386417Z"
    }
   },
   "outputs": [],
   "source": [
    "df = pd.read_csv('Data/winemag-data-130k-v2.csv.zip', encoding='latin-1', index_col=0)"
   ]
  },
  {
   "cell_type": "code",
   "execution_count": 4,
   "metadata": {
    "ExecuteTime": {
     "end_time": "2022-11-09T18:03:26.305727Z",
     "start_time": "2022-11-09T18:03:26.206946Z"
    }
   },
   "outputs": [
    {
     "name": "stdout",
     "output_type": "stream",
     "text": [
      "<class 'pandas.core.frame.DataFrame'>\n",
      "Int64Index: 129971 entries, 0 to 129970\n",
      "Data columns (total 13 columns):\n",
      " #   Column                 Non-Null Count   Dtype  \n",
      "---  ------                 --------------   -----  \n",
      " 0   country                129908 non-null  object \n",
      " 1   description            129971 non-null  object \n",
      " 2   designation            92506 non-null   object \n",
      " 3   points                 129971 non-null  int64  \n",
      " 4   price                  120975 non-null  float64\n",
      " 5   province               129908 non-null  object \n",
      " 6   region_1               108724 non-null  object \n",
      " 7   region_2               50511 non-null   object \n",
      " 8   taster_name            103727 non-null  object \n",
      " 9   taster_twitter_handle  98758 non-null   object \n",
      " 10  title                  129971 non-null  object \n",
      " 11  variety                129970 non-null  object \n",
      " 12  winery                 129971 non-null  object \n",
      "dtypes: float64(1), int64(1), object(11)\n",
      "memory usage: 13.9+ MB\n"
     ]
    }
   ],
   "source": [
    "df.info()"
   ]
  },
  {
   "cell_type": "code",
   "execution_count": 8,
   "metadata": {
    "ExecuteTime": {
     "end_time": "2022-11-09T18:07:23.101642Z",
     "start_time": "2022-11-09T18:07:23.083421Z"
    },
    "scrolled": true
   },
   "outputs": [
    {
     "data": {
      "text/html": [
       "<div>\n",
       "<style scoped>\n",
       "    .dataframe tbody tr th:only-of-type {\n",
       "        vertical-align: middle;\n",
       "    }\n",
       "\n",
       "    .dataframe tbody tr th {\n",
       "        vertical-align: top;\n",
       "    }\n",
       "\n",
       "    .dataframe thead th {\n",
       "        text-align: right;\n",
       "    }\n",
       "</style>\n",
       "<table border=\"1\" class=\"dataframe\">\n",
       "  <thead>\n",
       "    <tr style=\"text-align: right;\">\n",
       "      <th></th>\n",
       "      <th>points</th>\n",
       "      <th>taster_name</th>\n",
       "      <th>variety</th>\n",
       "    </tr>\n",
       "  </thead>\n",
       "  <tbody>\n",
       "    <tr>\n",
       "      <th>0</th>\n",
       "      <td>87</td>\n",
       "      <td>Kerin OâKeefe</td>\n",
       "      <td>White Blend</td>\n",
       "    </tr>\n",
       "    <tr>\n",
       "      <th>1</th>\n",
       "      <td>87</td>\n",
       "      <td>Roger Voss</td>\n",
       "      <td>Portuguese Red</td>\n",
       "    </tr>\n",
       "    <tr>\n",
       "      <th>2</th>\n",
       "      <td>87</td>\n",
       "      <td>Paul Gregutt</td>\n",
       "      <td>Pinot Gris</td>\n",
       "    </tr>\n",
       "    <tr>\n",
       "      <th>3</th>\n",
       "      <td>87</td>\n",
       "      <td>Alexander Peartree</td>\n",
       "      <td>Riesling</td>\n",
       "    </tr>\n",
       "    <tr>\n",
       "      <th>4</th>\n",
       "      <td>87</td>\n",
       "      <td>Paul Gregutt</td>\n",
       "      <td>Pinot Noir</td>\n",
       "    </tr>\n",
       "  </tbody>\n",
       "</table>\n",
       "</div>"
      ],
      "text/plain": [
       "   points         taster_name         variety\n",
       "0      87     Kerin OâKeefe     White Blend\n",
       "1      87          Roger Voss  Portuguese Red\n",
       "2      87        Paul Gregutt      Pinot Gris\n",
       "3      87  Alexander Peartree        Riesling\n",
       "4      87        Paul Gregutt      Pinot Noir"
      ]
     },
     "execution_count": 8,
     "metadata": {},
     "output_type": "execute_result"
    }
   ],
   "source": [
    "rec_df = df.loc[:, ('points', 'taster_name', 'variety')]\n",
    "rec_df.head()"
   ]
  },
  {
   "cell_type": "code",
   "execution_count": 32,
   "metadata": {
    "ExecuteTime": {
     "end_time": "2022-11-09T18:36:05.644763Z",
     "start_time": "2022-11-09T18:36:05.481380Z"
    }
   },
   "outputs": [],
   "source": [
    "reader = Reader(rating_scale=(80,100))\n",
    "data = Dataset.load_from_df(rec_df[['taster_name', 'variety', 'points']],reader)"
   ]
  },
  {
   "cell_type": "code",
   "execution_count": 33,
   "metadata": {
    "ExecuteTime": {
     "end_time": "2022-11-09T18:36:06.600267Z",
     "start_time": "2022-11-09T18:36:06.512491Z"
    }
   },
   "outputs": [
    {
     "name": "stdout",
     "output_type": "stream",
     "text": [
      "Number of users:  20 \n",
      "\n",
      "Number of items:  708\n"
     ]
    }
   ],
   "source": [
    "dataset = data.build_full_trainset()\n",
    "print('Number of users: ', dataset.n_users, '\\n')\n",
    "print('Number of items: ', dataset.n_items)"
   ]
  },
  {
   "cell_type": "code",
   "execution_count": 34,
   "metadata": {
    "ExecuteTime": {
     "end_time": "2022-11-09T18:36:38.798185Z",
     "start_time": "2022-11-09T18:36:07.508784Z"
    }
   },
   "outputs": [],
   "source": [
    "# Perform a gridsearch with SVD\n",
    "params = {'n_factors': [20, 50, 100],\n",
    "         'reg_all': [0.02, 0.05, 0.1]}\n",
    "g_s_svd = GridSearchCV(SVD,param_grid=params,n_jobs=-1)\n",
    "g_s_svd.fit(data)"
   ]
  },
  {
   "cell_type": "code",
   "execution_count": 35,
   "metadata": {
    "ExecuteTime": {
     "end_time": "2022-11-09T18:36:38.802052Z",
     "start_time": "2022-11-09T18:36:38.800059Z"
    }
   },
   "outputs": [
    {
     "name": "stdout",
     "output_type": "stream",
     "text": [
      "{'rmse': 2.7940448582805972, 'mae': 2.2520283451485734}\n",
      "{'rmse': {'n_factors': 50, 'reg_all': 0.02}, 'mae': {'n_factors': 50, 'reg_all': 0.02}}\n"
     ]
    }
   ],
   "source": [
    "print(g_s_svd.best_score)\n",
    "print(g_s_svd.best_params)"
   ]
  },
  {
   "cell_type": "code",
   "execution_count": 36,
   "metadata": {
    "ExecuteTime": {
     "end_time": "2022-11-09T18:37:33.003489Z",
     "start_time": "2022-11-09T18:36:38.803611Z"
    }
   },
   "outputs": [],
   "source": [
    "# cross validating with KNNBasic\n",
    "knn_basic = KNNBasic(sim_options={'name':'pearson', 'user_based':True})\n",
    "cv_knn_basic = cross_validate(knn_basic, data, n_jobs=-1)"
   ]
  },
  {
   "cell_type": "code",
   "execution_count": 37,
   "metadata": {
    "ExecuteTime": {
     "end_time": "2022-11-09T18:37:33.008153Z",
     "start_time": "2022-11-09T18:37:33.005004Z"
    }
   },
   "outputs": [
    {
     "name": "stdout",
     "output_type": "stream",
     "text": [
      "('test_rmse', array([2.81076303, 2.82157005, 2.8279562 , 2.82793036, 2.82681394]))\n",
      "('test_mae', array([2.27006689, 2.27505696, 2.28426054, 2.2797411 , 2.28109412]))\n",
      "('fit_time', (8.557446002960205, 7.9456799030303955, 8.928771018981934, 8.28714919090271, 8.065242052078247))\n",
      "('test_time', (44.363444805145264, 44.0202751159668, 44.713330030441284, 44.152297019958496, 44.80048394203186))\n",
      "-----------------------\n",
      "2.823006716046968\n"
     ]
    }
   ],
   "source": [
    "for i in cv_knn_basic.items():\n",
    "    print(i)\n",
    "print('-----------------------')\n",
    "print(np.mean(cv_knn_basic['test_rmse']))"
   ]
  },
  {
   "cell_type": "code",
   "execution_count": 38,
   "metadata": {
    "ExecuteTime": {
     "end_time": "2022-11-09T18:41:52.539224Z",
     "start_time": "2022-11-09T18:37:33.009141Z"
    }
   },
   "outputs": [
    {
     "name": "stdout",
     "output_type": "stream",
     "text": [
      "Estimating biases using als...\n",
      "Computing the pearson similarity matrix...\n",
      "Done computing similarity matrix.\n",
      "Estimating biases using als...\n",
      "Computing the pearson similarity matrix...\n",
      "Done computing similarity matrix.\n",
      "Estimating biases using als...\n",
      "Computing the pearson similarity matrix...\n",
      "Done computing similarity matrix.\n",
      "Estimating biases using als...\n",
      "Computing the pearson similarity matrix...\n",
      "Done computing similarity matrix.\n",
      "Estimating biases using als...\n",
      "Computing the pearson similarity matrix...\n",
      "Done computing similarity matrix.\n"
     ]
    }
   ],
   "source": [
    "# cross validating with KNNBaseline\n",
    "knn_baseline = KNNBaseline(sim_options={'name':'pearson', 'user_based':True})\n",
    "cv_knn_baseline = cross_validate(knn_baseline,data)"
   ]
  },
  {
   "cell_type": "code",
   "execution_count": 39,
   "metadata": {
    "ExecuteTime": {
     "end_time": "2022-11-09T18:41:52.543213Z",
     "start_time": "2022-11-09T18:41:52.540200Z"
    }
   },
   "outputs": [
    {
     "name": "stdout",
     "output_type": "stream",
     "text": [
      "('test_rmse', array([2.76787138, 2.7785566 , 2.75941271, 2.75563302, 2.78211822]))\n",
      "('test_mae', array([2.21858844, 2.21818447, 2.2059972 , 2.2043417 , 2.22990973]))\n",
      "('fit_time', (8.567604064941406, 8.741869688034058, 8.596271991729736, 8.580995082855225, 8.775190114974976))\n",
      "('test_time', (42.5500853061676, 44.39785289764404, 42.733662128448486, 42.80648398399353, 43.22396278381348))\n"
     ]
    },
    {
     "data": {
      "text/plain": [
       "2.768718385883238"
      ]
     },
     "execution_count": 39,
     "metadata": {},
     "output_type": "execute_result"
    }
   ],
   "source": [
    "for i in cv_knn_baseline.items():\n",
    "    print(i)\n",
    "\n",
    "np.mean(cv_knn_baseline['test_rmse'])"
   ]
  },
  {
   "cell_type": "markdown",
   "metadata": {},
   "source": [
    "## Making Predictions"
   ]
  },
  {
   "cell_type": "code",
   "execution_count": 88,
   "metadata": {
    "ExecuteTime": {
     "end_time": "2022-11-09T19:25:38.835826Z",
     "start_time": "2022-11-09T19:25:35.459619Z"
    }
   },
   "outputs": [
    {
     "data": {
      "text/plain": [
       "<surprise.prediction_algorithms.matrix_factorization.SVD at 0x7fd5f9fa83d0>"
      ]
     },
     "execution_count": 88,
     "metadata": {},
     "output_type": "execute_result"
    }
   ],
   "source": [
    "svd = SVD(n_factors= 50, reg_all=0.02)\n",
    "svd.fit(dataset)"
   ]
  },
  {
   "cell_type": "code",
   "execution_count": 66,
   "metadata": {
    "ExecuteTime": {
     "end_time": "2022-11-09T19:05:51.252139Z",
     "start_time": "2022-11-09T19:05:51.247428Z"
    }
   },
   "outputs": [],
   "source": [
    "def predict_score(dataset, taster_name, variety):\n",
    "    inner_uid = dataset.to_inner_uid(ruid=taster_name)\n",
    "    inner_iid = dataset.to_inner_iid(riid=variety)\n",
    "    estimated_score = svd.predict(inner_uid, inner_iid)[3]\n",
    "    print(taster_name, 'would score', variety,':')\n",
    "    return estimated_score"
   ]
  },
  {
   "cell_type": "code",
   "execution_count": 79,
   "metadata": {
    "ExecuteTime": {
     "end_time": "2022-11-09T19:20:55.879744Z",
     "start_time": "2022-11-09T19:20:55.873891Z"
    }
   },
   "outputs": [
    {
     "name": "stdout",
     "output_type": "stream",
     "text": [
      "Paul Gregutt would score Chardonnay :\n"
     ]
    },
    {
     "data": {
      "text/plain": [
       "88.44713820775404"
      ]
     },
     "execution_count": 79,
     "metadata": {},
     "output_type": "execute_result"
    }
   ],
   "source": [
    "predict_score(dataset, 'Paul Gregutt', 'Chardonnay')"
   ]
  },
  {
   "cell_type": "code",
   "execution_count": 81,
   "metadata": {
    "ExecuteTime": {
     "end_time": "2022-11-09T19:22:29.363132Z",
     "start_time": "2022-11-09T19:22:29.356454Z"
    }
   },
   "outputs": [
    {
     "data": {
      "text/plain": [
       "10"
      ]
     },
     "execution_count": 81,
     "metadata": {},
     "output_type": "execute_result"
    }
   ],
   "source": [
    "dataset.to_inner_iid(riid='Chardonnay')"
   ]
  },
  {
   "cell_type": "code",
   "execution_count": 86,
   "metadata": {
    "ExecuteTime": {
     "end_time": "2022-11-09T19:23:37.567241Z",
     "start_time": "2022-11-09T19:23:37.562287Z"
    }
   },
   "outputs": [
    {
     "data": {
      "text/plain": [
       "Prediction(uid=10, iid=44, r_ui=None, est=88.44713820775404, details={'was_impossible': False})"
      ]
     },
     "execution_count": 86,
     "metadata": {},
     "output_type": "execute_result"
    }
   ],
   "source": [
    "svd.predict(10, 44)"
   ]
  },
  {
   "cell_type": "code",
   "execution_count": 68,
   "metadata": {
    "ExecuteTime": {
     "end_time": "2022-11-09T19:08:33.945801Z",
     "start_time": "2022-11-09T19:08:33.910171Z"
    }
   },
   "outputs": [
    {
     "data": {
      "text/plain": [
       "Roger Voss            25514\n",
       "Michael Schachner     15134\n",
       "Kerin OâKeefe       10776\n",
       "Virginie Boone         9537\n",
       "Paul Gregutt           9532\n",
       "Matt Kettmann          6332\n",
       "Joe Czerwinski         5147\n",
       "Sean P. Sullivan       4966\n",
       "Anna Lee C. Iijima     4415\n",
       "Jim Gordon             4177\n",
       "Anne KrebiehlÂ MW      3685\n",
       "Lauren Buzzeo          1835\n",
       "Susan Kostrzewa        1085\n",
       "Mike DeSimone           514\n",
       "Jeff Jenssen            491\n",
       "Alexander Peartree      415\n",
       "Carrie Dykes            139\n",
       "Fiona Adams              27\n",
       "Christina Pickard         6\n",
       "Name: taster_name, dtype: int64"
      ]
     },
     "execution_count": 68,
     "metadata": {},
     "output_type": "execute_result"
    }
   ],
   "source": [
    "rec_df['taster_name'].value_counts()"
   ]
  },
  {
   "cell_type": "code",
   "execution_count": 76,
   "metadata": {
    "ExecuteTime": {
     "end_time": "2022-11-09T19:19:45.849289Z",
     "start_time": "2022-11-09T19:19:45.843427Z"
    }
   },
   "outputs": [],
   "source": [
    "def predict_all_scores(dataset, variety):\n",
    "    taster_list = ['Roger Voss', 'Michael Schachner', 'Kerin OâKeefe',\n",
    "                   'Virginie Boone', 'Paul Gregutt', 'Matt Kettmann',\n",
    "                   'Joe Czerwinski', 'Sean P. Sullivan', 'Anna Lee C. Iijima',\n",
    "                   'Jim Gordon', 'Lauren Buzzeo','Susan Kostrzewa', \n",
    "                   'Mike DeSimone', 'Jeff Jenssen', 'Alexander Peartree', \n",
    "                   'Carrie Dykes', 'Fiona Adams', 'Christina Pickard']\n",
    "    for taster in taster_list:\n",
    "        inner_uid = dataset.to_inner_uid(ruid=taster)\n",
    "        inner_iid = dataset.to_inner_iid(riid=variety)\n",
    "        estimated_score = svd.predict(inner_uid, inner_iid)[3]\n",
    "        print(taster,'scores',variety,':',estimated_score)"
   ]
  },
  {
   "cell_type": "code",
   "execution_count": 84,
   "metadata": {
    "ExecuteTime": {
     "end_time": "2022-11-09T19:23:17.954477Z",
     "start_time": "2022-11-09T19:23:17.947386Z"
    }
   },
   "outputs": [
    {
     "name": "stdout",
     "output_type": "stream",
     "text": [
      "Roger Voss scores Pinot Noir : 88.44713820775404\n",
      "Michael Schachner scores Pinot Noir : 88.44713820775404\n",
      "Kerin OâKeefe scores Pinot Noir : 88.44713820775404\n",
      "Virginie Boone scores Pinot Noir : 88.44713820775404\n",
      "Paul Gregutt scores Pinot Noir : 88.44713820775404\n",
      "Matt Kettmann scores Pinot Noir : 88.44713820775404\n",
      "Joe Czerwinski scores Pinot Noir : 88.44713820775404\n",
      "Sean P. Sullivan scores Pinot Noir : 88.44713820775404\n",
      "Anna Lee C. Iijima scores Pinot Noir : 88.44713820775404\n",
      "Jim Gordon scores Pinot Noir : 88.44713820775404\n",
      "Lauren Buzzeo scores Pinot Noir : 88.44713820775404\n",
      "Susan Kostrzewa scores Pinot Noir : 88.44713820775404\n",
      "Mike DeSimone scores Pinot Noir : 88.44713820775404\n",
      "Jeff Jenssen scores Pinot Noir : 88.44713820775404\n",
      "Alexander Peartree scores Pinot Noir : 88.44713820775404\n",
      "Carrie Dykes scores Pinot Noir : 88.44713820775404\n",
      "Fiona Adams scores Pinot Noir : 88.44713820775404\n",
      "Christina Pickard scores Pinot Noir : 88.44713820775404\n"
     ]
    }
   ],
   "source": [
    "predict_all_scores(dataset, 'Pinot Noir')"
   ]
  },
  {
   "cell_type": "code",
   "execution_count": null,
   "metadata": {},
   "outputs": [],
   "source": []
  }
 ],
 "metadata": {
  "kernelspec": {
   "display_name": "Python 3",
   "language": "python",
   "name": "python3"
  },
  "language_info": {
   "codemirror_mode": {
    "name": "ipython",
    "version": 3
   },
   "file_extension": ".py",
   "mimetype": "text/x-python",
   "name": "python",
   "nbconvert_exporter": "python",
   "pygments_lexer": "ipython3",
   "version": "3.8.5"
  },
  "toc": {
   "base_numbering": 1,
   "nav_menu": {},
   "number_sections": true,
   "sideBar": true,
   "skip_h1_title": false,
   "title_cell": "Table of Contents",
   "title_sidebar": "Contents",
   "toc_cell": false,
   "toc_position": {},
   "toc_section_display": true,
   "toc_window_display": false
  }
 },
 "nbformat": 4,
 "nbformat_minor": 4
}
