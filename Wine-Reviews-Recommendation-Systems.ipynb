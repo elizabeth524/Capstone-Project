{
 "cells": [
  {
   "cell_type": "markdown",
   "metadata": {},
   "source": [
    "# Wine Reviews Recommendation Systems"
   ]
  },
  {
   "cell_type": "markdown",
   "metadata": {},
   "source": [
    "**Prepared by Elizabeth Webster**\n",
    "\n",
    "*November 2022*"
   ]
  },
  {
   "cell_type": "markdown",
   "metadata": {},
   "source": [
    "## Overview"
   ]
  },
  {
   "cell_type": "markdown",
   "metadata": {},
   "source": [
    "Create a recommendation system for Wine Enthusiast's tasters using Surprise."
   ]
  },
  {
   "cell_type": "markdown",
   "metadata": {},
   "source": [
    "## Business Problem"
   ]
  },
  {
   "cell_type": "markdown",
   "metadata": {},
   "source": [
    "This project is being prepared for a small winery in Walla Walla.  They are just starting out and currently only producing a few wines. Their wine maker wants to gain insight on how to generate wines that will be rated highly.\n",
    "\n",
    "In this section of the project, I will create a recommendation system for Wine Enthusiast's tasters in order to suggest wines to certain tasters. By understanding the wines that are recommended, the winery will get an idea of what type of wines to create and who to market them to."
   ]
  },
  {
   "cell_type": "markdown",
   "metadata": {},
   "source": [
    "## Dataset"
   ]
  },
  {
   "cell_type": "markdown",
   "metadata": {},
   "source": [
    "The data that I am using comes from Wine Enthusiast and includes information on 130,000 different wines.  This information includes the description, variety, winery, country, taster name, etc.\n",
    "\n",
    "For this section of the project, we will just be focused on points, taster name (users), and title (items)."
   ]
  },
  {
   "cell_type": "markdown",
   "metadata": {},
   "source": [
    "# Data Understanding"
   ]
  },
  {
   "cell_type": "code",
   "execution_count": 1,
   "metadata": {
    "ExecuteTime": {
     "end_time": "2022-11-15T17:21:23.803312Z",
     "start_time": "2022-11-15T17:21:15.403841Z"
    }
   },
   "outputs": [],
   "source": [
    "# Import necessary libraries\n",
    "import pandas as pd\n",
    "from sklearn.model_selection import train_test_split\n",
    "import matplotlib.pyplot as plt\n",
    "import seaborn as sns\n",
    "import numpy as np\n",
    "from surprise import Reader, Dataset\n",
    "from surprise.model_selection import cross_validate\n",
    "from surprise.prediction_algorithms import SVD, SVDpp, SlopeOne, NMF \n",
    "from surprise.prediction_algorithms import NormalPredictor, KNNWithZScore, BaselineOnly\n",
    "from surprise.prediction_algorithms import KNNWithMeans, KNNBasic, KNNBaseline\n",
    "from surprise.model_selection import train_test_split\n",
    "from surprise.model_selection import GridSearchCV\n",
    "from surprise import accuracy\n",
    "from collections import defaultdict\n",
    "import warnings\n",
    "warnings.filterwarnings('ignore')"
   ]
  },
  {
   "cell_type": "code",
   "execution_count": 2,
   "metadata": {
    "ExecuteTime": {
     "end_time": "2022-11-15T17:21:38.860613Z",
     "start_time": "2022-11-15T17:21:38.002252Z"
    }
   },
   "outputs": [],
   "source": [
    "# Import dataframe\n",
    "df = pd.read_csv('Data/winemag-data-130k-v2.csv.zip', \n",
    "                 encoding='latin-1', \n",
    "                 index_col=0)"
   ]
  },
  {
   "cell_type": "code",
   "execution_count": 3,
   "metadata": {
    "ExecuteTime": {
     "end_time": "2022-11-15T17:21:52.118680Z",
     "start_time": "2022-11-15T17:21:52.017335Z"
    }
   },
   "outputs": [
    {
     "name": "stdout",
     "output_type": "stream",
     "text": [
      "<class 'pandas.core.frame.DataFrame'>\n",
      "Int64Index: 129971 entries, 0 to 129970\n",
      "Data columns (total 13 columns):\n",
      " #   Column                 Non-Null Count   Dtype  \n",
      "---  ------                 --------------   -----  \n",
      " 0   country                129908 non-null  object \n",
      " 1   description            129971 non-null  object \n",
      " 2   designation            92506 non-null   object \n",
      " 3   points                 129971 non-null  int64  \n",
      " 4   price                  120975 non-null  float64\n",
      " 5   province               129908 non-null  object \n",
      " 6   region_1               108724 non-null  object \n",
      " 7   region_2               50511 non-null   object \n",
      " 8   taster_name            103727 non-null  object \n",
      " 9   taster_twitter_handle  98758 non-null   object \n",
      " 10  title                  129971 non-null  object \n",
      " 11  variety                129970 non-null  object \n",
      " 12  winery                 129971 non-null  object \n",
      "dtypes: float64(1), int64(1), object(11)\n",
      "memory usage: 13.9+ MB\n"
     ]
    }
   ],
   "source": [
    "# Explore dataframe\n",
    "df.info()"
   ]
  },
  {
   "cell_type": "code",
   "execution_count": 4,
   "metadata": {
    "ExecuteTime": {
     "end_time": "2022-11-15T17:23:19.244920Z",
     "start_time": "2022-11-15T17:23:19.126014Z"
    },
    "scrolled": false
   },
   "outputs": [
    {
     "data": {
      "text/plain": [
       "Gloria Ferrer NV Sonoma Brut Sparkling (Sonoma County)       11\n",
       "Korbel NV Brut Sparkling (California)                         9\n",
       "Segura Viudas NV Extra Dry Sparkling (Cava)                   8\n",
       "Gloria Ferrer NV Blanc de Noirs Sparkling (Carneros)          7\n",
       "Ruinart NV Brut RosÃ©  (Champagne)                            7\n",
       "                                                             ..\n",
       "Mauro Sebaste 2009 Santa Rosalia  (Dolcetto d'Alba)           1\n",
       "Soutiran NV Alexandre Premier Cru Brut  (Champagne)           1\n",
       "ChÃ¢teau Haut-Monplaisir 2008 Prestige Malbec (Cahors)        1\n",
       "En Garde 2011 Adamus Red (Diamond Mountain District)          1\n",
       "Emblem 2007 Oso Vineyard Cabernet Sauvignon (Napa Valley)     1\n",
       "Name: title, Length: 118840, dtype: int64"
      ]
     },
     "execution_count": 4,
     "metadata": {},
     "output_type": "execute_result"
    }
   ],
   "source": [
    "df.title.value_counts()"
   ]
  },
  {
   "cell_type": "code",
   "execution_count": 6,
   "metadata": {
    "ExecuteTime": {
     "end_time": "2022-11-15T17:23:52.944046Z",
     "start_time": "2022-11-15T17:23:52.913591Z"
    }
   },
   "outputs": [
    {
     "data": {
      "text/plain": [
       "Roger Voss            25514\n",
       "Michael Schachner     15134\n",
       "Kerin OâKeefe       10776\n",
       "Virginie Boone         9537\n",
       "Paul Gregutt           9532\n",
       "Matt Kettmann          6332\n",
       "Joe Czerwinski         5147\n",
       "Sean P. Sullivan       4966\n",
       "Anna Lee C. Iijima     4415\n",
       "Jim Gordon             4177\n",
       "Anne KrebiehlÂ MW      3685\n",
       "Lauren Buzzeo          1835\n",
       "Susan Kostrzewa        1085\n",
       "Mike DeSimone           514\n",
       "Jeff Jenssen            491\n",
       "Alexander Peartree      415\n",
       "Carrie Dykes            139\n",
       "Fiona Adams              27\n",
       "Christina Pickard         6\n",
       "Name: taster_name, dtype: int64"
      ]
     },
     "execution_count": 6,
     "metadata": {},
     "output_type": "execute_result"
    }
   ],
   "source": [
    "df.taster_name.value_counts()"
   ]
  },
  {
   "cell_type": "markdown",
   "metadata": {},
   "source": [
    "For our recommendation system, we will only be needing the columns:\n",
    "taster name - users\n",
    "title - items\n",
    "points - target"
   ]
  },
  {
   "cell_type": "code",
   "execution_count": 5,
   "metadata": {
    "ExecuteTime": {
     "end_time": "2022-11-15T17:23:36.414184Z",
     "start_time": "2022-11-15T17:23:36.387679Z"
    },
    "scrolled": false
   },
   "outputs": [
    {
     "data": {
      "text/html": [
       "<div>\n",
       "<style scoped>\n",
       "    .dataframe tbody tr th:only-of-type {\n",
       "        vertical-align: middle;\n",
       "    }\n",
       "\n",
       "    .dataframe tbody tr th {\n",
       "        vertical-align: top;\n",
       "    }\n",
       "\n",
       "    .dataframe thead th {\n",
       "        text-align: right;\n",
       "    }\n",
       "</style>\n",
       "<table border=\"1\" class=\"dataframe\">\n",
       "  <thead>\n",
       "    <tr style=\"text-align: right;\">\n",
       "      <th></th>\n",
       "      <th>points</th>\n",
       "      <th>taster_name</th>\n",
       "      <th>title</th>\n",
       "    </tr>\n",
       "  </thead>\n",
       "  <tbody>\n",
       "    <tr>\n",
       "      <th>0</th>\n",
       "      <td>87</td>\n",
       "      <td>Kerin OâKeefe</td>\n",
       "      <td>Nicosia 2013 VulkÃ  Bianco  (Etna)</td>\n",
       "    </tr>\n",
       "    <tr>\n",
       "      <th>1</th>\n",
       "      <td>87</td>\n",
       "      <td>Roger Voss</td>\n",
       "      <td>Quinta dos Avidagos 2011 Avidagos Red (Douro)</td>\n",
       "    </tr>\n",
       "    <tr>\n",
       "      <th>2</th>\n",
       "      <td>87</td>\n",
       "      <td>Paul Gregutt</td>\n",
       "      <td>Rainstorm 2013 Pinot Gris (Willamette Valley)</td>\n",
       "    </tr>\n",
       "    <tr>\n",
       "      <th>3</th>\n",
       "      <td>87</td>\n",
       "      <td>Alexander Peartree</td>\n",
       "      <td>St. Julian 2013 Reserve Late Harvest Riesling ...</td>\n",
       "    </tr>\n",
       "    <tr>\n",
       "      <th>4</th>\n",
       "      <td>87</td>\n",
       "      <td>Paul Gregutt</td>\n",
       "      <td>Sweet Cheeks 2012 Vintner's Reserve Wild Child...</td>\n",
       "    </tr>\n",
       "  </tbody>\n",
       "</table>\n",
       "</div>"
      ],
      "text/plain": [
       "   points         taster_name  \\\n",
       "0      87     Kerin OâKeefe   \n",
       "1      87          Roger Voss   \n",
       "2      87        Paul Gregutt   \n",
       "3      87  Alexander Peartree   \n",
       "4      87        Paul Gregutt   \n",
       "\n",
       "                                               title  \n",
       "0                 Nicosia 2013 VulkÃ  Bianco  (Etna)  \n",
       "1      Quinta dos Avidagos 2011 Avidagos Red (Douro)  \n",
       "2      Rainstorm 2013 Pinot Gris (Willamette Valley)  \n",
       "3  St. Julian 2013 Reserve Late Harvest Riesling ...  \n",
       "4  Sweet Cheeks 2012 Vintner's Reserve Wild Child...  "
      ]
     },
     "execution_count": 5,
     "metadata": {},
     "output_type": "execute_result"
    }
   ],
   "source": [
    "# Create dataframe with specified columns\n",
    "rec_df = df.loc[:, ('points', 'taster_name', 'title')]\n",
    "rec_df.head()"
   ]
  },
  {
   "cell_type": "code",
   "execution_count": 12,
   "metadata": {
    "ExecuteTime": {
     "end_time": "2022-11-15T17:34:48.154596Z",
     "start_time": "2022-11-15T17:34:48.123904Z"
    }
   },
   "outputs": [
    {
     "name": "stdout",
     "output_type": "stream",
     "text": [
      "Missing Taster Names: 26244\n",
      "Missing Titles: 0\n",
      "Missing Points: 0\n"
     ]
    }
   ],
   "source": [
    "# Check for missing values\n",
    "print('Missing Taster Names:', rec_df.taster_name.isna().sum())\n",
    "print('Missing Titles:', rec_df.title.isna().sum())\n",
    "print('Missing Points:', rec_df.points.isna().sum())"
   ]
  },
  {
   "cell_type": "code",
   "execution_count": 14,
   "metadata": {
    "ExecuteTime": {
     "end_time": "2022-11-15T17:36:23.633579Z",
     "start_time": "2022-11-15T17:36:23.603295Z"
    }
   },
   "outputs": [],
   "source": [
    "# Drop missing values\n",
    "rec_df.dropna(subset=['taster_name'], inplace=True)"
   ]
  },
  {
   "cell_type": "code",
   "execution_count": 15,
   "metadata": {
    "ExecuteTime": {
     "end_time": "2022-11-15T17:36:47.826397Z",
     "start_time": "2022-11-15T17:36:47.808717Z"
    }
   },
   "outputs": [
    {
     "name": "stdout",
     "output_type": "stream",
     "text": [
      "Missing Taster Names: 0\n"
     ]
    }
   ],
   "source": [
    "# Check for missing values\n",
    "print('Missing Taster Names:', rec_df.taster_name.isna().sum())"
   ]
  },
  {
   "cell_type": "markdown",
   "metadata": {},
   "source": [
    "Now that the dataset is cleaned, we can move on to building the model."
   ]
  },
  {
   "cell_type": "markdown",
   "metadata": {},
   "source": [
    "# Building a Model"
   ]
  },
  {
   "cell_type": "code",
   "execution_count": 16,
   "metadata": {
    "ExecuteTime": {
     "end_time": "2022-11-15T17:37:37.454790Z",
     "start_time": "2022-11-15T17:37:37.341086Z"
    }
   },
   "outputs": [],
   "source": [
    "# Read the data into Surprise\n",
    "reader = Reader(rating_scale=(80,100))\n",
    "data = Dataset.load_from_df(rec_df[['taster_name', 'title', 'points']],reader)"
   ]
  },
  {
   "cell_type": "code",
   "execution_count": 35,
   "metadata": {
    "ExecuteTime": {
     "end_time": "2022-11-15T17:58:20.407684Z",
     "start_time": "2022-11-15T17:58:20.262365Z"
    },
    "scrolled": false
   },
   "outputs": [
    {
     "name": "stdout",
     "output_type": "stream",
     "text": [
      "Number of trainset users:  19\n",
      "Number of trainset items:  72331\n"
     ]
    }
   ],
   "source": [
    "# Perform a train test split\n",
    "trainset, testset = train_test_split(data, test_size=0.25)\n",
    "print('Number of trainset users: ', trainset.n_users)\n",
    "print('Number of trainset items: ', trainset.n_items)"
   ]
  },
  {
   "cell_type": "markdown",
   "metadata": {},
   "source": [
    "## Testing Different Models"
   ]
  },
  {
   "cell_type": "markdown",
   "metadata": {},
   "source": [
    "The metric I am interested in is RMSE - Root Mean Squared Error. I am looking for the model with the lowest RMSE."
   ]
  },
  {
   "cell_type": "markdown",
   "metadata": {},
   "source": [
    "### SVD - Singular Value Decomposition"
   ]
  },
  {
   "cell_type": "code",
   "execution_count": 18,
   "metadata": {
    "ExecuteTime": {
     "end_time": "2022-11-15T17:39:44.835449Z",
     "start_time": "2022-11-15T17:39:15.036778Z"
    }
   },
   "outputs": [],
   "source": [
    "# Run a grid search for parameters\n",
    "params = {'n_factors': [20, 50, 100],\n",
    "         'reg_all': [0.02, 0.05, 0.1]}\n",
    "g_s_svd = GridSearchCV(SVD,param_grid=params,n_jobs=-1)\n",
    "g_s_svd.fit(data)"
   ]
  },
  {
   "cell_type": "code",
   "execution_count": 19,
   "metadata": {
    "ExecuteTime": {
     "end_time": "2022-11-15T17:39:47.121074Z",
     "start_time": "2022-11-15T17:39:47.112872Z"
    }
   },
   "outputs": [
    {
     "name": "stdout",
     "output_type": "stream",
     "text": [
      "{'rmse': 2.6853571420358646, 'mae': 2.0570073799480846}\n",
      "{'rmse': {'n_factors': 100, 'reg_all': 0.02}, 'mae': {'n_factors': 100, 'reg_all': 0.02}}\n"
     ]
    }
   ],
   "source": [
    "# Print the best score and parameters\n",
    "print(g_s_svd.best_score)\n",
    "print(g_s_svd.best_params)"
   ]
  },
  {
   "cell_type": "markdown",
   "metadata": {},
   "source": [
    "### KNN Basic"
   ]
  },
  {
   "cell_type": "code",
   "execution_count": 20,
   "metadata": {
    "ExecuteTime": {
     "end_time": "2022-11-15T17:40:15.657614Z",
     "start_time": "2022-11-15T17:40:14.037950Z"
    }
   },
   "outputs": [],
   "source": [
    "# Cross validating with KNNBasic\n",
    "knn_basic = KNNBasic(sim_options={'name':'pearson', 'user_based':True})\n",
    "cv_knn_basic = cross_validate(knn_basic, data, n_jobs=-1)"
   ]
  },
  {
   "cell_type": "code",
   "execution_count": 21,
   "metadata": {
    "ExecuteTime": {
     "end_time": "2022-11-15T17:40:34.073017Z",
     "start_time": "2022-11-15T17:40:34.064266Z"
    }
   },
   "outputs": [
    {
     "name": "stdout",
     "output_type": "stream",
     "text": [
      "('test_rmse', array([2.81872178, 2.83520903, 2.83093154, 2.82588793, 2.828012  ]))\n",
      "('test_mae', array([2.13933723, 2.16744591, 2.15432195, 2.15352458, 2.16025291]))\n",
      "('fit_time', (0.00648188591003418, 0.004214048385620117, 0.0042879581451416016, 0.004130840301513672, 0.003963947296142578))\n",
      "('test_time', (0.14880824089050293, 0.1419227123260498, 0.12962603569030762, 0.11473917961120605, 0.10323691368103027))\n",
      "-----------------------\n",
      "2.8277524552580626\n"
     ]
    }
   ],
   "source": [
    "# Find mean rmse\n",
    "for i in cv_knn_basic.items():\n",
    "    print(i)\n",
    "print('-----------------------')\n",
    "print(np.mean(cv_knn_basic['test_rmse']))"
   ]
  },
  {
   "cell_type": "markdown",
   "metadata": {},
   "source": [
    "### KNN Baseline"
   ]
  },
  {
   "cell_type": "code",
   "execution_count": 22,
   "metadata": {
    "ExecuteTime": {
     "end_time": "2022-11-15T17:41:03.914746Z",
     "start_time": "2022-11-15T17:41:01.373829Z"
    }
   },
   "outputs": [
    {
     "name": "stdout",
     "output_type": "stream",
     "text": [
      "Estimating biases using als...\n",
      "Computing the pearson similarity matrix...\n",
      "Done computing similarity matrix.\n",
      "Estimating biases using als...\n",
      "Computing the pearson similarity matrix...\n",
      "Done computing similarity matrix.\n",
      "Estimating biases using als...\n",
      "Computing the pearson similarity matrix...\n",
      "Done computing similarity matrix.\n",
      "Estimating biases using als...\n",
      "Computing the pearson similarity matrix...\n",
      "Done computing similarity matrix.\n",
      "Estimating biases using als...\n",
      "Computing the pearson similarity matrix...\n",
      "Done computing similarity matrix.\n"
     ]
    }
   ],
   "source": [
    "# Cross validating with KNNBaseline\n",
    "knn_baseline = KNNBaseline(sim_options={'name':'pearson', 'user_based':True})\n",
    "cv_knn_baseline = cross_validate(knn_baseline,data)"
   ]
  },
  {
   "cell_type": "code",
   "execution_count": 23,
   "metadata": {
    "ExecuteTime": {
     "end_time": "2022-11-15T17:42:27.857678Z",
     "start_time": "2022-11-15T17:42:27.847639Z"
    }
   },
   "outputs": [
    {
     "name": "stdout",
     "output_type": "stream",
     "text": [
      "('test_rmse', array([2.6889015 , 2.68124213, 2.67527997, 2.69097158, 2.67882287]))\n",
      "('test_mae', array([2.0432891 , 2.0323867 , 2.02651135, 2.04292702, 2.02259507]))\n",
      "('fit_time', (0.20996713638305664, 0.22531390190124512, 0.2353348731994629, 0.22832727432250977, 0.22541379928588867))\n",
      "('test_time', (0.1498420238494873, 0.08863711357116699, 0.09263920783996582, 0.09062600135803223, 0.08864808082580566))\n"
     ]
    },
    {
     "data": {
      "text/plain": [
       "2.6830436096283536"
      ]
     },
     "execution_count": 23,
     "metadata": {},
     "output_type": "execute_result"
    }
   ],
   "source": [
    "# Find mean rmse\n",
    "for i in cv_knn_baseline.items():\n",
    "    print(i)\n",
    "\n",
    "np.mean(cv_knn_baseline['test_rmse'])"
   ]
  },
  {
   "cell_type": "markdown",
   "metadata": {},
   "source": [
    "The model with the lowest RMSE is Singular Value Decomposition, so this is what I will use for our final model"
   ]
  },
  {
   "cell_type": "markdown",
   "metadata": {},
   "source": [
    "## Build SVD Model"
   ]
  },
  {
   "cell_type": "code",
   "execution_count": 24,
   "metadata": {
    "ExecuteTime": {
     "end_time": "2022-11-15T17:49:53.475502Z",
     "start_time": "2022-11-15T17:49:51.039290Z"
    }
   },
   "outputs": [
    {
     "data": {
      "text/plain": [
       "<surprise.prediction_algorithms.matrix_factorization.SVD at 0x7f8b81c313a0>"
      ]
     },
     "execution_count": 24,
     "metadata": {},
     "output_type": "execute_result"
    }
   ],
   "source": [
    "# Instantiate model and fit trainset\n",
    "svd = SVD(n_factors= 50, reg_all=0.05)\n",
    "svd.fit(trainset)"
   ]
  },
  {
   "cell_type": "markdown",
   "metadata": {},
   "source": [
    "## Making Predictions"
   ]
  },
  {
   "cell_type": "code",
   "execution_count": 25,
   "metadata": {
    "ExecuteTime": {
     "end_time": "2022-11-15T17:50:30.066077Z",
     "start_time": "2022-11-15T17:50:29.919084Z"
    }
   },
   "outputs": [],
   "source": [
    "# Make predictions with the testset\n",
    "predictions = svd.test(testset)"
   ]
  },
  {
   "cell_type": "code",
   "execution_count": 26,
   "metadata": {
    "ExecuteTime": {
     "end_time": "2022-11-15T17:50:31.042629Z",
     "start_time": "2022-11-15T17:50:30.995135Z"
    }
   },
   "outputs": [
    {
     "data": {
      "text/plain": [
       "[Prediction(uid='Paul Gregutt', iid='Melrose 2013 Baco Noir (Umpqua Valley)', r_ui=86.0, est=88.97770409559391, details={'was_impossible': False}),\n",
       " Prediction(uid='Mike DeSimone', iid='Montefiore 2014 Cabernet Sauvignon (Judean Hills)', r_ui=91.0, est=89.06880023135628, details={'was_impossible': False}),\n",
       " Prediction(uid='Kerin Oâ\\x80\\x99Keefe', iid='Tenuta La Fuga 2011 Le Due Sorelle Riserva  (Brunello di Montalcino)', r_ui=91.0, est=88.8164603899712, details={'was_impossible': False}),\n",
       " Prediction(uid='Anna Lee C. Iijima', iid='Barrel Oak 2008 Reserve Viognier (Virginia)', r_ui=85.0, est=88.46653057193892, details={'was_impossible': False}),\n",
       " Prediction(uid='Michael Schachner', iid='Ã\\x80nima Negra 2012 QuÃ\\xadbia Falanis White (Vi de la Terra Mallorca)', r_ui=86.0, est=87.038168595377, details={'was_impossible': False}),\n",
       " Prediction(uid='Anna Lee C. Iijima', iid='Robert Weil 2015 Kiedrich GrÃ¤fenberg SpÃ¤tlese Riesling (Rheingau)', r_ui=94.0, est=88.46653057193892, details={'was_impossible': False}),\n",
       " Prediction(uid='Virginie Boone', iid='Pride Mountain 2013 Viognier (Sonoma County)', r_ui=93.0, est=89.12515016538663, details={'was_impossible': False}),\n",
       " Prediction(uid='Roger Voss', iid='H. Blin 2003 Ã\\x89dition LimitÃ©e Extra Brut  (Champagne)', r_ui=92.0, est=88.61620396305155, details={'was_impossible': False}),\n",
       " Prediction(uid='Michael Schachner', iid='Caliterra 2011 Cenit Red (Colchagua Valley)', r_ui=91.0, est=87.038168595377, details={'was_impossible': False}),\n",
       " Prediction(uid='Michael Schachner', iid='Ruca Malen NV Brut  (Uco Valley)', r_ui=89.0, est=87.038168595377, details={'was_impossible': False}),\n",
       " Prediction(uid='Roger Voss', iid='Domaine de la SangliÃ¨re 2010 Signature White (CÃ´tes de Provence)', r_ui=87.0, est=87.36473556752715, details={'was_impossible': False}),\n",
       " Prediction(uid='Kerin Oâ\\x80\\x99Keefe', iid='Baldetti Alfonso 2011 Crano Syrah (Cortona)', r_ui=86.0, est=88.8164603899712, details={'was_impossible': False}),\n",
       " Prediction(uid='Virginie Boone', iid='McFadden 2009 GewÃ¼rztraminer (Potter Valley)', r_ui=88.0, est=89.12515016538663, details={'was_impossible': False}),\n",
       " Prediction(uid='Kerin Oâ\\x80\\x99Keefe', iid='Pio Cesare 2011 Il Bricco  (Barbaresco)', r_ui=89.0, est=88.8164603899712, details={'was_impossible': False}),\n",
       " Prediction(uid='Roger Voss', iid='Albert Bichot 2011 Domaine Long-Depaquit La Moutonne Grand Cru  (Chablis)', r_ui=95.0, est=88.61620396305155, details={'was_impossible': False}),\n",
       " Prediction(uid='Michael Schachner', iid=\"Nemesio 2007 Proprietor's Reserve Blend Malbec-Cabernet Sauvignon (Patagonia)\", r_ui=84.0, est=87.038168595377, details={'was_impossible': False}),\n",
       " Prediction(uid='Matt Kettmann', iid=\"Talley 2014 Oliver's Vineyard Chardonnay (Edna Valley)\", r_ui=94.0, est=89.97402917266642, details={'was_impossible': False}),\n",
       " Prediction(uid='Michael Schachner', iid='Tarantas NV Sparkling (Spain)', r_ui=84.0, est=87.038168595377, details={'was_impossible': False}),\n",
       " Prediction(uid='Roger Voss', iid='Domaine Bruno Clair 2010 Les VÃ©roilles  (Chambolle-Musigny)', r_ui=92.0, est=91.26713251724406, details={'was_impossible': False}),\n",
       " Prediction(uid='Roger Voss', iid='Deutz 2005 RosÃ© Brut  (Champagne)', r_ui=90.0, est=88.61620396305155, details={'was_impossible': False}),\n",
       " Prediction(uid='Anne KrebiehlÂ\\xa0MW', iid='Loimer 2013 Brut RosÃ© Sparkling (NiederÃ¶sterreich)', r_ui=91.0, est=90.30624632455145, details={'was_impossible': False}),\n",
       " Prediction(uid='Virginie Boone', iid='Robert Mondavi 2012 Napa Valley Pinot Noir (Carneros)', r_ui=87.0, est=89.12515016538663, details={'was_impossible': False}),\n",
       " Prediction(uid='Sean P. Sullivan', iid='DeLille 2012 Harrison Hill Red (Snipes Mountain)', r_ui=93.0, est=88.88443872329293, details={'was_impossible': False}),\n",
       " Prediction(uid='Paul Gregutt', iid='Torii Mor 2008 La Colina Vineyard Pinot Noir (Dundee Hills)', r_ui=87.0, est=88.97770409559391, details={'was_impossible': False}),\n",
       " Prediction(uid='Paul Gregutt', iid='Alexandria Nicole 2007 Lemberger (Horse Heaven Hills)', r_ui=88.0, est=88.97770409559391, details={'was_impossible': False}),\n",
       " Prediction(uid='Virginie Boone', iid='Dry Creek Vineyard 2012 Somers Ranch Zinfandel (Dry Creek Valley)', r_ui=91.0, est=89.12515016538663, details={'was_impossible': False}),\n",
       " Prediction(uid='Michael Schachner', iid='Coto de Hayas 2013 Centenaria Garnacha (Campo de Borja)', r_ui=87.0, est=87.038168595377, details={'was_impossible': False}),\n",
       " Prediction(uid='Kerin Oâ\\x80\\x99Keefe', iid='Rattalino 2012 Bussia Trentaquattro 34  (Barolo)', r_ui=86.0, est=88.8164603899712, details={'was_impossible': False}),\n",
       " Prediction(uid='Jim Gordon', iid='Abbeyville 2013 FumÃ© Blanc (North Coast)', r_ui=82.0, est=88.58802113142774, details={'was_impossible': False}),\n",
       " Prediction(uid='Paul Gregutt', iid=\"Thomas O'Neil Cellars 2011 Grenache (Yakima Valley)\", r_ui=84.0, est=88.97770409559391, details={'was_impossible': False}),\n",
       " Prediction(uid='Roger Voss', iid='Domaine Laporte 2016 La Terre des Anges  (Sancerre)', r_ui=91.0, est=88.61620396305155, details={'was_impossible': False}),\n",
       " Prediction(uid='Roger Voss', iid='Vignobles Bulliat 2016 CuvÃ©e du Colombier  (Morgon)', r_ui=91.0, est=88.61620396305155, details={'was_impossible': False}),\n",
       " Prediction(uid='Roger Voss', iid='Casa Agricola Alexandre Relvas 2015 Herdade SÃ£o Miguel Art. Terra Amphora Red (Alentejano)', r_ui=91.0, est=90.64465667021767, details={'was_impossible': False}),\n",
       " Prediction(uid='Anna Lee C. Iijima', iid='Wagner 2015 RosÃ© of Cabernet Franc (Finger Lakes)', r_ui=87.0, est=87.32215918109877, details={'was_impossible': False}),\n",
       " Prediction(uid='Roger Voss', iid='Casal dos JordÃµes NV Finest Reserve  (Port)', r_ui=84.0, est=88.61620396305155, details={'was_impossible': False}),\n",
       " Prediction(uid='Roger Voss', iid=\"ChÃ¢teau Valade 2014 L'Etendard de ChÃ¢teau Valade  (Saint-Ã\\x89milion)\", r_ui=90.0, est=88.61620396305155, details={'was_impossible': False}),\n",
       " Prediction(uid='Roger Voss', iid='ChÃ¢teau Haut Nouchet 2013  Pessac-LÃ©ognan', r_ui=85.0, est=89.56556343318746, details={'was_impossible': False}),\n",
       " Prediction(uid='Sean P. Sullivan', iid='History 2014 Mont Elise Vineyard GewÃ¼rztraminer (Columbia Gorge (WA))', r_ui=88.0, est=88.88443872329293, details={'was_impossible': False}),\n",
       " Prediction(uid='Virginie Boone', iid='Bowman Cellars 2015 Chardonnay (Russian River Valley)', r_ui=85.0, est=89.12515016538663, details={'was_impossible': False}),\n",
       " Prediction(uid='Roger Voss', iid='Domaine de Ballade 2014 Ballade RosÃ© (CÃ´tes de Gascogne)', r_ui=84.0, est=88.61620396305155, details={'was_impossible': False}),\n",
       " Prediction(uid='Anne KrebiehlÂ\\xa0MW', iid='JÃ¤ger 2013 Zweigelt RosÃ© (Wachau)', r_ui=88.0, est=90.30624632455145, details={'was_impossible': False}),\n",
       " Prediction(uid='Michael Schachner', iid='Jorge OrdÃ³Ã±ez & Co. 2014 Victoria 2 Muscat of Alexandria (MÃ¡laga)', r_ui=91.0, est=87.038168595377, details={'was_impossible': False}),\n",
       " Prediction(uid='Roger Voss', iid='Monte da Penha 2011 Montefino Branco White (Alentejano)', r_ui=84.0, est=88.61620396305155, details={'was_impossible': False}),\n",
       " Prediction(uid='Joe Czerwinski', iid='Wakefield 2016 Promised Land Unwooded Chardonnay (South Australia)', r_ui=84.0, est=88.52232798317675, details={'was_impossible': False}),\n",
       " Prediction(uid='Michael Schachner', iid='Bracco Bosca 2015 OmbÃº Tannat (Atlantida)', r_ui=87.0, est=87.038168595377, details={'was_impossible': False}),\n",
       " Prediction(uid='Roger Voss', iid='Quinta da Gaivosa 2008 Vintage  (Port)', r_ui=90.0, est=88.61620396305155, details={'was_impossible': False}),\n",
       " Prediction(uid='Sean P. Sullivan', iid='Mercer 2013 Reserve Syrah (Horse Heaven Hills)', r_ui=88.0, est=88.88443872329293, details={'was_impossible': False}),\n",
       " Prediction(uid='Matt Kettmann', iid='Happy Canyon Vineyard 2012 White (Happy Canyon of Santa Barbara)', r_ui=87.0, est=89.97402917266642, details={'was_impossible': False}),\n",
       " Prediction(uid='Matt Kettmann', iid='Testarossa 2014 Guidotti Vineyard Pinot Noir (Santa Lucia Highlands)', r_ui=92.0, est=89.97402917266642, details={'was_impossible': False}),\n",
       " Prediction(uid='Michael Schachner', iid='Finca El Origen 2012 Gran Reserva Cabernet Sauvignon (Uco Valley)', r_ui=92.0, est=87.038168595377, details={'was_impossible': False}),\n",
       " Prediction(uid='Paul Gregutt', iid='WillaKenzie Estate 2004 Kiana Pinot Noir (Willamette Valley)', r_ui=88.0, est=88.97770409559391, details={'was_impossible': False}),\n",
       " Prediction(uid='Roger Voss', iid='Boizel 2004 Grand Vintage  (Champagne)', r_ui=90.0, est=88.61620396305155, details={'was_impossible': False}),\n",
       " Prediction(uid='Michael Schachner', iid='Bodegas LuzÃ³n 2013 LuzÃ³n Red (Jumilla)', r_ui=86.0, est=87.038168595377, details={'was_impossible': False}),\n",
       " Prediction(uid='Paul Gregutt', iid='Knudsen 2015 Chardonnay (Dundee Hills)', r_ui=91.0, est=88.97770409559391, details={'was_impossible': False}),\n",
       " Prediction(uid='Paul Gregutt', iid='Adelsheim 2011 Pinot Noir (Willamette Valley)', r_ui=87.0, est=88.97770409559391, details={'was_impossible': False}),\n",
       " Prediction(uid='Michael Schachner', iid='Caliterra 2008 Tributo Single Vineyard Pinot Noir (Casablanca Valley)', r_ui=84.0, est=87.038168595377, details={'was_impossible': False}),\n",
       " Prediction(uid='Virginie Boone', iid='Jax 2014 Y3 Pinot Noir (Russian River Valley)', r_ui=94.0, est=89.12515016538663, details={'was_impossible': False}),\n",
       " Prediction(uid='Roger Voss', iid='Maison Jessiaume 2008  Volnay', r_ui=89.0, est=88.61620396305155, details={'was_impossible': False}),\n",
       " Prediction(uid='Roger Voss', iid='Quinta do Ameal 2006 Loureiro (Vinho Verde)', r_ui=89.0, est=88.61620396305155, details={'was_impossible': False}),\n",
       " Prediction(uid='Paul Gregutt', iid='Chateau Ste. Michelle 2000 Chardonnay (Columbia Valley (WA))', r_ui=89.0, est=88.97770409559391, details={'was_impossible': False}),\n",
       " Prediction(uid='Roger Voss', iid='ChÃ¢teau du Luc 2016  CÃ´tes de Bourg', r_ui=86.0, est=88.61620396305155, details={'was_impossible': False}),\n",
       " Prediction(uid='Virginie Boone', iid='Pine Ridge 2013 Cabernet Sauvignon (Oakville)', r_ui=93.0, est=89.12515016538663, details={'was_impossible': False}),\n",
       " Prediction(uid='Kerin Oâ\\x80\\x99Keefe', iid='Selva Capuzza 2011 Menasasso Riserva  (Lugana)', r_ui=92.0, est=88.8164603899712, details={'was_impossible': False}),\n",
       " Prediction(uid='Paul Gregutt', iid='Lumos 2014 Chiquita Pinot Noir RosÃ© (Willamette Valley)', r_ui=88.0, est=88.06377312578186, details={'was_impossible': False}),\n",
       " Prediction(uid='Roger Voss', iid='Tenimenti Angelini 1997 Val di Suga  (Brunello di Montalcino)', r_ui=92.0, est=88.61620396305155, details={'was_impossible': False}),\n",
       " Prediction(uid='Roger Voss', iid='Fiuza 2013 3 Castas White (Tejo)', r_ui=87.0, est=88.61620396305155, details={'was_impossible': False}),\n",
       " Prediction(uid='Kerin Oâ\\x80\\x99Keefe', iid='Erik Banti 2012 Carato Red (Toscana)', r_ui=87.0, est=88.8164603899712, details={'was_impossible': False}),\n",
       " Prediction(uid='Joe Czerwinski', iid='Piko 2007 Sauvignon Blanc (Marlborough)', r_ui=87.0, est=88.52232798317675, details={'was_impossible': False}),\n",
       " Prediction(uid='Anna Lee C. Iijima', iid='Domdechant Werner 2010 Hochheimer Domdechaney Auslese Riesling (Rheingau)', r_ui=90.0, est=88.46653057193892, details={'was_impossible': False}),\n",
       " Prediction(uid='Roger Voss', iid='Jean-Baptiste Adam 2011 Kaefferkopf Grand Cru Vieilles Vignes Riesling (Alsace)', r_ui=92.0, est=88.61620396305155, details={'was_impossible': False}),\n",
       " Prediction(uid='Kerin Oâ\\x80\\x99Keefe', iid='Pertinace 2012 Marcarini  (Barbaresco)', r_ui=92.0, est=88.8164603899712, details={'was_impossible': False}),\n",
       " Prediction(uid='Roger Voss', iid='Domaine Bruno Clair 2014 Grasses TÃªtes  (Marsannay)', r_ui=88.0, est=88.05381386035064, details={'was_impossible': False}),\n",
       " Prediction(uid='Roger Voss', iid='Clos Alivu 2015 RosÃ© (Patrimonio)', r_ui=86.0, est=88.61620396305155, details={'was_impossible': False}),\n",
       " Prediction(uid='Kerin Oâ\\x80\\x99Keefe', iid='Volpaia 2013 Citto Red (Toscana)', r_ui=86.0, est=88.8164603899712, details={'was_impossible': False}),\n",
       " Prediction(uid='Paul Gregutt', iid='Pacific Rim 2006 GewÃ¼rztraminer (Yakima Valley)', r_ui=89.0, est=88.97770409559391, details={'was_impossible': False}),\n",
       " Prediction(uid='Michael Schachner', iid='Prada A Tope 2015 Palacio de Canedo Godello (Bierzo)', r_ui=88.0, est=87.038168595377, details={'was_impossible': False}),\n",
       " Prediction(uid='Matt Kettmann', iid='Claiborne & Churchill 2015 Twin Creeks Pinot Noir (Edna Valley)', r_ui=95.0, est=89.97402917266642, details={'was_impossible': False}),\n",
       " Prediction(uid='Roger Voss', iid='ChÃ¢teau de Santenay 2012  Mercurey', r_ui=88.0, est=88.61620396305155, details={'was_impossible': False}),\n",
       " Prediction(uid='Roger Voss', iid='Cave du Marmandais 2015 ChÃ¢teau la Vieille Eglise Red (CÃ´tes du Marmandais)', r_ui=90.0, est=88.61620396305155, details={'was_impossible': False}),\n",
       " Prediction(uid='Paul Gregutt', iid='Merry Cellars 2006 Cabernet Franc (Walla Walla Valley (WA))', r_ui=87.0, est=88.97770409559391, details={'was_impossible': False}),\n",
       " Prediction(uid='Sean P. Sullivan', iid='Ross Andrew 2012 The Huntsman Cabernet Sauvignon (Columbia Valley (WA))', r_ui=88.0, est=88.88443872329293, details={'was_impossible': False}),\n",
       " Prediction(uid='Anna Lee C. Iijima', iid='BÃ¼rgermeister Willi Schweinhardt 2014 LÃ¶hrer Berg Dry Weissburgunder (Nahe)', r_ui=90.0, est=88.46653057193892, details={'was_impossible': False}),\n",
       " Prediction(uid='Roger Voss', iid='Bertrand-Delespierre NV Premier Cru Brut  (Champagne)', r_ui=88.0, est=86.52547011232667, details={'was_impossible': False}),\n",
       " Prediction(uid='Michael Schachner', iid='Emina 2010 Reserva  (Ribera del Duero)', r_ui=92.0, est=87.038168595377, details={'was_impossible': False}),\n",
       " Prediction(uid='Roger Voss', iid='Girolate 2006  Bordeaux', r_ui=90.0, est=88.61620396305155, details={'was_impossible': False}),\n",
       " Prediction(uid='Jim Gordon', iid='Marietta Cellars NV Arme Lot Number 3 Red (North Coast)', r_ui=88.0, est=88.58802113142774, details={'was_impossible': False}),\n",
       " Prediction(uid='Kerin Oâ\\x80\\x99Keefe', iid='Jankara 2014 Superiore  (Vermentino di Gallura)', r_ui=90.0, est=88.8164603899712, details={'was_impossible': False}),\n",
       " Prediction(uid='Virginie Boone', iid='Quivira 2013 Roussanne-Viognier (Dry Creek Valley)', r_ui=91.0, est=89.12515016538663, details={'was_impossible': False}),\n",
       " Prediction(uid='Matt Kettmann', iid='Babcock 2012 Je Ne Sais Quoi Pinot Noir (Sta. Rita Hills)', r_ui=91.0, est=89.97402917266642, details={'was_impossible': False}),\n",
       " Prediction(uid='Jim Gordon', iid='Naggiar 2013 Della Casa Zinfandel (Amador County)', r_ui=91.0, est=88.58802113142774, details={'was_impossible': False}),\n",
       " Prediction(uid='Jim Gordon', iid='Earthquake 2013 Petite Sirah (Lodi)', r_ui=92.0, est=88.58802113142774, details={'was_impossible': False}),\n",
       " Prediction(uid='Anna Lee C. Iijima', iid='Heron Hill 2012 Reserve Cabernet Franc (Finger Lakes)', r_ui=90.0, est=88.46653057193892, details={'was_impossible': False}),\n",
       " Prediction(uid='Roger Voss', iid='Salomon-Undhof 2010 Von Stein Reserve GrÃ¼ner Veltliner (Kremstal)', r_ui=91.0, est=88.61620396305155, details={'was_impossible': False}),\n",
       " Prediction(uid='Roger Voss', iid='Quinta do Crasto 2011 Crasto Superior Red (Douro)', r_ui=91.0, est=88.61620396305155, details={'was_impossible': False}),\n",
       " Prediction(uid='Michael Schachner', iid='Casa Silva 2009 Los Lingues Gran Reserva Cabernet Sauvignon (Colchagua Valley)', r_ui=83.0, est=87.038168595377, details={'was_impossible': False}),\n",
       " Prediction(uid='Roger Voss', iid='Fiuza 2011 Premium Alvarinho-Chardonnay (Tejo)', r_ui=88.0, est=88.61620396305155, details={'was_impossible': False}),\n",
       " Prediction(uid='Michael Schachner', iid='Bodegas Carchelo 2014 C Red (Jumilla)', r_ui=89.0, est=87.038168595377, details={'was_impossible': False}),\n",
       " Prediction(uid='Anne KrebiehlÂ\\xa0MW', iid='Charles Sparr 2015 Tradition Pinot Blanc (Alsace)', r_ui=89.0, est=90.30624632455145, details={'was_impossible': False}),\n",
       " Prediction(uid='Roger Voss', iid='ChÃ¢teau de Fonbel 2010  Saint-Ã\\x89milion', r_ui=88.0, est=88.61620396305155, details={'was_impossible': False}),\n",
       " Prediction(uid='Paul Gregutt', iid='Melrose 2006 Baco Noir (Umpqua Valley)', r_ui=89.0, est=88.97770409559391, details={'was_impossible': False}),\n",
       " Prediction(uid='Alexander Peartree', iid='Pollak 2012 Reserve Cabernet Franc (Monticello)', r_ui=87.0, est=86.11187414758817, details={'was_impossible': False}),\n",
       " Prediction(uid='Roger Voss', iid='ChÃ¢teau Lestage 2012  Listrac-MÃ©doc', r_ui=89.0, est=88.61620396305155, details={'was_impossible': False}),\n",
       " Prediction(uid='Virginie Boone', iid='Treasure 2013 Sauvignon Blanc (Napa Valley)', r_ui=86.0, est=89.12515016538663, details={'was_impossible': False}),\n",
       " Prediction(uid='Roger Voss', iid='Corton AndrÃ© 2005  Gevrey-Chambertin', r_ui=88.0, est=88.61620396305155, details={'was_impossible': False}),\n",
       " Prediction(uid='Roger Voss', iid='Companhia das Quintas 2012 Portas da Herdade Reserva Red (Alentejano)', r_ui=90.0, est=88.61620396305155, details={'was_impossible': False}),\n",
       " Prediction(uid='Roger Voss', iid='ChÃ¢teau la Tonnelle 2014  Haut-MÃ©doc', r_ui=88.0, est=88.61620396305155, details={'was_impossible': False}),\n",
       " Prediction(uid='Roger Voss', iid=\"ChÃ¢teau d'Aydie 2013 OdÃ© d'Aydie  (Pacherenc du Vic Bilh)\", r_ui=91.0, est=88.61620396305155, details={'was_impossible': False}),\n",
       " Prediction(uid='Virginie Boone', iid='Decoy 2014 Chardonnay (Sonoma County)', r_ui=84.0, est=89.12515016538663, details={'was_impossible': False}),\n",
       " Prediction(uid='Roger Voss', iid='Domaines Ott 2013 ChÃ¢teau de Selle RosÃ© (CÃ´tes de Provence)', r_ui=89.0, est=88.61620396305155, details={'was_impossible': False}),\n",
       " Prediction(uid='Roger Voss', iid=\"Domaine Rotier 2010 Renaissance Loin de l'Oeil (Gaillac Doux)\", r_ui=92.0, est=88.61620396305155, details={'was_impossible': False}),\n",
       " Prediction(uid='Joe Czerwinski', iid='Les Vignobles Foncalieu 2012 Bastide de Beauvert Grenache-Syrah (CÃ´tes du RhÃ´ne)', r_ui=89.0, est=88.52232798317675, details={'was_impossible': False}),\n",
       " Prediction(uid='Sean P. Sullivan', iid='Windy Bay 2013 Pinot Noir (Oregon)', r_ui=87.0, est=88.88443872329293, details={'was_impossible': False}),\n",
       " Prediction(uid='Paul Gregutt', iid='J. Scott Cellars 2016 Pinot Blanc (Willamette Valley)', r_ui=87.0, est=88.97770409559391, details={'was_impossible': False}),\n",
       " Prediction(uid='Roger Voss', iid='Le Cercle des Vignerons Saint-Louis 2014 LumiÃ¨re de Provence RosÃ© (Coteaux Varois en Provence)', r_ui=86.0, est=88.61620396305155, details={'was_impossible': False}),\n",
       " Prediction(uid='Paul Gregutt', iid='Maison Bleue 2011 Boushey Vineyard Petite Joie Marsanne (Yakima Valley)', r_ui=92.0, est=88.97770409559391, details={'was_impossible': False}),\n",
       " Prediction(uid='Virginie Boone', iid='Cameron Hughes 2012 Lot 502 Cabernet Sauvignon (Spring Mountain District)', r_ui=85.0, est=89.12515016538663, details={'was_impossible': False}),\n",
       " Prediction(uid='Paul Gregutt', iid='Vista Hills 2013 Treehouse Estate Pinot Gris (Willamette Valley)', r_ui=91.0, est=88.97770409559391, details={'was_impossible': False}),\n",
       " Prediction(uid='Sean P. Sullivan', iid='Full Pull & Friends 2009 Cabernet Sauvignon (Columbia Valley (WA))', r_ui=89.0, est=88.88443872329293, details={'was_impossible': False}),\n",
       " Prediction(uid='Matt Kettmann', iid='Demetria 2014 Chardonnay (Santa Barbara County)', r_ui=86.0, est=89.97402917266642, details={'was_impossible': False}),\n",
       " Prediction(uid='Jim Gordon', iid='Boeger 2014 Sauvignon Blanc (El Dorado)', r_ui=86.0, est=88.58802113142774, details={'was_impossible': False}),\n",
       " Prediction(uid='Paul Gregutt', iid='Stoller 2008 SV Estate Chardonnay (Dundee Hills)', r_ui=88.0, est=88.97770409559391, details={'was_impossible': False}),\n",
       " Prediction(uid='Kerin Oâ\\x80\\x99Keefe', iid='Allegrini 2011 La Poja Corvina (Veronese)', r_ui=93.0, est=88.8164603899712, details={'was_impossible': False}),\n",
       " Prediction(uid='Virginie Boone', iid='Black Stallion 2012 Limited Release Syrah (Napa Valley)', r_ui=90.0, est=89.12515016538663, details={'was_impossible': False}),\n",
       " Prediction(uid='Roger Voss', iid='Producteurs Plaimont 2002 ChÃ¢teau de Crouseilles Red (Madiran)', r_ui=89.0, est=88.61620396305155, details={'was_impossible': False}),\n",
       " Prediction(uid='Michael Schachner', iid='Tupun 2005 Reserva Malbec (Mendoza)', r_ui=83.0, est=87.038168595377, details={'was_impossible': False}),\n",
       " Prediction(uid='Michael Schachner', iid='MarquÃ©s de Murrieta 2011 Dalmau  (Rioja)', r_ui=91.0, est=87.038168595377, details={'was_impossible': False}),\n",
       " Prediction(uid='Roger Voss', iid='ChÃ¢teau Pape ClÃ©ment 2008 Barrel sample  (Pessac-LÃ©ognan)', r_ui=89.0, est=88.61620396305155, details={'was_impossible': False}),\n",
       " Prediction(uid='Roger Voss', iid='Murganheira 2004 Bruto Pinot Noir (TÃ¡vora-Varosa)', r_ui=90.0, est=88.61620396305155, details={'was_impossible': False}),\n",
       " Prediction(uid='Matt Kettmann', iid='Robert Hall 2014 Meritage (Paso Robles)', r_ui=88.0, est=89.97402917266642, details={'was_impossible': False}),\n",
       " Prediction(uid='Anna Lee C. Iijima', iid='WÃ¶lffer 2013 Grandioso RosÃ© (Long Island)', r_ui=91.0, est=88.46653057193892, details={'was_impossible': False}),\n",
       " Prediction(uid='Roger Voss', iid='Salomon-Undhof 2007 Undhof Auslese Riesling (Kremstal)', r_ui=90.0, est=88.61620396305155, details={'was_impossible': False}),\n",
       " Prediction(uid='Michael Schachner', iid='Chilcas 2013 Reserva Cabernet Sauvignon (Colchagua Valley)', r_ui=86.0, est=87.038168595377, details={'was_impossible': False}),\n",
       " Prediction(uid='Paul Gregutt', iid='Le Cadeau 2010 DiversitÃ© Pinot Noir (Willamette Valley)', r_ui=94.0, est=88.97770409559391, details={'was_impossible': False}),\n",
       " Prediction(uid='Roger Voss', iid='Domaine GÃ©rard Duplessis 2013 Montmains Premier Cru  (Chablis)', r_ui=91.0, est=88.61620396305155, details={'was_impossible': False}),\n",
       " Prediction(uid='Paul Gregutt', iid='Market Vineyards 2009 Benchmark Merlot (Columbia Valley (WA))', r_ui=91.0, est=88.97770409559391, details={'was_impossible': False}),\n",
       " Prediction(uid='Roger Voss', iid='Quinta do Portal 2014 Muros de Vinha Red (Douro)', r_ui=86.0, est=88.61620396305155, details={'was_impossible': False}),\n",
       " Prediction(uid='Michael Schachner', iid='V&N; Cellars 2007 Reserva SelecciÃ³ Vinyes Velles Red (Terra Alta)', r_ui=84.0, est=87.038168595377, details={'was_impossible': False}),\n",
       " Prediction(uid='Kerin Oâ\\x80\\x99Keefe', iid=\"Ca'RomÃ¨ 2011 Chiaramanti  (Barbaresco)\", r_ui=87.0, est=88.8164603899712, details={'was_impossible': False}),\n",
       " Prediction(uid='Kerin Oâ\\x80\\x99Keefe', iid='Marchesi di Barolo 2011 Sarmassa  (Barolo)', r_ui=93.0, est=88.8164603899712, details={'was_impossible': False}),\n",
       " Prediction(uid='Roger Voss', iid='Wines & Winemakers 2016 Salsus White (Vinho Verde)', r_ui=84.0, est=88.61620396305155, details={'was_impossible': False}),\n",
       " Prediction(uid='Michael Schachner', iid='Errazuriz 2008 Wild Ferment Chardonnay (Casablanca Valley)', r_ui=84.0, est=87.038168595377, details={'was_impossible': False}),\n",
       " Prediction(uid='Roger Voss', iid='ChÃ¢teau Larrivaux 2011  Haut-MÃ©doc', r_ui=90.0, est=88.61620396305155, details={'was_impossible': False}),\n",
       " Prediction(uid='Virginie Boone', iid='W.H. Smith 2012 Solo Estate Red (Howell Mountain)', r_ui=90.0, est=89.12515016538663, details={'was_impossible': False}),\n",
       " Prediction(uid='Roger Voss', iid='Louis Roederer 2005 RosÃ© Brut  (Champagne)', r_ui=94.0, est=92.94798669523894, details={'was_impossible': False}),\n",
       " Prediction(uid='Lauren Buzzeo', iid='Kanonkop 2008 Estate Wine Cabernet Sauvignon (Simonsberg-Stellenbosch)', r_ui=90.0, est=87.73763162290929, details={'was_impossible': False}),\n",
       " Prediction(uid='Anne KrebiehlÂ\\xa0MW', iid='TÃ¼rk 2014 Thurnerberg Reserve GrÃ¼ner Veltliner (Kremstal)', r_ui=92.0, est=90.30624632455145, details={'was_impossible': False}),\n",
       " Prediction(uid='Joe Czerwinski', iid='Bird 2007 Old Schoolhouse Vineyard Pinot Gris (Marlborough)', r_ui=89.0, est=88.52232798317675, details={'was_impossible': False}),\n",
       " Prediction(uid='Sean P. Sullivan', iid='Lawrelin 2002 Syrah (Columbia Valley (WA))', r_ui=93.0, est=88.88443872329293, details={'was_impossible': False}),\n",
       " Prediction(uid='Joe Czerwinski', iid='Domaine Maby 2013 La Fermade White (Lirac)', r_ui=89.0, est=88.85872921219267, details={'was_impossible': False}),\n",
       " Prediction(uid='Matt Kettmann', iid='Migration 2013 Bien Nacido Vineyard Pinot Noir (Santa Maria Valley)', r_ui=93.0, est=89.97402917266642, details={'was_impossible': False}),\n",
       " Prediction(uid='Roger Voss', iid='ChÃ¢teau Roubine 2016 Inspire RosÃ© (CÃ´tes de Provence)', r_ui=93.0, est=88.61620396305155, details={'was_impossible': False}),\n",
       " Prediction(uid='Michael Schachner', iid='Terrapura 2012 Pinot Noir (Aconcagua Valley)', r_ui=86.0, est=87.038168595377, details={'was_impossible': False}),\n",
       " Prediction(uid='Jim Gordon', iid='Lucky Star 2013 Cabernet Sauvignon (California)', r_ui=87.0, est=88.58802113142774, details={'was_impossible': False}),\n",
       " Prediction(uid='Roger Voss', iid='Quinta do Casal Monteiro 2015 RosÃ© (Tejo)', r_ui=84.0, est=88.61620396305155, details={'was_impossible': False}),\n",
       " Prediction(uid='Roger Voss', iid='Quinta da Lagoalva de Cima 2008 Espirito Branco White (Tejo)', r_ui=86.0, est=88.61620396305155, details={'was_impossible': False}),\n",
       " Prediction(uid='Sean P. Sullivan', iid='Browne Family Vineyards 2010 Cabernet Sauvignon (Columbia Valley (WA))', r_ui=87.0, est=88.88443872329293, details={'was_impossible': False}),\n",
       " Prediction(uid='Matt Kettmann', iid='Broken Earth 2010 Reserve Cabernet Sauvignon (Paso Robles)', r_ui=86.0, est=86.98740939739258, details={'was_impossible': False}),\n",
       " Prediction(uid='Roger Voss', iid='ChÃ¢teau Penin 2016 RosÃ© (Bordeaux RosÃ©)', r_ui=87.0, est=88.61620396305155, details={'was_impossible': False}),\n",
       " Prediction(uid='Jim Gordon', iid='Chacewater 2013 Made with Organically Grown Grapes Zinfandel (Sierra Foothills)', r_ui=93.0, est=92.28006998776002, details={'was_impossible': False}),\n",
       " Prediction(uid='Anne KrebiehlÂ\\xa0MW', iid='Markus Huber 2013 Berg Reserve GrÃ¼ner Veltliner (Traisental)', r_ui=92.0, est=90.30624632455145, details={'was_impossible': False}),\n",
       " Prediction(uid='Virginie Boone', iid='Patland 2013 Stagecoach Vineyard Syrah (Napa Valley)', r_ui=90.0, est=89.12515016538663, details={'was_impossible': False}),\n",
       " Prediction(uid='Kerin Oâ\\x80\\x99Keefe', iid='Fossacolle 2010 Riesci Red (Toscana)', r_ui=86.0, est=88.8164603899712, details={'was_impossible': False}),\n",
       " Prediction(uid='Roger Voss', iid='Domaine Ehrhart 2013 Domaine Saint-RÃ©my Im Berg Pinot Gris (Alsace)', r_ui=89.0, est=88.61620396305155, details={'was_impossible': False}),\n",
       " Prediction(uid='Roger Voss', iid='ChÃ¢teau Cazeau 2015 RosÃ© (Bordeaux RosÃ©)', r_ui=85.0, est=88.61620396305155, details={'was_impossible': False}),\n",
       " Prediction(uid='Anna Lee C. Iijima', iid='St. Christopher 2015 Piesporter GoldtrÃ¶pfchen SpÃ¤tlese Riesling (Mosel)', r_ui=88.0, est=88.46653057193892, details={'was_impossible': False}),\n",
       " Prediction(uid='Michael Schachner', iid='Freixenet NV Cordon Negro Extra Dry Sparkling (Cava)', r_ui=86.0, est=85.8888271211681, details={'was_impossible': False}),\n",
       " Prediction(uid='Sean P. Sullivan', iid='Hedges Family Estate 2013 House of Independent Producers Dionysus Vineyard Chardonnay (Columbia Valley (WA))', r_ui=87.0, est=88.88443872329293, details={'was_impossible': False}),\n",
       " Prediction(uid='Paul Gregutt', iid='Apolloni 2016 Estate Chardonnay (Willamette Valley)', r_ui=88.0, est=88.97770409559391, details={'was_impossible': False}),\n",
       " Prediction(uid='Michael Schachner', iid='Alta Alella 2015 Privat Bruant Organic Sparkling (Cava)', r_ui=89.0, est=87.038168595377, details={'was_impossible': False}),\n",
       " Prediction(uid='Roger Voss', iid=\"Domaine d'Eole 2008 LÃ©a Red (Coteaux d'Aix-en-Provence)\", r_ui=90.0, est=88.61620396305155, details={'was_impossible': False}),\n",
       " Prediction(uid='Kerin Oâ\\x80\\x99Keefe', iid='Castelli Martinozzi 2008  Brunello di Montalcino', r_ui=92.0, est=88.8164603899712, details={'was_impossible': False}),\n",
       " Prediction(uid='Roger Voss', iid='ChÃ¢teau Henri Bonnaud 2016 Terre Promise RosÃ© (CÃ´tes de Provence Sainte-Victoire)', r_ui=91.0, est=88.61620396305155, details={'was_impossible': False}),\n",
       " Prediction(uid='Virginie Boone', iid='White Rock Vineyards 2013 Claret (Napa Valley)', r_ui=84.0, est=89.12515016538663, details={'was_impossible': False}),\n",
       " Prediction(uid='Sean P. Sullivan', iid='Milbrandt 2014 Traditions Cabernet Sauvignon (Columbia Valley (WA))', r_ui=88.0, est=88.23382001033565, details={'was_impossible': False}),\n",
       " Prediction(uid='Roger Voss', iid=\"Ervideira 2008 Conde d'Ervideira Reserva Red (Alentejo)\", r_ui=83.0, est=88.61620396305155, details={'was_impossible': False}),\n",
       " Prediction(uid='Matt Kettmann', iid='Municipal Winemakers 2016 Mubbly Sparkling (California)', r_ui=90.0, est=89.97402917266642, details={'was_impossible': False}),\n",
       " Prediction(uid='Lauren Buzzeo', iid='GÃ©rard Bertrand 2010 Le Viala Red (Minervois La Liviniere)', r_ui=91.0, est=87.73763162290929, details={'was_impossible': False}),\n",
       " Prediction(uid='Kerin Oâ\\x80\\x99Keefe', iid='Ottella 2014  Lugana', r_ui=90.0, est=88.8164603899712, details={'was_impossible': False}),\n",
       " Prediction(uid='Anna Lee C. Iijima', iid='Knapp 2010 Riesling (Finger Lakes)', r_ui=87.0, est=87.30133016601849, details={'was_impossible': False}),\n",
       " Prediction(uid='Sean P. Sullivan', iid='Gordon Estate 2015 Chardonnay (Columbia Valley (WA))', r_ui=88.0, est=88.88443872329293, details={'was_impossible': False}),\n",
       " Prediction(uid='Sean P. Sullivan', iid='Pine & Post 2010 Chardonnay (Washington)', r_ui=84.0, est=88.88443872329293, details={'was_impossible': False}),\n",
       " Prediction(uid='Michael Schachner', iid='Melipal 2006 Reserve Malbec (Mendoza)', r_ui=87.0, est=87.038168595377, details={'was_impossible': False}),\n",
       " Prediction(uid='Roger Voss', iid='Fontes da Cunha 2013 Munda Touriga Nacional (DÃ£o)', r_ui=92.0, est=88.61620396305155, details={'was_impossible': False}),\n",
       " Prediction(uid='Paul Gregutt', iid='Quilceda Creek 1998 Cabernet Sauvignon (Washington)', r_ui=95.0, est=88.97770409559391, details={'was_impossible': False}),\n",
       " Prediction(uid='Jim Gordon', iid='Klinker Brick 2016 Bricks and Roses RosÃ© (Lodi)', r_ui=89.0, est=88.58802113142774, details={'was_impossible': False}),\n",
       " Prediction(uid='Roger Voss', iid='Les FrÃ¨res Couillaud 2016 ChÃ¢teau de la RagotiÃ¨re SÃ©lection Vieilles Vignes Sur Lie  (Muscadet SÃ¨vre et Maine)', r_ui=92.0, est=88.61620396305155, details={'was_impossible': False}),\n",
       " Prediction(uid='Michael Schachner', iid='MarquÃ©s de Vargas 2014 Conde de San CristÃ³bal  (Ribera del Duero)', r_ui=88.0, est=88.00532726002912, details={'was_impossible': False}),\n",
       " Prediction(uid='Roger Voss', iid='ChÃ¢teau Villa Bel Air 2003  Graves', r_ui=90.0, est=88.61620396305155, details={'was_impossible': False}),\n",
       " Prediction(uid='Roger Voss', iid='ChÃ¢teau les Hauts de Palette 2012  Cadillac CÃ´tes de Bordeaux', r_ui=88.0, est=88.61620396305155, details={'was_impossible': False}),\n",
       " Prediction(uid='Roger Voss', iid='ChÃ¢teau de Chassagne-Montrachet 2011  Chassagne-Montrachet', r_ui=84.0, est=89.86142168273456, details={'was_impossible': False}),\n",
       " Prediction(uid='Michael Schachner', iid='Sierra Cantabria 2014 Rosado (Rioja)', r_ui=84.0, est=87.038168595377, details={'was_impossible': False}),\n",
       " Prediction(uid='Virginie Boone', iid='Row Eleven 2013 Pinot Noir (Napa Valley)', r_ui=91.0, est=90.62579837829705, details={'was_impossible': False}),\n",
       " Prediction(uid='Michael Schachner', iid='Miguel Torres 2010 Santa Digna Reserve Cabernet Sauvignon (Central Valley)', r_ui=86.0, est=87.038168595377, details={'was_impossible': False}),\n",
       " Prediction(uid='Michael Schachner', iid='Bodegas Tintoralba 2010 BT Tintorera Garnacha (Almansa)', r_ui=81.0, est=87.038168595377, details={'was_impossible': False}),\n",
       " Prediction(uid='Roger Voss', iid=\"DFJ Vinhos 2013 Portada Winemaker's Selection Branco White (Lisboa)\", r_ui=84.0, est=88.61620396305155, details={'was_impossible': False}),\n",
       " Prediction(uid='Matt Kettmann', iid='Roark Wine Co. 2015 Burning Creek Ranch Pinot Noir (Sta. Rita Hills)', r_ui=93.0, est=89.97402917266642, details={'was_impossible': False}),\n",
       " Prediction(uid='Joe Czerwinski', iid='M. Chapoutier 2009 Petite Ruche  (Crozes-Hermitage)', r_ui=89.0, est=88.52232798317675, details={'was_impossible': False}),\n",
       " Prediction(uid='Paul Gregutt', iid='Oâ\\x80¢S Winery 2011 16th Street Bridge Red (Columbia Valley (WA))', r_ui=86.0, est=88.97770409559391, details={'was_impossible': False}),\n",
       " Prediction(uid='Kerin Oâ\\x80\\x99Keefe', iid='Negro Angelo e Figli 2012 Prachiosso  (Roero)', r_ui=89.0, est=88.93231340745321, details={'was_impossible': False}),\n",
       " Prediction(uid='Michael Schachner', iid='Bodegas Aragonesas 2013 Castillo de Fuendejalon Crianza Red (Campo de Borja)', r_ui=86.0, est=86.1522497661677, details={'was_impossible': False}),\n",
       " Prediction(uid='Matt Kettmann', iid='Falcone NV AnnatÃ© V Red (Paso Robles)', r_ui=93.0, est=89.97402917266642, details={'was_impossible': False}),\n",
       " Prediction(uid='Lauren Buzzeo', iid='Bellingham 2015 The Old Orchards Chenin Blanc (Paarl)', r_ui=89.0, est=87.73763162290929, details={'was_impossible': False}),\n",
       " Prediction(uid='Michael Schachner', iid='Cellers Melis 2005 Elix Red (Priorat)', r_ui=91.0, est=87.038168595377, details={'was_impossible': False}),\n",
       " Prediction(uid='Joe Czerwinski', iid='Saint Clair 2011 Pinot Noir (Marlborough)', r_ui=87.0, est=88.52232798317675, details={'was_impossible': False}),\n",
       " Prediction(uid='Michael Schachner', iid='DÃ\\xadaz Bayo 2011 Francisco DÃ\\xadaz Bayo Reserva  (Ribera del Duero)', r_ui=91.0, est=87.038168595377, details={'was_impossible': False}),\n",
       " Prediction(uid='Roger Voss', iid='MouchÃ£o 2007 Red (Alentejano)', r_ui=95.0, est=88.61620396305155, details={'was_impossible': False}),\n",
       " Prediction(uid='Roger Voss', iid='Fiuza 2013 Ikon Touriga Nacional (Tejo)', r_ui=92.0, est=88.61620396305155, details={'was_impossible': False}),\n",
       " Prediction(uid='Michael Schachner', iid='El Sombrero 2009 Red (Valle de Guadalupe)', r_ui=91.0, est=87.038168595377, details={'was_impossible': False}),\n",
       " Prediction(uid='Roger Voss', iid=\"ChÃ¢teau Maine d'Arman 2010  CÃ´tes de Bourg\", r_ui=87.0, est=87.28818199629292, details={'was_impossible': False}),\n",
       " Prediction(uid='Anne KrebiehlÂ\\xa0MW', iid='Domaine Zinck 2014 Terroir Riesling (Alsace)', r_ui=90.0, est=90.30624632455145, details={'was_impossible': False}),\n",
       " Prediction(uid='Matt Kettmann', iid='Clos de la Tech 2009 Domaine du Docteur Rodgers Pinot Noir (San Francisco Bay)', r_ui=93.0, est=89.97402917266642, details={'was_impossible': False}),\n",
       " Prediction(uid='Michael Schachner', iid='Sundance 2011 Merlot (Maule Valley)', r_ui=86.0, est=87.038168595377, details={'was_impossible': False}),\n",
       " Prediction(uid='Kerin Oâ\\x80\\x99Keefe', iid='Donnafugata 2016 Anthilia White (Sicilia)', r_ui=88.0, est=88.8164603899712, details={'was_impossible': False}),\n",
       " Prediction(uid='Michael Schachner', iid='Vistamar 2010 Sepia Reserva Cabernet Sauvignon (Maipo Valley)', r_ui=87.0, est=87.038168595377, details={'was_impossible': False}),\n",
       " Prediction(uid='Virginie Boone', iid='Chateau St. Jean 2013 Belle Terre Vineyard Chardonnay (Alexander Valley)', r_ui=90.0, est=89.84226116349284, details={'was_impossible': False}),\n",
       " Prediction(uid='Joe Czerwinski', iid='Wynns Coonawarra Estate 2004 John Riddoch Limited Release Cabernet Sauvignon (Coonawarra)', r_ui=93.0, est=88.52232798317675, details={'was_impossible': False}),\n",
       " Prediction(uid='Roger Voss', iid='ChÃ¢teau Philippe-le-Hardi 2012 La BrigadiÃ¨re Vieilles Vignes  (Mercurey)', r_ui=85.0, est=88.61620396305155, details={'was_impossible': False}),\n",
       " Prediction(uid='Michael Schachner', iid='Altamana 2014 Grande Reserve Malbec (Maule Valley)', r_ui=90.0, est=87.038168595377, details={'was_impossible': False}),\n",
       " Prediction(uid='Roger Voss', iid='J. Portugal Ramos 2015 Vila Santa Lois White (Alentejano)', r_ui=86.0, est=88.61620396305155, details={'was_impossible': False}),\n",
       " Prediction(uid='Michael Schachner', iid='Santa Carolina 2007 Reserva de Familia Chardonnay (Casablanca Valley)', r_ui=84.0, est=87.038168595377, details={'was_impossible': False}),\n",
       " Prediction(uid='Michael Schachner', iid='Bodegas Luis Gurpegui Muga 2009 Pintoresco Tempranillo (Extremadura)', r_ui=86.0, est=87.038168595377, details={'was_impossible': False}),\n",
       " Prediction(uid='Kerin Oâ\\x80\\x99Keefe', iid='La Mannella 2011  Brunello di Montalcino', r_ui=88.0, est=88.00465003110592, details={'was_impossible': False}),\n",
       " Prediction(uid='Roger Voss', iid='Georges Duboeuf 2009 La Madone  (Fleurie)', r_ui=88.0, est=88.61620396305155, details={'was_impossible': False}),\n",
       " Prediction(uid='Michael Schachner', iid='Chilcas 2012 Reserva Syrah (Maule Valley)', r_ui=89.0, est=88.67347354933327, details={'was_impossible': False}),\n",
       " Prediction(uid='Kerin Oâ\\x80\\x99Keefe', iid='Venica & Venica 2013 Sauvignon (Collio)', r_ui=90.0, est=88.8164603899712, details={'was_impossible': False}),\n",
       " Prediction(uid='Roger Voss', iid='ChÃ¢teau Jeanguillon 2014  Bordeaux SupÃ©rieur', r_ui=86.0, est=85.43438342009333, details={'was_impossible': False}),\n",
       " Prediction(uid='Matt Kettmann', iid='Brander 2012 Mesa Verde Vineyard Sauvignon Blanc (Santa Ynez Valley)', r_ui=85.0, est=89.97402917266642, details={'was_impossible': False}),\n",
       " Prediction(uid='Joe Czerwinski', iid='Ara 2008 Composite Pinot Noir (Marlborough)', r_ui=86.0, est=88.52232798317675, details={'was_impossible': False}),\n",
       " Prediction(uid='Joe Czerwinski', iid='La Font du Vent 2009 Notre Passion Signargues Red (CÃ´tes du RhÃ´ne Villages)', r_ui=88.0, est=88.52232798317675, details={'was_impossible': False}),\n",
       " Prediction(uid='Sean P. Sullivan', iid=\"Maryhill 2015 Winemaker's Red (Columbia Valley (WA))\", r_ui=86.0, est=88.88443872329293, details={'was_impossible': False}),\n",
       " Prediction(uid='Sean P. Sullivan', iid='Sparkman 2014 Enlightenment Chardonnay (Yakima Valley)', r_ui=90.0, est=88.88443872329293, details={'was_impossible': False}),\n",
       " Prediction(uid='Sean P. Sullivan', iid='Feather 2013 Vintage Select Cabernet Sauvignon (Columbia Valley (WA))', r_ui=94.0, est=88.88443872329293, details={'was_impossible': False}),\n",
       " Prediction(uid='Virginie Boone', iid='Rock Wall 2014 Rosso di Fiore Marcheschi Vineyard Zinfandel (Alexander Valley)', r_ui=86.0, est=89.12515016538663, details={'was_impossible': False}),\n",
       " Prediction(uid='Michael Schachner', iid='Bodega Virgen de la Sierra 2015 Albada ViÃ±a Viejas Macabeo (Calatayud)', r_ui=85.0, est=87.038168595377, details={'was_impossible': False}),\n",
       " Prediction(uid='Roger Voss', iid='Fiuza 2015 Red (Tejo)', r_ui=87.0, est=88.61620396305155, details={'was_impossible': False}),\n",
       " Prediction(uid='Michael Schachner', iid='MarquÃ©s de la Concordia 2008 Hacienda Abascal Crianza  (Ribera del Duero)', r_ui=86.0, est=87.038168595377, details={'was_impossible': False}),\n",
       " Prediction(uid='Virginie Boone', iid='Donkey & Goat 2012 Untended Chardonnay (Anderson Valley)', r_ui=90.0, est=89.12515016538663, details={'was_impossible': False}),\n",
       " Prediction(uid='Roger Voss', iid='ChÃ¢teau Clos Bourbon 2012 CuvÃ©e La Rose Bourbon  (Cadillac CÃ´tes de Bordeaux)', r_ui=84.0, est=88.61620396305155, details={'was_impossible': False}),\n",
       " Prediction(uid='Joe Czerwinski', iid='Parker 2004 Coonawarra Estate Terra Rossa First Growth Cabernet Sauvignon-Merlot (Coonawarra)', r_ui=91.0, est=88.52232798317675, details={'was_impossible': False}),\n",
       " Prediction(uid='Sean P. Sullivan', iid='Tranche 2012 Celilo Vineyard Chardonnay (Columbia Gorge (WA))', r_ui=90.0, est=88.88443872329293, details={'was_impossible': False}),\n",
       " Prediction(uid='Kerin Oâ\\x80\\x99Keefe', iid='Ressia 2013 Canova  (Barbaresco)', r_ui=88.0, est=88.8164603899712, details={'was_impossible': False}),\n",
       " Prediction(uid='Roger Voss', iid='Joseph Cattin 2011 Hatschbourg Grand Cru Pinot Gris (Alsace)', r_ui=91.0, est=88.61620396305155, details={'was_impossible': False}),\n",
       " Prediction(uid='Lauren Buzzeo', iid=\"GÃ©rard Bertrand 2010 Gris Blanc RosÃ© (Pays d'Oc)\", r_ui=86.0, est=87.73763162290929, details={'was_impossible': False}),\n",
       " Prediction(uid='Roger Voss', iid='ChÃ¢teau de Belcier 2007  CÃ´tes de Castillon', r_ui=86.0, est=88.61620396305155, details={'was_impossible': False}),\n",
       " Prediction(uid='Lauren Buzzeo', iid='Les Vignerons de Tautavel Vingrau 2011 Syrousse Red (CÃ´tes du Roussillon Villages)', r_ui=89.0, est=87.73763162290929, details={'was_impossible': False}),\n",
       " Prediction(uid='Matt Kettmann', iid='Dragonette 2016 RosÃ© (Happy Canyon of Santa Barbara)', r_ui=89.0, est=89.18519781837264, details={'was_impossible': False}),\n",
       " Prediction(uid='Sean P. Sullivan', iid='Ded.Reckoning 2013 No. 13 Ramseyer Vineyard Cabernet Sauvignon (Yakima Valley)', r_ui=90.0, est=88.88443872329293, details={'was_impossible': False}),\n",
       " Prediction(uid='Anna Lee C. Iijima', iid='Wagner 2013 Dry Riesling (Finger Lakes)', r_ui=88.0, est=88.46653057193892, details={'was_impossible': False}),\n",
       " Prediction(uid='Jim Gordon', iid='Page Mill Winery 2012 CÃ´tÃ© Vineyard Merlot (San Francisco Bay)', r_ui=88.0, est=88.58802113142774, details={'was_impossible': False}),\n",
       " Prediction(uid='Jim Gordon', iid='Cherry Tart 2014 Chardonnay (California)', r_ui=88.0, est=88.01253736742133, details={'was_impossible': False}),\n",
       " Prediction(uid='Kerin Oâ\\x80\\x99Keefe', iid='Cantina di Soave 2010 Cadis  (Amarone della Valpolicella)', r_ui=88.0, est=88.8164603899712, details={'was_impossible': False}),\n",
       " Prediction(uid='Virginie Boone', iid='Paraduxx 2013 Red (Atlas Peak)', r_ui=90.0, est=89.12515016538663, details={'was_impossible': False}),\n",
       " Prediction(uid='Anna Lee C. Iijima', iid='Hermann J. Wiemer 2012 HJW Vineyard Dry Estate Bottled and Grown Riesling (Seneca Lake)', r_ui=92.0, est=88.46653057193892, details={'was_impossible': False}),\n",
       " Prediction(uid='Joe Czerwinski', iid=\"Kumeu River 2006 MatÃ©'s Vineyard Chardonnay (Kumeu)\", r_ui=91.0, est=88.52232798317675, details={'was_impossible': False}),\n",
       " Prediction(uid='Kerin Oâ\\x80\\x99Keefe', iid='Colutta 2013 Sauvignon (Colli Orientali del Friuli)', r_ui=87.0, est=88.8164603899712, details={'was_impossible': False}),\n",
       " Prediction(uid='Virginie Boone', iid='Krupp Brothers 2009 Veraison Red (Napa Valley)', r_ui=87.0, est=89.12515016538663, details={'was_impossible': False}),\n",
       " Prediction(uid='Paul Gregutt', iid='Gamache 2005 Boulder Red (Columbia Valley (WA))', r_ui=87.0, est=88.97770409559391, details={'was_impossible': False}),\n",
       " Prediction(uid='Joe Czerwinski', iid='Nepenthe 2006 Unoaked Chardonnay (Adelaide Hills)', r_ui=87.0, est=88.52232798317675, details={'was_impossible': False}),\n",
       " Prediction(uid='Roger Voss', iid='Christophe Cordier 2014 Vers Cras  (Pouilly-FuissÃ©)', r_ui=88.0, est=88.11784728501424, details={'was_impossible': False}),\n",
       " Prediction(uid='Roger Voss', iid='ChÃ¢teau Fombrauge 2006 Blanc  (Bordeaux Blanc)', r_ui=90.0, est=88.61620396305155, details={'was_impossible': False}),\n",
       " Prediction(uid='Anne KrebiehlÂ\\xa0MW', iid='Soellner 2013 Wogenrain GrÃ¼ner Veltliner (Wagram-Donauland)', r_ui=87.0, est=90.30624632455145, details={'was_impossible': False}),\n",
       " Prediction(uid='Sean P. Sullivan', iid='Syncline 2014 Boushey Vineyard Grenache Blanc (Yakima Valley)', r_ui=90.0, est=88.88443872329293, details={'was_impossible': False}),\n",
       " Prediction(uid='Kerin Oâ\\x80\\x99Keefe', iid='Fattoria di Montemaggio 2007 Riserva  (Chianti Classico)', r_ui=89.0, est=88.8164603899712, details={'was_impossible': False}),\n",
       " Prediction(uid='Paul Gregutt', iid='Heart Catcher 2014 Volcano Ridge Vineyard Merlot (Columbia Gorge (OR))', r_ui=90.0, est=89.73210097406557, details={'was_impossible': False}),\n",
       " Prediction(uid='Joe Czerwinski', iid='Larry Cherubino 2008 Ad Lib Mix Master Cabernet Sauvignon-Merlot (Margaret River)', r_ui=89.0, est=88.52232798317675, details={'was_impossible': False}),\n",
       " Prediction(uid='Roger Voss', iid='Quinta da Lagoalva de Cima 2013 Red (Tejo)', r_ui=89.0, est=88.92303002868833, details={'was_impossible': False}),\n",
       " Prediction(uid='Michael Schachner', iid='Villa Atuel 2012 El Tractor Cabernet Sauvignon (Mendoza)', r_ui=85.0, est=87.038168595377, details={'was_impossible': False}),\n",
       " Prediction(uid='Virginie Boone', iid='Longboard 2011 Point Break Red (North Coast)', r_ui=89.0, est=89.12515016538663, details={'was_impossible': False}),\n",
       " Prediction(uid='Sean P. Sullivan', iid='Columbia Crest 2014 Grand Estates Cabernet Sauvignon (Columbia Valley (WA))', r_ui=90.0, est=88.88443872329293, details={'was_impossible': False}),\n",
       " Prediction(uid='Susan Kostrzewa', iid='Neil Ellis 2007 Sincerely Sauvignon Blanc (Western Cape)', r_ui=86.0, est=86.85498149449573, details={'was_impossible': False}),\n",
       " Prediction(uid='Anne KrebiehlÂ\\xa0MW', iid='Kracher 2013 Auslese CuvÃ©e White (Burgenland)', r_ui=94.0, est=90.30624632455145, details={'was_impossible': False}),\n",
       " Prediction(uid='Kerin Oâ\\x80\\x99Keefe', iid='Citille di Sopra 2010 Vigna Poggio Ronconi  (Brunello di Montalcino)', r_ui=87.0, est=87.5966087275173, details={'was_impossible': False}),\n",
       " Prediction(uid='Roger Voss', iid='Georges Duboeuf 2009 CuvÃ©e ElevÃ© en FÃ»t de ChÃªne  (Moulin-Ã\\xa0-Vent)', r_ui=87.0, est=88.61620396305155, details={'was_impossible': False}),\n",
       " Prediction(uid='Roger Voss', iid='Perrier JouÃ«t 2005 Belle Epoque Brut RosÃ©  (Champagne)', r_ui=95.0, est=88.61620396305155, details={'was_impossible': False}),\n",
       " Prediction(uid='Jim Gordon', iid='Graziano 2012 Petite Sirah (Mendocino)', r_ui=89.0, est=88.86050357819202, details={'was_impossible': False}),\n",
       " Prediction(uid='Paul Gregutt', iid='Delfino 2014 Cabernet Sauvignon (Umpqua Valley)', r_ui=85.0, est=88.97770409559391, details={'was_impossible': False}),\n",
       " Prediction(uid='Joe Czerwinski', iid='Kilikanoon 2009 The Duke Grenache (Clare Valley)', r_ui=91.0, est=88.52232798317675, details={'was_impossible': False}),\n",
       " Prediction(uid='Michael Schachner', iid='Gardel 2009 ColecciÃ³n Malbec (Mendoza)', r_ui=86.0, est=87.038168595377, details={'was_impossible': False}),\n",
       " Prediction(uid='Kerin Oâ\\x80\\x99Keefe', iid='Mauro Veglio 2011 Castelletto  (Barolo)', r_ui=93.0, est=88.8164603899712, details={'was_impossible': False}),\n",
       " Prediction(uid='Virginie Boone', iid='Prospect 772 2011 The Brat Grenache-Syrah (Sierra Foothills)', r_ui=94.0, est=89.12515016538663, details={'was_impossible': False}),\n",
       " Prediction(uid='Joe Czerwinski', iid='Mitolo 2012 Savitar Shiraz (McLaren Vale)', r_ui=92.0, est=91.33497317285328, details={'was_impossible': False}),\n",
       " Prediction(uid='Roger Voss', iid='Domaine des Marrans 2015 Clos du Pavillon  (Fleurie)', r_ui=93.0, est=92.37014515956601, details={'was_impossible': False}),\n",
       " Prediction(uid='Roger Voss', iid='Laurent-Perrier NV LP Brut  (Champagne)', r_ui=90.0, est=88.61620396305155, details={'was_impossible': False}),\n",
       " Prediction(uid='Roger Voss', iid=\"ChÃ¢teau Vignelaure 2011 La Source RosÃ© (Coteaux d'Aix-en-Provence)\", r_ui=89.0, est=88.61620396305155, details={'was_impossible': False}),\n",
       " Prediction(uid='Virginie Boone', iid='Kale 2015 RosÃ© (Sonoma County)', r_ui=90.0, est=89.12515016538663, details={'was_impossible': False}),\n",
       " Prediction(uid='Roger Voss', iid='Hospices de Saumur 2008 Clos Cristal  (Saumur-Champigny)', r_ui=90.0, est=88.61620396305155, details={'was_impossible': False}),\n",
       " Prediction(uid='Mike DeSimone', iid='Kindzmarauli Marani 2014 Mtsvane (Kakheti)', r_ui=88.0, est=89.06880023135628, details={'was_impossible': False}),\n",
       " Prediction(uid='Joe Czerwinski', iid='Juniper 2003 Cabernet Sauvignon (Margaret River)', r_ui=87.0, est=88.52232798317675, details={'was_impossible': False}),\n",
       " Prediction(uid='Roger Voss', iid='Jacques Simonin 2008 Ammonites  (Pouilly-FuissÃ©)', r_ui=89.0, est=88.61620396305155, details={'was_impossible': False}),\n",
       " Prediction(uid='Roger Voss', iid='Casa de Vila Nova 2013 Filipa de Lencastre White (Vinho Verde)', r_ui=86.0, est=88.61620396305155, details={'was_impossible': False}),\n",
       " Prediction(uid='Michael Schachner', iid='Payana 2011 Malbec (Mendoza)', r_ui=86.0, est=87.038168595377, details={'was_impossible': False}),\n",
       " Prediction(uid='Susan Kostrzewa', iid='Achaia Clauss 2015 Demestica White Moschofilero (Peloponnese)', r_ui=88.0, est=87.82418555457478, details={'was_impossible': False}),\n",
       " Prediction(uid='Michael Schachner', iid='Encanto 2014 Godello (Bierzo)', r_ui=87.0, est=87.038168595377, details={'was_impossible': False}),\n",
       " Prediction(uid='Roger Voss', iid='Quinta do Casal Monteiro 2015 Terra de Touros Arinto (Tejo)', r_ui=83.0, est=88.61620396305155, details={'was_impossible': False}),\n",
       " Prediction(uid='Paul Gregutt', iid='Cottonwood Winery of Oregon 2012 Estate MÃ¼ller-Thurgau (Willamette Valley)', r_ui=86.0, est=88.97770409559391, details={'was_impossible': False}),\n",
       " Prediction(uid='Roger Voss', iid='Herdade do Rocim 2014 Mariana White (Alentejano)', r_ui=86.0, est=88.61620396305155, details={'was_impossible': False}),\n",
       " Prediction(uid='Kerin Oâ\\x80\\x99Keefe', iid='Mesa 2013 Primo Rosso  (Carignano del Sulcis)', r_ui=89.0, est=88.8164603899712, details={'was_impossible': False}),\n",
       " Prediction(uid='Matt Kettmann', iid='Malene Wines 2015 RosÃ© (Central Coast)', r_ui=91.0, est=89.97402917266642, details={'was_impossible': False}),\n",
       " Prediction(uid='Matt Kettmann', iid='Kynsi 2013 Pinot Noir (Edna Valley)', r_ui=91.0, est=89.97402917266642, details={'was_impossible': False}),\n",
       " Prediction(uid='Anna Lee C. Iijima', iid='Markus Molitor 2012 Haus Klosterberg Riesling (Mosel)', r_ui=90.0, est=88.46653057193892, details={'was_impossible': False}),\n",
       " Prediction(uid='Paul Gregutt', iid='Efeste 2011 Ceidleigh Syrah (Red Mountain)', r_ui=91.0, est=90.57509838487272, details={'was_impossible': False}),\n",
       " Prediction(uid='Kerin Oâ\\x80\\x99Keefe', iid=\"Damilano 2016  Barbera d'Asti\", r_ui=89.0, est=88.8164603899712, details={'was_impossible': False}),\n",
       " Prediction(uid='Roger Voss', iid='ChÃ¢teau Toumilon 2005  Graves', r_ui=86.0, est=85.3747977296454, details={'was_impossible': False}),\n",
       " Prediction(uid='Kerin Oâ\\x80\\x99Keefe', iid='San Giacomo 2010  Brunello di Montalcino', r_ui=93.0, est=88.8164603899712, details={'was_impossible': False}),\n",
       " Prediction(uid='Paul Gregutt', iid='Andrew Rich 2005 Pinot Noir (Willamette Valley)', r_ui=90.0, est=88.97770409559391, details={'was_impossible': False}),\n",
       " Prediction(uid='Jim Gordon', iid='Klinker Brick 2014 Dolcetto (Lodi)', r_ui=92.0, est=88.58802113142774, details={'was_impossible': False}),\n",
       " Prediction(uid='Kerin Oâ\\x80\\x99Keefe', iid='Librandi 2013 Rosato Gaglioppo (CirÃ²)', r_ui=86.0, est=88.8164603899712, details={'was_impossible': False}),\n",
       " Prediction(uid='Michael Schachner', iid='Mont MarÃ§al NV Extremarium Brut Reserva Sparkling (Cava)', r_ui=87.0, est=87.038168595377, details={'was_impossible': False}),\n",
       " Prediction(uid='Roger Voss', iid='Vie di Romans 2001 Flors di Uis White (Friuli Isonzo)', r_ui=88.0, est=88.61620396305155, details={'was_impossible': False}),\n",
       " Prediction(uid='Matt Kettmann', iid='Jada Vineyard & Winery 2012 Strayts Merlot-Cabernet Sauvignon (Paso Robles)', r_ui=94.0, est=89.97402917266642, details={'was_impossible': False}),\n",
       " Prediction(uid='Roger Voss', iid='ChÃ¢teau Kirwan 2011 Barrel Sample  (Margaux)', r_ui=94.0, est=88.61620396305155, details={'was_impossible': False}),\n",
       " Prediction(uid='Anne KrebiehlÂ\\xa0MW', iid='Weingut Mayer am Pfarrplatz 2011 Pinot Noir (Vienna)', r_ui=86.0, est=90.30624632455145, details={'was_impossible': False}),\n",
       " Prediction(uid='Virginie Boone', iid='Spicy Vines 2013 Edge Red (Sonoma County)', r_ui=90.0, est=89.12515016538663, details={'was_impossible': False}),\n",
       " Prediction(uid='Virginie Boone', iid='Chalk Hill 2012 Estate Red (Chalk Hill)', r_ui=91.0, est=90.7185478801693, details={'was_impossible': False}),\n",
       " Prediction(uid='Matt Kettmann', iid='Diatom 2016 Santos Road Chardonnay (Sta. Rita Hills)', r_ui=91.0, est=89.97402917266642, details={'was_impossible': False}),\n",
       " Prediction(uid='Virginie Boone', iid='Tamber Bey 2016 Unoaked Chardonnay (Yountville)', r_ui=87.0, est=89.12515016538663, details={'was_impossible': False}),\n",
       " Prediction(uid='Virginie Boone', iid='Buehler 2014 Chardonnay (Russian River Valley)', r_ui=90.0, est=89.12515016538663, details={'was_impossible': False}),\n",
       " Prediction(uid='Michael Schachner', iid='Castillo Labastida 2006 Reserva  (Rioja)', r_ui=87.0, est=87.00388274956266, details={'was_impossible': False}),\n",
       " Prediction(uid='Roger Voss', iid='Domaine Franck Besson 2014 Le Griottier  (JuliÃ©nas)', r_ui=90.0, est=88.61620396305155, details={'was_impossible': False}),\n",
       " Prediction(uid='Michael Schachner', iid='Real CompaÃ±ia de Vinos 2013 Rosado (Spain)', r_ui=84.0, est=84.31983755155491, details={'was_impossible': False}),\n",
       " Prediction(uid='Matt Kettmann', iid='Chloe 2014 Pinot Noir (Monterey County)', r_ui=87.0, est=89.97402917266642, details={'was_impossible': False}),\n",
       " Prediction(uid='Michael Schachner', iid='Ferrer Bobet 2012 Vieilles Velles Red (Priorat)', r_ui=91.0, est=87.038168595377, details={'was_impossible': False}),\n",
       " Prediction(uid='Matt Kettmann', iid='Grassini 2014 Equipo Red (Happy Canyon of Santa Barbara)', r_ui=92.0, est=89.97402917266642, details={'was_impossible': False}),\n",
       " Prediction(uid='Roger Voss', iid='Chanoine NV Tzarina No 1 Brut  (Champagne)', r_ui=93.0, est=91.3426255597545, details={'was_impossible': False}),\n",
       " Prediction(uid='Lauren Buzzeo', iid='Domaine Sainte-EugÃ©nie 2009 Red (CorbiÃ¨res)', r_ui=87.0, est=87.73763162290929, details={'was_impossible': False}),\n",
       " Prediction(uid='Paul Gregutt', iid='Columbia Crest 2009 H3 Merlot (Horse Heaven Hills)', r_ui=86.0, est=88.97770409559391, details={'was_impossible': False}),\n",
       " Prediction(uid='Roger Voss', iid='Baron Philippe de Rothschild 2012 Mouton Cadet  (Bordeaux Blanc)', r_ui=85.0, est=86.03166354943005, details={'was_impossible': False}),\n",
       " Prediction(uid='Virginie Boone', iid='Franciscan 2014 Magnificat Meritage (Napa Valley)', r_ui=88.0, est=89.12515016538663, details={'was_impossible': False}),\n",
       " Prediction(uid='Roger Voss', iid='ChÃ¢teau Nairac 2014  Barsac', r_ui=96.0, est=88.61620396305155, details={'was_impossible': False}),\n",
       " Prediction(uid='Michael Schachner', iid='Duran 2010 Gran Reserva Sparkling (Cava)', r_ui=86.0, est=87.038168595377, details={'was_impossible': False}),\n",
       " Prediction(uid='Roger Voss', iid='William FÃ¨vre 2013 Bougros CÃ´tÃ© de Bouguerots Grand Cru  (Chablis)', r_ui=94.0, est=88.61620396305155, details={'was_impossible': False}),\n",
       " Prediction(uid='Roger Voss', iid='Manuel Olivier 2012  Vosne-RomanÃ©e', r_ui=91.0, est=88.61620396305155, details={'was_impossible': False}),\n",
       " Prediction(uid='Michael Schachner', iid='ChÃ¢teau Los Boldos 2011 Vieilles Vignes Cabernet Sauvignon (Rapel Valley)', r_ui=85.0, est=87.038168595377, details={'was_impossible': False}),\n",
       " Prediction(uid='Jim Gordon', iid='Sobon Estate 2014 Barbera (Amador County)', r_ui=90.0, est=88.58802113142774, details={'was_impossible': False}),\n",
       " Prediction(uid='Matt Kettmann', iid='Kendall-Jackson 2015 Jackson Estate Camelot Highlands Chardonnay (Santa Maria Valley)', r_ui=88.0, est=88.44677721165655, details={'was_impossible': False}),\n",
       " Prediction(uid='Anna Lee C. Iijima', iid='PflÃ¼cken 2014 Semidry Riesling (Mosel)', r_ui=87.0, est=88.46653057193892, details={'was_impossible': False}),\n",
       " Prediction(uid='Joe Czerwinski', iid=\"Tyrrell's 2013 Vat 9 Shiraz (Hunter Valley)\", r_ui=90.0, est=88.52232798317675, details={'was_impossible': False}),\n",
       " Prediction(uid='Lauren Buzzeo', iid='Yatir 2004 Yatir Forest Kosher Red (Judean Hills)', r_ui=87.0, est=87.24109841689909, details={'was_impossible': False}),\n",
       " Prediction(uid='Virginie Boone', iid='Gary Farrell 2015 Russian River Selection Chardonnay (Russian River Valley)', r_ui=95.0, est=89.12515016538663, details={'was_impossible': False}),\n",
       " Prediction(uid='Matt Kettmann', iid='Castoro Cellars 2015 Chardonnay (Paso Robles)', r_ui=87.0, est=90.88560712861735, details={'was_impossible': False}),\n",
       " Prediction(uid='Joe Czerwinski', iid='Jean-Luc Colombo 2014 Cape Bleue RosÃ© (Vin de Pays de la MÃ©diterranÃ©e)', r_ui=86.0, est=88.52232798317675, details={'was_impossible': False}),\n",
       " Prediction(uid='Roger Voss', iid='Tarlant NV Hommage Ã\\xa0 Louis Tarlant Brut  (Champagne)', r_ui=94.0, est=93.1113942956868, details={'was_impossible': False}),\n",
       " Prediction(uid='Matt Kettmann', iid='LXV 2014 Heart Note RosÃ© (Paso Robles)', r_ui=86.0, est=89.97402917266642, details={'was_impossible': False}),\n",
       " Prediction(uid='Jeff Jenssen', iid='Stobi 2014 Rkatsiteli (Tikves)', r_ui=88.0, est=88.3668817818146, details={'was_impossible': False}),\n",
       " Prediction(uid='Michael Schachner', iid='Eduardo Garrido GarcÃ\\xada 2011 Reserva  (Rioja)', r_ui=90.0, est=87.038168595377, details={'was_impossible': False}),\n",
       " Prediction(uid='Michael Schachner', iid='Amadores 2010 Pinot Noir (Mendoza)', r_ui=81.0, est=87.038168595377, details={'was_impossible': False}),\n",
       " Prediction(uid='Virginie Boone', iid=\"Kendall-Jackson 2011 Vintner's Reserve Zinfandel (Mendocino County)\", r_ui=88.0, est=89.12515016538663, details={'was_impossible': False}),\n",
       " Prediction(uid='Michael Schachner', iid='Monteviejo 2009 Lindaflor Red (Uco Valley)', r_ui=94.0, est=87.038168595377, details={'was_impossible': False}),\n",
       " Prediction(uid='Kerin Oâ\\x80\\x99Keefe', iid='Bindella 2009 I Quadri  (Vino Nobile di Montepulciano)', r_ui=89.0, est=88.8164603899712, details={'was_impossible': False}),\n",
       " Prediction(uid='Roger Voss', iid='Sauvion 2007 ChÃ¢teau du ClÃ©ray RÃ©serve Silico Argileux  (Muscadet SÃ¨vre et Maine)', r_ui=88.0, est=88.61620396305155, details={'was_impossible': False}),\n",
       " Prediction(uid='Jim Gordon', iid='Bella Grace 2015 Vermentino (Shenandoah Valley (CA))', r_ui=89.0, est=88.58802113142774, details={'was_impossible': False}),\n",
       " Prediction(uid='Kerin Oâ\\x80\\x99Keefe', iid=\"Marilena Barbera 2014 Nero d'Avola (Sicilia)\", r_ui=87.0, est=88.8164603899712, details={'was_impossible': False}),\n",
       " Prediction(uid='Roger Voss', iid='Quinta de SÃ£o JosÃ© 2014 Reserva Red (Douro)', r_ui=92.0, est=88.61620396305155, details={'was_impossible': False}),\n",
       " Prediction(uid='Joe Czerwinski', iid='La Coterie 2012 Red (CÃ´tes du RhÃ´ne)', r_ui=87.0, est=88.52232798317675, details={'was_impossible': False}),\n",
       " Prediction(uid='Lauren Buzzeo', iid='Nabygelegen 2009 Chenin Blanc (Wellington)', r_ui=87.0, est=87.73763162290929, details={'was_impossible': False}),\n",
       " Prediction(uid='Anna Lee C. Iijima', iid='Buttonwood Grove 2015 Riesling (Finger Lakes)', r_ui=86.0, est=88.46653057193892, details={'was_impossible': False}),\n",
       " Prediction(uid='Roger Voss', iid='ChÃ¢teau des Jacques 2011 Clos du Grand Carquelin  (Moulin-Ã\\xa0-Vent)', r_ui=93.0, est=88.61620396305155, details={'was_impossible': False}),\n",
       " Prediction(uid='Michael Schachner', iid='Enate 2016 Cabernet Sauvignon Rosado (Somontano)', r_ui=83.0, est=87.038168595377, details={'was_impossible': False}),\n",
       " Prediction(uid='Virginie Boone', iid='Shannon Ridge 2012 High Elevation Collection Chardonnay (Lake County)', r_ui=88.0, est=88.14929372369055, details={'was_impossible': False}),\n",
       " Prediction(uid='Roger Voss', iid='ChÃ¢teau Mazails 2011  MÃ©doc', r_ui=85.0, est=88.61620396305155, details={'was_impossible': False}),\n",
       " Prediction(uid='Virginie Boone', iid='Venge 2013 Silencieux Cabernet Sauvignon (Napa Valley)', r_ui=94.0, est=89.12515016538663, details={'was_impossible': False}),\n",
       " Prediction(uid='Anne KrebiehlÂ\\xa0MW', iid='Wieninger 2015 Bisamberg White (Wiener Gemischter Satz)', r_ui=90.0, est=90.30624632455145, details={'was_impossible': False}),\n",
       " Prediction(uid='Matt Kettmann', iid='Bruliam 2014 Soberanes Vineyard Pinot Noir (Santa Lucia Highlands)', r_ui=93.0, est=89.97402917266642, details={'was_impossible': False}),\n",
       " Prediction(uid='Anna Lee C. Iijima', iid='Bedell 2012 Taste White (North Fork of Long Island)', r_ui=87.0, est=88.46653057193892, details={'was_impossible': False}),\n",
       " Prediction(uid='Matt Kettmann', iid='Peachy Canyon 2014 Incredible Red Zinfandel (California)', r_ui=86.0, est=89.97402917266642, details={'was_impossible': False}),\n",
       " Prediction(uid='Joe Czerwinski', iid=\"Craggy Range 2008 C3 Kidnappers Vineyard Chardonnay (Hawke's Bay)\", r_ui=85.0, est=88.52232798317675, details={'was_impossible': False}),\n",
       " Prediction(uid='Michael Schachner', iid='Telmo RodrÃ\\xadguez 2013 Al-muvedre Tinto Monastrell (Alicante)', r_ui=88.0, est=87.038168595377, details={'was_impossible': False}),\n",
       " Prediction(uid='Roger Voss', iid='ChÃ¢teau Margaux 2009 Barrel sample  (Margaux)', r_ui=96.0, est=88.61620396305155, details={'was_impossible': False}),\n",
       " Prediction(uid='Michael Schachner', iid='Elk Cove 1998 Windhill Pinot Noir (Willamette Valley)', r_ui=88.0, est=87.038168595377, details={'was_impossible': False}),\n",
       " Prediction(uid='Kerin Oâ\\x80\\x99Keefe', iid='Cascina Bretta Rossa 2011 CuvÃ©Ã¨ Leonora RosÃ© Pinot Nero (Alta Langa)', r_ui=88.0, est=88.8164603899712, details={'was_impossible': False}),\n",
       " Prediction(uid='Roger Voss', iid='Bouchard PÃ¨re & Fils 2006 Chevalier-Montrachet La Cabotte  (Chevalier-Montrachet)', r_ui=95.0, est=88.61620396305155, details={'was_impossible': False}),\n",
       " Prediction(uid='Kerin Oâ\\x80\\x99Keefe', iid='Varvaglione Vigne & Vini 2012 Cardinale Linea Oro  (Primitivo di Manduria)', r_ui=86.0, est=88.8164603899712, details={'was_impossible': False}),\n",
       " Prediction(uid='Roger Voss', iid='Bernard Remy NV Carte Blanche Brut  (Champagne)', r_ui=88.0, est=88.22092225873615, details={'was_impossible': False}),\n",
       " Prediction(uid='Roger Voss', iid='Casal da Coelheira 2014 RosÃ© (Tejo)', r_ui=81.0, est=88.61620396305155, details={'was_impossible': False}),\n",
       " Prediction(uid='Jim Gordon', iid='Leaping Horse 2013 Chardonnay (California)', r_ui=86.0, est=88.58802113142774, details={'was_impossible': False}),\n",
       " Prediction(uid='Roger Voss', iid='Jean-Luc and Paul Aegerter 2012  Nuits-St.-Georges', r_ui=90.0, est=88.61620396305155, details={'was_impossible': False}),\n",
       " Prediction(uid='Roger Voss', iid='Domaine de la Jobeline 2016  MÃ¢con-Villages', r_ui=87.0, est=88.61620396305155, details={'was_impossible': False}),\n",
       " Prediction(uid='Michael Schachner', iid='Sant Rafel 2014 Joana Garnacha (Montsant)', r_ui=85.0, est=87.038168595377, details={'was_impossible': False}),\n",
       " Prediction(uid='Anne KrebiehlÂ\\xa0MW', iid='Zull 2014 Innere Bergen Riesling (NiederÃ¶sterreich)', r_ui=91.0, est=90.30624632455145, details={'was_impossible': False}),\n",
       " Prediction(uid='Jim Gordon', iid='Putah Creek 2011 Cabernet Sauvignon (Solano County)', r_ui=87.0, est=87.27082180145065, details={'was_impossible': False}),\n",
       " Prediction(uid='Roger Voss', iid='Symington Family Estates 2012 Altano Quinta do AtaÃ\\xadde Made With Organic Grapes Red (Douro)', r_ui=89.0, est=88.61620396305155, details={'was_impossible': False}),\n",
       " Prediction(uid='Kerin Oâ\\x80\\x99Keefe', iid='Cembra NV Ororosso Extra Brut Sparkling (Trento)', r_ui=90.0, est=88.8164603899712, details={'was_impossible': False}),\n",
       " Prediction(uid='Virginie Boone', iid='Landmark 2012 Spring Hill Vineyard Pinot Noir (Sonoma Coast)', r_ui=92.0, est=89.12515016538663, details={'was_impossible': False}),\n",
       " Prediction(uid='Joe Czerwinski', iid='R Wines 2007 Marquis Philips G.G. Grenache (McLaren Vale)', r_ui=90.0, est=88.52232798317675, details={'was_impossible': False}),\n",
       " Prediction(uid='Matt Kettmann', iid='Chamisal Vineyards 2012 Syrah (Edna Valley)', r_ui=92.0, est=89.97402917266642, details={'was_impossible': False}),\n",
       " Prediction(uid='Paul Gregutt', iid='Ott & Murphy 2009 Double Bluff Red Red (Horse Heaven Hills)', r_ui=86.0, est=88.97770409559391, details={'was_impossible': False}),\n",
       " Prediction(uid='Matt Kettmann', iid='Orfila 2013 Element 119 Pinot Noir (Arroyo Grande Valley)', r_ui=92.0, est=89.97402917266642, details={'was_impossible': False}),\n",
       " Prediction(uid='Anna Lee C. Iijima', iid='Bedell 2011 Cabernet Franc (North Fork of Long Island)', r_ui=89.0, est=88.46653057193892, details={'was_impossible': False}),\n",
       " Prediction(uid='Michael Schachner', iid='Gracia de Chile 2006 Reserve Pinot Noir (BÃ\\xado BÃ\\xado Valley)', r_ui=87.0, est=87.038168595377, details={'was_impossible': False}),\n",
       " Prediction(uid='Michael Schachner', iid='Puramun 2014 Reserva Malbec (Valle de Uco)', r_ui=92.0, est=87.038168595377, details={'was_impossible': False}),\n",
       " Prediction(uid='Joe Czerwinski', iid='Giant Steps 2011 Tarraford Vineyard Chardonnay (Yarra Valley)', r_ui=92.0, est=91.45947481275647, details={'was_impossible': False}),\n",
       " Prediction(uid='Kerin Oâ\\x80\\x99Keefe', iid='Bera 2012  Barbaresco', r_ui=92.0, est=88.8164603899712, details={'was_impossible': False}),\n",
       " Prediction(uid='Roger Voss', iid='ChÃ¢teau Vircoulon 2015  Bordeaux SupÃ©rieur', r_ui=88.0, est=88.61620396305155, details={'was_impossible': False}),\n",
       " Prediction(uid='Sean P. Sullivan', iid='Lobo Hills 2012 Right Bank Blend Lonesome Springs Ranch Red (Yakima Valley)', r_ui=91.0, est=88.88443872329293, details={'was_impossible': False}),\n",
       " Prediction(uid='Michael Schachner', iid='Altocedro 2010 AÃ±o Cero Malbec (Mendoza)', r_ui=85.0, est=87.038168595377, details={'was_impossible': False}),\n",
       " Prediction(uid='Roger Voss', iid='ChÃ¢teau les Clauzots 2013  Graves', r_ui=87.0, est=88.61620396305155, details={'was_impossible': False}),\n",
       " Prediction(uid='Paul Gregutt', iid='Corvallis Cellars 2011 Pinot Noir (Willamette Valley)', r_ui=88.0, est=88.97770409559391, details={'was_impossible': False}),\n",
       " Prediction(uid='Michael Schachner', iid='Santa Alicia 2009 Anke Blend 2 CarmÃ©nÃ¨re-Petit Verdot-Shiraz Red (Maipo Valley)', r_ui=87.0, est=87.038168595377, details={'was_impossible': False}),\n",
       " Prediction(uid='Paul Gregutt', iid='Alder Ridge 2006 Cabernet Sauvignon (Horse Heaven Hills)', r_ui=90.0, est=88.97770409559391, details={'was_impossible': False}),\n",
       " Prediction(uid='Michael Schachner', iid='Bodegas Muriel 2005 Vendimia Seleccionada Crianza  (Rioja)', r_ui=86.0, est=86.10135412834606, details={'was_impossible': False}),\n",
       " Prediction(uid='Paul Gregutt', iid='Ken Wright 2010 Freedom Hill Vineyard Pinot Noir (Willamette Valley)', r_ui=94.0, est=88.97770409559391, details={'was_impossible': False}),\n",
       " Prediction(uid='Roger Voss', iid='Domaines Dominique Piron 2015 La Chanaise  (Morgon)', r_ui=92.0, est=88.61620396305155, details={'was_impossible': False}),\n",
       " Prediction(uid='Roger Voss', iid='ChÃ¢teau Roque le Mayne 2015  Castillon CÃ´tes de Bordeaux', r_ui=90.0, est=88.61620396305155, details={'was_impossible': False}),\n",
       " Prediction(uid='Susan Kostrzewa', iid='Mulderbosch 2005 Faithful Hound Red (Stellenbosch)', r_ui=87.0, est=86.85498149449573, details={'was_impossible': False}),\n",
       " Prediction(uid='Michael Schachner', iid='La Lomita 2009 Singular Red (Valle de Guadalupe)', r_ui=88.0, est=87.038168595377, details={'was_impossible': False}),\n",
       " Prediction(uid='Matt Kettmann', iid='Sisters Forever 2015 Un-oaked Chardonnay (Central Coast)', r_ui=87.0, est=89.97402917266642, details={'was_impossible': False}),\n",
       " Prediction(uid='Michael Schachner', iid='Loma Larga 2013 Unfiltered Pinot Noir (Casablanca Valley)', r_ui=84.0, est=87.038168595377, details={'was_impossible': False}),\n",
       " Prediction(uid='Paul Gregutt', iid='Laurens 1996 Clos des Demoiselles Brut Chenin Blanc (CrÃ©mant de Limoux)', r_ui=89.0, est=88.97770409559391, details={'was_impossible': False}),\n",
       " Prediction(uid='Michael Schachner', iid='Alma Negra 2007 Bonarda (Mendoza)', r_ui=89.0, est=87.038168595377, details={'was_impossible': False}),\n",
       " Prediction(uid='Jim Gordon', iid='Occasio 2011 Thatcher Bay Vineyard Merlot (Livermore Valley)', r_ui=91.0, est=90.57031921970885, details={'was_impossible': False}),\n",
       " Prediction(uid='Michael Schachner', iid='Indomita 2014 Gran Reserva Cabernet Sauvignon (Maipo Valley)', r_ui=85.0, est=87.038168595377, details={'was_impossible': False}),\n",
       " Prediction(uid='Virginie Boone', iid='Conn Creek 2013 El Adobo Ranch Vineyard Cabernet Sauvignon (Chiles Valley)', r_ui=91.0, est=89.12515016538663, details={'was_impossible': False}),\n",
       " Prediction(uid='Paul Gregutt', iid='Anam Cara 2011 Mark VI Pinot Noir (Chehalem Mountains)', r_ui=91.0, est=88.97770409559391, details={'was_impossible': False}),\n",
       " Prediction(uid='Paul Gregutt', iid='Woodinville Wine Cellars 2009 Little Bear Creek Red Red (Columbia Valley (WA))', r_ui=90.0, est=89.82475824868004, details={'was_impossible': False}),\n",
       " Prediction(uid='Roger Voss', iid='Glatzer 2011 Altenberg St. Laurent (Carnuntum)', r_ui=89.0, est=88.61620396305155, details={'was_impossible': False}),\n",
       " Prediction(uid='Kerin Oâ\\x80\\x99Keefe', iid='Manzone Fratelli 2008 Vigna Fraschin  (Barolo)', r_ui=88.0, est=88.8164603899712, details={'was_impossible': False}),\n",
       " Prediction(uid='Anne KrebiehlÂ\\xa0MW', iid='Gustave Lorentz 2012 Burg Riesling (Alsace)', r_ui=91.0, est=90.30624632455145, details={'was_impossible': False}),\n",
       " Prediction(uid='Roger Voss', iid='Etablissements Thunevin 2014 Mauvais GarÃ§on  (Bordeaux)', r_ui=89.0, est=88.25563711158101, details={'was_impossible': False}),\n",
       " Prediction(uid='Joe Czerwinski', iid='Villa Maria 2016 Private Bin Sauvignon Blanc (Marlborough)', r_ui=90.0, est=88.52232798317675, details={'was_impossible': False}),\n",
       " Prediction(uid='Joe Czerwinski', iid='RieflÃ© 1996 Steinert Tokay Pinot Gris (Alsace)', r_ui=89.0, est=88.52232798317675, details={'was_impossible': False}),\n",
       " Prediction(uid='Roger Voss', iid='ChÃ¢teau des Mille Anges 2015  Cadillac CÃ´tes de Bordeaux', r_ui=88.0, est=88.61620396305155, details={'was_impossible': False}),\n",
       " Prediction(uid='Anna Lee C. Iijima', iid='Thousand Islands Winery 2014 GewÃ¼rztraminer (New York)', r_ui=85.0, est=88.46653057193892, details={'was_impossible': False}),\n",
       " Prediction(uid='Roger Voss', iid='DFJ Vinhos 2010 Segada Branco White (Lisboa)', r_ui=83.0, est=88.61620396305155, details={'was_impossible': False}),\n",
       " Prediction(uid='Paul Gregutt', iid='Arbor Crest 2012 Four Vineyards Merlot (Columbia Valley (WA))', r_ui=91.0, est=88.97770409559391, details={'was_impossible': False}),\n",
       " Prediction(uid='Michael Schachner', iid='Luis Felipe Edwards 2012 Marea FumÃ© Sauvignon Blanc (Leyda Valley)', r_ui=90.0, est=87.038168595377, details={'was_impossible': False}),\n",
       " Prediction(uid='Roger Voss', iid='Domaine Roger & Christophe Moreux 2016 Les Monts DamnÃ©s  (Sancerre)', r_ui=93.0, est=88.61620396305155, details={'was_impossible': False}),\n",
       " Prediction(uid='Michael Schachner', iid='MarquÃ©s de Murrieta 2011 Finca Ygay Reserva  (Rioja)', r_ui=91.0, est=87.038168595377, details={'was_impossible': False}),\n",
       " Prediction(uid='Lauren Buzzeo', iid='Lions Drift 2009 Silkbush Mountain Vineyards Pinotage (Breedekloof)', r_ui=89.0, est=88.76861731941273, details={'was_impossible': False}),\n",
       " Prediction(uid='Paul Gregutt', iid='1789 Wines 2007 Pinot Noir (Chehalem Mountains)', r_ui=91.0, est=88.97770409559391, details={'was_impossible': False}),\n",
       " Prediction(uid='Joe Czerwinski', iid='Torbreck 2006 SaignÃ©e RosÃ© (Barossa Valley)', r_ui=90.0, est=88.52232798317675, details={'was_impossible': False}),\n",
       " Prediction(uid='Roger Voss', iid='Domaine Vacheron 2015  Sancerre', r_ui=92.0, est=91.40343310156904, details={'was_impossible': False}),\n",
       " Prediction(uid='Roger Voss', iid='Damien et Romain Bouchard 2011 VaudÃ©sir Grand Cru  (Chablis)', r_ui=92.0, est=88.61620396305155, details={'was_impossible': False}),\n",
       " Prediction(uid='Roger Voss', iid='Herdade das Servas 2008 Touriga Nacional (Alentejano)', r_ui=89.0, est=88.61620396305155, details={'was_impossible': False}),\n",
       " Prediction(uid='Roger Voss', iid='ChÃ¢teau Roubine 2016 Premium RosÃ© (CÃ´tes de Provence)', r_ui=90.0, est=88.61620396305155, details={'was_impossible': False}),\n",
       " Prediction(uid='Lauren Buzzeo', iid='Thelema 2009 Riesling (Stellenbosch)', r_ui=88.0, est=87.73763162290929, details={'was_impossible': False}),\n",
       " Prediction(uid='Roger Voss', iid='Nicolas Maillet 2008  MÃ¢con-Villages', r_ui=88.0, est=88.61620396305155, details={'was_impossible': False}),\n",
       " Prediction(uid='Roger Voss', iid='Loimer 2011 Lois GrÃ¼ner Veltliner (NiederÃ¶sterreich)', r_ui=87.0, est=88.61620396305155, details={'was_impossible': False}),\n",
       " Prediction(uid='Paul Gregutt', iid='Three Rivers 2008 Chardonnay (Columbia Valley (WA))', r_ui=87.0, est=88.97770409559391, details={'was_impossible': False}),\n",
       " Prediction(uid='Michael Schachner', iid='ViÃ±a Casablanca 2013 Cefiro Reserva Merlot (Maipo Valley)', r_ui=88.0, est=87.038168595377, details={'was_impossible': False}),\n",
       " Prediction(uid='Michael Schachner', iid='Bodega Otto BestuÃ© 2013 Finca Santa Sabina Tempranillo-Cabernet Sauvignon (Somontano)', r_ui=87.0, est=87.038168595377, details={'was_impossible': False}),\n",
       " Prediction(uid='Anne KrebiehlÂ\\xa0MW', iid='Domaine BarmÃ¨s-Buecher 2015 Pfersigberg Grand Cru Gewurztraminer (Alsace)', r_ui=94.0, est=90.30624632455145, details={'was_impossible': False}),\n",
       " Prediction(uid='Roger Voss', iid='Domaine de la Sauveuse 2011 CuvÃ©e ChÃ¢teau RosÃ© (CÃ´tes de Provence)', r_ui=86.0, est=88.61620396305155, details={'was_impossible': False}),\n",
       " Prediction(uid='Matt Kettmann', iid='Lincourt 2014 Annie Dyer Pinot Noir (Sta. Rita Hills)', r_ui=92.0, est=91.60525676196707, details={'was_impossible': False}),\n",
       " Prediction(uid='Sean P. Sullivan', iid='Va Piano 2014 Syrah (Walla Walla Valley (WA))', r_ui=92.0, est=88.88443872329293, details={'was_impossible': False}),\n",
       " Prediction(uid='Kerin Oâ\\x80\\x99Keefe', iid='Bindella 2011  Vino Nobile di Montepulciano', r_ui=91.0, est=88.8164603899712, details={'was_impossible': False}),\n",
       " Prediction(uid='Roger Voss', iid=\"Vignerons de Buzet 2011 Baron d'Ardeuil Vieilles Vignes Red (Buzet)\", r_ui=88.0, est=88.61620396305155, details={'was_impossible': False}),\n",
       " Prediction(uid='Michael Schachner', iid='Pere Ventura NV Tresor Reserva Sparkling (Cava)', r_ui=86.0, est=87.038168595377, details={'was_impossible': False}),\n",
       " Prediction(uid='Michael Schachner', iid='Aresti 2000 Reserve Cabernet Sauvignon (Rio Claro)', r_ui=85.0, est=87.038168595377, details={'was_impossible': False}),\n",
       " Prediction(uid='Roger Voss', iid='Marcel Couturier 2014 Le Bourg  (Pouilly-LochÃ©)', r_ui=90.0, est=88.61620396305155, details={'was_impossible': False}),\n",
       " Prediction(uid='Michael Schachner', iid='Conde de HervÃ\\xadas & Mencos 2008 Conde de HervÃ\\xadas  (Rioja)', r_ui=90.0, est=87.038168595377, details={'was_impossible': False}),\n",
       " Prediction(uid='Roger Voss', iid='Companhia das Quintas 2008 Quinta da Pancas Reserva Touriga Nacional (Lisboa)', r_ui=90.0, est=88.61620396305155, details={'was_impossible': False}),\n",
       " Prediction(uid='Kerin Oâ\\x80\\x99Keefe', iid='Suavia 2013 Monte Carbonare  (Soave Classico)', r_ui=91.0, est=90.57539910690134, details={'was_impossible': False}),\n",
       " Prediction(uid='Kerin Oâ\\x80\\x99Keefe', iid='Valdipiatta 2014  Rosso di Montepulciano', r_ui=87.0, est=87.48301854740633, details={'was_impossible': False}),\n",
       " Prediction(uid='Jim Gordon', iid='Navarro 2014 Pinot Gris (Anderson Valley)', r_ui=88.0, est=88.58802113142774, details={'was_impossible': False}),\n",
       " Prediction(uid='Roger Voss', iid='DFJ Vinhos 2008 Coreto RosÃ© (Estremadura)', r_ui=84.0, est=88.61620396305155, details={'was_impossible': False}),\n",
       " Prediction(uid='Jeff Jenssen', iid='Samuel Tinon 2007 Dry Tokaji Szamorodni Furmint (Tokaj)', r_ui=92.0, est=88.3668817818146, details={'was_impossible': False}),\n",
       " Prediction(uid='Paul Gregutt', iid='Dusted Valley 2006 Cabernet Sauvignon (Columbia Valley (WA))', r_ui=87.0, est=88.97770409559391, details={'was_impossible': False}),\n",
       " Prediction(uid='Roger Voss', iid='Henri Bourgeois 2014 Haute Victoire  (Quincy)', r_ui=88.0, est=88.61620396305155, details={'was_impossible': False}),\n",
       " Prediction(uid='Joe Czerwinski', iid='ChÃ¢teau La Nerthe 2013 Red (ChÃ¢teauneuf-du-Pape)', r_ui=88.0, est=88.13144039958877, details={'was_impossible': False}),\n",
       " Prediction(uid='Roger Voss', iid='Doudet Naudin 2013  Pouilly-FuissÃ©', r_ui=82.0, est=88.61620396305155, details={'was_impossible': False}),\n",
       " Prediction(uid='Roger Voss', iid='Fournier PÃ¨re et Fils 2014 CÃ´tes de Morogues  (Menetou-Salon)', r_ui=86.0, est=88.61620396305155, details={'was_impossible': False}),\n",
       " Prediction(uid='Virginie Boone', iid='Galerie 2015 Equitem Sauvignon Blanc (Knights Valley)', r_ui=94.0, est=89.12515016538663, details={'was_impossible': False}),\n",
       " Prediction(uid='Paul Gregutt', iid='Gorman 2008 Big Sissy Conner Lee Vineyard Chardonnay (Columbia Valley (WA))', r_ui=89.0, est=88.97770409559391, details={'was_impossible': False}),\n",
       " Prediction(uid='Anna Lee C. Iijima', iid='Anthony Nappa 2010 Dieci Red (North Fork of Long Island)', r_ui=90.0, est=89.88397366179889, details={'was_impossible': False}),\n",
       " Prediction(uid='Kerin Oâ\\x80\\x99Keefe', iid='Monte Faustino 2011  Recioto della Valpolicella Classico', r_ui=88.0, est=88.11612425652551, details={'was_impossible': False}),\n",
       " Prediction(uid='Virginie Boone', iid='Spann Vineyards 2012 Cross Creek Vineyard Cabernet Sauvignon (Moon Mountain District Sonoma County)', r_ui=85.0, est=89.12515016538663, details={'was_impossible': False}),\n",
       " Prediction(uid='Virginie Boone', iid=\"Zagan's Fire 2012 Estate Grown Verdelho (Lodi)\", r_ui=82.0, est=89.12515016538663, details={'was_impossible': False}),\n",
       " Prediction(uid='Paul Gregutt', iid='J. Scott Cellars 2013 Sauvignon Blanc (Oregon)', r_ui=91.0, est=88.97770409559391, details={'was_impossible': False}),\n",
       " Prediction(uid='Michael Schachner', iid='Torres 2013 Milmanda Chardonnay (Conca de BarberÃ\\xa0)', r_ui=87.0, est=87.19013119036842, details={'was_impossible': False}),\n",
       " Prediction(uid='Roger Voss', iid='BacalhÃ´a Wines of Portugal 2008 Quinta dos Loridos Branco Alvarinho (Lisboa)', r_ui=86.0, est=88.61620396305155, details={'was_impossible': False}),\n",
       " Prediction(uid='Roger Voss', iid='Domaine du Grand Bouqueteau 2008  Chinon', r_ui=87.0, est=88.61620396305155, details={'was_impossible': False}),\n",
       " Prediction(uid='Kerin Oâ\\x80\\x99Keefe', iid='Punset 2011 Campo Quadro Riserva  (Barbaresco)', r_ui=85.0, est=88.8164603899712, details={'was_impossible': False}),\n",
       " Prediction(uid='Kerin Oâ\\x80\\x99Keefe', iid='Giuseppe Rinaldi 2012 Brunate  (Barolo)', r_ui=96.0, est=88.8164603899712, details={'was_impossible': False}),\n",
       " Prediction(uid='Paul Gregutt', iid='Buty 2012 Conner Lee Vineyard Merlot-Cabernet Franc (Columbia Valley (WA))', r_ui=92.0, est=88.97770409559391, details={'was_impossible': False}),\n",
       " Prediction(uid='Michael Schachner', iid='Poema NV Brut Sparkling (Cava)', r_ui=85.0, est=87.038168595377, details={'was_impossible': False}),\n",
       " Prediction(uid='Roger Voss', iid='Domaine Chasselay 2011 Les Grands Eparcieux  (Beaujolais)', r_ui=85.0, est=88.61620396305155, details={'was_impossible': False}),\n",
       " Prediction(uid='Fiona Adams', iid='Llano Estacado 2014 Cellar Reserve Cabernet Sauvignon (Texas)', r_ui=82.0, est=87.58961928723502, details={'was_impossible': False}),\n",
       " Prediction(uid='Roger Voss', iid='Josef Schmid 2011 Kremser Gebling Erste Lage GrÃ¼ner Veltliner (Kremstal)', r_ui=92.0, est=91.38607850353289, details={'was_impossible': False}),\n",
       " Prediction(uid='Michael Schachner', iid='Montes 2012 Malbec (Colchagua Valley)', r_ui=88.0, est=87.038168595377, details={'was_impossible': False}),\n",
       " Prediction(uid='Virginie Boone', iid='Jeff Gordon 2011 Cabernet Sauvignon (Napa Valley)', r_ui=83.0, est=89.12515016538663, details={'was_impossible': False}),\n",
       " Prediction(uid='Roger Voss', iid='Hermann Moser 2011 Kellerterrassen Reserve Riesling (Kremstal)', r_ui=90.0, est=88.61620396305155, details={'was_impossible': False}),\n",
       " Prediction(uid='Jim Gordon', iid='Playtime 2013 Blonde Chardonnay (Lake County)', r_ui=87.0, est=88.58802113142774, details={'was_impossible': False}),\n",
       " Prediction(uid='Roger Voss', iid='Domaine A. Machard de Gramont 2011 Les Beaumonts  (Chorey-lÃ¨s-Beaune)', r_ui=87.0, est=88.61620396305155, details={'was_impossible': False}),\n",
       " Prediction(uid='Virginie Boone', iid='McCay Cellars 2008 Petite Sirah (Lodi)', r_ui=86.0, est=89.12515016538663, details={'was_impossible': False}),\n",
       " Prediction(uid='Michael Schachner', iid='Errazuriz 2011 Single Vineyard Max Reserva Estates CarmenÃ¨re (Aconcagua Valley)', r_ui=88.0, est=87.038168595377, details={'was_impossible': False}),\n",
       " Prediction(uid='Matt Kettmann', iid='Seal Beach 2011 Natalie Grace Harrison Clarke Vineyard Syrah (Ballard Canyon)', r_ui=93.0, est=89.97402917266642, details={'was_impossible': False}),\n",
       " Prediction(uid='Matt Kettmann', iid='Babcock 2013 Je Ne Sais Quoi Pinot Noir (Sta. Rita Hills)', r_ui=93.0, est=89.97402917266642, details={'was_impossible': False}),\n",
       " Prediction(uid='Joe Czerwinski', iid='Vignerons de CaractÃ¨re 2011 ChÃ¢teau des Hautes Ribes Red (Vacqueyras)', r_ui=89.0, est=88.52232798317675, details={'was_impossible': False}),\n",
       " Prediction(uid='Michael Schachner', iid='Montes 2001 Oak Aged - Reserve Malbec (Colchagua Valley)', r_ui=86.0, est=87.038168595377, details={'was_impossible': False}),\n",
       " Prediction(uid='Michael Schachner', iid='Calcu 2013 Reserva Cabernet Franc (Colchagua Valley)', r_ui=86.0, est=87.038168595377, details={'was_impossible': False}),\n",
       " Prediction(uid='Virginie Boone', iid='Cosentino 2012 Reserve Cabernet Sauvignon (Napa Valley)', r_ui=88.0, est=89.12515016538663, details={'was_impossible': False}),\n",
       " Prediction(uid='Matt Kettmann', iid='TH 2013 The 46 Grenache-Syrah (Paso Robles Willow Creek District)', r_ui=89.0, est=89.97402917266642, details={'was_impossible': False}),\n",
       " Prediction(uid='Kerin Oâ\\x80\\x99Keefe', iid='Pasini San Giovanni 2016  Lugana', r_ui=88.0, est=88.8164603899712, details={'was_impossible': False}),\n",
       " Prediction(uid='Michael Schachner', iid='TamarÃ\\xad 2011 Reserva TorrontÃ©s (La Rioja)', r_ui=87.0, est=87.038168595377, details={'was_impossible': False}),\n",
       " Prediction(uid='Virginie Boone', iid='Sojourn 2015 Sangiacomo Vineyard Pinot Noir (Sonoma Coast)', r_ui=92.0, est=89.12515016538663, details={'was_impossible': False}),\n",
       " Prediction(uid='Kerin Oâ\\x80\\x99Keefe', iid='Paradiso di Frassina 2012 Moz Art  (Brunello di Montalcino)', r_ui=92.0, est=88.8164603899712, details={'was_impossible': False}),\n",
       " Prediction(uid='Jim Gordon', iid='Stemmler 2013 Whole Cluster Pinot Noir (Anderson Valley)', r_ui=90.0, est=88.58802113142774, details={'was_impossible': False}),\n",
       " Prediction(uid='Paul Gregutt', iid='Doyenne 2006 MÃ©tier Red Wine Red (Columbia Valley (WA))', r_ui=90.0, est=89.77782479057812, details={'was_impossible': False}),\n",
       " Prediction(uid='Kerin Oâ\\x80\\x99Keefe', iid='Astoria NV Extra Dry  (Valdobbiadene Prosecco Superiore)', r_ui=88.0, est=88.8164603899712, details={'was_impossible': False}),\n",
       " Prediction(uid='Michael Schachner', iid='Willamette Valley Vineyards 1999 Estate Vineyard Chardonnay (Willamette Valley)', r_ui=83.0, est=87.038168595377, details={'was_impossible': False}),\n",
       " Prediction(uid='Matt Kettmann', iid='Brian Benson 2013 Arbor Creek Vineyard Primitivo (Paso Robles)', r_ui=89.0, est=89.97402917266642, details={'was_impossible': False}),\n",
       " Prediction(uid='Anna Lee C. Iijima', iid='Telavi 2008 Marani Mukuzani Saperavi (Kakheti)', r_ui=88.0, est=88.46653057193892, details={'was_impossible': False}),\n",
       " Prediction(uid='Kerin Oâ\\x80\\x99Keefe', iid='Cerbaia 2011  Brunello di Montalcino', r_ui=90.0, est=89.57218260651058, details={'was_impossible': False}),\n",
       " Prediction(uid='Roger Voss', iid='Companhia das Quintas 2009 Quinta da Fronteira Grande Escolha Red (Douro)', r_ui=93.0, est=88.61620396305155, details={'was_impossible': False}),\n",
       " Prediction(uid='Anna Lee C. Iijima', iid='Rooster Hill 2014 Barrel Reserve Pinot Noir (Finger Lakes)', r_ui=87.0, est=88.46653057193892, details={'was_impossible': False}),\n",
       " Prediction(uid='Michael Schachner', iid='Otazu 2006 Altar Red (Navarra)', r_ui=90.0, est=89.59370723607009, details={'was_impossible': False}),\n",
       " Prediction(uid='Joe Czerwinski', iid='Patriarche PÃ¨re et Fils 2004 Brut Chardonnay (Vin Mousseux)', r_ui=83.0, est=88.52232798317675, details={'was_impossible': False}),\n",
       " Prediction(uid='Jim Gordon', iid='Concannon 2010 Reserve Petite Sirah (Livermore Valley)', r_ui=91.0, est=88.58802113142774, details={'was_impossible': False}),\n",
       " Prediction(uid='Paul Gregutt', iid='Bethel Heights 2014 Justice Vineyard Pinot Noir (Eola-Amity Hills)', r_ui=92.0, est=88.97770409559391, details={'was_impossible': False}),\n",
       " Prediction(uid='Matt Kettmann', iid='Left Bend 2013 Brosseau Vineyard Syrah (Chalone)', r_ui=93.0, est=89.97402917266642, details={'was_impossible': False}),\n",
       " Prediction(uid='Michael Schachner', iid='Sutil 2012 Canto de Piedra Reserva Chardonnay (LimarÃ\\xad Valley)', r_ui=84.0, est=87.038168595377, details={'was_impossible': False}),\n",
       " Prediction(uid='Kerin Oâ\\x80\\x99Keefe', iid='Ferrero 2010  Brunello di Montalcino', r_ui=87.0, est=88.8164603899712, details={'was_impossible': False}),\n",
       " Prediction(uid='Anne KrebiehlÂ\\xa0MW', iid=\"Jean-Baptiste Adam NV Sparkling (CrÃ©mant d'Alsace)\", r_ui=89.0, est=90.30624632455145, details={'was_impossible': False}),\n",
       " Prediction(uid='Kerin Oâ\\x80\\x99Keefe', iid=\"Marisa Cuomo 2012 Furore Rosso Riserva Red (Costa d'Amalfi)\", r_ui=88.0, est=88.8164603899712, details={'was_impossible': False}),\n",
       " Prediction(uid='Roger Voss', iid='ChÃ¢teau Semonlon 2013  Haut-MÃ©doc', r_ui=86.0, est=88.61620396305155, details={'was_impossible': False}),\n",
       " Prediction(uid='Susan Kostrzewa', iid='Henry of Pelham 2004 Icewine Riesling (Niagara Peninsula)', r_ui=85.0, est=86.85498149449573, details={'was_impossible': False}),\n",
       " Prediction(uid='Kerin Oâ\\x80\\x99Keefe', iid='Villa Calcinaia 2013 Vigna La Fornace Gran Selezione  (Chianti Classico)', r_ui=88.0, est=88.8164603899712, details={'was_impossible': False}),\n",
       " Prediction(uid='Alexander Peartree', iid='Good Harbor 2011 Riesling (Leelanau Peninsula)', r_ui=83.0, est=86.11187414758817, details={'was_impossible': False}),\n",
       " Prediction(uid='Roger Voss', iid='DFJ Vinhos 2016 Cara Viva RosÃ© (Lisboa)', r_ui=84.0, est=88.61620396305155, details={'was_impossible': False}),\n",
       " Prediction(uid='Anne KrebiehlÂ\\xa0MW', iid='Judith Beck 2011 Pannobile Red (Burgenland)', r_ui=92.0, est=90.30624632455145, details={'was_impossible': False}),\n",
       " Prediction(uid='Sean P. Sullivan', iid='Kontos 2012 Merlot (Walla Walla Valley (WA))', r_ui=91.0, est=88.88443872329293, details={'was_impossible': False}),\n",
       " Prediction(uid='Roger Voss', iid='Damien et Romain Bouchard 2012 MontÃ©e de Tonnerre Premier Cru  (Chablis)', r_ui=92.0, est=88.61620396305155, details={'was_impossible': False}),\n",
       " Prediction(uid='Anne KrebiehlÂ\\xa0MW', iid='Bernhard Ott 2013 Stein GrÃ¼ner Veltliner (Wagram-Donauland)', r_ui=93.0, est=90.30624632455145, details={'was_impossible': False}),\n",
       " Prediction(uid='Michael Schachner', iid='BÃ¡goa do MiÃ±o 2014 LÃ¡grima AlbariÃ±o (RÃ\\xadas Baixas)', r_ui=91.0, est=87.038168595377, details={'was_impossible': False}),\n",
       " Prediction(uid='Michael Schachner', iid='Vistamar 2011 Sepia Reserva Syrah (Cachapoal Valley)', r_ui=85.0, est=87.038168595377, details={'was_impossible': False}),\n",
       " Prediction(uid='Michael Schachner', iid='Carmelo Patti 2005 Cabernet Sauvignon (LujÃ¡n de Cuyo)', r_ui=89.0, est=87.038168595377, details={'was_impossible': False}),\n",
       " Prediction(uid='Joe Czerwinski', iid=\"Grey's Peak 2009 Sauvignon Blanc (Waipara)\", r_ui=87.0, est=88.52232798317675, details={'was_impossible': False}),\n",
       " Prediction(uid='Roger Voss', iid='ChÃ¢teau Saint-Didier-Parnac 2012 PrieurÃ© de CÃ©nac Mission Malbec (Cahors)', r_ui=89.0, est=88.87920333528136, details={'was_impossible': False}),\n",
       " Prediction(uid='Michael Schachner', iid='Borsao 2010 RosÃ© (Campo de Borja)', r_ui=87.0, est=87.038168595377, details={'was_impossible': False}),\n",
       " Prediction(uid='Paul Gregutt', iid='Phelps Creek 2015 Reserve Barrel Fermented Pinot Gris (Columbia Gorge (OR))', r_ui=89.0, est=88.97770409559391, details={'was_impossible': False}),\n",
       " Prediction(uid='Roger Voss', iid='ChÃ¢teau de Chambert 2010 Grand Vin Malbec (Cahors)', r_ui=93.0, est=88.61620396305155, details={'was_impossible': False}),\n",
       " Prediction(uid='Anne KrebiehlÂ\\xa0MW', iid='FrÃ©dÃ©ric Mallo 2015 Pinot Gris (Alsace)', r_ui=88.0, est=88.40707181080167, details={'was_impossible': False}),\n",
       " Prediction(uid='Sean P. Sullivan', iid=\"Bunnell 2011 Wine O' Clock Boushey Vineyard Sangiovese (Yakima Valley)\", r_ui=87.0, est=88.88443872329293, details={'was_impossible': False}),\n",
       " Prediction(uid='Kerin Oâ\\x80\\x99Keefe', iid='Tenuta San Jacopo 2010 Poggio ai Grilli  (Chianti)', r_ui=86.0, est=86.7388918100664, details={'was_impossible': False}),\n",
       " Prediction(uid='Virginie Boone', iid='Castle Rock 2012 Sauvignon Blanc (Mendocino County)', r_ui=85.0, est=89.12515016538663, details={'was_impossible': False}),\n",
       " Prediction(uid='Matt Kettmann', iid='Archium 2014 Faction Syrah (Santa Ynez Valley)', r_ui=88.0, est=89.97402917266642, details={'was_impossible': False}),\n",
       " Prediction(uid='Virginie Boone', iid='Rutherford Ranch 2015 Reserve Chardonnay (Carneros)', r_ui=87.0, est=89.12515016538663, details={'was_impossible': False}),\n",
       " Prediction(uid='Paul Gregutt', iid='Painted Rock 2010 Estate Grown Syrah (Okanagan Valley)', r_ui=92.0, est=91.35774505556442, details={'was_impossible': False}),\n",
       " Prediction(uid='Michael Schachner', iid=\"Josep Grau Viticultor 2015 L'Efecte Volador Red (Montsant)\", r_ui=81.0, est=87.038168595377, details={'was_impossible': False}),\n",
       " Prediction(uid='Sean P. Sullivan', iid='Dunham 2012 Lewis Vineyard Artist Series Cabernet Sauvignon (Columbia Valley (WA))', r_ui=92.0, est=88.88443872329293, details={'was_impossible': False}),\n",
       " Prediction(uid='Roger Voss', iid='Henri Bourgeois 2015 Haute Victoire  (Quincy)', r_ui=88.0, est=88.61620396305155, details={'was_impossible': False}),\n",
       " Prediction(uid='Roger Voss', iid=\"ChÃ¢teau l'EspÃ©rance 2012 Les CÃ¨dres  (CÃ´tes de Bourg)\", r_ui=90.0, est=89.73231946957208, details={'was_impossible': False}),\n",
       " Prediction(uid='Paul Gregutt', iid='Tinhorn Creek 2013 Pinot Gris (Okanagan Valley)', r_ui=90.0, est=88.97770409559391, details={'was_impossible': False}),\n",
       " Prediction(uid='Anne KrebiehlÂ\\xa0MW', iid='HÃ¶pler 2013 GrÃ¼ner Veltliner (Burgenland)', r_ui=89.0, est=89.2475128536635, details={'was_impossible': False}),\n",
       " Prediction(uid='Matt Kettmann', iid='Barbieri 2016 Vermentino (Santa Barbara County)', r_ui=89.0, est=89.97402917266642, details={'was_impossible': False}),\n",
       " Prediction(uid='Paul Gregutt', iid=\"Amalie Robert 2008 Amalie's CuvÃ©e Pinot Noir (Willamette Valley)\", r_ui=88.0, est=88.97770409559391, details={'was_impossible': False}),\n",
       " Prediction(uid='Roger Voss', iid='Louis Roederer 2009 Brut RosÃ©  (Champagne)', r_ui=93.0, est=88.61620396305155, details={'was_impossible': False}),\n",
       " Prediction(uid='Joe Czerwinski', iid='Ecco Domani 2001 Maso Canali Pinot Grigio (Trentino)', r_ui=84.0, est=88.52232798317675, details={'was_impossible': False}),\n",
       " Prediction(uid='Anne KrebiehlÂ\\xa0MW', iid='Cave de Turckheim 2012 Hengst Grand Cru Pinot Gris (Alsace)', r_ui=94.0, est=90.30624632455145, details={'was_impossible': False}),\n",
       " Prediction(uid='Kerin Oâ\\x80\\x99Keefe', iid='Villa Russiz 2015 Les Enfants White (Collio)', r_ui=89.0, est=88.95322566882128, details={'was_impossible': False}),\n",
       " Prediction(uid='Kerin Oâ\\x80\\x99Keefe', iid='Umani Ronchi 2015 Casal di Serra  (Verdicchio dei Castelli di Jesi Classico Superiore)', r_ui=91.0, est=90.57605320497387, details={'was_impossible': False}),\n",
       " Prediction(uid='Michael Schachner', iid='Beronia 2016 Verdejo (Rueda)', r_ui=87.0, est=87.03415747628608, details={'was_impossible': False}),\n",
       " Prediction(uid='Kerin Oâ\\x80\\x99Keefe', iid='Settesoli 2016 Mandrarossa Costa Dune Grillo (Sicilia)', r_ui=86.0, est=88.8164603899712, details={'was_impossible': False}),\n",
       " Prediction(uid='Michael Schachner', iid='Aresti 2008 Estate Selection Chardonnay (CuricÃ³ Valley)', r_ui=86.0, est=85.99630871669426, details={'was_impossible': False}),\n",
       " Prediction(uid='Virginie Boone', iid='Wayfarer 2013 Wayfarer Vineyard Estate Grown Pinot Noir (Fort Ross-Seaview)', r_ui=94.0, est=89.12515016538663, details={'was_impossible': False}),\n",
       " Prediction(uid='Jim Gordon', iid='Naughty Boy 2013 Thornton Ranch Chardonnay (Potter Valley)', r_ui=84.0, est=88.58802113142774, details={'was_impossible': False}),\n",
       " Prediction(uid='Matt Kettmann', iid='Brophy Clark 2013 G-S-M (Santa Ynez Valley)', r_ui=91.0, est=89.97402917266642, details={'was_impossible': False}),\n",
       " Prediction(uid='Roger Voss', iid='Wieninger 2009 Wiener Trilogie Red (Vienna)', r_ui=90.0, est=88.61620396305155, details={'was_impossible': False}),\n",
       " Prediction(uid='Virginie Boone', iid='Patz & Hall 2013 Hudson Vineyard Chardonnay (Carneros)', r_ui=92.0, est=89.12515016538663, details={'was_impossible': False}),\n",
       " Prediction(uid='Matt Kettmann', iid='Sculpterra 2011 Cabernet Franc (Paso Robles)', r_ui=90.0, est=89.97402917266642, details={'was_impossible': False}),\n",
       " Prediction(uid='Michael Schachner', iid='Pico Madama 2003 Monastrell / Petit Verdot Red (Jumilla)', r_ui=89.0, est=87.038168595377, details={'was_impossible': False}),\n",
       " Prediction(uid='Michael Schachner', iid='Loma Larga 2012 Unfiltered Rapsodia Red (Casablanca Valley)', r_ui=93.0, est=87.038168595377, details={'was_impossible': False}),\n",
       " Prediction(uid='Kerin Oâ\\x80\\x99Keefe', iid='Colombera & Garella 2013 Pizzaguerra  (Lessona)', r_ui=96.0, est=88.8164603899712, details={'was_impossible': False}),\n",
       " Prediction(uid='Roger Voss', iid='Remy-Pannier 2007 VallÃ©e des Jardins  (Vouvray)', r_ui=86.0, est=88.61620396305155, details={'was_impossible': False}),\n",
       " Prediction(uid='Michael Schachner', iid='Casa Silva 2011 Sauvignon Gris (Colchagua Valley)', r_ui=83.0, est=87.038168595377, details={'was_impossible': False}),\n",
       " Prediction(uid='Matt Kettmann', iid='Nicora 2014 Slide Hill Vineyard Syrah (Edna Valley)', r_ui=92.0, est=89.97402917266642, details={'was_impossible': False}),\n",
       " Prediction(uid='Michael Schachner', iid='Bodegas San Isidro 2007 GÃ©mina Monastrell (Jumilla)', r_ui=87.0, est=87.038168595377, details={'was_impossible': False}),\n",
       " Prediction(uid='Kerin Oâ\\x80\\x99Keefe', iid='Pelissero 2014 Nubiola  (Barbaresco)', r_ui=85.0, est=88.8164603899712, details={'was_impossible': False}),\n",
       " Prediction(uid='Matt Kettmann', iid=\"Ken Brown 2013 Rita's Crown Vineyard Pinot Noir (Sta. Rita Hills)\", r_ui=92.0, est=89.97402917266642, details={'was_impossible': False}),\n",
       " Prediction(uid='Roger Voss', iid='Faiveley 2007  MÃ¢con-Villages', r_ui=87.0, est=88.61620396305155, details={'was_impossible': False}),\n",
       " Prediction(uid='Roger Voss', iid='ChÃ¢teau Coudray Montpensier 2009 RosÃ© Cabernet Franc (Chinon)', r_ui=84.0, est=88.61620396305155, details={'was_impossible': False}),\n",
       " Prediction(uid='Michael Schachner', iid='Valsanzo 2005 ViÃ±a Sanzo Verdejo (Rueda)', r_ui=83.0, est=87.038168595377, details={'was_impossible': False}),\n",
       " Prediction(uid='Michael Schachner', iid=\"Ca' de Calle 2010 Reserva Red (Mendoza)\", r_ui=88.0, est=87.038168595377, details={'was_impossible': False}),\n",
       " Prediction(uid='Virginie Boone', iid='Ektimo Vineyards 2014 Pinot Noir (Russian River Valley)', r_ui=87.0, est=89.12515016538663, details={'was_impossible': False}),\n",
       " Prediction(uid='Virginie Boone', iid='Silver Veil 2015 Chardonnay (Russian River Valley)', r_ui=88.0, est=89.12515016538663, details={'was_impossible': False}),\n",
       " Prediction(uid='Paul Gregutt', iid='Left Coast Cellars 2014 Latitude 45Â° Estate Grown Pinot Noir (Willamette Valley)', r_ui=92.0, est=88.97770409559391, details={'was_impossible': False}),\n",
       " Prediction(uid='Roger Voss', iid='ChÃ¢teau Peynaud-Bagnac 2012  Bordeaux', r_ui=89.0, est=88.7296555918507, details={'was_impossible': False}),\n",
       " Prediction(uid='Virginie Boone', iid='Castle Rock 2007 Merlot (Mendocino County)', r_ui=82.0, est=89.12515016538663, details={'was_impossible': False}),\n",
       " Prediction(uid='Michael Schachner', iid='Benegas 2011 Luna Benegas Cabernet Sauvignon (Mendoza)', r_ui=88.0, est=87.038168595377, details={'was_impossible': False}),\n",
       " Prediction(uid='Roger Voss', iid='ChÃ¢teau Roubine 2013 RosÃ© (CÃ´tes de Provence)', r_ui=91.0, est=88.61620396305155, details={'was_impossible': False}),\n",
       " Prediction(uid='Kerin Oâ\\x80\\x99Keefe', iid='Bava 2013 Scarrone  (Barolo)', r_ui=89.0, est=88.8164603899712, details={'was_impossible': False}),\n",
       " Prediction(uid='Sean P. Sullivan', iid='Fidelitas 2014 Cabernet Sauvignon (Red Mountain)', r_ui=89.0, est=88.88443872329293, details={'was_impossible': False}),\n",
       " Prediction(uid='Kerin Oâ\\x80\\x99Keefe', iid='St. Pauls 2015 Passion Petit Manseng (Alto Adige)', r_ui=89.0, est=88.8164603899712, details={'was_impossible': False}),\n",
       " Prediction(uid='Roger Voss', iid='Vignerons des Terres SecrÃ¨tes 2015  Saint-VÃ©ran', r_ui=88.0, est=88.61620396305155, details={'was_impossible': False}),\n",
       " Prediction(uid='Paul Gregutt', iid='Apolloni 2007 Olivia Vineyard Pinot Noir (Willamette Valley)', r_ui=85.0, est=88.97770409559391, details={'was_impossible': False}),\n",
       " Prediction(uid='Sean P. Sullivan', iid='Camaraderie 2013 Crawford Vineyard Malbec (Yakima Valley)', r_ui=87.0, est=88.88443872329293, details={'was_impossible': False}),\n",
       " Prediction(uid='Virginie Boone', iid='Pech Merle 2014 Treborce Zinfandel (Dry Creek Valley)', r_ui=87.0, est=89.12515016538663, details={'was_impossible': False}),\n",
       " Prediction(uid='Roger Voss', iid='Casca Wines 2014 Late Harvest FernÃ£o Pires (Tejo)', r_ui=88.0, est=88.61620396305155, details={'was_impossible': False}),\n",
       " Prediction(uid='Anna Lee C. Iijima', iid='Waters Crest 2010 Grand Vin Cabernet Franc (North Fork of Long Island)', r_ui=87.0, est=88.46653057193892, details={'was_impossible': False}),\n",
       " Prediction(uid='Kerin Oâ\\x80\\x99Keefe', iid='Bigi 2012 Amabile  (Orvieto Classico)', r_ui=86.0, est=86.5193748713975, details={'was_impossible': False}),\n",
       " Prediction(uid='Roger Voss', iid='ChÃ¢teau Couhins-Lurton 2008  Pessac-LÃ©ognan', r_ui=89.0, est=88.61620396305155, details={'was_impossible': False}),\n",
       " Prediction(uid='Sean P. Sullivan', iid='Walla Walla Vintners 2013 Red Wine G-S-M (Walla Walla Valley (WA))', r_ui=88.0, est=88.88443872329293, details={'was_impossible': False}),\n",
       " Prediction(uid='Roger Voss', iid='ChÃ¢teau de Pizay 2011 ChÃ¢teau de Saint Lager  (Brouilly)', r_ui=88.0, est=88.61620396305155, details={'was_impossible': False}),\n",
       " Prediction(uid='Michael Schachner', iid='Terras Gauda 2011 O Rosal AlbariÃ±o (RÃ\\xadas Baixas)', r_ui=89.0, est=87.038168595377, details={'was_impossible': False}),\n",
       " Prediction(uid='Sean P. Sullivan', iid='Manu Propria 2012 Ex Animo Red Willow Vineyard Cabernet Sauvignon (Yakima Valley)', r_ui=91.0, est=88.88443872329293, details={'was_impossible': False}),\n",
       " Prediction(uid='Kerin Oâ\\x80\\x99Keefe', iid='Caparra & Siciliani 2013 Solagi Rosso  (CirÃ² Classico)', r_ui=85.0, est=88.8164603899712, details={'was_impossible': False}),\n",
       " Prediction(uid='Paul Gregutt', iid='Boudreaux Cellars 2006 Sangiovese (Columbia Valley (WA))', r_ui=88.0, est=88.97770409559391, details={'was_impossible': False}),\n",
       " Prediction(uid='Roger Voss', iid='Chanson PÃ¨re et Fils 2005 Clos des FÃ¨ves Premier Cru  (Beaune)', r_ui=94.0, est=88.61620396305155, details={'was_impossible': False}),\n",
       " Prediction(uid='Joe Czerwinski', iid='Silver Beach 2009 Sauvignon Blanc (Marlborough)', r_ui=85.0, est=88.52232798317675, details={'was_impossible': False}),\n",
       " Prediction(uid='Paul Gregutt', iid='SolÃ©na 2012 Willakia Pinot Noir (Willamette Valley)', r_ui=87.0, est=88.97770409559391, details={'was_impossible': False}),\n",
       " Prediction(uid='Sean P. Sullivan', iid='14 Hands 2014 The Reserve RosÃ© of Malbec (Horse Heaven Hills)', r_ui=87.0, est=88.88443872329293, details={'was_impossible': False}),\n",
       " Prediction(uid='Roger Voss', iid=\"ChÃ¢teau d'OlliÃ¨res 2013 Haut de l'Hermitage Red (Coteaux Varois en Provence)\", r_ui=92.0, est=88.61620396305155, details={'was_impossible': False}),\n",
       " Prediction(uid='Joe Czerwinski', iid='Jansz NV Premium Brut RosÃ© Sparkling (Tasmania)', r_ui=90.0, est=89.71918175255865, details={'was_impossible': False}),\n",
       " Prediction(uid='Kerin Oâ\\x80\\x99Keefe', iid=\"Coppo 2013 Cascina Gavelli  (Barbera d'Asti)\", r_ui=88.0, est=88.8164603899712, details={'was_impossible': False}),\n",
       " Prediction(uid='Anna Lee C. Iijima', iid='KÃ¼hling-Gillot 2012 Qvinterra Trocken Riesling (Rheinhessen)', r_ui=91.0, est=90.69420730113286, details={'was_impossible': False}),\n",
       " Prediction(uid='Virginie Boone', iid='Benovia 2013 Chardonnay (Russian River Valley)', r_ui=91.0, est=89.12515016538663, details={'was_impossible': False}),\n",
       " Prediction(uid='Anna Lee C. Iijima', iid='Heron Hill 2012 Cabernet Franc (Finger Lakes)', r_ui=88.0, est=88.46653057193892, details={'was_impossible': False}),\n",
       " Prediction(uid='Anne KrebiehlÂ\\xa0MW', iid='Camel Valley 2013 Cornwall RosÃ© Pinot Noir (England)', r_ui=90.0, est=90.30624632455145, details={'was_impossible': False}),\n",
       " Prediction(uid='Matt Kettmann', iid='Sculpterra 2014 Estate Cabernet Sauvignon (Paso Robles)', r_ui=89.0, est=89.29857083427088, details={'was_impossible': False}),\n",
       " Prediction(uid='Roger Voss', iid='Luis Duarte 2015 Rapariga da Quinta Reserva Red (Alentejano)', r_ui=93.0, est=88.61620396305155, details={'was_impossible': False}),\n",
       " Prediction(uid='Roger Voss', iid='Caves Campelo 2015 Campelo Tinto Red (Vinho Verde)', r_ui=84.0, est=88.61620396305155, details={'was_impossible': False}),\n",
       " Prediction(uid='Roger Voss', iid='Liebart-RÃ©gnier 2008 ExcÃ©lia Brut  (Champagne)', r_ui=93.0, est=88.61620396305155, details={'was_impossible': False}),\n",
       " Prediction(uid='Virginie Boone', iid='Charles Heintz 2012 Pinot Noir (Sonoma County)', r_ui=90.0, est=89.12515016538663, details={'was_impossible': False}),\n",
       " Prediction(uid='Roger Voss', iid='Domaine Fourrey 2014 Domaine des Miles Vaillons Premier Cru  (Chablis)', r_ui=92.0, est=88.61620396305155, details={'was_impossible': False}),\n",
       " Prediction(uid='Michael Schachner', iid='Albet I Noya 2011 Brut Natural Reserva Sparkling (PenedÃ¨s)', r_ui=86.0, est=87.76000670568175, details={'was_impossible': False}),\n",
       " Prediction(uid='Paul Gregutt', iid='Cairdeas NV Tri Red (Columbia Valley (WA))', r_ui=86.0, est=88.97770409559391, details={'was_impossible': False}),\n",
       " Prediction(uid='Roger Voss', iid='ChÃ¢teau de la Roulerie 2014 La CamÃ©lias  (RosÃ© de Loire)', r_ui=85.0, est=88.61620396305155, details={'was_impossible': False}),\n",
       " Prediction(uid='Roger Voss', iid='Caves Bonifacio 2009 Aragonez (Lisboa)', r_ui=86.0, est=88.61620396305155, details={'was_impossible': False}),\n",
       " Prediction(uid='Matt Kettmann', iid='Testarossa 2014 Tondre Grapefield Pinot Noir (Santa Lucia Highlands)', r_ui=93.0, est=89.97402917266642, details={'was_impossible': False}),\n",
       " Prediction(uid='Paul Gregutt', iid='Forgeron 2008 Orange Muscat (Columbia Valley (WA))', r_ui=90.0, est=88.97770409559391, details={'was_impossible': False}),\n",
       " Prediction(uid='Roger Voss', iid='Judith Beck 2007 Pinot Noir (Burgenland)', r_ui=89.0, est=88.61620396305155, details={'was_impossible': False}),\n",
       " Prediction(uid='Roger Voss', iid='Cave Freudenreich 2013 Pinot Blanc (Alsace)', r_ui=85.0, est=88.61620396305155, details={'was_impossible': False}),\n",
       " Prediction(uid='Roger Voss', iid='ThiÃ©not 2006 CuvÃ©e Stanislas Blanc de Blancs Brut MillesimÃ© Chardonnay (Champagne)', r_ui=92.0, est=88.61620396305155, details={'was_impossible': False}),\n",
       " Prediction(uid='Jim Gordon', iid='Shannon 2014 Home Ranch Reserve Malbec (Lake County)', r_ui=90.0, est=88.58802113142774, details={'was_impossible': False}),\n",
       " Prediction(uid='Roger Voss', iid='ChÃ¢teau de Bonhoste 2011  Bordeaux Blanc', r_ui=87.0, est=87.1722100021935, details={'was_impossible': False}),\n",
       " Prediction(uid='Carrie Dykes', iid='Veramar 2015 JB Winemaker Series Merlot (Virginia)', r_ui=89.0, est=86.56615799768534, details={'was_impossible': False}),\n",
       " Prediction(uid='Paul Gregutt', iid='Efeste 2005 Big Papa Old Vine Cabernet Sauvignon (Columbia Valley (WA))', r_ui=91.0, est=88.97770409559391, details={'was_impossible': False}),\n",
       " Prediction(uid='Michael Schachner', iid='Mano A Mano 2010 Venta la Ossa Tempranillo (Vino de la Tierra de Castilla)', r_ui=90.0, est=87.038168595377, details={'was_impossible': False}),\n",
       " Prediction(uid='Roger Voss', iid='Altas Quintas 2010 Branco White (Alentejano)', r_ui=88.0, est=88.61620396305155, details={'was_impossible': False}),\n",
       " Prediction(uid='Virginie Boone', iid='De Coelo 2012 Quintus Pinot Noir (Sonoma Coast)', r_ui=93.0, est=89.12515016538663, details={'was_impossible': False}),\n",
       " Prediction(uid='Virginie Boone', iid='Martin Ray 2013 Merlot (Stags Leap District)', r_ui=90.0, est=89.12515016538663, details={'was_impossible': False}),\n",
       " Prediction(uid='Paul Gregutt', iid='Wildewood 2013 Chardonnay (Willamette Valley)', r_ui=85.0, est=88.97770409559391, details={'was_impossible': False}),\n",
       " Prediction(uid='Roger Voss', iid='Domaine du Tariquet 2014 Classic White (CÃ´tes de Gascogne)', r_ui=86.0, est=86.25542516382296, details={'was_impossible': False}),\n",
       " Prediction(uid='Roger Voss', iid='Domaine des Tilleuls 2014 Essentielle  (Muscadet SÃ¨vre et Maine)', r_ui=88.0, est=88.61620396305155, details={'was_impossible': False}),\n",
       " Prediction(uid='Joe Czerwinski', iid='Cave de Tain 2015 Nobles Rives Marsanne (Collines RhÃ´daniennes)', r_ui=85.0, est=88.52232798317675, details={'was_impossible': False}),\n",
       " Prediction(uid='Sean P. Sullivan', iid='Covington 2012 Cabernet Franc (Columbia Valley (WA))', r_ui=89.0, est=88.88443872329293, details={'was_impossible': False}),\n",
       " Prediction(uid='Jim Gordon', iid='Two Angels 2015 Petite Sirah (Red Hills Lake County)', r_ui=90.0, est=88.58802113142774, details={'was_impossible': False}),\n",
       " Prediction(uid='Roger Voss', iid='Cave du Marmandais 2012 Just Abouriou (CÃ´tes du Marmandais)', r_ui=87.0, est=88.61620396305155, details={'was_impossible': False}),\n",
       " Prediction(uid='Matt Kettmann', iid='Bargetto 2014 Mount Eden Clone Pinot Noir (Santa Cruz Mountains)', r_ui=93.0, est=89.97402917266642, details={'was_impossible': False}),\n",
       " Prediction(uid='Roger Voss', iid=\"Vignoble des 2 Lunes 2009 Eclipse CrÃ©mant Blanc Brut Nature Sparkling (CrÃ©mant d'Alsace)\", r_ui=90.0, est=88.61620396305155, details={'was_impossible': False}),\n",
       " Prediction(uid='Jim Gordon', iid='Goldeneye 2011 Pinot Noir (Anderson Valley)', r_ui=88.0, est=88.58802113142774, details={'was_impossible': False}),\n",
       " Prediction(uid='Michael Schachner', iid='Carabella 1998 Pinot Noir (Willamette Valley)', r_ui=87.0, est=87.038168595377, details={'was_impossible': False}),\n",
       " Prediction(uid='Sean P. Sullivan', iid='Seven Hills 2013 Old Vines Riesling (Columbia Valley (WA))', r_ui=88.0, est=88.88443872329293, details={'was_impossible': False}),\n",
       " Prediction(uid='Joe Czerwinski', iid=\"ChÃ¢teau d'Or et de Gueules 2010 Les Cimels Red (CostiÃ¨res de NÃ®mes)\", r_ui=90.0, est=88.52232798317675, details={'was_impossible': False}),\n",
       " Prediction(uid='Matt Kettmann', iid='Comartin 2012 Tierra Alta Vineyard Syrah (Ballard Canyon)', r_ui=92.0, est=89.97402917266642, details={'was_impossible': False}),\n",
       " Prediction(uid='Roger Voss', iid='Olivier Leflaive 2010 Sentier du Clou Premier Cru  (Saint-Aubin)', r_ui=91.0, est=88.61620396305155, details={'was_impossible': False}),\n",
       " Prediction(uid='Matt Kettmann', iid='Bargetto 2014 Pommard Clone Pinot Noir (Santa Cruz Mountains)', r_ui=92.0, est=89.97402917266642, details={'was_impossible': False}),\n",
       " Prediction(uid='Lauren Buzzeo', iid='Thelema 2009 Sauvignon Blanc (Stellenbosch)', r_ui=87.0, est=87.73763162290929, details={'was_impossible': False}),\n",
       " Prediction(uid='Roger Voss', iid='BacalhÃ´a Wines of Portugal 2011 Quinta da BacalhÃ´a Red (PenÃ\\xadnsula de SetÃºbal)', r_ui=93.0, est=88.61620396305155, details={'was_impossible': False}),\n",
       " Prediction(uid='Michael Schachner', iid='Eugenio Bustos 2011 Altivo Vineyard Selection TorrontÃ©s (Salta)', r_ui=86.0, est=87.038168595377, details={'was_impossible': False}),\n",
       " Prediction(uid='Anna Lee C. Iijima', iid='Rooster Hill 2010 Estate Cabernet Franc (Finger Lakes)', r_ui=87.0, est=88.46653057193892, details={'was_impossible': False}),\n",
       " Prediction(uid='Anna Lee C. Iijima', iid='Adirondack Winery 2016 Million Dollar Beach Gewurztraminer (New York)', r_ui=85.0, est=88.46653057193892, details={'was_impossible': False}),\n",
       " Prediction(uid='Roger Voss', iid='Niepoort 2009 Batuta Red (Douro)', r_ui=95.0, est=88.61620396305155, details={'was_impossible': False}),\n",
       " Prediction(uid='Roger Voss', iid='Joseph Mellot 2012 Le Troncsec  (Pouilly-FumÃ©)', r_ui=88.0, est=88.61620396305155, details={'was_impossible': False}),\n",
       " Prediction(uid='Anna Lee C. Iijima', iid='Leonard Kreusch 2012 Riesling (Mosel)', r_ui=86.0, est=88.46653057193892, details={'was_impossible': False}),\n",
       " Prediction(uid='Anne KrebiehlÂ\\xa0MW', iid='F X Pichler 2015 Loibner Klostersatz Federspiel GrÃ¼ner Veltliner (Wachau)', r_ui=92.0, est=90.30624632455145, details={'was_impossible': False}),\n",
       " Prediction(uid='Michael Schachner', iid='Concha y Toro 2009 Xplorador Chardonnay (Central Valley)', r_ui=85.0, est=87.038168595377, details={'was_impossible': False}),\n",
       " Prediction(uid='Roger Voss', iid='Lionel Osmin & Cie 2014 Red (Buzet)', r_ui=88.0, est=88.61620396305155, details={'was_impossible': False}),\n",
       " Prediction(uid='Michael Schachner', iid='Pascual Toso 2010 Reserve Barrancas Vineyards Cabernet Sauvignon (Mendoza)', r_ui=88.0, est=87.038168595377, details={'was_impossible': False}),\n",
       " Prediction(uid='Michael Schachner', iid='High Desert 2007 Reserva Malbec (Mendoza)', r_ui=82.0, est=87.038168595377, details={'was_impossible': False}),\n",
       " Prediction(uid='Roger Voss', iid='J. de Telmont NV Grande RÃ©serve Brut  (Champagne)', r_ui=86.0, est=86.31594146612942, details={'was_impossible': False}),\n",
       " Prediction(uid='Kerin Oâ\\x80\\x99Keefe', iid='Le Marchesine NV Brut Sparkling (Franciacorta)', r_ui=89.0, est=89.8410208389369, details={'was_impossible': False}),\n",
       " Prediction(uid='Sean P. Sullivan', iid='Irvine Family Vineyards 2012 Ashland Chardonnay (Oregon)', r_ui=87.0, est=88.88443872329293, details={'was_impossible': False}),\n",
       " Prediction(uid='Roger Voss', iid='FranÃ§ois Buffet 2014 Les Narbantons Premier Cru  (Savigny-lÃ¨s-Beaune)', r_ui=89.0, est=88.61620396305155, details={'was_impossible': False}),\n",
       " Prediction(uid='Roger Voss', iid='ChÃ¢teau Thuerry 2012 Le ChÃ¢teau RosÃ© (CÃ´tes de Provence)', r_ui=87.0, est=88.61620396305155, details={'was_impossible': False}),\n",
       " Prediction(uid='Paul Gregutt', iid='Sokol Blosser 2012 Peach Tree Block Pinot Noir (Dundee Hills)', r_ui=91.0, est=90.56733633102066, details={'was_impossible': False}),\n",
       " Prediction(uid='Anne KrebiehlÂ\\xa0MW', iid='una.wine 2015 BlaufrÃ¤nkisch (Burgenland)', r_ui=89.0, est=90.30624632455145, details={'was_impossible': False}),\n",
       " Prediction(uid='Virginie Boone', iid='Acacia 2013 Pinot Noir (Russian River Valley)', r_ui=90.0, est=89.12515016538663, details={'was_impossible': False}),\n",
       " Prediction(uid='Anna Lee C. Iijima', iid=\"Reichsgraf von Kesselstatt 2014 Kaseler Nies'chen Kabinett Grosse Lage Riesling (Mosel)\", r_ui=92.0, est=88.46653057193892, details={'was_impossible': False}),\n",
       " Prediction(uid='Virginie Boone', iid='Inspiration 2015 Grenache (Sonoma Valley)', r_ui=93.0, est=92.32580628035777, details={'was_impossible': False}),\n",
       " Prediction(uid='Paul Gregutt', iid='Chateau Ste. Michelle 2007 Indian Wells Cabernet Sauvignon (Columbia Valley (WA))', r_ui=85.0, est=88.97770409559391, details={'was_impossible': False}),\n",
       " Prediction(uid='Matt Kettmann', iid='Magnolia Court 2013 Cabernet Sauvignon (Paso Robles)', r_ui=86.0, est=89.97402917266642, details={'was_impossible': False}),\n",
       " Prediction(uid='Roger Voss', iid=\"Jean de la Fontaine NV L'Eloquente Brut  (Champagne)\", r_ui=91.0, est=88.61620396305155, details={'was_impossible': False}),\n",
       " Prediction(uid='Kerin Oâ\\x80\\x99Keefe', iid='Castelli del Grevepesa 2014 Castelgreve  (Chianti Classico)', r_ui=86.0, est=88.8164603899712, details={'was_impossible': False}),\n",
       " Prediction(uid='Matt Kettmann', iid='Vinum 2014 V Series Pinot Noir (Monterey)', r_ui=86.0, est=89.97402917266642, details={'was_impossible': False}),\n",
       " Prediction(uid='Roger Voss', iid='Cave de Lugny 2007 Chardonnay de Chardonnay  (MÃ¢con-Chardonnay)', r_ui=85.0, est=88.61620396305155, details={'was_impossible': False}),\n",
       " Prediction(uid='Kerin Oâ\\x80\\x99Keefe', iid='Marchesi Antinori 2013 Riserva  (Chianti Classico)', r_ui=89.0, est=88.85002286635975, details={'was_impossible': False}),\n",
       " Prediction(uid='Michael Schachner', iid='ViÃ±a Chocalan 2014 Vitrum Pinot Noir (San Antonio)', r_ui=87.0, est=87.038168595377, details={'was_impossible': False}),\n",
       " Prediction(uid='Anne KrebiehlÂ\\xa0MW', iid='Charles Sparr 2011 Schoenenbourg Grand Cru Riesling (Alsace)', r_ui=94.0, est=90.30624632455145, details={'was_impossible': False}),\n",
       " Prediction(uid='Sean P. Sullivan', iid='Plumb Cellars 2012 Estate Sangiovese (Walla Walla Valley (WA))', r_ui=88.0, est=88.88443872329293, details={'was_impossible': False}),\n",
       " Prediction(uid='Matt Kettmann', iid='Last Light 2012 Derbyshire VIneyard Pinot Noir (San Luis Obispo County)', r_ui=92.0, est=89.97402917266642, details={'was_impossible': False}),\n",
       " Prediction(uid='Matt Kettmann', iid='Big Basin 2013 Woodruff Family Vineyard Pinot Noir (Santa Cruz Mountains)', r_ui=94.0, est=89.97402917266642, details={'was_impossible': False}),\n",
       " Prediction(uid='Jim Gordon', iid='Klinker Brick 2013 Old Vine Zinfandel (Lodi)', r_ui=86.0, est=88.58802113142774, details={'was_impossible': False}),\n",
       " Prediction(uid='Michael Schachner', iid='Emiliana 2012 Natura Cabernet Sauvignon (Rapel Valley)', r_ui=83.0, est=87.038168595377, details={'was_impossible': False}),\n",
       " Prediction(uid='Roger Voss', iid='Salon 2004 Le Mesnil Blanc de Blancs Brut Chardonnay (Champagne)', r_ui=98.0, est=88.61620396305155, details={'was_impossible': False}),\n",
       " Prediction(uid='Michael Schachner', iid='Monteviejo 2010 Lindaflor Malbec (Uco Valley)', r_ui=92.0, est=87.038168595377, details={'was_impossible': False}),\n",
       " Prediction(uid='Michael Schachner', iid='Finca Salazar 2014 Sauvignon Blanc (Vino de la Tierra de Castilla)', r_ui=83.0, est=87.038168595377, details={'was_impossible': False}),\n",
       " Prediction(uid='Anne KrebiehlÂ\\xa0MW', iid='Kohl 2015 Classic GrÃ¼ner Veltliner (Weinviertel)', r_ui=86.0, est=90.30624632455145, details={'was_impossible': False}),\n",
       " Prediction(uid='Sean P. Sullivan', iid='Upsidedown 2016 Rescue RosÃ© (Columbia Valley (WA))', r_ui=90.0, est=88.88443872329293, details={'was_impossible': False}),\n",
       " Prediction(uid='Roger Voss', iid='Domaine PellÃ© 2014 La Croix au Garde  (Sancerre)', r_ui=89.0, est=88.61620396305155, details={'was_impossible': False}),\n",
       " Prediction(uid='Michael Schachner', iid='ColomÃ© 2014 AutÃ©ntico Malbec (Salta)', r_ui=88.0, est=87.038168595377, details={'was_impossible': False}),\n",
       " Prediction(uid='Virginie Boone', iid='Krutz 2011 Magnolia Cabernet Sauvignon (St. Helena)', r_ui=85.0, est=89.12515016538663, details={'was_impossible': False}),\n",
       " Prediction(uid='Paul Gregutt', iid='Merrill Cellars 2010 Viognier (Oregon)', r_ui=87.0, est=88.97770409559391, details={'was_impossible': False}),\n",
       " Prediction(uid='Joe Czerwinski', iid='Dr. H. Thanisch (Erben Thanisch) 2006 Bernkasteler Doctor Kabinett Riesling (Mosel-Saar-Ruwer)', r_ui=91.0, est=88.52232798317675, details={'was_impossible': False}),\n",
       " Prediction(uid='Anne KrebiehlÂ\\xa0MW', iid='Domaines Schlumberger 2015 Les Princes AbbÃ©s Pinot Gris (Alsace)', r_ui=91.0, est=90.30624632455145, details={'was_impossible': False}),\n",
       " Prediction(uid='Virginie Boone', iid='un4seen 2010 Cabernet Sauvignon (Lodi)', r_ui=82.0, est=89.12515016538663, details={'was_impossible': False}),\n",
       " Prediction(uid='Joe Czerwinski', iid='Penfolds 2007 Bin 51 Riesling (Eden Valley)', r_ui=91.0, est=88.52232798317675, details={'was_impossible': False}),\n",
       " Prediction(uid='Kerin Oâ\\x80\\x99Keefe', iid='G D Vajra 2011 Ravera  (Barolo)', r_ui=93.0, est=88.8164603899712, details={'was_impossible': False}),\n",
       " Prediction(uid='Michael Schachner', iid='Pradorey 1999 Crianza  (Ribera del Duero)', r_ui=83.0, est=87.038168595377, details={'was_impossible': False}),\n",
       " Prediction(uid='Sean P. Sullivan', iid='Savage Grace 2012 Celilo Vineyard Chardonnay (Columbia Gorge (WA))', r_ui=88.0, est=88.88443872329293, details={'was_impossible': False}),\n",
       " Prediction(uid='Roger Voss', iid='ChÃ¢teau Minuty 2009 Rose et Or RosÃ© (CÃ´tes de Provence)', r_ui=90.0, est=88.61620396305155, details={'was_impossible': False}),\n",
       " Prediction(uid='Paul Gregutt', iid='Domaine Serene 1999 Cote Sud Vineyard Chardonnay (Willamette Valley)', r_ui=87.0, est=88.97770409559391, details={'was_impossible': False}),\n",
       " Prediction(uid='Sean P. Sullivan', iid='Bunnell 2010 Clifton Hill Vineyard Syrah (Wahluke Slope)', r_ui=88.0, est=88.88443872329293, details={'was_impossible': False}),\n",
       " Prediction(uid='Virginie Boone', iid='Occasio 2009 Del Arroyo Vineyard Cabernet Franc (Livermore Valley)', r_ui=90.0, est=89.12515016538663, details={'was_impossible': False}),\n",
       " Prediction(uid='Roger Voss', iid='Liebart-RÃ©gnier NV Brut Chardonnay (Champagne)', r_ui=88.0, est=88.21044566440146, details={'was_impossible': False}),\n",
       " Prediction(uid='Anna Lee C. Iijima', iid='St. Urbans-Hof 2013 Piesporter GoldtrÃ¶pfchen Kabinett Erste Lage Riesling (Mosel)', r_ui=90.0, est=88.46653057193892, details={'was_impossible': False}),\n",
       " Prediction(uid='Roger Voss', iid='Jean Milan NV MillÃ©naire Blanc de Blancs Grand Cru Brut Chardonnay (Champagne)', r_ui=90.0, est=88.61620396305155, details={'was_impossible': False}),\n",
       " Prediction(uid='Anne KrebiehlÂ\\xa0MW', iid='Nittnaus Hans und Christine 2013 Obere Wies Sauvignon Blanc (Burgenland)', r_ui=90.0, est=90.30624632455145, details={'was_impossible': False}),\n",
       " Prediction(uid='Sean P. Sullivan', iid='Wind Rose 2013 Primitivo (Columbia Valley (WA))', r_ui=91.0, est=88.88443872329293, details={'was_impossible': False}),\n",
       " Prediction(uid='Paul Gregutt', iid='Des Voigne Cellars 2006 The Emcee Merlot (Walla Walla Valley (WA))', r_ui=89.0, est=88.97770409559391, details={'was_impossible': False}),\n",
       " Prediction(uid='Virginie Boone', iid='Fenestra 2007 Conjugation Red (Livermore Valley)', r_ui=88.0, est=89.12515016538663, details={'was_impossible': False}),\n",
       " Prediction(uid='Virginie Boone', iid='Matanzas Creek 2011 Merlot (Sonoma County)', r_ui=86.0, est=89.12515016538663, details={'was_impossible': False}),\n",
       " Prediction(uid='Roger Voss', iid='ChÃ¢teau Laulerie 2010 Le Raisin Merlot (Bergerac)', r_ui=87.0, est=87.09165192116967, details={'was_impossible': False}),\n",
       " Prediction(uid='Matt Kettmann', iid='Rancho Sisquoc 2015 Sauvignon Blanc (Santa Barbara County)', r_ui=88.0, est=89.97402917266642, details={'was_impossible': False}),\n",
       " Prediction(uid='Michael Schachner', iid='Legaris 2010 Reserva  (Ribera del Duero)', r_ui=92.0, est=87.038168595377, details={'was_impossible': False}),\n",
       " Prediction(uid='Kerin Oâ\\x80\\x99Keefe', iid='Renieri 2013  Chianti Classico', r_ui=89.0, est=88.8164603899712, details={'was_impossible': False}),\n",
       " Prediction(uid='Roger Voss', iid='Butler Nephew & Co NV 10-Years-Old Tawny  (Port)', r_ui=87.0, est=88.61620396305155, details={'was_impossible': False}),\n",
       " Prediction(uid='Jim Gordon', iid='Michael David 2012 Earthquake Cabernet Sauvignon (Lodi)', r_ui=88.0, est=88.58802113142774, details={'was_impossible': False}),\n",
       " Prediction(uid='Michael Schachner', iid='Oliver Conti 2005 Red (EmpordÃ\\xa0)', r_ui=81.0, est=87.038168595377, details={'was_impossible': False}),\n",
       " Prediction(uid='Roger Voss', iid='Lanson NV Extra Age Brut RosÃ©  (Champagne)', r_ui=94.0, est=93.17728796910278, details={'was_impossible': False}),\n",
       " Prediction(uid='Virginie Boone', iid=\"Trione 2012 Henry's Blend Red (Alexander Valley)\", r_ui=89.0, est=89.12515016538663, details={'was_impossible': False}),\n",
       " Prediction(uid='Roger Voss', iid='Georges Duboeuf 2011 Domaine de JaverniÃ¨re  (Morgon)', r_ui=87.0, est=88.61620396305155, details={'was_impossible': False}),\n",
       " Prediction(uid='Kerin Oâ\\x80\\x99Keefe', iid=\"Fontanafredda 2014 Marne Brune  (Nebbiolo d'Alba)\", r_ui=89.0, est=88.8164603899712, details={'was_impossible': False}),\n",
       " Prediction(uid='Sean P. Sullivan', iid='Les TrouvÃ©s 2014 Red (Columbia Valley (WA))', r_ui=92.0, est=88.88443872329293, details={'was_impossible': False}),\n",
       " Prediction(uid='Roger Voss', iid='Producteurs Plaimont 2014 ChÃ¢teau de Sabazan  (Saint-Mont)', r_ui=90.0, est=89.58904867875279, details={'was_impossible': False}),\n",
       " Prediction(uid='Virginie Boone', iid='Lang & Reed 2014 Chenin Blanc (Napa Valley)', r_ui=90.0, est=89.80493273516284, details={'was_impossible': False}),\n",
       " Prediction(uid='Jim Gordon', iid='La Crema 2013 Pinot Noir (Anderson Valley)', r_ui=92.0, est=88.58802113142774, details={'was_impossible': False}),\n",
       " Prediction(uid='Kerin Oâ\\x80\\x99Keefe', iid='Il Molino di Grace 2009 Il Margone Riserva  (Chianti Classico)', r_ui=88.0, est=88.8164603899712, details={'was_impossible': False}),\n",
       " Prediction(uid='Matt Kettmann', iid='Small and Tall 2012 Little Joy Pinot Noir (Santa Maria Valley)', r_ui=93.0, est=89.97402917266642, details={'was_impossible': False}),\n",
       " Prediction(uid='Sean P. Sullivan', iid='J. Bookwalter 2013 Foreshadow Cabernet Sauvignon (Columbia Valley (WA))', r_ui=88.0, est=88.88443872329293, details={'was_impossible': False}),\n",
       " Prediction(uid='Joe Czerwinski', iid='August Kesseler 2009 RÃ¼desheim Berg Roseneck Trocken Erstes GewÃ¤chs Riesling (Rheingau)', r_ui=90.0, est=89.83471598379538, details={'was_impossible': False}),\n",
       " Prediction(uid='Michael Schachner', iid='Portal Del Alto 2007 Reserva Merlot-Cabernet (Maule Valley)', r_ui=86.0, est=87.038168595377, details={'was_impossible': False}),\n",
       " Prediction(uid='Michael Schachner', iid='Pata Negra 2010 Crianza  (Rioja)', r_ui=87.0, est=87.038168595377, details={'was_impossible': False}),\n",
       " Prediction(uid='Paul Gregutt', iid='Fielding Hills 2006 RiverBend Vineyard Tribute Red Red (Wahluke Slope)', r_ui=92.0, est=88.97770409559391, details={'was_impossible': False}),\n",
       " Prediction(uid='Jim Gordon', iid='Bogle 2013 Cabernet Sauvignon (California)', r_ui=89.0, est=88.58802113142774, details={'was_impossible': False}),\n",
       " Prediction(uid='Roger Voss', iid='Quinta de PaÃ§os 2016 FernÃ£o Pires (Minho)', r_ui=83.0, est=88.61620396305155, details={'was_impossible': False}),\n",
       " Prediction(uid='Roger Voss', iid=\"Domaine de l'Ecu 2014 Gneiss  (Muscadet SÃ¨vre et Maine)\", r_ui=91.0, est=88.61620396305155, details={'was_impossible': False}),\n",
       " Prediction(uid='Anna Lee C. Iijima', iid='Swedish Hill 2012 Optimus Red (Finger Lakes)', r_ui=89.0, est=88.46653057193892, details={'was_impossible': False}),\n",
       " Prediction(uid='Roger Voss', iid='ChÃ¢teau de TignÃ© 2014 Gerard Depardieu Pinot Noir (Vin de France)', r_ui=87.0, est=88.61620396305155, details={'was_impossible': False}),\n",
       " Prediction(uid='Paul Gregutt', iid='Pacific Rim 2007 GewÃ¼rztraminer (Washington)', r_ui=88.0, est=88.97770409559391, details={'was_impossible': False}),\n",
       " Prediction(uid='Roger Voss', iid='Louis Latour 2011 Les Demoiselles  (Chevalier-Montrachet)', r_ui=93.0, est=88.61620396305155, details={'was_impossible': False}),\n",
       " Prediction(uid='Virginie Boone', iid='Napa Cellars 2014 Classic Collection Chardonnay (Napa Valley)', r_ui=86.0, est=89.12515016538663, details={'was_impossible': False}),\n",
       " Prediction(uid='Roger Voss', iid='Boeckel 2010 RÃ©serve Riesling (Alsace)', r_ui=86.0, est=88.61620396305155, details={'was_impossible': False}),\n",
       " Prediction(uid='Roger Voss', iid='Domaines Ott 2009 ChÃ¢teau Romassan RosÃ© (Bandol)', r_ui=91.0, est=88.61620396305155, details={'was_impossible': False}),\n",
       " Prediction(uid='Roger Voss', iid='ChÃ¢teau Gaudrelle 2011 Clos le Vigneau  (Vouvray)', r_ui=88.0, est=88.61620396305155, details={'was_impossible': False}),\n",
       " Prediction(uid='Anne KrebiehlÂ\\xa0MW', iid='Stift GÃ¶ttweig 2016 Messwein GrÃ¼ner Veltliner (NiederÃ¶sterreich)', r_ui=90.0, est=90.0262133094535, details={'was_impossible': False}),\n",
       " Prediction(uid='Sean P. Sullivan', iid='Finn Hill 2012 Bon Mot Cabernet Franc (Wahluke Slope)', r_ui=88.0, est=88.88443872329293, details={'was_impossible': False}),\n",
       " Prediction(uid='Michael Schachner', iid='Asensio 2000 Javier Asensio Reserva Red (Navarra)', r_ui=85.0, est=87.038168595377, details={'was_impossible': False}),\n",
       " Prediction(uid='Sean P. Sullivan', iid='Apex 2012 Cabernet Sauvignon (Columbia Valley (WA))', r_ui=89.0, est=88.88443872329293, details={'was_impossible': False}),\n",
       " Prediction(uid='Kerin Oâ\\x80\\x99Keefe', iid='Il Grillesino 2012  Morellino di Scansano', r_ui=88.0, est=88.8164603899712, details={'was_impossible': False}),\n",
       " Prediction(uid='Michael Schachner', iid='Bodega Aconquija 2006 Alberto Furque Syrah (Uco Valley)', r_ui=86.0, est=87.038168595377, details={'was_impossible': False}),\n",
       " Prediction(uid='Michael Schachner', iid='MontGras 2006 Reserva Merlot (Colchagua Valley)', r_ui=88.0, est=87.038168595377, details={'was_impossible': False}),\n",
       " Prediction(uid='Michael Schachner', iid='Santa Alicia 2013 Reserva Espiritu de Los Andes RosÃ© Cabernet Sauvignon-Syrah (Maipo Valley)', r_ui=84.0, est=87.038168595377, details={'was_impossible': False}),\n",
       " Prediction(uid='Kerin Oâ\\x80\\x99Keefe', iid='Villa Crespia NV Novalia Chardonnay (Franciacorta)', r_ui=89.0, est=88.8164603899712, details={'was_impossible': False}),\n",
       " Prediction(uid='Kerin Oâ\\x80\\x99Keefe', iid='Negretti 2013 Bricco Ambrogio  (Barolo)', r_ui=88.0, est=88.8164603899712, details={'was_impossible': False}),\n",
       " Prediction(uid='Anne KrebiehlÂ\\xa0MW', iid='Domaine Mersiol 2012 Frankstein Grand Cru Gewurztraminer (Alsace)', r_ui=91.0, est=90.30624632455145, details={'was_impossible': False}),\n",
       " Prediction(uid='Roger Voss', iid=\"Ollivier FrÃ¨res 2016 Domaine de l'Olivier Sur Lie  (Muscadet SÃ¨vre et Maine)\", r_ui=87.0, est=88.61620396305155, details={'was_impossible': False}),\n",
       " Prediction(uid='Michael Schachner', iid='Pedro Romero NV Aurora Manzanilla Extra Dry Sherry (Jerez)', r_ui=89.0, est=87.038168595377, details={'was_impossible': False}),\n",
       " Prediction(uid='Matt Kettmann', iid='Marianello 2012 Estelle Bianco White (Santa Barbara County)', r_ui=86.0, est=89.97402917266642, details={'was_impossible': False}),\n",
       " Prediction(uid='Michael Schachner', iid='Mendoza Vineyards 2014 Unsung Hero Malbec (Argentina)', r_ui=88.0, est=87.038168595377, details={'was_impossible': False}),\n",
       " Prediction(uid='Roger Voss', iid='ChÃ¢teau de Riberon 2011  Bordeaux SupÃ©rieur', r_ui=85.0, est=88.61620396305155, details={'was_impossible': False}),\n",
       " Prediction(uid='Lauren Buzzeo', iid='ChÃ¢teau du Donjon 2015 RosÃ© (Minervois)', r_ui=89.0, est=87.73763162290929, details={'was_impossible': False}),\n",
       " Prediction(uid='Roger Voss', iid='Gunter Triebaumer 2009 Obererwald Reserve BlaufrÃ¤nkisch (Burgenland)', r_ui=92.0, est=88.61620396305155, details={'was_impossible': False}),\n",
       " Prediction(uid='Anne KrebiehlÂ\\xa0MW', iid='Malat 2016 Ried HÃ¶hlgraben GrÃ¼ner Veltliner (Kremstal)', r_ui=91.0, est=90.30624632455145, details={'was_impossible': False}),\n",
       " Prediction(uid='Sean P. Sullivan', iid='Six Prong 2014 Cabernet Sauvignon (Horse Heaven Hills)', r_ui=88.0, est=88.38220124214553, details={'was_impossible': False}),\n",
       " Prediction(uid='Anna Lee C. Iijima', iid='Hazlitt 1852 Vineyards 2013 Barrel Fermented Chardonnay (Finger Lakes)', r_ui=89.0, est=88.46653057193892, details={'was_impossible': False}),\n",
       " Prediction(uid='Sean P. Sullivan', iid='Robert Ramsay 2013 La Previa Red (Snipes Mountain)', r_ui=90.0, est=88.88443872329293, details={'was_impossible': False}),\n",
       " Prediction(uid='Roger Voss', iid='Domaine Vico 2015 Vermentino (Corse)', r_ui=88.0, est=88.61620396305155, details={'was_impossible': False}),\n",
       " Prediction(uid='Roger Voss', iid='ChÃ¢teau Suau 2015  Bordeaux Blanc', r_ui=84.0, est=88.61620396305155, details={'was_impossible': False}),\n",
       " Prediction(uid='Roger Voss', iid='Domaine le Virolys 2015  VirÃ©-ClessÃ©', r_ui=91.0, est=88.61620396305155, details={'was_impossible': False}),\n",
       " Prediction(uid='Roger Voss', iid='Joseph Perrier 2005 Brut RosÃ© Vintage  (Champagne)', r_ui=89.0, est=88.61620396305155, details={'was_impossible': False}),\n",
       " Prediction(uid='Kerin Oâ\\x80\\x99Keefe', iid='Alberto Voerzio 2011 La Serra  (Barolo)', r_ui=91.0, est=90.59532887699638, details={'was_impossible': False}),\n",
       " Prediction(uid='Kerin Oâ\\x80\\x99Keefe', iid='Luigi Pira 2010 Margheria  (Barolo)', r_ui=90.0, est=88.8164603899712, details={'was_impossible': False}),\n",
       " Prediction(uid='Matt Kettmann', iid='Daou 2013 Seventeen Forty Reserve Red (Paso Robles)', r_ui=94.0, est=89.97402917266642, details={'was_impossible': False}),\n",
       " Prediction(uid='Roger Voss', iid='Florent Descombe 2014  Moulin-Ã\\xa0-Vent', r_ui=85.0, est=88.61620396305155, details={'was_impossible': False}),\n",
       " Prediction(uid='Kerin Oâ\\x80\\x99Keefe', iid=\"Ca' dei Zago 2014 Col Fondo  (Prosecco)\", r_ui=90.0, est=88.8164603899712, details={'was_impossible': False}),\n",
       " Prediction(uid='Anne KrebiehlÂ\\xa0MW', iid='Winzer Krems 2014 Zweigelt RosÃ© (NiederÃ¶sterreich)', r_ui=89.0, est=90.30624632455145, details={'was_impossible': False}),\n",
       " Prediction(uid='Kerin Oâ\\x80\\x99Keefe', iid='Citille di Sopra 2011 Riserva  (Brunello di Montalcino)', r_ui=87.0, est=87.33732200821447, details={'was_impossible': False}),\n",
       " Prediction(uid='Joe Czerwinski', iid='Maverick 2014 Twins Shiraz (Barossa)', r_ui=92.0, est=91.4006274241094, details={'was_impossible': False}),\n",
       " Prediction(uid='Sean P. Sullivan', iid='Goose Ridge 2012 g3 Cabernet Sauvignon (Columbia Valley (WA))', r_ui=91.0, est=88.88443872329293, details={'was_impossible': False}),\n",
       " Prediction(uid='Virginie Boone', iid='Terra Valentine 2013 Cabernet Sauvignon (Spring Mountain District)', r_ui=89.0, est=89.12515016538663, details={'was_impossible': False}),\n",
       " Prediction(uid='Roger Voss', iid='Monte da Ravasqueira 2012 Red (Alentejano)', r_ui=83.0, est=88.61620396305155, details={'was_impossible': False}),\n",
       " Prediction(uid='Anne KrebiehlÂ\\xa0MW', iid='Kuentz-Bas 2014 Eichberg Grand Cru Pinot Gris (Alsace)', r_ui=90.0, est=90.30624632455145, details={'was_impossible': False}),\n",
       " Prediction(uid='Kerin Oâ\\x80\\x99Keefe', iid='Battaglio 2015 Piasi  (Roero)', r_ui=88.0, est=88.8164603899712, details={'was_impossible': False}),\n",
       " Prediction(uid='Anna Lee C. Iijima', iid='S.A. PrÃ¼m 2015 Essence Riesling (Mosel)', r_ui=89.0, est=88.9533537079255, details={'was_impossible': False}),\n",
       " Prediction(uid='Roger Voss', iid='Vignobles Berthier 2012 Domaine de Montbenoit Pinot Noir (Coteaux du Giennois)', r_ui=87.0, est=88.61620396305155, details={'was_impossible': False}),\n",
       " Prediction(uid='Kerin Oâ\\x80\\x99Keefe', iid='Il Borro 2011 Bolle di Borro Brut Metodo Classico Sangiovese (Vino Spumante)', r_ui=92.0, est=88.8164603899712, details={'was_impossible': False}),\n",
       " Prediction(uid='Roger Voss', iid='Drouet FrÃ¨res 2012 La Forcine  (Sancerre)', r_ui=84.0, est=88.61620396305155, details={'was_impossible': False}),\n",
       " Prediction(uid='Sean P. Sullivan', iid='Tsillan 2012 Estate Malbec (Lake Chelan)', r_ui=87.0, est=88.88443872329293, details={'was_impossible': False}),\n",
       " Prediction(uid='Jim Gordon', iid='Schulz 2013 Dragone Vineyard AlbariÃ±o (Calaveras County)', r_ui=84.0, est=84.77744452893937, details={'was_impossible': False}),\n",
       " Prediction(uid='Roger Voss', iid='Casa Santos Lima 2014 Portuga White (Lisboa)', r_ui=83.0, est=88.61620396305155, details={'was_impossible': False}),\n",
       " Prediction(uid='Anna Lee C. Iijima', iid='Peter Nicolay 2011 Ã\\x9crziger Goldwingert SpÃ¤tlese Riesling (Mosel)', r_ui=90.0, est=88.46653057193892, details={'was_impossible': False}),\n",
       " Prediction(uid='Roger Voss', iid='Quinta da Alorna 2013 Verdelho (Tejo)', r_ui=88.0, est=88.61620396305155, details={'was_impossible': False}),\n",
       " Prediction(uid='Paul Gregutt', iid='Del Rio 2007 Pinot Noir (Rogue Valley)', r_ui=80.0, est=88.97770409559391, details={'was_impossible': False}),\n",
       " Prediction(uid='Virginie Boone', iid='Dutton-Goldfield 2014 Cherry Ridge Vineyard Syrah (Russian River Valley)', r_ui=94.0, est=89.12515016538663, details={'was_impossible': False}),\n",
       " Prediction(uid='Joe Czerwinski', iid='Mas de la Dame 2004 Coin CachÃ© Rouge Grenache (Les Baux de Provence)', r_ui=91.0, est=88.52232798317675, details={'was_impossible': False}),\n",
       " Prediction(uid='Jim Gordon', iid='Rivino 2012 Estate Sangiovese (Mendocino)', r_ui=86.0, est=88.58802113142774, details={'was_impossible': False}),\n",
       " Prediction(uid='Roger Voss', iid='ChÃ¢teau de Santenay 2014  Chassagne-Montrachet', r_ui=88.0, est=88.11199993167695, details={'was_impossible': False}),\n",
       " Prediction(uid='Roger Voss', iid='Wines & Winemakers 2016 Aguia Moura em Vinhas Velhas Reserva White (Douro)', r_ui=89.0, est=88.61620396305155, details={'was_impossible': False}),\n",
       " Prediction(uid='Paul Gregutt', iid='WillaKenzie Estate 2014 Estate Grown Pinot Gris', r_ui=93.0, est=88.97770409559391, details={'was_impossible': False}),\n",
       " Prediction(uid='Lauren Buzzeo', iid=\"Arrogant Frog 2010 Lily Pad Noir Pinot Noir (Pays d'Oc)\", r_ui=85.0, est=87.73763162290929, details={'was_impossible': False}),\n",
       " Prediction(uid='Roger Voss', iid='ChÃ¢teau la Brande 2015  Castillon CÃ´tes de Bordeaux', r_ui=88.0, est=88.61620396305155, details={'was_impossible': False}),\n",
       " Prediction(uid='Roger Voss', iid='Domaine HuÃ«t 2009 Clos du Bourg Moelleux  (Vouvray)', r_ui=95.0, est=88.61620396305155, details={'was_impossible': False}),\n",
       " Prediction(uid='Virginie Boone', iid='VGS Chateau Potelle 2015 25th Anniversary Zinfandel (Moon Mountain District Sonoma County)', r_ui=91.0, est=89.12515016538663, details={'was_impossible': False}),\n",
       " Prediction(uid='Michael Schachner', iid='Veranda 2007 Chardonnay (Casablanca Valley)', r_ui=87.0, est=87.038168595377, details={'was_impossible': False}),\n",
       " Prediction(uid='Lauren Buzzeo', iid='Strydom 2013 Cape Winemakers Guild The Expatriate Cabernet Sauvignon-Shiraz (Stellenbosch)', r_ui=91.0, est=87.73763162290929, details={'was_impossible': False}),\n",
       " Prediction(uid='Roger Voss', iid='Quinta do Vesuvio 2015 Pombal do Vesuvio Red (Douro)', r_ui=91.0, est=88.61620396305155, details={'was_impossible': False}),\n",
       " Prediction(uid='Roger Voss', iid='Georges Duboeuf 2009 CuvÃ©e Prestige  (JuliÃ©nas)', r_ui=91.0, est=88.61620396305155, details={'was_impossible': False}),\n",
       " Prediction(uid='Sean P. Sullivan', iid='Dunham 2014 Trutina Red (Columbia Valley (WA))', r_ui=87.0, est=88.88443872329293, details={'was_impossible': False}),\n",
       " Prediction(uid='Anne KrebiehlÂ\\xa0MW', iid='Berger 2015 Gelber Muskateller (NiederÃ¶sterreich)', r_ui=87.0, est=90.30624632455145, details={'was_impossible': False}),\n",
       " Prediction(uid='Mike DeSimone', iid='Hacormim 2014 Adi 13 Merlot (Israel)', r_ui=88.0, est=88.36191327534301, details={'was_impossible': False}),\n",
       " Prediction(uid='Michael Schachner', iid='Andeluna 2010 Merlot (Tupungato)', r_ui=85.0, est=87.038168595377, details={'was_impossible': False}),\n",
       " Prediction(uid='Joe Czerwinski', iid='Whitehaven 2007 Sauvignon Blanc (Marlborough)', r_ui=88.0, est=88.18967949862824, details={'was_impossible': False}),\n",
       " Prediction(uid='Matt Kettmann', iid='Michael Rose Cellars 2013 Estrella Creek Vineyard Syrah (Paso Robles)', r_ui=91.0, est=89.97402917266642, details={'was_impossible': False}),\n",
       " Prediction(uid='Kerin Oâ\\x80\\x99Keefe', iid='Mazzei 2012 Philip Cabernet Sauvignon (Toscana)', r_ui=93.0, est=88.8164603899712, details={'was_impossible': False}),\n",
       " Prediction(uid='Roger Voss', iid='Vincent Prunier 2010  Chassagne-Montrachet', r_ui=89.0, est=88.61620396305155, details={'was_impossible': False}),\n",
       " Prediction(uid='Anna Lee C. Iijima', iid='Robert Weil 2012 Tradition Kabinett Riesling (Rheingau)', r_ui=88.0, est=88.46653057193892, details={'was_impossible': False}),\n",
       " Prediction(uid='Anne KrebiehlÂ\\xa0MW', iid='Anton Bauer 2015 Grande Reserve GrÃ¼ner Veltliner (Wagram)', r_ui=93.0, est=92.28483727167372, details={'was_impossible': False}),\n",
       " Prediction(uid='Michael Schachner', iid='Hiruzta 2015 Txakolina Hondarribia Hondarrabi Zuri (Getariako Txakolina)', r_ui=88.0, est=87.038168595377, details={'was_impossible': False}),\n",
       " Prediction(uid='Kerin Oâ\\x80\\x99Keefe', iid='Il Borro 2010 Polissena Sangiovese (Toscana)', r_ui=91.0, est=88.8164603899712, details={'was_impossible': False}),\n",
       " Prediction(uid='Virginie Boone', iid='PiÃ±a 2012 Low Vineyard Chardonnay (Oak Knoll District)', r_ui=87.0, est=89.12515016538663, details={'was_impossible': False}),\n",
       " Prediction(uid='Anne KrebiehlÂ\\xa0MW', iid='Gernot and Heike Heinrich 2011 Alter Berg BlaufrÃ¤nkisch (Burgenland)', r_ui=93.0, est=90.30624632455145, details={'was_impossible': False}),\n",
       " Prediction(uid='Roger Voss', iid='Olivier Leflaive 2010 Fourchaume Premier Cru  (Chablis)', r_ui=91.0, est=88.61620396305155, details={'was_impossible': False}),\n",
       " Prediction(uid='Sean P. Sullivan', iid='Henry Earl 2010 Reserve Cabernet Sauvignon (Red Mountain)', r_ui=89.0, est=88.88443872329293, details={'was_impossible': False}),\n",
       " Prediction(uid='Anne KrebiehlÂ\\xa0MW', iid='Domaine Bott-Geyl 2013 Furstentum Grand Cru Pinot Gris (Alsace)', r_ui=94.0, est=90.30624632455145, details={'was_impossible': False}),\n",
       " Prediction(uid='Jim Gordon', iid='Craftsman 2015 Chardonnay (California)', r_ui=86.0, est=88.58802113142774, details={'was_impossible': False}),\n",
       " Prediction(uid='Roger Voss', iid='ChÃ¢teau Monroze 2008  Bordeaux SupÃ©rieur', r_ui=85.0, est=88.61620396305155, details={'was_impossible': False}),\n",
       " Prediction(uid='Roger Voss', iid='Olivier Leflaive 2010 Referts Premier Cru  (Puligny-Montrachet)', r_ui=92.0, est=88.61620396305155, details={'was_impossible': False}),\n",
       " Prediction(uid='Paul Gregutt', iid='Ponzi 2014 Abetina Pinot Noir (Willamette Valley)', r_ui=94.0, est=88.97770409559391, details={'was_impossible': False}),\n",
       " Prediction(uid='Michael Schachner', iid='Bodega Carmine Granata NV Pinot Noir (Mendoza)', r_ui=80.0, est=87.038168595377, details={'was_impossible': False}),\n",
       " Prediction(uid='Virginie Boone', iid='Fog Crest 2012 Estate Elevage Chardonnay (Russian River Valley)', r_ui=92.0, est=91.50258421509764, details={'was_impossible': False}),\n",
       " Prediction(uid='Lauren Buzzeo', iid='MAN Vintners 2010 Chenin Blanc (Coastal Region)', r_ui=86.0, est=86.2852458585238, details={'was_impossible': False}),\n",
       " Prediction(uid='Roger Voss', iid='ChÃ¢teau Loirac 2012  MÃ©doc', r_ui=85.0, est=88.61620396305155, details={'was_impossible': False}),\n",
       " Prediction(uid='Anna Lee C. Iijima', iid='Millbrook 2013 Late Harvest Riesling (Hudson River Region)', r_ui=88.0, est=88.46653057193892, details={'was_impossible': False}),\n",
       " Prediction(uid='Paul Gregutt', iid='Gorman 2011 The Pixie Syrah (Red Mountain)', r_ui=94.0, est=88.97770409559391, details={'was_impossible': False}),\n",
       " Prediction(uid='Virginie Boone', iid='Friedeman 2013 UV Lancel Creek Vineyard Pinot Noir (Russian River Valley)', r_ui=92.0, est=89.12515016538663, details={'was_impossible': False}),\n",
       " Prediction(uid='Roger Voss', iid='ChÃ¢teau Haut-Marbuzet 2011 Barrel Sample  (Saint-EstÃ¨phe)', r_ui=91.0, est=88.61620396305155, details={'was_impossible': False}),\n",
       " Prediction(uid='Roger Voss', iid='Jean-Luc BaldÃ¨s 2011 Triguedina Petit Clos Malbec-Merlot (Cahors)', r_ui=86.0, est=86.4511645414929, details={'was_impossible': False}),\n",
       " Prediction(uid='Joe Czerwinski', iid='ThÃ¼ngersheim 2007 ThÃ¼ngersheimer Ravensburg Kabinett Trocken Silvaner (Franken)', r_ui=86.0, est=88.52232798317675, details={'was_impossible': False}),\n",
       " Prediction(uid='Joe Czerwinski', iid='Louis Bernard 2009 Red (CÃ´tes du RhÃ´ne)', r_ui=86.0, est=88.52232798317675, details={'was_impossible': False}),\n",
       " Prediction(uid='Roger Voss', iid='ChÃ¢teau Peyros 2007 Tannat-Cabernet (Madiran)', r_ui=90.0, est=88.61620396305155, details={'was_impossible': False}),\n",
       " Prediction(uid='Roger Voss', iid='Castro Pena Alba 2008 Serrado Colheita Red (DÃ£o)', r_ui=87.0, est=88.61620396305155, details={'was_impossible': False}),\n",
       " Prediction(uid='Kerin Oâ\\x80\\x99Keefe', iid='Jorche 2011  Primitivo di Manduria', r_ui=86.0, est=88.8164603899712, details={'was_impossible': False}),\n",
       " Prediction(uid='Anna Lee C. Iijima', iid='Fritz Haag 2014 Brauneberger Juffer Sonnenuhr SpÃ¤tlese Riesling (Mosel)', r_ui=92.0, est=88.46653057193892, details={'was_impossible': False}),\n",
       " Prediction(uid='Roger Voss', iid='ChÃ¢teau ThÃ©nac 2009 Fleur du PÃ©rigord Red (Bergerac)', r_ui=87.0, est=88.61620396305155, details={'was_impossible': False}),\n",
       " Prediction(uid='Matt Kettmann', iid='Carol Shelton 2013 Monga Zin Lopez Vineyard Old Vine Zinfandel (Cucamonga Valley)', r_ui=91.0, est=89.97402917266642, details={'was_impossible': False}),\n",
       " Prediction(uid='Joe Czerwinski', iid='Hugh Hamilton 2005 Jim Jim Shiraz (McLaren Vale)', r_ui=86.0, est=88.52232798317675, details={'was_impossible': False}),\n",
       " Prediction(uid='Roger Voss', iid='Casa Cadaval 2012 Marquesa de Cadaval Red (Tejo)', r_ui=91.0, est=88.61620396305155, details={'was_impossible': False}),\n",
       " Prediction(uid='Roger Voss', iid='Vieux ChÃ¢teau Mazerat 2008  Saint-Ã\\x89milion', r_ui=93.0, est=92.19104449769593, details={'was_impossible': False}),\n",
       " Prediction(uid='Joe Czerwinski', iid='Spy Valley 2014 Riesling (Marlborough)', r_ui=91.0, est=88.52232798317675, details={'was_impossible': False}),\n",
       " Prediction(uid='Kerin Oâ\\x80\\x99Keefe', iid='Tenuta di Aglaea 2013 Aglaea Rosso  (Etna)', r_ui=86.0, est=86.4794716221883, details={'was_impossible': False}),\n",
       " Prediction(uid='Kerin Oâ\\x80\\x99Keefe', iid='Sanpaolo 2008 Aglianico (Irpinia)', r_ui=86.0, est=88.8164603899712, details={'was_impossible': False}),\n",
       " Prediction(uid='Virginie Boone', iid='Hestan 2012 Estate Cabernet Sauvignon (Napa Valley)', r_ui=90.0, est=89.9099111245793, details={'was_impossible': False}),\n",
       " Prediction(uid='Matt Kettmann', iid='Refugio Ranch 2013 BarbareÃ±o Syrah-Petite Sirah (Santa Ynez Valley)', r_ui=92.0, est=89.97402917266642, details={'was_impossible': False}),\n",
       " Prediction(uid='Sean P. Sullivan', iid='Charles Smith 2013 Velvet Devil Merlot (Columbia Valley (WA))', r_ui=90.0, est=88.88443872329293, details={'was_impossible': False}),\n",
       " Prediction(uid='Mike DeSimone', iid='ChÃ¢teau Ksara 2011 Reserve du Couvent Red (Bekaa Valley)', r_ui=91.0, est=89.06880023135628, details={'was_impossible': False}),\n",
       " Prediction(uid='Virginie Boone', iid='Lyeth 2011 Chronology Cabernet Sauvignon (Sonoma County)', r_ui=86.0, est=86.53316345587112, details={'was_impossible': False}),\n",
       " Prediction(uid='Kerin Oâ\\x80\\x99Keefe', iid='Le Corti dei Farfensi 2009 S. Joseph  (Rosso Piceno Superiore)', r_ui=86.0, est=88.8164603899712, details={'was_impossible': False}),\n",
       " Prediction(uid='Paul Gregutt', iid='Second Growth 2015 Pinot Noir (Dundee Hills)', r_ui=86.0, est=88.97770409559391, details={'was_impossible': False}),\n",
       " Prediction(uid='Roger Voss', iid='JosÃ© Maria da Fonseca 2014 ColecÃ§Ã£o Privada Verdelho (PenÃ\\xadnsula de SetÃºbal)', r_ui=87.0, est=88.61620396305155, details={'was_impossible': False}),\n",
       " Prediction(uid='Joe Czerwinski', iid='Marrenon 2015 Grande Toque RosÃ© (Luberon)', r_ui=86.0, est=86.38057988372923, details={'was_impossible': False}),\n",
       " Prediction(uid='Virginie Boone', iid='William Hill Estate 2014 Cabernet Sauvignon (Napa Valley)', r_ui=87.0, est=87.40630190298853, details={'was_impossible': False}),\n",
       " Prediction(uid='Kerin Oâ\\x80\\x99Keefe', iid='Loacker 2011 Valdifalco  (Morellino di Scansano)', r_ui=87.0, est=88.8164603899712, details={'was_impossible': False}),\n",
       " Prediction(uid='Paul Gregutt', iid='Timothy Malone 2015 La Colina Vineyard Dundee Hills Pinot Noir (Dundee Hills)', r_ui=88.0, est=88.97770409559391, details={'was_impossible': False}),\n",
       " Prediction(uid='Sean P. Sullivan', iid='Ryan Patrick 2012 Reserve Cabernet Sauvignon (Wahluke Slope)', r_ui=88.0, est=88.28874003400995, details={'was_impossible': False}),\n",
       " Prediction(uid='Michael Schachner', iid='El Hijo 2009 Prodigo Reserva Malbec (La Consulta)', r_ui=88.0, est=87.038168595377, details={'was_impossible': False}),\n",
       " Prediction(uid='Anne KrebiehlÂ\\xa0MW', iid='Golser Wein 2015 Una GrÃ¼ner Veltliner (Burgenland)', r_ui=87.0, est=87.7653429717449, details={'was_impossible': False}),\n",
       " Prediction(uid='Kerin Oâ\\x80\\x99Keefe', iid='Rocca Giovanni 2013 Mosconi  (Barolo)', r_ui=88.0, est=88.8164603899712, details={'was_impossible': False}),\n",
       " Prediction(uid='Matt Kettmann', iid='Byron 2013 Monument Pinot Noir (Santa Maria Valley)', r_ui=94.0, est=89.97402917266642, details={'was_impossible': False}),\n",
       " Prediction(uid='Kerin Oâ\\x80\\x99Keefe', iid='Marchesi Antinori 2009 Marchese Antinori Riserva  (Chianti Classico)', r_ui=89.0, est=88.8164603899712, details={'was_impossible': False}),\n",
       " Prediction(uid='Matt Kettmann', iid='Fess Parker 2015 Pinot Noir (Sta. Rita Hills)', r_ui=88.0, est=89.97402917266642, details={'was_impossible': False}),\n",
       " Prediction(uid='Roger Voss', iid='Gassier 2012 Miradou en Provence RosÃ© (CÃ´tes de Provence)', r_ui=87.0, est=88.61620396305155, details={'was_impossible': False}),\n",
       " Prediction(uid='Joe Czerwinski', iid=\"Te Awa 2013 Single Estate Gimblett Gravels Syrah (Hawke's Bay)\", r_ui=92.0, est=88.52232798317675, details={'was_impossible': False}),\n",
       " Prediction(uid='Roger Voss', iid='ChÃ¢teau Mayne Vieil 2014  Fronsac', r_ui=90.0, est=88.61620396305155, details={'was_impossible': False}),\n",
       " Prediction(uid='Roger Voss', iid='Cheval Quancard 2010 Chai de Bordes  (Bordeaux)', r_ui=85.0, est=88.61620396305155, details={'was_impossible': False}),\n",
       " Prediction(uid='Jim Gordon', iid='Jamieson Ranch 2011 Whiplash Red (California)', r_ui=90.0, est=88.58802113142774, details={'was_impossible': False}),\n",
       " Prediction(uid='Paul Gregutt', iid='Melrose 2009 Pinot Gris (Umpqua Valley)', r_ui=88.0, est=88.97770409559391, details={'was_impossible': False}),\n",
       " Prediction(uid='Virginie Boone', iid='Husch 2010 Cabernet Sauvignon (Mendocino)', r_ui=87.0, est=89.12515016538663, details={'was_impossible': False}),\n",
       " Prediction(uid='Anne KrebiehlÂ\\xa0MW', iid='Loimer 2013 Brut RosÃ© Sparkling (NiederÃ¶sterreich)', r_ui=91.0, est=90.30624632455145, details={'was_impossible': False}),\n",
       " Prediction(uid='Lauren Buzzeo', iid='ChÃ¢teau de Lancyre 2010 Pic Saint-Loup RosÃ© (Coteaux du Languedoc)', r_ui=89.0, est=87.73763162290929, details={'was_impossible': False}),\n",
       " Prediction(uid='Anna Lee C. Iijima', iid='Harbes Family Vineyard 2012 Barrel Fermented Chardonnay (North Fork of Long Island)', r_ui=87.0, est=87.39475477460648, details={'was_impossible': False}),\n",
       " Prediction(uid='Kerin Oâ\\x80\\x99Keefe', iid='Poggiobello 2014 Friulano (Friuli Colli Orientali)', r_ui=86.0, est=88.8164603899712, details={'was_impossible': False}),\n",
       " Prediction(uid='Virginie Boone', iid=\"Hanaiali'i 2013 Merlot (Napa Valley)\", r_ui=86.0, est=86.4407433155857, details={'was_impossible': False}),\n",
       " Prediction(uid='Michael Schachner', iid='Flaherty 2009 Red (Aconcagua Valley)', r_ui=89.0, est=87.038168595377, details={'was_impossible': False}),\n",
       " Prediction(uid='Virginie Boone', iid='Altvs 2012 Cabernet Sauvignon (Napa Valley)', r_ui=91.0, est=89.12515016538663, details={'was_impossible': False}),\n",
       " Prediction(uid='Paul Gregutt', iid='Kings Ridge 2008 Pinot Noir (Oregon)', r_ui=86.0, est=88.97770409559391, details={'was_impossible': False}),\n",
       " Prediction(uid='Carrie Dykes', iid='Veramar NV Rooster Red (Virginia)', r_ui=84.0, est=86.56615799768534, details={'was_impossible': False}),\n",
       " Prediction(uid='Michael Schachner', iid='ValdubÃ³n 2004 Honoris de ValdubÃ³n  (Ribera del Duero)', r_ui=87.0, est=87.038168595377, details={'was_impossible': False}),\n",
       " Prediction(uid='Anne KrebiehlÂ\\xa0MW', iid='Robert Klingenfus 2012 Bruderthal Grand Cru Riesling (Alsace)', r_ui=90.0, est=90.30624632455145, details={'was_impossible': False}),\n",
       " Prediction(uid='Roger Voss', iid='Vilmart & Co 2000 Coeur de CuvÃ©e Premier Cru Brut  (Champagne)', r_ui=90.0, est=88.61620396305155, details={'was_impossible': False}),\n",
       " Prediction(uid='Roger Voss', iid='ChÃ¢teau de Lescours 2011  Saint-Ã\\x89milion', r_ui=89.0, est=88.80929218308842, details={'was_impossible': False}),\n",
       " Prediction(uid='Sean P. Sullivan', iid='Horsepower 2013 Sur Echalas Vineyard Grenache (Walla Walla Valley (WA))', r_ui=94.0, est=88.88443872329293, details={'was_impossible': False}),\n",
       " Prediction(uid='Roger Voss', iid='Le Petit Panier 2012 Cabernet Sauvignon (Vin de France)', r_ui=85.0, est=88.61620396305155, details={'was_impossible': False}),\n",
       " Prediction(uid='Anna Lee C. Iijima', iid='Bellangelo 2014 1866 Reserve Chardonnay (Seneca Lake)', r_ui=89.0, est=88.87463209292062, details={'was_impossible': False}),\n",
       " Prediction(uid='Paul Gregutt', iid='David Hill 2014 Estate GewÃ¼rztraminer (Willamette Valley)', r_ui=90.0, est=88.97770409559391, details={'was_impossible': False}),\n",
       " Prediction(uid='Roger Voss', iid='Cortes de Cima 2010 Trincadeira (Alentejano)', r_ui=87.0, est=88.61620396305155, details={'was_impossible': False}),\n",
       " Prediction(uid='Roger Voss', iid=\"Vignoble des 2 Lunes 2009 CrÃ©mant Blanc ComÃ¨te Sparkling (CrÃ©mant d'Alsace)\", r_ui=87.0, est=88.61620396305155, details={'was_impossible': False}),\n",
       " Prediction(uid='Matt Kettmann', iid='Zaca Mesa 2011 Mesa Reserve Estate Grown and Bottled Syrah (Santa Ynez Valley)', r_ui=92.0, est=89.97402917266642, details={'was_impossible': False}),\n",
       " Prediction(uid='Roger Voss', iid='Rozes 2014 Terras do Grifo Branco White (Douro)', r_ui=87.0, est=88.61620396305155, details={'was_impossible': False}),\n",
       " Prediction(uid='Anne KrebiehlÂ\\xa0MW', iid='Markus Huber 2014 Hugo GrÃ¼ner Veltliner (NiederÃ¶sterreich)', r_ui=89.0, est=90.30624632455145, details={'was_impossible': False}),\n",
       " Prediction(uid='Kerin Oâ\\x80\\x99Keefe', iid='Fattoria di Ruppiano 2014 Selachus Red (Toscana)', r_ui=86.0, est=88.8164603899712, details={'was_impossible': False}),\n",
       " Prediction(uid='Roger Voss', iid='Vinadeis 2016 Le Val Chardonnay (Vin de France)', r_ui=87.0, est=88.61620396305155, details={'was_impossible': False}),\n",
       " Prediction(uid='Paul Gregutt', iid='Snoqualmie 2011 Syrah (Columbia Valley (WA))', r_ui=87.0, est=88.97770409559391, details={'was_impossible': False}),\n",
       " Prediction(uid='Roger Voss', iid='Vollereaux NV Demi-Sec  (Champagne)', r_ui=89.0, est=88.61620396305155, details={'was_impossible': False}),\n",
       " Prediction(uid='Virginie Boone', iid='Sonoma-Loeb 2015 Dutton Ranch Pinot Noir (Russian River Valley)', r_ui=90.0, est=89.71359914311542, details={'was_impossible': False}),\n",
       " Prediction(uid='Paul Gregutt', iid='Carlton Hill 2010 Pinot Noir', r_ui=91.0, est=90.63050006167454, details={'was_impossible': False}),\n",
       " Prediction(uid='Roger Voss', iid='ChÃ¢teau de Seguin 2015 CuvÃ©e Carpe Diem  (Bordeaux SupÃ©rieur)', r_ui=83.0, est=88.61620396305155, details={'was_impossible': False}),\n",
       " Prediction(uid='Anna Lee C. Iijima', iid='Heron Hill 2015 Unoaked Ingle Vineyard Chardonnay (Finger Lakes)', r_ui=85.0, est=88.46653057193892, details={'was_impossible': False}),\n",
       " Prediction(uid='Michael Schachner', iid='Bodegas Yuste NV Aurora Amontillado Sherry (Jerez)', r_ui=88.0, est=87.99449601425103, details={'was_impossible': False}),\n",
       " Prediction(uid='Kerin Oâ\\x80\\x99Keefe', iid='Villa Matilde 2011 Tenute di Altavilla  (Taurasi)', r_ui=92.0, est=88.8164603899712, details={'was_impossible': False}),\n",
       " Prediction(uid='Virginie Boone', iid='Angels & Cowboys 2013 Proprietary Red (Sonoma County)', r_ui=88.0, est=89.12515016538663, details={'was_impossible': False}),\n",
       " Prediction(uid='Paul Gregutt', iid=\"O'Reilly's 2006 Pinot Gris (Oregon)\", r_ui=88.0, est=88.97770409559391, details={'was_impossible': False}),\n",
       " Prediction(uid='Roger Voss', iid='Quinta do Casal Branco 2015 Tinto Red (Tejo)', r_ui=85.0, est=88.61620396305155, details={'was_impossible': False}),\n",
       " Prediction(uid='Roger Voss', iid='Pratsch 2012 GrÃ¼ner Veltliner (Weinviertel)', r_ui=86.0, est=88.61620396305155, details={'was_impossible': False}),\n",
       " Prediction(uid='Michael Schachner', iid='Leyda 2013 Chardonnay (Leyda Valley)', r_ui=83.0, est=87.038168595377, details={'was_impossible': False}),\n",
       " Prediction(uid='Sean P. Sullivan', iid='Abacela 2010 Estate Grown Dolcetto (Umpqua Valley)', r_ui=86.0, est=88.88443872329293, details={'was_impossible': False}),\n",
       " Prediction(uid='Jim Gordon', iid='Truscott 2012 Weibel Family Vineyards Zinfandel (Mendocino County)', r_ui=82.0, est=88.58802113142774, details={'was_impossible': False}),\n",
       " Prediction(uid='Mike DeSimone', iid='Shiloh Winery 2011 Secret Reserve Cabernet Sauvignon (Judean Hills)', r_ui=86.0, est=87.63653895927035, details={'was_impossible': False}),\n",
       " Prediction(uid='Virginie Boone', iid='J Vineyards & Winery 2013 Estate Grown Chardonnay (Russian River Valley)', r_ui=88.0, est=89.12515016538663, details={'was_impossible': False}),\n",
       " Prediction(uid='Roger Voss', iid='Domaine Schoffit 2012 Vieilles Vignes Chasselas (Alsace)', r_ui=90.0, est=88.61620396305155, details={'was_impossible': False}),\n",
       " Prediction(uid='Kerin Oâ\\x80\\x99Keefe', iid='Bonacchi 2009 Bonacchi Riserva  (Chianti Classico)', r_ui=88.0, est=88.8164603899712, details={'was_impossible': False}),\n",
       " Prediction(uid='Virginie Boone', iid='Y Rousseau 2012 PÃ©pÃ© Cavedale Vineyard Merlot (Moon Mountain District Sonoma County)', r_ui=90.0, est=89.85127922847471, details={'was_impossible': False}),\n",
       " Prediction(uid='Kerin Oâ\\x80\\x99Keefe', iid='Comm. G. B. Burlotto 2011 Acclivi  (Barolo)', r_ui=90.0, est=88.8164603899712, details={'was_impossible': False}),\n",
       " Prediction(uid='Sean P. Sullivan', iid='Tertulia 2016 Whistling Hills Estate Vineyard Viognier (Walla Walla Valley (WA))', r_ui=88.0, est=88.88443872329293, details={'was_impossible': False}),\n",
       " Prediction(uid='Joe Czerwinski', iid=\"Te Mata 2014 Elston Chardonnay (Hawke's Bay)\", r_ui=88.0, est=88.0114093917581, details={'was_impossible': False}),\n",
       " Prediction(uid='Roger Voss', iid='Vignerons de Bel Air 2014 Grande QV  (Coteaux Bourguignons)', r_ui=88.0, est=88.61620396305155, details={'was_impossible': False}),\n",
       " Prediction(uid='Paul Gregutt', iid='Ridge 1998 Lytton Springs Zinfandel (Dry Creek Valley)', r_ui=92.0, est=88.97770409559391, details={'was_impossible': False}),\n",
       " Prediction(uid='Kerin Oâ\\x80\\x99Keefe', iid='Rivella Silvia 2012  Barbaresco', r_ui=86.0, est=88.8164603899712, details={'was_impossible': False}),\n",
       " Prediction(uid='Jim Gordon', iid='Klinker Brick 2014 Petite Sirah (Lodi)', r_ui=90.0, est=88.58802113142774, details={'was_impossible': False}),\n",
       " Prediction(uid='Anne KrebiehlÂ\\xa0MW', iid='Johanneshof Reinisch 2014 Frauenfeld St. Laurent (Thermenregion)', r_ui=93.0, est=90.30624632455145, details={'was_impossible': False}),\n",
       " Prediction(uid='Roger Voss', iid='Louis Latour 2014  Meursault', r_ui=90.0, est=88.61620396305155, details={'was_impossible': False}),\n",
       " Prediction(uid='Anne KrebiehlÂ\\xa0MW', iid='Dopff Au Moulin 2014 Schoenenbourg Grand Cru Riesling (Alsace)', r_ui=92.0, est=90.30624632455145, details={'was_impossible': False}),\n",
       " Prediction(uid='Jim Gordon', iid=\"Phillips Hill 2014 Roma's Vineyard Pinot Noir (Anderson Valley)\", r_ui=92.0, est=88.58802113142774, details={'was_impossible': False}),\n",
       " Prediction(uid='Kerin Oâ\\x80\\x99Keefe', iid='Cantina Novelli 2012 Pecorino (Umbria)', r_ui=86.0, est=88.8164603899712, details={'was_impossible': False}),\n",
       " Prediction(uid='Roger Voss', iid='Domaine du Colombier 2016 Sur Lie  (Muscadet SÃ¨vre et Maine)', r_ui=86.0, est=88.61620396305155, details={'was_impossible': False}),\n",
       " Prediction(uid='Sean P. Sullivan', iid='Lawrelin 2004 Syrah (Columbia Valley (WA))', r_ui=92.0, est=91.46687092893124, details={'was_impossible': False}),\n",
       " Prediction(uid='Roger Voss', iid='Patient Cottat 2012 RosÃ© (Sancerre)', r_ui=83.0, est=88.61620396305155, details={'was_impossible': False}),\n",
       " Prediction(uid='Michael Schachner', iid='ViÃ±a Bisquertt 2015 La Joya Gran Reserva Cabernet Sauvignon (Colchagua Valley)', r_ui=86.0, est=87.038168595377, details={'was_impossible': False}),\n",
       " Prediction(uid='Roger Voss', iid='Casa do Valle 2013 RosÃ© (Vinho Verde)', r_ui=86.0, est=88.61620396305155, details={'was_impossible': False}),\n",
       " Prediction(uid='Susan Kostrzewa', iid='Chrisohoou 2004 Xinomavro (Naoussa)', r_ui=88.0, est=86.85498149449573, details={'was_impossible': False}),\n",
       " Prediction(uid='Virginie Boone', iid='Stonestreet 2011 Estate Vineyards Cabernet Sauvignon (Alexander Valley)', r_ui=93.0, est=89.12515016538663, details={'was_impossible': False}),\n",
       " Prediction(uid='Roger Voss', iid=\"Lucien Albrecht NV Blanc de Blancs Brut Pinot Blanc (CrÃ©mant d'Alsace)\", r_ui=86.0, est=88.61620396305155, details={'was_impossible': False}),\n",
       " Prediction(uid='Paul Gregutt', iid='Michel Gros 1999  Chambolle-Musigny', r_ui=89.0, est=88.97770409559391, details={'was_impossible': False}),\n",
       " Prediction(uid='Paul Gregutt', iid='Cliff Creek 2011 Sams Valley Vineyard Syrah (Southern Oregon)', r_ui=87.0, est=88.97770409559391, details={'was_impossible': False}),\n",
       " Prediction(uid='Anna Lee C. Iijima', iid='Dr. NÃ¤gler 2013 RÃ¼desheimer Berg Rottland Kabinett Trocken Riesling (Rheingau)', r_ui=87.0, est=87.26847758110272, details={'was_impossible': False}),\n",
       " Prediction(uid='Kerin Oâ\\x80\\x99Keefe', iid='Russiz Superiore 2012 Horus White (Venezia Giulia)', r_ui=90.0, est=88.8164603899712, details={'was_impossible': False}),\n",
       " Prediction(uid='Matt Kettmann', iid='Sextant 2013 Portolan Red (Paso Robles)', r_ui=91.0, est=89.97402917266642, details={'was_impossible': False}),\n",
       " Prediction(uid='Roger Voss', iid='ChÃ¢teau Rahoul 2014  Graves', r_ui=90.0, est=88.10855205408176, details={'was_impossible': False}),\n",
       " Prediction(uid='Roger Voss', iid='ChÃ¢teau de Belcier 2012 Fleurs de Belcier Red (Bordeaux RosÃ©)', r_ui=85.0, est=88.61620396305155, details={'was_impossible': False}),\n",
       " Prediction(uid='Kerin Oâ\\x80\\x99Keefe', iid=\"Castello di Neive 2012 Vigna Santo Stefano  (Barbera d'Alba)\", r_ui=92.0, est=88.8164603899712, details={'was_impossible': False}),\n",
       " Prediction(uid='Matt Kettmann', iid='Hearst Ranch 2013 Glacier Ridge Chardonnay (Santa Lucia Highlands)', r_ui=87.0, est=89.97402917266642, details={'was_impossible': False}),\n",
       " Prediction(uid='Roger Voss', iid='ChÃ¢teau LÃ©oville PoyferrÃ© 2013  Saint-Julien', r_ui=94.0, est=88.61620396305155, details={'was_impossible': False}),\n",
       " Prediction(uid='Paul Gregutt', iid='Maryhill 2011 Syrah (Columbia Valley (WA))', r_ui=85.0, est=88.97770409559391, details={'was_impossible': False}),\n",
       " Prediction(uid='Michael Schachner', iid='Bodegas Faustino 2005 Faustino V Reserva  (Rioja)', r_ui=88.0, est=87.86543616921338, details={'was_impossible': False}),\n",
       " Prediction(uid='Kerin Oâ\\x80\\x99Keefe', iid='Tenuta La Viola 2013 P. Honorii Bertinoro Riserva Sangiovese (Romagna)', r_ui=87.0, est=88.8164603899712, details={'was_impossible': False}),\n",
       " Prediction(uid='Roger Voss', iid='ChÃ¢teau de Marsan 2014  Cadillac CÃ´tes de Bordeaux', r_ui=86.0, est=88.61620396305155, details={'was_impossible': False}),\n",
       " Prediction(uid='Anne KrebiehlÂ\\xa0MW', iid=\"Wolfberger NV Brut Sparkling (CrÃ©mant d'Alsace)\", r_ui=89.0, est=90.43127292892177, details={'was_impossible': False}),\n",
       " Prediction(uid='Roger Voss', iid=\"Louis Latour 2008 Goutte d'Or Premier Cru  (Meursault)\", r_ui=91.0, est=88.61620396305155, details={'was_impossible': False}),\n",
       " Prediction(uid='Anne KrebiehlÂ\\xa0MW', iid='Neumeister 2013 Moarfeitl Sauvignon Blanc (SÃ¼doststeiermark)', r_ui=94.0, est=90.30624632455145, details={'was_impossible': False}),\n",
       " Prediction(uid='Roger Voss', iid=\"Ollivier FrÃ¨res 2015 Domaine de l'Olivier Sur Lie  (Muscadet SÃ¨vre et Maine)\", r_ui=85.0, est=88.61620396305155, details={'was_impossible': False}),\n",
       " Prediction(uid='Matt Kettmann', iid='Scratchpad 2013 Chardonnay (Central Coast)', r_ui=84.0, est=89.97402917266642, details={'was_impossible': False}),\n",
       " Prediction(uid='Roger Voss', iid='Aveleda 2014 Charamba Reserva Red (Douro)', r_ui=88.0, est=88.61620396305155, details={'was_impossible': False}),\n",
       " Prediction(uid='Virginie Boone', iid='Zinfandelic 2009 Old Vine Zinfandel (Amador County)', r_ui=87.0, est=89.12515016538663, details={'was_impossible': False}),\n",
       " Prediction(uid='Joe Czerwinski', iid='Kangarilla Road 2015 Chardonnay (Adelaide Hills)', r_ui=88.0, est=88.52232798317675, details={'was_impossible': False}),\n",
       " Prediction(uid='Michael Schachner', iid='Qaramy 2005 Alto Red (Mendoza)', r_ui=91.0, est=87.038168595377, details={'was_impossible': False}),\n",
       " Prediction(uid='Sean P. Sullivan', iid='Kerloo 2012 Upland Vineyards Syrah (Snipes Mountain)', r_ui=92.0, est=88.88443872329293, details={'was_impossible': False}),\n",
       " Prediction(uid='Matt Kettmann', iid='Esser 2013 Merlot (Monterey County)', r_ui=84.0, est=89.97402917266642, details={'was_impossible': False}),\n",
       " Prediction(uid='Roger Voss', iid='Domaine de la Vallongue 2014 Garrigues RosÃ© (Les Baux de Provence)', r_ui=89.0, est=88.61620396305155, details={'was_impossible': False}),\n",
       " Prediction(uid='Kerin Oâ\\x80\\x99Keefe', iid='MalibrÃ\\xa0n 2013 Credamora Col Fondo  (Conegliano Valdobbiadene Prosecco Superiore)', r_ui=88.0, est=88.8164603899712, details={'was_impossible': False}),\n",
       " Prediction(uid='Roger Voss', iid='CARM 2008 Quinta do CÃ´a Red (Douro)', r_ui=91.0, est=88.61620396305155, details={'was_impossible': False}),\n",
       " Prediction(uid='Roger Voss', iid='Joseph Drouhin 2011 Nouveau  (Beaujolais)', r_ui=85.0, est=88.61620396305155, details={'was_impossible': False}),\n",
       " Prediction(uid='Sean P. Sullivan', iid='K Vintners 2014 Powerline Viognier (Walla Walla Valley (WA))', r_ui=88.0, est=88.88443872329293, details={'was_impossible': False}),\n",
       " Prediction(uid='Roger Voss', iid='Quinta do Portal 2009 Late Bottled Vintage  (Port)', r_ui=90.0, est=88.61620396305155, details={'was_impossible': False}),\n",
       " Prediction(uid='Michael Schachner', iid='ViÃ±a Alicia 2014 Paso de Piedra Chardonnay (Mendoza)', r_ui=81.0, est=87.038168595377, details={'was_impossible': False}),\n",
       " Prediction(uid='Matt Kettmann', iid='Ch.igai Takaha 2013 Sono Pinot Noir (Sta. Rita Hills)', r_ui=93.0, est=89.97402917266642, details={'was_impossible': False}),\n",
       " Prediction(uid='Sean P. Sullivan', iid='Canoe Ridge 2014 The Expedition Cabernet Sauvignon (Horse Heaven Hills)', r_ui=86.0, est=88.88443872329293, details={'was_impossible': False}),\n",
       " Prediction(uid='Susan Kostrzewa', iid='Long Point 2007 Dry Riesling (New York)', r_ui=85.0, est=86.85498149449573, details={'was_impossible': False}),\n",
       " Prediction(uid='Roger Voss', iid='Schloss Gobelsburg 2006 DomÃ¤ne Gobelsburg Zweigelt (Kamptal)', r_ui=86.0, est=88.61620396305155, details={'was_impossible': False}),\n",
       " Prediction(uid='Roger Voss', iid='Wieninger 2012 Nussberg Alte Reben Gemischter Satz White (Vienna)', r_ui=93.0, est=88.61620396305155, details={'was_impossible': False}),\n",
       " Prediction(uid='Michael Schachner', iid='Shaya 2013 Arindo Verdejo (Rueda)', r_ui=87.0, est=87.14782161372696, details={'was_impossible': False}),\n",
       " Prediction(uid='Lauren Buzzeo', iid='Lammershoek 2006 Roulette Red (Swartland)', r_ui=89.0, est=87.73763162290929, details={'was_impossible': False}),\n",
       " Prediction(uid='Michael Schachner', iid='ViÃ±a La Ronciere 2010 Solares Red (Colchagua Valley)', r_ui=88.0, est=87.038168595377, details={'was_impossible': False}),\n",
       " Prediction(uid='Kerin Oâ\\x80\\x99Keefe', iid='Ceste 2011 Palliano Riserva  (Roero)', r_ui=91.0, est=88.8164603899712, details={'was_impossible': False}),\n",
       " Prediction(uid='Kerin Oâ\\x80\\x99Keefe', iid='Benanti 1999 Serra della Contessa Rosso  (Etna)', r_ui=89.0, est=88.8164603899712, details={'was_impossible': False}),\n",
       " Prediction(uid='Roger Voss', iid='Croft NV Fine Ruby  (Port)', r_ui=86.0, est=88.61620396305155, details={'was_impossible': False}),\n",
       " Prediction(uid='Michael Schachner', iid='TerraNoble 2005 Reserva CarmenÃ¨re (Maule Valley)', r_ui=85.0, est=87.038168595377, details={'was_impossible': False}),\n",
       " Prediction(uid='Paul Gregutt', iid='Charles Smith 2011 Lawrence Vineyard Viognier (Columbia Valley (WA))', r_ui=94.0, est=88.97770409559391, details={'was_impossible': False}),\n",
       " Prediction(uid='Roger Voss', iid='BrÃ¼ndlmayer NV Extra Brut Sparkling (Ã\\x96sterreichischer Sekt)', r_ui=85.0, est=85.46379877797497, details={'was_impossible': False}),\n",
       " Prediction(uid='Anna Lee C. Iijima', iid='Atwater 2013 North Block Five Pinot Noir (Finger Lakes)', r_ui=90.0, est=89.81124204482896, details={'was_impossible': False}),\n",
       " Prediction(uid='Roger Voss', iid='ChÃ¢teau de Costis 2012  Bordeaux', r_ui=85.0, est=88.61620396305155, details={'was_impossible': False}),\n",
       " Prediction(uid='Paul Gregutt', iid='Buried Cane 2008 Chardonnay (Washington)', r_ui=83.0, est=88.97770409559391, details={'was_impossible': False}),\n",
       " Prediction(uid='Roger Voss', iid='Jean-Claude Debeaune 2012 Domaine Pignard  (Beaujolais)', r_ui=85.0, est=88.61620396305155, details={'was_impossible': False}),\n",
       " Prediction(uid='Virginie Boone', iid='D.R. Stephens 2013 Estate Cabernet Sauvignon (Napa Valley)', r_ui=95.0, est=89.12515016538663, details={'was_impossible': False}),\n",
       " Prediction(uid='Kerin Oâ\\x80\\x99Keefe', iid='Bracco 2013 La Mont-Brach White (Collio)', r_ui=89.0, est=88.8164603899712, details={'was_impossible': False}),\n",
       " Prediction(uid='Jim Gordon', iid='Carol Shelton 2014 Wild Thing Chardonnay Chardonnay (Mendocino)', r_ui=88.0, est=88.58802113142774, details={'was_impossible': False}),\n",
       " Prediction(uid='Virginie Boone', iid='Poggi Wines 2014 Twin Palms Vineyard Cabernet Sauvignon (Napa Valley)', r_ui=91.0, est=89.12515016538663, details={'was_impossible': False}),\n",
       " Prediction(uid='Kerin Oâ\\x80\\x99Keefe', iid='Petra 2012 Quercegobbe Merlot (Toscana)', r_ui=88.0, est=88.2515451882797, details={'was_impossible': False}),\n",
       " Prediction(uid='Michael Schachner', iid='Santa Helena 2008 Vernus Malbec (Colchagua Valley)', r_ui=88.0, est=87.038168595377, details={'was_impossible': False}),\n",
       " Prediction(uid='Michael Schachner', iid='Segura Viudas NV Brut Reserva Sparkling (Cava)', r_ui=88.0, est=86.87066723985419, details={'was_impossible': False}),\n",
       " Prediction(uid='Kerin Oâ\\x80\\x99Keefe', iid='Romeo 2012  Rosso di Montepulciano', r_ui=87.0, est=88.8164603899712, details={'was_impossible': False}),\n",
       " ...]"
      ]
     },
     "execution_count": 26,
     "metadata": {},
     "output_type": "execute_result"
    }
   ],
   "source": [
    "predictions"
   ]
  },
  {
   "cell_type": "code",
   "execution_count": 27,
   "metadata": {
    "ExecuteTime": {
     "end_time": "2022-11-15T17:50:57.041655Z",
     "start_time": "2022-11-15T17:50:56.994380Z"
    }
   },
   "outputs": [
    {
     "name": "stdout",
     "output_type": "stream",
     "text": [
      "RMSE: 2.6998\n"
     ]
    },
    {
     "data": {
      "text/plain": [
       "2.6997501588312436"
      ]
     },
     "execution_count": 27,
     "metadata": {},
     "output_type": "execute_result"
    }
   ],
   "source": [
    "# Check our predictions for accuracy\n",
    "accuracy.rmse(predictions)"
   ]
  },
  {
   "cell_type": "markdown",
   "metadata": {},
   "source": [
    "### Top Predictions"
   ]
  },
  {
   "cell_type": "code",
   "execution_count": 32,
   "metadata": {
    "ExecuteTime": {
     "end_time": "2022-11-15T17:57:22.285271Z",
     "start_time": "2022-11-15T17:57:22.277770Z"
    }
   },
   "outputs": [],
   "source": [
    "# Build a function for retrieving top predictions\n",
    "def get_top_n(predictions, n=5):\n",
    "\n",
    "    # First map the predictions to each user.\n",
    "    top_n = defaultdict(list)\n",
    "    for uid, iid, true_r, est, _ in predictions:\n",
    "        top_n[uid].append((iid, est))\n",
    "\n",
    "    # Then sort the predictions for each user and retrieve the k highest ones.\n",
    "    for uid, user_ratings in top_n.items():\n",
    "        user_ratings.sort(key=lambda x: x[1], reverse=True)\n",
    "        top_n[uid] = user_ratings[:n]\n",
    "\n",
    "    return top_n"
   ]
  },
  {
   "cell_type": "code",
   "execution_count": 33,
   "metadata": {
    "ExecuteTime": {
     "end_time": "2022-11-15T17:57:23.810989Z",
     "start_time": "2022-11-15T17:57:23.773668Z"
    }
   },
   "outputs": [],
   "source": [
    "top_n = get_top_n(predictions, n=5)"
   ]
  },
  {
   "cell_type": "code",
   "execution_count": 34,
   "metadata": {
    "ExecuteTime": {
     "end_time": "2022-11-15T17:58:10.414099Z",
     "start_time": "2022-11-15T17:58:10.408157Z"
    }
   },
   "outputs": [
    {
     "name": "stdout",
     "output_type": "stream",
     "text": [
      "Paul Gregutt ['Doyenne 2008 Grand Ciel Vineyard Syrah (Red Mountain)', 'Gramercy 2009 The Third Man Red Red (Columbia Valley (WA))', 'Bethel Heights 2014 West Block Pinot Noir (Eola-Amity Hills)', 'DanCin 2014 Melodia Pinot Noir (Oregon)', 'Sparkman 2010 Ruckus Syrah (Red Mountain)'] \n",
      "\n",
      "Mike DeSimone ['Kavaklidere 2010 Pendore Syrah (Aegean)', 'Dalton 2013 Alma Scarlet Red (Galilee)', 'Tabor 2011 Adama Cabernet Sauvignon (Galilee)', \"Segal's 2013 Fusion Red (Galilee)\", 'Teliani Valley 2015 Semi-Sweet Khvanchkara Red (Georgia)'] \n",
      "\n",
      "Kerin OâKeefe ['Michele Chiarlo 2011 Cerequio  (Barolo)', 'Venturini Massimino 2005 Riserva  (Amarone della Valpolicella Classico)', \"Brovia 2009 Ca' Mia  (Barolo)\", 'Castello di Verduno 2009 Monvigliero Riserva  (Barolo)', 'Cantina Produttori San Michele Appiano 2012 Sanct Valentin Sauvignon (Alto Adige)'] \n",
      "\n",
      "Anna Lee C. Iijima ['Schloss Vollrads 2014 SpÃ¤tlese Riesling (Rheingau)', 'Robert Weil 2014 Kiedrich Turmberg Trocken Riesling (Rheingau)', \"Osprey's Dominion 2013 CarmenÃ¨re (North Fork of Long Island)\", 'Dr. Loosen 2012 Ã\\x9crziger WÃ¼rzgarten GG RÃ©serve Alte Reben Erste Lage Dry Riesling (Mosel)', 'Fritz Haag 2013 Brauneberger Juffer SpÃ¤tlese Riesling (Mosel)'] \n",
      "\n",
      "Michael Schachner ['Alvear NV Solera 1927 Pedro XimÃ©nez (Montilla-Moriles)', 'GarcÃ\\xada Figuero 2011 Noble  (Ribera del Duero)', 'Bodegas Hidalgo NV Vinos Viejos de Hidalgo Amontillado Napoleon 30 Years Old Sherry (Jerez)', 'CVNE 2012 Pagos de ViÃ±a Real  (Rioja)', 'Cono Sur 2013 20 Barrels Cabernet Sauvignon (Maipo Valley)'] \n",
      "\n",
      "Virginie Boone ['Williams Selyem 2012 Eastside Road Neighbors Pinot Noir (Russian River Valley)', 'Lynmar 2012 Jenkins Vineyard Pinot Noir (Russian River Valley)', 'Davies 2013 Cabernet Sauvignon (Napa Valley)', \"Walt 2014 Gap's Crown Pinot Noir (Sonoma Coast)\", 'Gary Farrell 2013 Olivet Lane Vineyard Chardonnay (Russian River Valley)'] \n",
      "\n",
      "Roger Voss ['ChÃ¢teau Haut-Brion 2014  Pessac-LÃ©ognan', 'ChÃ¢teau Haut-Brion 2009  Pessac-LÃ©ognan', 'ChÃ¢teau Canon 2009  Saint-Ã\\x89milion', 'Lanson NV Extra Age Brut  (Champagne)', 'Prats & Symington LDA 2014 Chryseia Red (Douro)'] \n",
      "\n",
      "Matt Kettmann [\"Falcone 2013 Mia's Vineyard Cabernet Sauvignon (Paso Robles)\", 'Wedell Cellars 2010 Hillside Vineyard Pinot Noir (Edna Valley)', \"Silver Mountain 2009 Tondre's Grapefield Pinot Noir (Santa Lucia Highlands)\", 'Challen 2013 Bentrock Vineyard Pinot Noir (Sta. Rita Hills)', 'Brave & Maiden 2014 Estate Cabernet Sauvignon (Santa Ynez Valley)'] \n",
      "\n",
      "Anne KrebiehlÂ MW ['Domaine Saint-RÃ©my 2015 Ehrhart Hengst Grand Cru Riesling (Alsace)', 'Domaine BarmÃ¨s-Buecher 2014 Steingrubler Grand Cru Gewurztraminer (Alsace)', 'Bolney Wine Estate 2009 Blanc de Blancs Chardonnay (England)', 'Eichinger 2013 Gaisberg Reserve GrÃ¼ner Veltliner (Kamptal)', 'Domaine Roland Schmitt 2013 Altenberg de Bergbieten Grand Cru Riesling (Alsace)'] \n",
      "\n",
      "Sean P. Sullivan ['K Vintners 2013 The Hidden Northridge Vineyard Syrah (Wahluke Slope)', 'Cayuse 2014 God Only Knows Red (Walla Walla Valley (OR))', 'Cayuse 2014 En Cerise Vineyard Syrah (Walla Walla Valley (OR))', 'Dumas Station 2012 Cabernet Franc (Walla Walla Valley (WA))', 'GÃ¥rd 2013 Grand Klasse Reserve Lawrence Vineyards Syrah (Columbia Valley (WA))'] \n",
      "\n",
      "Jim Gordon ['Hirsch 2014 Block 8 Pinot Noir (Sonoma Coast)', 'Rubino Estates Winery 2014 Reserva Collection Cabernet Sauvignon (Livermore Valley)', 'Stemmler 2013 Anderson Valley Pinot Noir (Anderson Valley)', 'Scott Harvey 2014 Vineyard 1869 Zinfandel (Amador County)', 'Chacewater 2013 Made with Organically Grown Grapes Zinfandel (Sierra Foothills)'] \n",
      "\n",
      "Joe Czerwinski ['Chambers Rosewood Vineyards NV Rare Muscat (Rutherglen)', 'Chambers Rosewood Vineyards NV Rare Muscadelle (Rutherglen)', 'Wakefield 2013 St. Andrews Single Vineyard Release Shiraz (Clare Valley)', 'Fox Creek 2013 Reserve Shiraz (McLaren Vale)', 'Jean-Luc Colombo 2009 Les Ruchets  (Cornas)'] \n",
      "\n",
      "Alexander Peartree [\"Gill's Pier 2012 Cabernet Franc-Merlot (Leelanau Peninsula)\", 'Fabbioli Cellars 2012 Tre SorÃ©lle Red (Virginia)', 'Michael Shaps 2013 Wild Meadow Vineyard Chardonnay (Virginia)', '2 Lads 2013 Pinot Noir (Old Mission Peninsula)', 'Annefield Vineyards 2012 Cabernet Franc (Virginia)'] \n",
      "\n",
      "Lauren Buzzeo ['Mvemve Raats 2012 MR de Compostella Red (Stellenbosch)', 'Kanonkop 2013 Estate Wine Black Label Pinotage (Simonsberg-Stellenbosch)', 'Ernie Els 2014 Cape Winemakers Guild CWG Red (Stellenbosch)', 'Simonsig 2011 Redhill Pinotage (Stellenbosch)', \"Mas du Soleilla 2008 Clot de l'Amandier La Clape Red (Coteaux du Languedoc)\"] \n",
      "\n",
      "Susan Kostrzewa ['Mercouri Estate 2015 Foloi Roditis-Viognier White (Peloponnese)', 'Paul Cluver 2006 Seven Flags Pinot Noir (Elgin)', 'Lyrarakis 2015 VÃ³ila Vineyard Assyrtiko (Crete)', 'Gaia Wines 2014 Agiorgitiko by Gaia Agiorgitiko (Nemea)', 'Chrysorroyiatissa 2010 Ayios Andronicos White (Pafos)'] \n",
      "\n",
      "Jeff Jenssen ['Budureasca 2013 Origini Reserve Red (Dealu Mare)', 'Colliano 2013 CuvÃ©e White (Goriska Brda)', 'Chateau Dereszla 2015 Dry  (Tokaji)', 'KovÃ¡cs NimrÃ³d 2009 NJK Nagy Eged Grand Cru Red (Eger)', 'Bulgariana 2008 Imperial Red (Thracian Valley)'] \n",
      "\n",
      "Fiona Adams ['Sutcliffe 2014 Cabernet Franc (Colorado)', 'Llano Estacado 2014 Cellar Reserve Cabernet Sauvignon (Texas)', 'Gruet NV Blanc de Noirs Sparkling (America)', 'Creekside Cellars 2014 Cabernet Sauvignon (Colorado)', 'Biltmore Estate NV Blanc de Noir Brut Sparkling (America)'] \n",
      "\n",
      "Carrie Dykes ['Trump 2015 Estate Bottled Viognier (Monticello)', 'The Williamsburg Winery 2014 Four Barrel CuvÃ©e Red (Virginia)', 'Veramar 2015 JB Winemaker Series Merlot (Virginia)', 'Veramar NV Rooster Red (Virginia)', 'Barboursville Vineyards 2013 Passito White (Virginia)'] \n",
      "\n",
      "Christina Pickard ['Keating 2012 Sauvignon Blanc (Dry Creek Valley)', 'Domaine Chandon 2000 Pinot Meunier (Carneros)', 'MacMurray Ranch 2011 Pinot Noir (Russian River Valley)'] \n",
      "\n"
     ]
    }
   ],
   "source": [
    "# Check top 5 predictions for each user\n",
    "for uid, user_ratings in top_n.items():\n",
    "    print(uid, [iid for (iid, _) in user_ratings], '\\n')"
   ]
  },
  {
   "cell_type": "markdown",
   "metadata": {},
   "source": [
    "# Conclusions"
   ]
  },
  {
   "cell_type": "markdown",
   "metadata": {},
   "source": [
    "These recommendations can be used to understand: \n",
    "* Which wine varieties are most often recommended\n",
    "* Who to market specific varieties to\n",
    "\n",
    "The red varieties that are showing up the most are:\n",
    "* Pinot Noir\n",
    "* Cabernet Sauvignon\n",
    "* Syrah\n",
    "\n",
    "The white varieties that are showing up the most are:\n",
    "* Riesling\n",
    "* Chardonnay\n",
    "\n",
    "The tasters that are recommended wines from our city, Walla Walla, or region, the Pacific Northwest are:\n",
    "* Sean Sullivan\n",
    "* Paul Gregutt\n",
    "* Virginie Boone"
   ]
  },
  {
   "cell_type": "markdown",
   "metadata": {},
   "source": [
    "# Recommendations"
   ]
  },
  {
   "cell_type": "markdown",
   "metadata": {},
   "source": [
    "Pinot Noirs, Cabernets, Syrahs, Rieslings, and Chardonnays seem to be the most popular wine varieties according to our recommendation system.  I would recommend producing these wines since they reach a larger target audience and are more approachable. Once the winery has established themselves with this strong base, they could move on to more niche wines."
   ]
  },
  {
   "cell_type": "markdown",
   "metadata": {},
   "source": [
    "Once the wines have been produced, I would recommend sending them to Sean, Paul, or Virginie for tasting. These tasters enjoy the above varieties from our region, so they are most likely to highly rate our wines."
   ]
  },
  {
   "cell_type": "markdown",
   "metadata": {},
   "source": [
    "# Next Steps"
   ]
  },
  {
   "cell_type": "markdown",
   "metadata": {},
   "source": [
    "**Cold Start Problem** - One next step would be addressing the cold start problem, or how to recommend wines for a user that we have no information on.  The strategy I would use is having the new user provide preferences on a few of the wines to get us started."
   ]
  }
 ],
 "metadata": {
  "kernelspec": {
   "display_name": "Python 3",
   "language": "python",
   "name": "python3"
  },
  "language_info": {
   "codemirror_mode": {
    "name": "ipython",
    "version": 3
   },
   "file_extension": ".py",
   "mimetype": "text/x-python",
   "name": "python",
   "nbconvert_exporter": "python",
   "pygments_lexer": "ipython3",
   "version": "3.8.5"
  },
  "toc": {
   "base_numbering": 1,
   "nav_menu": {},
   "number_sections": true,
   "sideBar": true,
   "skip_h1_title": false,
   "title_cell": "Table of Contents",
   "title_sidebar": "Contents",
   "toc_cell": false,
   "toc_position": {},
   "toc_section_display": true,
   "toc_window_display": true
  }
 },
 "nbformat": 4,
 "nbformat_minor": 4
}
