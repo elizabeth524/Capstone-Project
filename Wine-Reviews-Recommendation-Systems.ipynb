{
 "cells": [
  {
   "cell_type": "markdown",
   "metadata": {},
   "source": [
    "# Wine Reviews Recommendation Systems"
   ]
  },
  {
   "cell_type": "markdown",
   "metadata": {},
   "source": [
    "**Prepared by Elizabeth Webster**\n",
    "\n",
    "*November 2022*"
   ]
  },
  {
   "cell_type": "markdown",
   "metadata": {},
   "source": [
    "## Overview"
   ]
  },
  {
   "cell_type": "markdown",
   "metadata": {},
   "source": [
    "Create a recommendation system for Wine Enthusiast's tasters using Surprise."
   ]
  },
  {
   "cell_type": "markdown",
   "metadata": {},
   "source": [
    "## Business Problem"
   ]
  },
  {
   "cell_type": "markdown",
   "metadata": {},
   "source": [
    "This project is being prepared for a small winery in Walla Walla.  They are just starting out and currently only producing a few wines. Their wine maker wants to gain insight on how to generate wines that will be rated highly.\n",
    "\n",
    "In this section of the project, I will create a recommendation system for Wine Enthusiast's tasters in order to suggest wines to certain tasters. By understanding the wines that are recommended, the winery will get an idea of what type of wines to create and who to market them to."
   ]
  },
  {
   "cell_type": "markdown",
   "metadata": {},
   "source": [
    "## Dataset"
   ]
  },
  {
   "cell_type": "markdown",
   "metadata": {},
   "source": [
    "The data that I am using comes from Wine Enthusiast and includes information on 130,000 different wines.  This information includes the description, variety, winery, country, taster name, etc.\n",
    "\n",
    "For this section of the project, we will just be focused on points, taster name (users), and title (items)."
   ]
  },
  {
   "cell_type": "markdown",
   "metadata": {},
   "source": [
    "# Data Understanding"
   ]
  },
  {
   "cell_type": "code",
   "execution_count": 1,
   "metadata": {
    "ExecuteTime": {
     "end_time": "2022-11-15T17:21:23.803312Z",
     "start_time": "2022-11-15T17:21:15.403841Z"
    }
   },
   "outputs": [],
   "source": [
    "# Import necessary libraries\n",
    "import pandas as pd\n",
    "from sklearn.model_selection import train_test_split\n",
    "import matplotlib.pyplot as plt\n",
    "import seaborn as sns\n",
    "import numpy as np\n",
    "from surprise import Reader, Dataset\n",
    "from surprise.model_selection import cross_validate\n",
    "from surprise.prediction_algorithms import SVD, SVDpp, SlopeOne, NMF \n",
    "from surprise.prediction_algorithms import NormalPredictor, KNNWithZScore, BaselineOnly\n",
    "from surprise.prediction_algorithms import KNNWithMeans, KNNBasic, KNNBaseline\n",
    "from surprise.model_selection import train_test_split\n",
    "from surprise.model_selection import GridSearchCV\n",
    "from surprise import accuracy\n",
    "from collections import defaultdict\n",
    "import warnings\n",
    "warnings.filterwarnings('ignore')"
   ]
  },
  {
   "cell_type": "code",
   "execution_count": 2,
   "metadata": {
    "ExecuteTime": {
     "end_time": "2022-11-15T17:21:38.860613Z",
     "start_time": "2022-11-15T17:21:38.002252Z"
    }
   },
   "outputs": [],
   "source": [
    "# Import dataframe\n",
    "df = pd.read_csv('Data/winemag-data-130k-v2.csv.zip', \n",
    "                 encoding='latin-1', \n",
    "                 index_col=0)"
   ]
  },
  {
   "cell_type": "code",
   "execution_count": 3,
   "metadata": {
    "ExecuteTime": {
     "end_time": "2022-11-15T17:21:52.118680Z",
     "start_time": "2022-11-15T17:21:52.017335Z"
    }
   },
   "outputs": [
    {
     "name": "stdout",
     "output_type": "stream",
     "text": [
      "<class 'pandas.core.frame.DataFrame'>\n",
      "Int64Index: 129971 entries, 0 to 129970\n",
      "Data columns (total 13 columns):\n",
      " #   Column                 Non-Null Count   Dtype  \n",
      "---  ------                 --------------   -----  \n",
      " 0   country                129908 non-null  object \n",
      " 1   description            129971 non-null  object \n",
      " 2   designation            92506 non-null   object \n",
      " 3   points                 129971 non-null  int64  \n",
      " 4   price                  120975 non-null  float64\n",
      " 5   province               129908 non-null  object \n",
      " 6   region_1               108724 non-null  object \n",
      " 7   region_2               50511 non-null   object \n",
      " 8   taster_name            103727 non-null  object \n",
      " 9   taster_twitter_handle  98758 non-null   object \n",
      " 10  title                  129971 non-null  object \n",
      " 11  variety                129970 non-null  object \n",
      " 12  winery                 129971 non-null  object \n",
      "dtypes: float64(1), int64(1), object(11)\n",
      "memory usage: 13.9+ MB\n"
     ]
    }
   ],
   "source": [
    "# Explore dataframe\n",
    "df.info()"
   ]
  },
  {
   "cell_type": "code",
   "execution_count": 4,
   "metadata": {
    "ExecuteTime": {
     "end_time": "2022-11-15T17:23:19.244920Z",
     "start_time": "2022-11-15T17:23:19.126014Z"
    },
    "scrolled": false
   },
   "outputs": [
    {
     "data": {
      "text/plain": [
       "Gloria Ferrer NV Sonoma Brut Sparkling (Sonoma County)       11\n",
       "Korbel NV Brut Sparkling (California)                         9\n",
       "Segura Viudas NV Extra Dry Sparkling (Cava)                   8\n",
       "Gloria Ferrer NV Blanc de Noirs Sparkling (Carneros)          7\n",
       "Ruinart NV Brut RosÃ©  (Champagne)                            7\n",
       "                                                             ..\n",
       "Mauro Sebaste 2009 Santa Rosalia  (Dolcetto d'Alba)           1\n",
       "Soutiran NV Alexandre Premier Cru Brut  (Champagne)           1\n",
       "ChÃ¢teau Haut-Monplaisir 2008 Prestige Malbec (Cahors)        1\n",
       "En Garde 2011 Adamus Red (Diamond Mountain District)          1\n",
       "Emblem 2007 Oso Vineyard Cabernet Sauvignon (Napa Valley)     1\n",
       "Name: title, Length: 118840, dtype: int64"
      ]
     },
     "execution_count": 4,
     "metadata": {},
     "output_type": "execute_result"
    }
   ],
   "source": [
    "df.title.value_counts()"
   ]
  },
  {
   "cell_type": "code",
   "execution_count": 6,
   "metadata": {
    "ExecuteTime": {
     "end_time": "2022-11-15T17:23:52.944046Z",
     "start_time": "2022-11-15T17:23:52.913591Z"
    }
   },
   "outputs": [
    {
     "data": {
      "text/plain": [
       "Roger Voss            25514\n",
       "Michael Schachner     15134\n",
       "Kerin OâKeefe       10776\n",
       "Virginie Boone         9537\n",
       "Paul Gregutt           9532\n",
       "Matt Kettmann          6332\n",
       "Joe Czerwinski         5147\n",
       "Sean P. Sullivan       4966\n",
       "Anna Lee C. Iijima     4415\n",
       "Jim Gordon             4177\n",
       "Anne KrebiehlÂ MW      3685\n",
       "Lauren Buzzeo          1835\n",
       "Susan Kostrzewa        1085\n",
       "Mike DeSimone           514\n",
       "Jeff Jenssen            491\n",
       "Alexander Peartree      415\n",
       "Carrie Dykes            139\n",
       "Fiona Adams              27\n",
       "Christina Pickard         6\n",
       "Name: taster_name, dtype: int64"
      ]
     },
     "execution_count": 6,
     "metadata": {},
     "output_type": "execute_result"
    }
   ],
   "source": [
    "df.taster_name.value_counts()"
   ]
  },
  {
   "cell_type": "markdown",
   "metadata": {},
   "source": [
    "For our recommendation system, we will only be needing the columns:\n",
    "taster name - users\n",
    "title - items\n",
    "points - target"
   ]
  },
  {
   "cell_type": "code",
   "execution_count": 5,
   "metadata": {
    "ExecuteTime": {
     "end_time": "2022-11-15T17:23:36.414184Z",
     "start_time": "2022-11-15T17:23:36.387679Z"
    },
    "scrolled": false
   },
   "outputs": [
    {
     "data": {
      "text/html": [
       "<div>\n",
       "<style scoped>\n",
       "    .dataframe tbody tr th:only-of-type {\n",
       "        vertical-align: middle;\n",
       "    }\n",
       "\n",
       "    .dataframe tbody tr th {\n",
       "        vertical-align: top;\n",
       "    }\n",
       "\n",
       "    .dataframe thead th {\n",
       "        text-align: right;\n",
       "    }\n",
       "</style>\n",
       "<table border=\"1\" class=\"dataframe\">\n",
       "  <thead>\n",
       "    <tr style=\"text-align: right;\">\n",
       "      <th></th>\n",
       "      <th>points</th>\n",
       "      <th>taster_name</th>\n",
       "      <th>title</th>\n",
       "    </tr>\n",
       "  </thead>\n",
       "  <tbody>\n",
       "    <tr>\n",
       "      <th>0</th>\n",
       "      <td>87</td>\n",
       "      <td>Kerin OâKeefe</td>\n",
       "      <td>Nicosia 2013 VulkÃ  Bianco  (Etna)</td>\n",
       "    </tr>\n",
       "    <tr>\n",
       "      <th>1</th>\n",
       "      <td>87</td>\n",
       "      <td>Roger Voss</td>\n",
       "      <td>Quinta dos Avidagos 2011 Avidagos Red (Douro)</td>\n",
       "    </tr>\n",
       "    <tr>\n",
       "      <th>2</th>\n",
       "      <td>87</td>\n",
       "      <td>Paul Gregutt</td>\n",
       "      <td>Rainstorm 2013 Pinot Gris (Willamette Valley)</td>\n",
       "    </tr>\n",
       "    <tr>\n",
       "      <th>3</th>\n",
       "      <td>87</td>\n",
       "      <td>Alexander Peartree</td>\n",
       "      <td>St. Julian 2013 Reserve Late Harvest Riesling ...</td>\n",
       "    </tr>\n",
       "    <tr>\n",
       "      <th>4</th>\n",
       "      <td>87</td>\n",
       "      <td>Paul Gregutt</td>\n",
       "      <td>Sweet Cheeks 2012 Vintner's Reserve Wild Child...</td>\n",
       "    </tr>\n",
       "  </tbody>\n",
       "</table>\n",
       "</div>"
      ],
      "text/plain": [
       "   points         taster_name  \\\n",
       "0      87     Kerin OâKeefe   \n",
       "1      87          Roger Voss   \n",
       "2      87        Paul Gregutt   \n",
       "3      87  Alexander Peartree   \n",
       "4      87        Paul Gregutt   \n",
       "\n",
       "                                               title  \n",
       "0                 Nicosia 2013 VulkÃ  Bianco  (Etna)  \n",
       "1      Quinta dos Avidagos 2011 Avidagos Red (Douro)  \n",
       "2      Rainstorm 2013 Pinot Gris (Willamette Valley)  \n",
       "3  St. Julian 2013 Reserve Late Harvest Riesling ...  \n",
       "4  Sweet Cheeks 2012 Vintner's Reserve Wild Child...  "
      ]
     },
     "execution_count": 5,
     "metadata": {},
     "output_type": "execute_result"
    }
   ],
   "source": [
    "# Create dataframe with specified columns\n",
    "rec_df = df.loc[:, ('points', 'taster_name', 'title')]\n",
    "rec_df.head()"
   ]
  },
  {
   "cell_type": "code",
   "execution_count": 12,
   "metadata": {
    "ExecuteTime": {
     "end_time": "2022-11-15T17:34:48.154596Z",
     "start_time": "2022-11-15T17:34:48.123904Z"
    }
   },
   "outputs": [
    {
     "name": "stdout",
     "output_type": "stream",
     "text": [
      "Missing Taster Names: 26244\n",
      "Missing Titles: 0\n",
      "Missing Points: 0\n"
     ]
    }
   ],
   "source": [
    "# Check for missing values\n",
    "print('Missing Taster Names:', rec_df.taster_name.isna().sum())\n",
    "print('Missing Titles:', rec_df.title.isna().sum())\n",
    "print('Missing Points:', rec_df.points.isna().sum())"
   ]
  },
  {
   "cell_type": "code",
   "execution_count": 14,
   "metadata": {
    "ExecuteTime": {
     "end_time": "2022-11-15T17:36:23.633579Z",
     "start_time": "2022-11-15T17:36:23.603295Z"
    }
   },
   "outputs": [],
   "source": [
    "# Drop missing values\n",
    "rec_df.dropna(subset=['taster_name'], inplace=True)"
   ]
  },
  {
   "cell_type": "code",
   "execution_count": 15,
   "metadata": {
    "ExecuteTime": {
     "end_time": "2022-11-15T17:36:47.826397Z",
     "start_time": "2022-11-15T17:36:47.808717Z"
    }
   },
   "outputs": [
    {
     "name": "stdout",
     "output_type": "stream",
     "text": [
      "Missing Taster Names: 0\n"
     ]
    }
   ],
   "source": [
    "# Check for missing values\n",
    "print('Missing Taster Names:', rec_df.taster_name.isna().sum())"
   ]
  },
  {
   "cell_type": "markdown",
   "metadata": {},
   "source": [
    "Now that the dataset is cleaned, we can move on to building the model."
   ]
  },
  {
   "cell_type": "markdown",
   "metadata": {},
   "source": [
    "# Building a Model"
   ]
  },
  {
   "cell_type": "code",
   "execution_count": 16,
   "metadata": {
    "ExecuteTime": {
     "end_time": "2022-11-15T17:37:37.454790Z",
     "start_time": "2022-11-15T17:37:37.341086Z"
    }
   },
   "outputs": [],
   "source": [
    "# Read the data into Surprise\n",
    "reader = Reader(rating_scale=(80,100))\n",
    "data = Dataset.load_from_df(rec_df[['taster_name', 'title', 'points']],reader)"
   ]
  },
  {
   "cell_type": "code",
   "execution_count": 35,
   "metadata": {
    "ExecuteTime": {
     "end_time": "2022-11-15T17:58:20.407684Z",
     "start_time": "2022-11-15T17:58:20.262365Z"
    },
    "scrolled": false
   },
   "outputs": [
    {
     "name": "stdout",
     "output_type": "stream",
     "text": [
      "Number of trainset users:  19\n",
      "Number of trainset items:  72331\n"
     ]
    }
   ],
   "source": [
    "# Perform a train test split\n",
    "trainset, testset = train_test_split(data, test_size=0.25)\n",
    "print('Number of trainset users: ', trainset.n_users)\n",
    "print('Number of trainset items: ', trainset.n_items)"
   ]
  },
  {
   "cell_type": "markdown",
   "metadata": {},
   "source": [
    "## Testing Different Models"
   ]
  },
  {
   "cell_type": "markdown",
   "metadata": {},
   "source": [
    "The metric I am interested in is RMSE - Root Mean Squared Error. I am looking for the model with the lowest RMSE."
   ]
  },
  {
   "cell_type": "markdown",
   "metadata": {},
   "source": [
    "### SVD - Singular Value Decomposition"
   ]
  },
  {
   "cell_type": "code",
   "execution_count": 18,
   "metadata": {
    "ExecuteTime": {
     "end_time": "2022-11-15T17:39:44.835449Z",
     "start_time": "2022-11-15T17:39:15.036778Z"
    }
   },
   "outputs": [],
   "source": [
    "# Run a grid search for parameters\n",
    "params = {'n_factors': [20, 50, 100],\n",
    "         'reg_all': [0.02, 0.05, 0.1]}\n",
    "g_s_svd = GridSearchCV(SVD,param_grid=params,n_jobs=-1)\n",
    "g_s_svd.fit(data)"
   ]
  },
  {
   "cell_type": "code",
   "execution_count": 19,
   "metadata": {
    "ExecuteTime": {
     "end_time": "2022-11-15T17:39:47.121074Z",
     "start_time": "2022-11-15T17:39:47.112872Z"
    }
   },
   "outputs": [
    {
     "name": "stdout",
     "output_type": "stream",
     "text": [
      "{'rmse': 2.6853571420358646, 'mae': 2.0570073799480846}\n",
      "{'rmse': {'n_factors': 100, 'reg_all': 0.02}, 'mae': {'n_factors': 100, 'reg_all': 0.02}}\n"
     ]
    }
   ],
   "source": [
    "# Print the best score and parameters\n",
    "print(g_s_svd.best_score)\n",
    "print(g_s_svd.best_params)"
   ]
  },
  {
   "cell_type": "markdown",
   "metadata": {},
   "source": [
    "### KNN Basic"
   ]
  },
  {
   "cell_type": "code",
   "execution_count": 20,
   "metadata": {
    "ExecuteTime": {
     "end_time": "2022-11-15T17:40:15.657614Z",
     "start_time": "2022-11-15T17:40:14.037950Z"
    }
   },
   "outputs": [],
   "source": [
    "# Cross validating with KNNBasic\n",
    "knn_basic = KNNBasic(sim_options={'name':'pearson', 'user_based':True})\n",
    "cv_knn_basic = cross_validate(knn_basic, data, n_jobs=-1)"
   ]
  },
  {
   "cell_type": "code",
   "execution_count": 21,
   "metadata": {
    "ExecuteTime": {
     "end_time": "2022-11-15T17:40:34.073017Z",
     "start_time": "2022-11-15T17:40:34.064266Z"
    }
   },
   "outputs": [
    {
     "name": "stdout",
     "output_type": "stream",
     "text": [
      "('test_rmse', array([2.81872178, 2.83520903, 2.83093154, 2.82588793, 2.828012  ]))\n",
      "('test_mae', array([2.13933723, 2.16744591, 2.15432195, 2.15352458, 2.16025291]))\n",
      "('fit_time', (0.00648188591003418, 0.004214048385620117, 0.0042879581451416016, 0.004130840301513672, 0.003963947296142578))\n",
      "('test_time', (0.14880824089050293, 0.1419227123260498, 0.12962603569030762, 0.11473917961120605, 0.10323691368103027))\n",
      "-----------------------\n",
      "2.8277524552580626\n"
     ]
    }
   ],
   "source": [
    "# Find mean rmse\n",
    "for i in cv_knn_basic.items():\n",
    "    print(i)\n",
    "print('-----------------------')\n",
    "print(np.mean(cv_knn_basic['test_rmse']))"
   ]
  },
  {
   "cell_type": "markdown",
   "metadata": {},
   "source": [
    "### KNN Baseline"
   ]
  },
  {
   "cell_type": "code",
   "execution_count": 22,
   "metadata": {
    "ExecuteTime": {
     "end_time": "2022-11-15T17:41:03.914746Z",
     "start_time": "2022-11-15T17:41:01.373829Z"
    }
   },
   "outputs": [
    {
     "name": "stdout",
     "output_type": "stream",
     "text": [
      "Estimating biases using als...\n",
      "Computing the pearson similarity matrix...\n",
      "Done computing similarity matrix.\n",
      "Estimating biases using als...\n",
      "Computing the pearson similarity matrix...\n",
      "Done computing similarity matrix.\n",
      "Estimating biases using als...\n",
      "Computing the pearson similarity matrix...\n",
      "Done computing similarity matrix.\n",
      "Estimating biases using als...\n",
      "Computing the pearson similarity matrix...\n",
      "Done computing similarity matrix.\n",
      "Estimating biases using als...\n",
      "Computing the pearson similarity matrix...\n",
      "Done computing similarity matrix.\n"
     ]
    }
   ],
   "source": [
    "# Cross validating with KNNBaseline\n",
    "knn_baseline = KNNBaseline(sim_options={'name':'pearson', 'user_based':True})\n",
    "cv_knn_baseline = cross_validate(knn_baseline,data)"
   ]
  },
  {
   "cell_type": "code",
   "execution_count": 23,
   "metadata": {
    "ExecuteTime": {
     "end_time": "2022-11-15T17:42:27.857678Z",
     "start_time": "2022-11-15T17:42:27.847639Z"
    }
   },
   "outputs": [
    {
     "name": "stdout",
     "output_type": "stream",
     "text": [
      "('test_rmse', array([2.6889015 , 2.68124213, 2.67527997, 2.69097158, 2.67882287]))\n",
      "('test_mae', array([2.0432891 , 2.0323867 , 2.02651135, 2.04292702, 2.02259507]))\n",
      "('fit_time', (0.20996713638305664, 0.22531390190124512, 0.2353348731994629, 0.22832727432250977, 0.22541379928588867))\n",
      "('test_time', (0.1498420238494873, 0.08863711357116699, 0.09263920783996582, 0.09062600135803223, 0.08864808082580566))\n"
     ]
    },
    {
     "data": {
      "text/plain": [
       "2.6830436096283536"
      ]
     },
     "execution_count": 23,
     "metadata": {},
     "output_type": "execute_result"
    }
   ],
   "source": [
    "# Find mean rmse\n",
    "for i in cv_knn_baseline.items():\n",
    "    print(i)\n",
    "\n",
    "np.mean(cv_knn_baseline['test_rmse'])"
   ]
  },
  {
   "cell_type": "markdown",
   "metadata": {},
   "source": [
    "The model with the lowest RMSE is Singular Value Decomposition, so this is what I will use for our final model"
   ]
  },
  {
   "cell_type": "markdown",
   "metadata": {},
   "source": [
    "## Build SVD Model"
   ]
  },
  {
   "cell_type": "code",
   "execution_count": 24,
   "metadata": {
    "ExecuteTime": {
     "end_time": "2022-11-15T17:49:53.475502Z",
     "start_time": "2022-11-15T17:49:51.039290Z"
    }
   },
   "outputs": [
    {
     "data": {
      "text/plain": [
       "<surprise.prediction_algorithms.matrix_factorization.SVD at 0x7f8b81c313a0>"
      ]
     },
     "execution_count": 24,
     "metadata": {},
     "output_type": "execute_result"
    }
   ],
   "source": [
    "# Instantiate model and fit trainset\n",
    "svd = SVD(n_factors= 50, reg_all=0.05)\n",
    "svd.fit(trainset)"
   ]
  },
  {
   "cell_type": "markdown",
   "metadata": {},
   "source": [
    "## Making Predictions"
   ]
  },
  {
   "cell_type": "code",
   "execution_count": 25,
   "metadata": {
    "ExecuteTime": {
     "end_time": "2022-11-15T17:50:30.066077Z",
     "start_time": "2022-11-15T17:50:29.919084Z"
    }
   },
   "outputs": [],
   "source": [
    "# Make predictions with the testset\n",
    "predictions = svd.test(testset)"
   ]
  },
  {
   "cell_type": "code",
   "execution_count": 27,
   "metadata": {
    "ExecuteTime": {
     "end_time": "2022-11-15T17:50:57.041655Z",
     "start_time": "2022-11-15T17:50:56.994380Z"
    }
   },
   "outputs": [
    {
     "name": "stdout",
     "output_type": "stream",
     "text": [
      "RMSE: 2.6998\n"
     ]
    },
    {
     "data": {
      "text/plain": [
       "2.6997501588312436"
      ]
     },
     "execution_count": 27,
     "metadata": {},
     "output_type": "execute_result"
    }
   ],
   "source": [
    "# Check our predictions for accuracy\n",
    "accuracy.rmse(predictions)"
   ]
  },
  {
   "cell_type": "markdown",
   "metadata": {},
   "source": [
    "### Top Predictions"
   ]
  },
  {
   "cell_type": "code",
   "execution_count": 32,
   "metadata": {
    "ExecuteTime": {
     "end_time": "2022-11-15T17:57:22.285271Z",
     "start_time": "2022-11-15T17:57:22.277770Z"
    }
   },
   "outputs": [],
   "source": [
    "# Build a function for retrieving top predictions\n",
    "def get_top_n(predictions, n=5):\n",
    "\n",
    "    # First map the predictions to each user.\n",
    "    top_n = defaultdict(list)\n",
    "    for uid, iid, true_r, est, _ in predictions:\n",
    "        top_n[uid].append((iid, est))\n",
    "\n",
    "    # Then sort the predictions for each user and retrieve the k highest ones.\n",
    "    for uid, user_ratings in top_n.items():\n",
    "        user_ratings.sort(key=lambda x: x[1], reverse=True)\n",
    "        top_n[uid] = user_ratings[:n]\n",
    "\n",
    "    return top_n"
   ]
  },
  {
   "cell_type": "code",
   "execution_count": 33,
   "metadata": {
    "ExecuteTime": {
     "end_time": "2022-11-15T17:57:23.810989Z",
     "start_time": "2022-11-15T17:57:23.773668Z"
    }
   },
   "outputs": [],
   "source": [
    "top_n = get_top_n(predictions, n=5)"
   ]
  },
  {
   "cell_type": "code",
   "execution_count": 34,
   "metadata": {
    "ExecuteTime": {
     "end_time": "2022-11-15T17:58:10.414099Z",
     "start_time": "2022-11-15T17:58:10.408157Z"
    }
   },
   "outputs": [
    {
     "name": "stdout",
     "output_type": "stream",
     "text": [
      "Paul Gregutt ['Doyenne 2008 Grand Ciel Vineyard Syrah (Red Mountain)', 'Gramercy 2009 The Third Man Red Red (Columbia Valley (WA))', 'Bethel Heights 2014 West Block Pinot Noir (Eola-Amity Hills)', 'DanCin 2014 Melodia Pinot Noir (Oregon)', 'Sparkman 2010 Ruckus Syrah (Red Mountain)'] \n",
      "\n",
      "Mike DeSimone ['Kavaklidere 2010 Pendore Syrah (Aegean)', 'Dalton 2013 Alma Scarlet Red (Galilee)', 'Tabor 2011 Adama Cabernet Sauvignon (Galilee)', \"Segal's 2013 Fusion Red (Galilee)\", 'Teliani Valley 2015 Semi-Sweet Khvanchkara Red (Georgia)'] \n",
      "\n",
      "Kerin OâKeefe ['Michele Chiarlo 2011 Cerequio  (Barolo)', 'Venturini Massimino 2005 Riserva  (Amarone della Valpolicella Classico)', \"Brovia 2009 Ca' Mia  (Barolo)\", 'Castello di Verduno 2009 Monvigliero Riserva  (Barolo)', 'Cantina Produttori San Michele Appiano 2012 Sanct Valentin Sauvignon (Alto Adige)'] \n",
      "\n",
      "Anna Lee C. Iijima ['Schloss Vollrads 2014 SpÃ¤tlese Riesling (Rheingau)', 'Robert Weil 2014 Kiedrich Turmberg Trocken Riesling (Rheingau)', \"Osprey's Dominion 2013 CarmenÃ¨re (North Fork of Long Island)\", 'Dr. Loosen 2012 Ã\\x9crziger WÃ¼rzgarten GG RÃ©serve Alte Reben Erste Lage Dry Riesling (Mosel)', 'Fritz Haag 2013 Brauneberger Juffer SpÃ¤tlese Riesling (Mosel)'] \n",
      "\n",
      "Michael Schachner ['Alvear NV Solera 1927 Pedro XimÃ©nez (Montilla-Moriles)', 'GarcÃ\\xada Figuero 2011 Noble  (Ribera del Duero)', 'Bodegas Hidalgo NV Vinos Viejos de Hidalgo Amontillado Napoleon 30 Years Old Sherry (Jerez)', 'CVNE 2012 Pagos de ViÃ±a Real  (Rioja)', 'Cono Sur 2013 20 Barrels Cabernet Sauvignon (Maipo Valley)'] \n",
      "\n",
      "Virginie Boone ['Williams Selyem 2012 Eastside Road Neighbors Pinot Noir (Russian River Valley)', 'Lynmar 2012 Jenkins Vineyard Pinot Noir (Russian River Valley)', 'Davies 2013 Cabernet Sauvignon (Napa Valley)', \"Walt 2014 Gap's Crown Pinot Noir (Sonoma Coast)\", 'Gary Farrell 2013 Olivet Lane Vineyard Chardonnay (Russian River Valley)'] \n",
      "\n",
      "Roger Voss ['ChÃ¢teau Haut-Brion 2014  Pessac-LÃ©ognan', 'ChÃ¢teau Haut-Brion 2009  Pessac-LÃ©ognan', 'ChÃ¢teau Canon 2009  Saint-Ã\\x89milion', 'Lanson NV Extra Age Brut  (Champagne)', 'Prats & Symington LDA 2014 Chryseia Red (Douro)'] \n",
      "\n",
      "Matt Kettmann [\"Falcone 2013 Mia's Vineyard Cabernet Sauvignon (Paso Robles)\", 'Wedell Cellars 2010 Hillside Vineyard Pinot Noir (Edna Valley)', \"Silver Mountain 2009 Tondre's Grapefield Pinot Noir (Santa Lucia Highlands)\", 'Challen 2013 Bentrock Vineyard Pinot Noir (Sta. Rita Hills)', 'Brave & Maiden 2014 Estate Cabernet Sauvignon (Santa Ynez Valley)'] \n",
      "\n",
      "Anne KrebiehlÂ MW ['Domaine Saint-RÃ©my 2015 Ehrhart Hengst Grand Cru Riesling (Alsace)', 'Domaine BarmÃ¨s-Buecher 2014 Steingrubler Grand Cru Gewurztraminer (Alsace)', 'Bolney Wine Estate 2009 Blanc de Blancs Chardonnay (England)', 'Eichinger 2013 Gaisberg Reserve GrÃ¼ner Veltliner (Kamptal)', 'Domaine Roland Schmitt 2013 Altenberg de Bergbieten Grand Cru Riesling (Alsace)'] \n",
      "\n",
      "Sean P. Sullivan ['K Vintners 2013 The Hidden Northridge Vineyard Syrah (Wahluke Slope)', 'Cayuse 2014 God Only Knows Red (Walla Walla Valley (OR))', 'Cayuse 2014 En Cerise Vineyard Syrah (Walla Walla Valley (OR))', 'Dumas Station 2012 Cabernet Franc (Walla Walla Valley (WA))', 'GÃ¥rd 2013 Grand Klasse Reserve Lawrence Vineyards Syrah (Columbia Valley (WA))'] \n",
      "\n",
      "Jim Gordon ['Hirsch 2014 Block 8 Pinot Noir (Sonoma Coast)', 'Rubino Estates Winery 2014 Reserva Collection Cabernet Sauvignon (Livermore Valley)', 'Stemmler 2013 Anderson Valley Pinot Noir (Anderson Valley)', 'Scott Harvey 2014 Vineyard 1869 Zinfandel (Amador County)', 'Chacewater 2013 Made with Organically Grown Grapes Zinfandel (Sierra Foothills)'] \n",
      "\n",
      "Joe Czerwinski ['Chambers Rosewood Vineyards NV Rare Muscat (Rutherglen)', 'Chambers Rosewood Vineyards NV Rare Muscadelle (Rutherglen)', 'Wakefield 2013 St. Andrews Single Vineyard Release Shiraz (Clare Valley)', 'Fox Creek 2013 Reserve Shiraz (McLaren Vale)', 'Jean-Luc Colombo 2009 Les Ruchets  (Cornas)'] \n",
      "\n",
      "Alexander Peartree [\"Gill's Pier 2012 Cabernet Franc-Merlot (Leelanau Peninsula)\", 'Fabbioli Cellars 2012 Tre SorÃ©lle Red (Virginia)', 'Michael Shaps 2013 Wild Meadow Vineyard Chardonnay (Virginia)', '2 Lads 2013 Pinot Noir (Old Mission Peninsula)', 'Annefield Vineyards 2012 Cabernet Franc (Virginia)'] \n",
      "\n",
      "Lauren Buzzeo ['Mvemve Raats 2012 MR de Compostella Red (Stellenbosch)', 'Kanonkop 2013 Estate Wine Black Label Pinotage (Simonsberg-Stellenbosch)', 'Ernie Els 2014 Cape Winemakers Guild CWG Red (Stellenbosch)', 'Simonsig 2011 Redhill Pinotage (Stellenbosch)', \"Mas du Soleilla 2008 Clot de l'Amandier La Clape Red (Coteaux du Languedoc)\"] \n",
      "\n",
      "Susan Kostrzewa ['Mercouri Estate 2015 Foloi Roditis-Viognier White (Peloponnese)', 'Paul Cluver 2006 Seven Flags Pinot Noir (Elgin)', 'Lyrarakis 2015 VÃ³ila Vineyard Assyrtiko (Crete)', 'Gaia Wines 2014 Agiorgitiko by Gaia Agiorgitiko (Nemea)', 'Chrysorroyiatissa 2010 Ayios Andronicos White (Pafos)'] \n",
      "\n",
      "Jeff Jenssen ['Budureasca 2013 Origini Reserve Red (Dealu Mare)', 'Colliano 2013 CuvÃ©e White (Goriska Brda)', 'Chateau Dereszla 2015 Dry  (Tokaji)', 'KovÃ¡cs NimrÃ³d 2009 NJK Nagy Eged Grand Cru Red (Eger)', 'Bulgariana 2008 Imperial Red (Thracian Valley)'] \n",
      "\n",
      "Fiona Adams ['Sutcliffe 2014 Cabernet Franc (Colorado)', 'Llano Estacado 2014 Cellar Reserve Cabernet Sauvignon (Texas)', 'Gruet NV Blanc de Noirs Sparkling (America)', 'Creekside Cellars 2014 Cabernet Sauvignon (Colorado)', 'Biltmore Estate NV Blanc de Noir Brut Sparkling (America)'] \n",
      "\n",
      "Carrie Dykes ['Trump 2015 Estate Bottled Viognier (Monticello)', 'The Williamsburg Winery 2014 Four Barrel CuvÃ©e Red (Virginia)', 'Veramar 2015 JB Winemaker Series Merlot (Virginia)', 'Veramar NV Rooster Red (Virginia)', 'Barboursville Vineyards 2013 Passito White (Virginia)'] \n",
      "\n",
      "Christina Pickard ['Keating 2012 Sauvignon Blanc (Dry Creek Valley)', 'Domaine Chandon 2000 Pinot Meunier (Carneros)', 'MacMurray Ranch 2011 Pinot Noir (Russian River Valley)'] \n",
      "\n"
     ]
    }
   ],
   "source": [
    "# Check top 5 predictions for each user\n",
    "for uid, user_ratings in top_n.items():\n",
    "    print(uid, [iid for (iid, _) in user_ratings], '\\n')"
   ]
  },
  {
   "cell_type": "markdown",
   "metadata": {},
   "source": [
    "# Conclusions"
   ]
  },
  {
   "cell_type": "markdown",
   "metadata": {},
   "source": [
    "These recommendations can be used to understand: \n",
    "* Which wine varieties are most often recommended\n",
    "* Who to market specific varieties to\n",
    "\n",
    "The red varieties that are showing up the most are:\n",
    "* Pinot Noir\n",
    "* Cabernet Sauvignon\n",
    "* Syrah\n",
    "\n",
    "The white varieties that are showing up the most are:\n",
    "* Riesling\n",
    "* Chardonnay\n",
    "\n",
    "The tasters that are recommended wines from our city, Walla Walla, or region, the Pacific Northwest are:\n",
    "* Sean Sullivan\n",
    "* Paul Gregutt\n",
    "* Virginie Boone"
   ]
  },
  {
   "cell_type": "markdown",
   "metadata": {},
   "source": [
    "# Recommendations"
   ]
  },
  {
   "cell_type": "markdown",
   "metadata": {},
   "source": [
    "Pinot Noirs, Cabernets, Syrahs, Rieslings, and Chardonnays seem to be the most popular wine varieties according to our recommendation system.  I would recommend producing these wines since they reach a larger target audience and are more approachable. Once the winery has established themselves with this strong base, they could move on to more niche wines."
   ]
  },
  {
   "cell_type": "markdown",
   "metadata": {},
   "source": [
    "Once the wines have been produced, I would recommend sending them to Sean, Paul, or Virginie for tasting. These tasters enjoy the above varieties from our region, so they are most likely to highly rate our wines."
   ]
  },
  {
   "cell_type": "markdown",
   "metadata": {},
   "source": [
    "# Next Steps"
   ]
  },
  {
   "cell_type": "markdown",
   "metadata": {},
   "source": [
    "**Cold Start Problem** - One next step would be addressing the cold start problem, or how to recommend wines for a user that we have no information on.  The strategy I would use is having the new user provide preferences on a few of the wines to get us started."
   ]
  }
 ],
 "metadata": {
  "kernelspec": {
   "display_name": "Python 3",
   "language": "python",
   "name": "python3"
  },
  "language_info": {
   "codemirror_mode": {
    "name": "ipython",
    "version": 3
   },
   "file_extension": ".py",
   "mimetype": "text/x-python",
   "name": "python",
   "nbconvert_exporter": "python",
   "pygments_lexer": "ipython3",
   "version": "3.8.5"
  },
  "toc": {
   "base_numbering": 1,
   "nav_menu": {},
   "number_sections": true,
   "sideBar": true,
   "skip_h1_title": false,
   "title_cell": "Table of Contents",
   "title_sidebar": "Contents",
   "toc_cell": false,
   "toc_position": {},
   "toc_section_display": true,
   "toc_window_display": true
  }
 },
 "nbformat": 4,
 "nbformat_minor": 4
}
